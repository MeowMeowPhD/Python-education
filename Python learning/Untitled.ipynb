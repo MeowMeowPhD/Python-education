{
 "cells": [
  {
   "cell_type": "markdown",
   "id": "f09a8777",
   "metadata": {},
   "source": [
    "# Practice Python\n",
    "## This is how one creates a subsection\n",
    "### This is how one creates a subsubsection\n",
    "The most important thing is to practice and master the basics. The book used to learn Python is called \"Python for data analyssis\""
   ]
  },
  {
   "cell_type": "code",
   "execution_count": 1,
   "id": "90e82ca7",
   "metadata": {},
   "outputs": [],
   "source": [
    "import numpy as np\n",
    "import pandas as pd\n",
    "import matplotlib.pyplot as plt"
   ]
  },
  {
   "cell_type": "code",
   "execution_count": null,
   "id": "2ef49b3d",
   "metadata": {},
   "outputs": [],
   "source": []
  }
 ],
 "metadata": {
  "kernelspec": {
   "display_name": "Python 3 (ipykernel)",
   "language": "python",
   "name": "python3"
  },
  "language_info": {
   "codemirror_mode": {
    "name": "ipython",
    "version": 3
   },
   "file_extension": ".py",
   "mimetype": "text/x-python",
   "name": "python",
   "nbconvert_exporter": "python",
   "pygments_lexer": "ipython3",
   "version": "3.9.12"
  }
 },
 "nbformat": 4,
 "nbformat_minor": 5
}
