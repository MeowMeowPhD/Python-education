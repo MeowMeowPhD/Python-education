{
 "cells": [
  {
   "cell_type": "markdown",
   "id": "cbd6cc23",
   "metadata": {},
   "source": [
    "# Numpy Basics\n",
    "Numpy is more efficient than the built-in python functions:\n",
    "\n",
    "- Less memory usage\n",
    "- Computation on the whole array. No need for \"for loops\"."
   ]
  },
  {
   "cell_type": "code",
   "execution_count": 1,
   "id": "0fe3ad8f",
   "metadata": {},
   "outputs": [],
   "source": [
    "import numpy as np"
   ]
  },
  {
   "cell_type": "code",
   "execution_count": 2,
   "id": "8abeaf29",
   "metadata": {},
   "outputs": [],
   "source": [
    "myArr = np.arange(1000)\n",
    "myList = list(range(1000000))"
   ]
  },
  {
   "cell_type": "code",
   "execution_count": 3,
   "id": "1bcff800",
   "metadata": {},
   "outputs": [
    {
     "name": "stdout",
     "output_type": "stream",
     "text": [
      "CPU times: total: 0 ns\n",
      "Wall time: 0 ns\n"
     ]
    }
   ],
   "source": [
    "%time for _ in range(10): myArr2 = myArr * 2"
   ]
  },
  {
   "cell_type": "code",
   "execution_count": 4,
   "id": "eb9f3b47",
   "metadata": {},
   "outputs": [
    {
     "name": "stdout",
     "output_type": "stream",
     "text": [
      "CPU times: total: 562 ms\n",
      "Wall time: 561 ms\n"
     ]
    }
   ],
   "source": [
    "%time for _ in range(10): [x*2 for x in myList]"
   ]
  },
  {
   "cell_type": "markdown",
   "id": "09a035a4",
   "metadata": {},
   "source": [
    "Notice the time difference!!!!"
   ]
  },
  {
   "cell_type": "code",
   "execution_count": 5,
   "id": "5aac2713",
   "metadata": {},
   "outputs": [
    {
     "name": "stdout",
     "output_type": "stream",
     "text": [
      "float64\n",
      "[[ 0.28845933 -1.04158092  0.72571888 -0.19932533 -1.14034961]\n",
      " [ 1.29919047 -1.53290541 -1.17976758 -0.95550793  0.66833105]\n",
      " [-0.12574705 -0.58953261 -0.55584524 -1.78321998  2.22763504]]\n"
     ]
    }
   ],
   "source": [
    "a_random = np.random.randn(3, 5)\n",
    "print(a_random.dtype)\n",
    "print(a_random)"
   ]
  },
  {
   "cell_type": "code",
   "execution_count": 6,
   "id": "b6dd901d",
   "metadata": {},
   "outputs": [
    {
     "data": {
      "text/plain": [
       "array([[ 0.86537799, -3.12474276,  2.17715663, -0.597976  , -3.42104883],\n",
       "       [ 3.89757142, -4.59871622, -3.53930275, -2.86652379,  2.00499314],\n",
       "       [-0.37724116, -1.76859784, -1.66753571, -5.34965994,  6.68290512]])"
      ]
     },
     "execution_count": 6,
     "metadata": {},
     "output_type": "execute_result"
    }
   ],
   "source": [
    "a_random * 3"
   ]
  },
  {
   "cell_type": "code",
   "execution_count": 7,
   "id": "807087e8",
   "metadata": {},
   "outputs": [
    {
     "data": {
      "text/plain": [
       "array([[0.08320878, 1.08489082, 0.52666789, 0.03973059, 1.30039723],\n",
       "       [1.68789589, 2.34979899, 1.39185155, 0.9129954 , 0.44666639],\n",
       "       [0.01581232, 0.3475487 , 0.30896393, 3.1798735 , 4.96235787]])"
      ]
     },
     "execution_count": 7,
     "metadata": {},
     "output_type": "execute_result"
    }
   ],
   "source": [
    "a_random ** 2"
   ]
  },
  {
   "cell_type": "markdown",
   "id": "0642fcb3",
   "metadata": {},
   "source": [
    "All of the  elements of an ndarray should be of the same type!\n",
    "\n",
    "Every array in numpy has a shape, ndim, and a dtype"
   ]
  },
  {
   "cell_type": "code",
   "execution_count": 8,
   "id": "1e775c83",
   "metadata": {},
   "outputs": [
    {
     "data": {
      "text/plain": [
       "(3, 5)"
      ]
     },
     "execution_count": 8,
     "metadata": {},
     "output_type": "execute_result"
    }
   ],
   "source": [
    "a_random.shape"
   ]
  },
  {
   "cell_type": "code",
   "execution_count": 9,
   "id": "aa388dea",
   "metadata": {},
   "outputs": [
    {
     "data": {
      "text/plain": [
       "dtype('float64')"
      ]
     },
     "execution_count": 9,
     "metadata": {},
     "output_type": "execute_result"
    }
   ],
   "source": [
    "a_random.dtype"
   ]
  },
  {
   "cell_type": "code",
   "execution_count": 10,
   "id": "2f9c8f0e",
   "metadata": {},
   "outputs": [
    {
     "data": {
      "text/plain": [
       "2"
      ]
     },
     "execution_count": 10,
     "metadata": {},
     "output_type": "execute_result"
    }
   ],
   "source": [
    "a_random.ndim"
   ]
  },
  {
   "cell_type": "code",
   "execution_count": 11,
   "id": "e3b134d3",
   "metadata": {},
   "outputs": [
    {
     "data": {
      "text/plain": [
       "array([12, 15, 32])"
      ]
     },
     "execution_count": 11,
     "metadata": {},
     "output_type": "execute_result"
    }
   ],
   "source": [
    "a1 = np.array([12, 15, 32])\n",
    "a1"
   ]
  },
  {
   "cell_type": "code",
   "execution_count": 12,
   "id": "61372db9",
   "metadata": {},
   "outputs": [
    {
     "data": {
      "text/plain": [
       "array([ 12.,  15., 223.], dtype=float32)"
      ]
     },
     "execution_count": 12,
     "metadata": {},
     "output_type": "execute_result"
    }
   ],
   "source": [
    "a2 = np.array(['12', '15', '223'])\n",
    "a3 = a2.astype('f')\n",
    "a3"
   ]
  },
  {
   "cell_type": "code",
   "execution_count": 13,
   "id": "174caa10",
   "metadata": {},
   "outputs": [
    {
     "data": {
      "text/plain": [
       "array([1, 3, 5])"
      ]
     },
     "execution_count": 13,
     "metadata": {},
     "output_type": "execute_result"
    }
   ],
   "source": [
    "a4 = np.array((1, 3, 5))\n",
    "a4"
   ]
  },
  {
   "cell_type": "markdown",
   "id": "dc000d8b",
   "metadata": {},
   "source": [
    "Create 0 or 1 arrays"
   ]
  },
  {
   "cell_type": "code",
   "execution_count": 14,
   "id": "d0d78ec1",
   "metadata": {},
   "outputs": [
    {
     "data": {
      "text/plain": [
       "array([0., 0., 0., 0.])"
      ]
     },
     "execution_count": 14,
     "metadata": {},
     "output_type": "execute_result"
    }
   ],
   "source": [
    "a5 = np.zeros(4)\n",
    "a5"
   ]
  },
  {
   "cell_type": "code",
   "execution_count": 15,
   "id": "2f252811",
   "metadata": {},
   "outputs": [
    {
     "data": {
      "text/plain": [
       "array([[[0., 0., 0., 0.],\n",
       "        [0., 0., 0., 0.],\n",
       "        [0., 0., 0., 0.]]])"
      ]
     },
     "execution_count": 15,
     "metadata": {},
     "output_type": "execute_result"
    }
   ],
   "source": [
    "a5 = np.zeros((1, 3, 4))\n",
    "a5"
   ]
  },
  {
   "cell_type": "code",
   "execution_count": 16,
   "id": "9dbc8510",
   "metadata": {},
   "outputs": [
    {
     "data": {
      "text/plain": [
       "array([[1., 1., 1.],\n",
       "       [1., 1., 1.]])"
      ]
     },
     "execution_count": 16,
     "metadata": {},
     "output_type": "execute_result"
    }
   ],
   "source": [
    "np.ones((2,3))"
   ]
  },
  {
   "cell_type": "code",
   "execution_count": 17,
   "id": "1734c708",
   "metadata": {},
   "outputs": [
    {
     "data": {
      "text/plain": [
       "array([[0., 0., 0., 0.],\n",
       "       [0., 0., 0., 0.],\n",
       "       [0., 0., 0., 0.]])"
      ]
     },
     "execution_count": 17,
     "metadata": {},
     "output_type": "execute_result"
    }
   ],
   "source": [
    "np.empty((3,4)) # This does not necessarily create zeros."
   ]
  },
  {
   "cell_type": "code",
   "execution_count": 18,
   "id": "13d6fea4",
   "metadata": {},
   "outputs": [
    {
     "data": {
      "text/plain": [
       "array([0, 1, 2, 3, 4, 5, 6, 7, 8, 9])"
      ]
     },
     "execution_count": 18,
     "metadata": {},
     "output_type": "execute_result"
    }
   ],
   "source": [
    "np.arange(10) # This is similar to the built-in range function"
   ]
  },
  {
   "cell_type": "code",
   "execution_count": 19,
   "id": "eafdd7dc",
   "metadata": {},
   "outputs": [
    {
     "data": {
      "text/plain": [
       "array([[[0., 0., 0., 0.],\n",
       "        [0., 0., 0., 0.],\n",
       "        [0., 0., 0., 0.]]])"
      ]
     },
     "execution_count": 19,
     "metadata": {},
     "output_type": "execute_result"
    }
   ],
   "source": [
    "np.zeros_like(a5) # a zero ndarray that uses the shape of its argument"
   ]
  },
  {
   "cell_type": "code",
   "execution_count": 20,
   "id": "5a8be87b",
   "metadata": {},
   "outputs": [
    {
     "data": {
      "text/plain": [
       "array([[[1., 1., 1., 1.],\n",
       "        [1., 1., 1., 1.],\n",
       "        [1., 1., 1., 1.]]])"
      ]
     },
     "execution_count": 20,
     "metadata": {},
     "output_type": "execute_result"
    }
   ],
   "source": [
    "np.ones_like(a5)"
   ]
  },
  {
   "cell_type": "code",
   "execution_count": 21,
   "id": "f7dfe039",
   "metadata": {},
   "outputs": [
    {
     "data": {
      "text/plain": [
       "array([[[12., 12., 12., 12.],\n",
       "        [12., 12., 12., 12.],\n",
       "        [12., 12., 12., 12.]]])"
      ]
     },
     "execution_count": 21,
     "metadata": {},
     "output_type": "execute_result"
    }
   ],
   "source": [
    "np.full_like(a5, fill_value=12) # We also have empty_like"
   ]
  },
  {
   "cell_type": "code",
   "execution_count": 22,
   "id": "796b07c1",
   "metadata": {},
   "outputs": [
    {
     "data": {
      "text/plain": [
       "array([[1., 0., 0.],\n",
       "       [0., 1., 0.],\n",
       "       [0., 0., 1.]])"
      ]
     },
     "execution_count": 22,
     "metadata": {},
     "output_type": "execute_result"
    }
   ],
   "source": [
    "np.eye(3) # identity matrix. Similar to np.identity"
   ]
  },
  {
   "cell_type": "markdown",
   "id": "8fc55d90",
   "metadata": {},
   "source": [
    "Data types"
   ]
  },
  {
   "cell_type": "code",
   "execution_count": 23,
   "id": "da7f9511",
   "metadata": {},
   "outputs": [
    {
     "data": {
      "text/plain": [
       "array([1., 2., 3.])"
      ]
     },
     "execution_count": 23,
     "metadata": {},
     "output_type": "execute_result"
    }
   ],
   "source": [
    "arr1 = np.array([1,2,3], dtype=np.float64)\n",
    "arr1"
   ]
  },
  {
   "cell_type": "markdown",
   "id": "d8b21308",
   "metadata": {},
   "source": [
    "We can cast an array from one data type to another using *astype* method."
   ]
  },
  {
   "cell_type": "code",
   "execution_count": 24,
   "id": "7c497e79",
   "metadata": {},
   "outputs": [],
   "source": [
    "arr2 = arr1.astype(np.uint16)"
   ]
  },
  {
   "cell_type": "code",
   "execution_count": 25,
   "id": "3150b130",
   "metadata": {},
   "outputs": [
    {
     "data": {
      "text/plain": [
       "dtype('uint16')"
      ]
     },
     "execution_count": 25,
     "metadata": {},
     "output_type": "execute_result"
    }
   ],
   "source": [
    "arr2.dtype"
   ]
  },
  {
   "cell_type": "code",
   "execution_count": 26,
   "id": "42dde303",
   "metadata": {},
   "outputs": [
    {
     "data": {
      "text/plain": [
       "dtype('float64')"
      ]
     },
     "execution_count": 26,
     "metadata": {},
     "output_type": "execute_result"
    }
   ],
   "source": [
    "arr1.dtype # notice that the dtype of arr1 was not changed when we called *astype* method."
   ]
  },
  {
   "cell_type": "markdown",
   "id": "ed4219f3",
   "metadata": {},
   "source": [
    "What happens when we mistakenly write a dtype:"
   ]
  },
  {
   "cell_type": "code",
   "execution_count": 27,
   "id": "3a90a104",
   "metadata": {},
   "outputs": [
    {
     "data": {
      "text/plain": [
       "dtype('float64')"
      ]
     },
     "execution_count": 27,
     "metadata": {},
     "output_type": "execute_result"
    }
   ],
   "source": [
    "arr_str = np.array(['12', '34'])\n",
    "arr_str2 = arr_str.astype(float) # NumPy misidentified float, which is a python type, as its own equivalent.\n",
    "arr_str2.dtype"
   ]
  },
  {
   "cell_type": "markdown",
   "id": "367be2e5",
   "metadata": {},
   "source": [
    "Shorthand type code strings. Example: 'u4' -> unit32"
   ]
  },
  {
   "cell_type": "code",
   "execution_count": 28,
   "id": "07f0aaf6",
   "metadata": {},
   "outputs": [
    {
     "data": {
      "text/plain": [
       "dtype('uint32')"
      ]
     },
     "execution_count": 28,
     "metadata": {},
     "output_type": "execute_result"
    }
   ],
   "source": [
    "arr = np.array([1, 3, 4], dtype='u4')\n",
    "arr.dtype"
   ]
  },
  {
   "cell_type": "markdown",
   "id": "48734954",
   "metadata": {},
   "source": [
    "## Arithmetic operations on NumPy arrays:\n",
    "Any arithmetic operation on same-size arrays will be element-wise:"
   ]
  },
  {
   "cell_type": "code",
   "execution_count": 29,
   "id": "94ba1271",
   "metadata": {},
   "outputs": [],
   "source": [
    "arr = np.array([1, 3, 4, 5])\n",
    "arr2 = np.array([6, 7, 8, 9])"
   ]
  },
  {
   "cell_type": "code",
   "execution_count": 30,
   "id": "77faf03d",
   "metadata": {},
   "outputs": [
    {
     "data": {
      "text/plain": [
       "array([ 7, 10, 12, 14])"
      ]
     },
     "execution_count": 30,
     "metadata": {},
     "output_type": "execute_result"
    }
   ],
   "source": [
    "arr + arr2"
   ]
  },
  {
   "cell_type": "code",
   "execution_count": 31,
   "id": "9b3c4f4e",
   "metadata": {},
   "outputs": [
    {
     "data": {
      "text/plain": [
       "array([ 6, 21, 32, 45])"
      ]
     },
     "execution_count": 31,
     "metadata": {},
     "output_type": "execute_result"
    }
   ],
   "source": [
    "arr * arr2"
   ]
  },
  {
   "cell_type": "code",
   "execution_count": 32,
   "id": "318fdc70",
   "metadata": {},
   "outputs": [
    {
     "data": {
      "text/plain": [
       "array([1.        , 0.33333333, 0.25      , 0.2       ])"
      ]
     },
     "execution_count": 32,
     "metadata": {},
     "output_type": "execute_result"
    }
   ],
   "source": [
    "1 / arr"
   ]
  },
  {
   "cell_type": "code",
   "execution_count": 33,
   "id": "29ecce52",
   "metadata": {},
   "outputs": [
    {
     "data": {
      "text/plain": [
       "array([ 1,  9, 16, 25])"
      ]
     },
     "execution_count": 33,
     "metadata": {},
     "output_type": "execute_result"
    }
   ],
   "source": [
    "arr ** 2"
   ]
  },
  {
   "cell_type": "code",
   "execution_count": 34,
   "id": "1946476a",
   "metadata": {},
   "outputs": [
    {
     "name": "stdout",
     "output_type": "stream",
     "text": [
      "[[ 1.69778858  0.61496626]\n",
      " [ 1.39609662 -0.66871752]\n",
      " [ 0.48526374 -1.71572454]]\n",
      "[[-0.65951888  0.58094287]\n",
      " [ 0.26346412  1.71687161]\n",
      " [ 0.19655554 -0.19903968]]\n"
     ]
    }
   ],
   "source": [
    "arr3 = np.random.randn(3,2)\n",
    "arr4 = np.random.randn(3,2)\n",
    "print(arr3)\n",
    "print(arr4)"
   ]
  },
  {
   "cell_type": "code",
   "execution_count": 35,
   "id": "7a1a8998",
   "metadata": {},
   "outputs": [
    {
     "data": {
      "text/plain": [
       "array([[ True,  True],\n",
       "       [ True, False],\n",
       "       [ True, False]])"
      ]
     },
     "execution_count": 35,
     "metadata": {},
     "output_type": "execute_result"
    }
   ],
   "source": [
    "arr3 > arr4"
   ]
  },
  {
   "cell_type": "markdown",
   "id": "1af697bd",
   "metadata": {},
   "source": [
    "Operations between differently sized arrays is called *broadcasting* which is included in the appendix of the book."
   ]
  },
  {
   "cell_type": "code",
   "execution_count": 36,
   "id": "397832f6",
   "metadata": {},
   "outputs": [
    {
     "data": {
      "text/plain": [
       "(4,)"
      ]
     },
     "execution_count": 36,
     "metadata": {},
     "output_type": "execute_result"
    }
   ],
   "source": [
    "arr.shape"
   ]
  },
  {
   "cell_type": "code",
   "execution_count": 37,
   "id": "8016293f",
   "metadata": {},
   "outputs": [
    {
     "data": {
      "text/plain": [
       "array([1, 3, 4, 5])"
      ]
     },
     "execution_count": 37,
     "metadata": {},
     "output_type": "execute_result"
    }
   ],
   "source": [
    "arr"
   ]
  },
  {
   "cell_type": "code",
   "execution_count": 38,
   "id": "c807c57e",
   "metadata": {},
   "outputs": [
    {
     "data": {
      "text/plain": [
       "array([ 1, 12, 12,  5])"
      ]
     },
     "execution_count": 38,
     "metadata": {},
     "output_type": "execute_result"
    }
   ],
   "source": [
    "arr[1:3] = 12\n",
    "arr"
   ]
  },
  {
   "cell_type": "markdown",
   "id": "14735c73",
   "metadata": {},
   "source": [
    "## Indexing and Slicing"
   ]
  },
  {
   "cell_type": "markdown",
   "id": "175e1053",
   "metadata": {},
   "source": [
    "Indexing"
   ]
  },
  {
   "cell_type": "code",
   "execution_count": 39,
   "id": "630fd45d",
   "metadata": {},
   "outputs": [
    {
     "data": {
      "text/plain": [
       "array([ 7,  8,  9, 10])"
      ]
     },
     "execution_count": 39,
     "metadata": {},
     "output_type": "execute_result"
    }
   ],
   "source": [
    "arr = np.arange(4, 12)\n",
    "arr[3:7] "
   ]
  },
  {
   "cell_type": "code",
   "execution_count": 40,
   "id": "eae76fdd",
   "metadata": {},
   "outputs": [
    {
     "data": {
      "text/plain": [
       "array([ 4,  5,  6, 20, 20, 20, 20, 11])"
      ]
     },
     "execution_count": 40,
     "metadata": {},
     "output_type": "execute_result"
    }
   ],
   "source": [
    "arr[3:7] = 20\n",
    "arr"
   ]
  },
  {
   "cell_type": "markdown",
   "id": "94fa15a3",
   "metadata": {},
   "source": [
    "Important difference between slicing in NumPy and built-in Python: slicing in NumPy creates a view, so if we change something in the slice, the change will be reflected in the original array."
   ]
  },
  {
   "cell_type": "code",
   "execution_count": 41,
   "id": "fe100c25",
   "metadata": {},
   "outputs": [
    {
     "data": {
      "text/plain": [
       "[0, 1, 2, 3, 4, 5, 6, 7, 8, 9]"
      ]
     },
     "execution_count": 41,
     "metadata": {},
     "output_type": "execute_result"
    }
   ],
   "source": [
    "arr_p = list(range(10))\n",
    "arr_n = np.arange(10)\n",
    "arr_p"
   ]
  },
  {
   "cell_type": "code",
   "execution_count": 42,
   "id": "514d38e1",
   "metadata": {},
   "outputs": [],
   "source": [
    "x_p = arr_p[3:7]\n",
    "x_n = arr_n[3:7]\n",
    "x_p[:] = [10, 10, 10, 10]\n",
    "x_n[:] = 0"
   ]
  },
  {
   "cell_type": "code",
   "execution_count": 43,
   "id": "b67967d5",
   "metadata": {},
   "outputs": [
    {
     "data": {
      "text/plain": [
       "[0, 1, 2, 3, 4, 5, 6, 7, 8, 9]"
      ]
     },
     "execution_count": 43,
     "metadata": {},
     "output_type": "execute_result"
    }
   ],
   "source": [
    "arr_p"
   ]
  },
  {
   "cell_type": "code",
   "execution_count": 44,
   "id": "a5c24a03",
   "metadata": {},
   "outputs": [
    {
     "data": {
      "text/plain": [
       "array([0, 1, 2, 0, 0, 0, 0, 7, 8, 9])"
      ]
     },
     "execution_count": 44,
     "metadata": {},
     "output_type": "execute_result"
    }
   ],
   "source": [
    "arr_n # you can see that the original array arr_n has changed even though we only enforced the change explicitly on x_n "
   ]
  },
  {
   "cell_type": "code",
   "execution_count": 45,
   "id": "93fbf89e",
   "metadata": {},
   "outputs": [
    {
     "data": {
      "text/plain": [
       "array([10, 10, 10, 10, 10, 10, 10, 10, 10, 10])"
      ]
     },
     "execution_count": 45,
     "metadata": {},
     "output_type": "execute_result"
    }
   ],
   "source": [
    "arr_n [:] = 10\n",
    "arr_n"
   ]
  },
  {
   "cell_type": "markdown",
   "id": "44eccbf3",
   "metadata": {},
   "source": [
    "To create a copy of the array, you should explicitly use the copy() method otherwise NumPy does not copy the array. It only creates a *view*. Note that this is a feature of NumPy as it is used to handle big amount of data. Creating copy of each variable is not a viable approach, hence the NumPy's behavior."
   ]
  },
  {
   "cell_type": "code",
   "execution_count": 46,
   "id": "df4c1f86",
   "metadata": {},
   "outputs": [
    {
     "data": {
      "text/plain": [
       "array([1, 2, 4])"
      ]
     },
     "execution_count": 46,
     "metadata": {},
     "output_type": "execute_result"
    }
   ],
   "source": [
    "arr = np.array([[1, 2, 4], [3, 5, 7]])\n",
    "arr[0] # If we drop later indices, like in here as we omitted the second index, the returned object will be a lower dimensional ndarray."
   ]
  },
  {
   "cell_type": "code",
   "execution_count": 47,
   "id": "df9aacf8",
   "metadata": {},
   "outputs": [
    {
     "data": {
      "text/plain": [
       "array([1, 2, 4])"
      ]
     },
     "execution_count": 47,
     "metadata": {},
     "output_type": "execute_result"
    }
   ],
   "source": [
    "arr[0,:] # similar to above"
   ]
  },
  {
   "cell_type": "code",
   "execution_count": 48,
   "id": "21e01f65",
   "metadata": {},
   "outputs": [
    {
     "data": {
      "text/plain": [
       "array([[1, 2, 4]])"
      ]
     },
     "execution_count": 48,
     "metadata": {},
     "output_type": "execute_result"
    }
   ],
   "source": [
    "arr[0:1] # this has the same dimension as arr"
   ]
  },
  {
   "cell_type": "code",
   "execution_count": 49,
   "id": "1e9ceddc",
   "metadata": {},
   "outputs": [
    {
     "data": {
      "text/plain": [
       "2"
      ]
     },
     "execution_count": 49,
     "metadata": {},
     "output_type": "execute_result"
    }
   ],
   "source": [
    "arr[0:1].ndim"
   ]
  },
  {
   "cell_type": "markdown",
   "id": "8d71b6b0",
   "metadata": {},
   "source": [
    "Accessing element"
   ]
  },
  {
   "cell_type": "code",
   "execution_count": 50,
   "id": "e473eecd",
   "metadata": {},
   "outputs": [
    {
     "data": {
      "text/plain": [
       "5"
      ]
     },
     "execution_count": 50,
     "metadata": {},
     "output_type": "execute_result"
    }
   ],
   "source": [
    "arr[1,1]"
   ]
  },
  {
   "cell_type": "code",
   "execution_count": 51,
   "id": "298a8f1a",
   "metadata": {},
   "outputs": [
    {
     "data": {
      "text/plain": [
       "5"
      ]
     },
     "execution_count": 51,
     "metadata": {},
     "output_type": "execute_result"
    }
   ],
   "source": [
    "arr[1][1] # The same thing as above."
   ]
  },
  {
   "cell_type": "markdown",
   "id": "2c8c2e51",
   "metadata": {},
   "source": [
    "Assigning a value to a portion of an ndarray"
   ]
  },
  {
   "cell_type": "code",
   "execution_count": 52,
   "id": "74fa752d",
   "metadata": {},
   "outputs": [
    {
     "data": {
      "text/plain": [
       "array([[[-0.63296508, -0.2017739 , -0.48687523, -1.11566361],\n",
       "        [ 0.59144189, -1.61043419, -0.22621419,  2.83567226]],\n",
       "\n",
       "       [[-0.28297949,  0.09589806, -0.57593827, -0.63291787],\n",
       "        [ 1.69785132, -1.48688603, -0.56447826,  0.18131021]],\n",
       "\n",
       "       [[ 0.96613087,  1.61150653,  0.6351333 , -0.4284818 ],\n",
       "        [ 0.08585316, -0.69999524,  0.3794118 ,  0.79778313]]])"
      ]
     },
     "execution_count": 52,
     "metadata": {},
     "output_type": "execute_result"
    }
   ],
   "source": [
    "arr5 = np.random.randn(3,2,4)\n",
    "arr5"
   ]
  },
  {
   "cell_type": "code",
   "execution_count": 53,
   "id": "79f58fdf",
   "metadata": {},
   "outputs": [
    {
     "data": {
      "text/plain": [
       "array([[[        nan,         nan,         nan,         nan],\n",
       "        [        nan,         nan,         nan,         nan]],\n",
       "\n",
       "       [[-0.28297949,  0.09589806, -0.57593827, -0.63291787],\n",
       "        [ 1.69785132, -1.48688603, -0.56447826,  0.18131021]],\n",
       "\n",
       "       [[ 0.96613087,  1.61150653,  0.6351333 , -0.4284818 ],\n",
       "        [ 0.08585316, -0.69999524,  0.3794118 ,  0.79778313]]])"
      ]
     },
     "execution_count": 53,
     "metadata": {},
     "output_type": "execute_result"
    }
   ],
   "source": [
    "arr5[0] = None # We could also pass an array \n",
    "arr5"
   ]
  },
  {
   "cell_type": "code",
   "execution_count": 54,
   "id": "4d4301db",
   "metadata": {},
   "outputs": [
    {
     "data": {
      "text/plain": [
       "array([-0.28297949,  0.09589806, -0.57593827, -0.63291787])"
      ]
     },
     "execution_count": 54,
     "metadata": {},
     "output_type": "execute_result"
    }
   ],
   "source": [
    "arr5[1,0] # all the values whose indices start with (1, 0)"
   ]
  },
  {
   "cell_type": "markdown",
   "id": "0f45af4c",
   "metadata": {},
   "source": [
    "## Slicing (also mixed with indexing)"
   ]
  },
  {
   "cell_type": "code",
   "execution_count": 55,
   "id": "8ca7d609",
   "metadata": {},
   "outputs": [
    {
     "data": {
      "text/plain": [
       "array([[[ 0.6373568 , -0.62844304, -1.11356683],\n",
       "        [ 0.62060467, -2.01686763,  1.15235422],\n",
       "        [ 0.45179517,  0.89767307, -0.73295644],\n",
       "        [ 0.09334856, -1.64022732,  0.80125675]],\n",
       "\n",
       "       [[-0.10555993, -0.58066021, -0.36631783],\n",
       "        [ 0.75843927,  1.18801889,  0.75667522],\n",
       "        [-1.15372575, -0.03038952,  0.57001248],\n",
       "        [-0.26429668, -0.59798491,  0.39416226]],\n",
       "\n",
       "       [[ 0.8915885 ,  0.74245706, -1.14622261],\n",
       "        [ 0.391938  , -0.2284546 , -1.35713546],\n",
       "        [-0.1032112 , -0.50541978, -0.46366437],\n",
       "        [ 0.88646368,  0.67919154,  0.77507642]],\n",
       "\n",
       "       [[ 0.27388036,  0.51254222,  0.76142073],\n",
       "        [ 0.97965066, -0.19718168, -0.70149197],\n",
       "        [ 0.30060541, -0.99414094, -0.05313972],\n",
       "        [-0.36251931, -1.37869298,  0.07149471]]])"
      ]
     },
     "execution_count": 55,
     "metadata": {},
     "output_type": "execute_result"
    }
   ],
   "source": [
    "arr = np.random.randn(4,4,3)\n",
    "arr"
   ]
  },
  {
   "cell_type": "code",
   "execution_count": 56,
   "id": "8d2327d5",
   "metadata": {},
   "outputs": [
    {
     "data": {
      "text/plain": [
       "array([[[ 0.6373568 , -0.62844304, -1.11356683],\n",
       "        [ 0.62060467, -2.01686763,  1.15235422],\n",
       "        [ 0.45179517,  0.89767307, -0.73295644],\n",
       "        [ 0.09334856, -1.64022732,  0.80125675]],\n",
       "\n",
       "       [[-0.10555993, -0.58066021, -0.36631783],\n",
       "        [ 0.75843927,  1.18801889,  0.75667522],\n",
       "        [-1.15372575, -0.03038952,  0.57001248],\n",
       "        [-0.26429668, -0.59798491,  0.39416226]]])"
      ]
     },
     "execution_count": 56,
     "metadata": {},
     "output_type": "execute_result"
    }
   ],
   "source": [
    "arr[:2]"
   ]
  },
  {
   "cell_type": "code",
   "execution_count": 57,
   "id": "e6d8888c",
   "metadata": {},
   "outputs": [
    {
     "data": {
      "text/plain": [
       "array([[[-0.58066021, -0.36631783],\n",
       "        [ 1.18801889,  0.75667522],\n",
       "        [-0.03038952,  0.57001248],\n",
       "        [-0.59798491,  0.39416226]],\n",
       "\n",
       "       [[ 0.74245706, -1.14622261],\n",
       "        [-0.2284546 , -1.35713546],\n",
       "        [-0.50541978, -0.46366437],\n",
       "        [ 0.67919154,  0.77507642]]])"
      ]
     },
     "execution_count": 57,
     "metadata": {},
     "output_type": "execute_result"
    }
   ],
   "source": [
    "arr[1:3, :, 1:]"
   ]
  },
  {
   "cell_type": "code",
   "execution_count": null,
   "id": "8ada777a",
   "metadata": {},
   "outputs": [],
   "source": []
  },
  {
   "cell_type": "code",
   "execution_count": null,
   "id": "61ed1eb8",
   "metadata": {},
   "outputs": [],
   "source": []
  },
  {
   "cell_type": "code",
   "execution_count": null,
   "id": "50709856",
   "metadata": {},
   "outputs": [],
   "source": []
  },
  {
   "cell_type": "markdown",
   "id": "c5a6a600",
   "metadata": {},
   "source": [
    "## Boolean indexing"
   ]
  },
  {
   "cell_type": "code",
   "execution_count": 58,
   "id": "b145251d",
   "metadata": {},
   "outputs": [
    {
     "name": "stdout",
     "output_type": "stream",
     "text": [
      "[[-0.21327785 -0.75065546 -0.31708284 -0.83488476]\n",
      " [-0.53429638  0.51930737  1.36568636 -0.73767824]\n",
      " [-1.93543253 -0.90519199 -0.16058595 -0.10961984]\n",
      " [ 0.66111909  0.17572888 -1.39616921  2.64210476]]\n"
     ]
    },
    {
     "data": {
      "text/plain": [
       "array([[-0.21327785, -0.75065546, -0.31708284, -0.83488476],\n",
       "       [-1.93543253, -0.90519199, -0.16058595, -0.10961984]])"
      ]
     },
     "execution_count": 58,
     "metadata": {},
     "output_type": "execute_result"
    }
   ],
   "source": [
    "arr1 = np.array([True, False, True, False])\n",
    "arr2 = np.random.randn(4,4)\n",
    "print(arr2)\n",
    "arr_chosen = arr2[arr1]\n",
    "arr_chosen"
   ]
  },
  {
   "cell_type": "code",
   "execution_count": 59,
   "id": "01b95152",
   "metadata": {},
   "outputs": [
    {
     "data": {
      "text/plain": [
       "array([[ 0.66111909,  0.17572888, -1.39616921,  2.64210476]])"
      ]
     },
     "execution_count": 59,
     "metadata": {},
     "output_type": "execute_result"
    }
   ],
   "source": [
    "Names = np.array(['iman', 'Josefine', 'Nick', 'Mina'])\n",
    "arr2[Names == 'Mina'] # On rows"
   ]
  },
  {
   "cell_type": "code",
   "execution_count": 60,
   "id": "56b99bd6",
   "metadata": {},
   "outputs": [
    {
     "data": {
      "text/plain": [
       "array([[-0.31708284],\n",
       "       [ 1.36568636],\n",
       "       [-0.16058595],\n",
       "       [-1.39616921]])"
      ]
     },
     "execution_count": 60,
     "metadata": {},
     "output_type": "execute_result"
    }
   ],
   "source": [
    "arr2[:, Names == 'Nick'] # On columns"
   ]
  },
  {
   "cell_type": "markdown",
   "id": "9cd4ea0c",
   "metadata": {},
   "source": [
    "Fancy indexing"
   ]
  },
  {
   "cell_type": "markdown",
   "id": "bbb6c3db",
   "metadata": {},
   "source": [
    "You should be careful with length of the boolean array. Even if the boolean array is not consistent with the array whose elements we like to fetch, we won't get an error. So, be careful!"
   ]
  },
  {
   "cell_type": "markdown",
   "id": "c58e301b",
   "metadata": {},
   "source": [
    "Mixing boolean and integer indexing:"
   ]
  },
  {
   "cell_type": "code",
   "execution_count": 61,
   "id": "40b04a0b",
   "metadata": {},
   "outputs": [
    {
     "data": {
      "text/plain": [
       "array([[-0.21327785, -0.75065546, -0.31708284, -0.83488476],\n",
       "       [-0.53429638,  0.51930737,  1.36568636, -0.73767824],\n",
       "       [-1.93543253, -0.90519199, -0.16058595, -0.10961984],\n",
       "       [ 0.66111909,  0.17572888, -1.39616921,  2.64210476]])"
      ]
     },
     "execution_count": 61,
     "metadata": {},
     "output_type": "execute_result"
    }
   ],
   "source": [
    "arr2"
   ]
  },
  {
   "cell_type": "code",
   "execution_count": 62,
   "id": "92a82852",
   "metadata": {},
   "outputs": [
    {
     "data": {
      "text/plain": [
       "array([[ 1.36568636, -0.73767824],\n",
       "       [-1.39616921,  2.64210476]])"
      ]
     },
     "execution_count": 62,
     "metadata": {},
     "output_type": "execute_result"
    }
   ],
   "source": [
    "arr2[(Names == 'Josefine') | (Names == 'Mina'), 2:] # and (&), or (|) operators. \"and\" and \"or\" cannot be used with booleans."
   ]
  },
  {
   "cell_type": "code",
   "execution_count": 63,
   "id": "da752561",
   "metadata": {},
   "outputs": [
    {
     "data": {
      "text/plain": [
       "array([[-0.31708284, -0.83488476],\n",
       "       [-0.16058595, -0.10961984]])"
      ]
     },
     "execution_count": 63,
     "metadata": {},
     "output_type": "execute_result"
    }
   ],
   "source": [
    "arr2[~((Names == 'Josefine') | (Names == 'Mina')), 2:] # Negating the condition by ~. Note that we should put this behind the wholse condition\n",
    "# condition = (Names == 'Josefine') | (Names == 'Mina')"
   ]
  },
  {
   "cell_type": "markdown",
   "id": "4f935ea1",
   "metadata": {},
   "source": [
    "### Non-boolean indexing"
   ]
  },
  {
   "cell_type": "code",
   "execution_count": 64,
   "id": "0e228915",
   "metadata": {},
   "outputs": [
    {
     "data": {
      "text/plain": [
       "array([[ 1.8627031 , -0.95355135, -1.18090088,  1.00344751],\n",
       "       [ 0.10840259, -1.968151  ,  0.33652569, -2.96529553],\n",
       "       [ 0.0311758 , -1.21571669,  0.31829762,  1.82091109]])"
      ]
     },
     "execution_count": 64,
     "metadata": {},
     "output_type": "execute_result"
    }
   ],
   "source": [
    "arr = np.random.randn(3, 4)\n",
    "arr"
   ]
  },
  {
   "cell_type": "code",
   "execution_count": 65,
   "id": "3a809543",
   "metadata": {},
   "outputs": [
    {
     "data": {
      "text/plain": [
       "array([1.8627031 , 1.00344751, 0.10840259, 0.33652569, 0.0311758 ,\n",
       "       0.31829762, 1.82091109])"
      ]
     },
     "execution_count": 65,
     "metadata": {},
     "output_type": "execute_result"
    }
   ],
   "source": [
    "arr[arr > 0]"
   ]
  },
  {
   "cell_type": "code",
   "execution_count": 66,
   "id": "643bf29a",
   "metadata": {},
   "outputs": [
    {
     "data": {
      "text/plain": [
       "array([[1.8627031 , 0.        , 0.        , 1.00344751],\n",
       "       [0.10840259, 0.        , 0.33652569, 0.        ],\n",
       "       [0.0311758 , 0.        , 0.31829762, 1.82091109]])"
      ]
     },
     "execution_count": 66,
     "metadata": {},
     "output_type": "execute_result"
    }
   ],
   "source": [
    "arr[arr < 0] = 0\n",
    "arr"
   ]
  },
  {
   "cell_type": "markdown",
   "id": "4a9431dd",
   "metadata": {},
   "source": [
    "### Fancy indexing"
   ]
  },
  {
   "cell_type": "code",
   "execution_count": 67,
   "id": "9e5c3722",
   "metadata": {},
   "outputs": [
    {
     "data": {
      "text/plain": [
       "array([ 0,  1,  2,  3,  4,  5,  6,  7,  8,  9, 10, 11, 12, 13, 14, 15, 16,\n",
       "       17, 18, 19, 20, 21, 22, 23])"
      ]
     },
     "execution_count": 67,
     "metadata": {},
     "output_type": "execute_result"
    }
   ],
   "source": [
    "arr2 = np.arange(24)\n",
    "arr2"
   ]
  },
  {
   "cell_type": "code",
   "execution_count": 68,
   "id": "65ccace9",
   "metadata": {},
   "outputs": [],
   "source": [
    "arr2 = arr2.reshape(4,6)"
   ]
  },
  {
   "cell_type": "code",
   "execution_count": 69,
   "id": "9f2d2c31",
   "metadata": {},
   "outputs": [
    {
     "data": {
      "text/plain": [
       "array([[ 0,  1,  2,  3,  4,  5],\n",
       "       [ 6,  7,  8,  9, 10, 11],\n",
       "       [12, 13, 14, 15, 16, 17],\n",
       "       [18, 19, 20, 21, 22, 23]])"
      ]
     },
     "execution_count": 69,
     "metadata": {},
     "output_type": "execute_result"
    }
   ],
   "source": [
    "arr2"
   ]
  },
  {
   "cell_type": "code",
   "execution_count": 70,
   "id": "b71fc6b1",
   "metadata": {},
   "outputs": [
    {
     "data": {
      "text/plain": [
       "array([[12, 13, 14, 15, 16, 17],\n",
       "       [ 6,  7,  8,  9, 10, 11],\n",
       "       [18, 19, 20, 21, 22, 23]])"
      ]
     },
     "execution_count": 70,
     "metadata": {},
     "output_type": "execute_result"
    }
   ],
   "source": [
    "arr2[[2, 1, 3]] # When we pass an array as index, we get the \"rows\" corresponding to the array elements in the direction of the specific axis. \n",
    "# In here, the array corresponds to the zero's index."
   ]
  },
  {
   "cell_type": "code",
   "execution_count": 71,
   "id": "56632965",
   "metadata": {},
   "outputs": [
    {
     "data": {
      "text/plain": [
       "array([[ 2,  1,  3],\n",
       "       [ 8,  7,  9],\n",
       "       [14, 13, 15],\n",
       "       [20, 19, 21]])"
      ]
     },
     "execution_count": 71,
     "metadata": {},
     "output_type": "execute_result"
    }
   ],
   "source": [
    "arr2[:, [2, 1, 3]] # Second axis"
   ]
  },
  {
   "cell_type": "markdown",
   "id": "91629e25",
   "metadata": {},
   "source": [
    "Passing more than one array to index: makes tuples and passes the elements corresponding to those tuples:"
   ]
  },
  {
   "cell_type": "code",
   "execution_count": 72,
   "id": "2cab551c",
   "metadata": {},
   "outputs": [
    {
     "data": {
      "text/plain": [
       "array([12, 23, 15])"
      ]
     },
     "execution_count": 72,
     "metadata": {},
     "output_type": "execute_result"
    }
   ],
   "source": [
    "arr2[[2, 3, 2], [0,5,3]] # elements correspond to (2, 0), (3, 5), (2, 3)"
   ]
  },
  {
   "cell_type": "markdown",
   "id": "9f170b9a",
   "metadata": {},
   "source": [
    "Another way of doing this: pass the indices sequentially"
   ]
  },
  {
   "cell_type": "code",
   "execution_count": 73,
   "id": "bfc590e5",
   "metadata": {},
   "outputs": [
    {
     "data": {
      "text/plain": [
       "array([[12, 17, 15],\n",
       "       [18, 23, 21],\n",
       "       [12, 17, 15]])"
      ]
     },
     "execution_count": 73,
     "metadata": {},
     "output_type": "execute_result"
    }
   ],
   "source": [
    "arr2[[2, 3, 2]][:, [0, 5, 3]] # I had to add \":\" since the output of arr2[[2, 3, 2]] is 2-d array and we are interested in particular columns of it."
   ]
  },
  {
   "cell_type": "markdown",
   "id": "a071b4c0",
   "metadata": {},
   "source": [
    "Fancy indexing always copies the data into a new array."
   ]
  },
  {
   "cell_type": "code",
   "execution_count": 74,
   "id": "2a926490",
   "metadata": {},
   "outputs": [],
   "source": [
    "a = arr2[[2, 1, 3]] # This copies particular rows of arr2. Any change in a will not be reflected in arr2. Slicing does not copy it though as we saw before."
   ]
  },
  {
   "cell_type": "code",
   "execution_count": 75,
   "id": "66ef08e0",
   "metadata": {},
   "outputs": [
    {
     "data": {
      "text/plain": [
       "array([[12, 13, 14, 15, 16, 17],\n",
       "       [ 6,  7,  8,  9, 10, 11],\n",
       "       [18, 19, 20, 21, 22, 23]])"
      ]
     },
     "execution_count": 75,
     "metadata": {},
     "output_type": "execute_result"
    }
   ],
   "source": [
    "a"
   ]
  },
  {
   "cell_type": "code",
   "execution_count": 76,
   "id": "0661dbfc",
   "metadata": {},
   "outputs": [
    {
     "data": {
      "text/plain": [
       "array([[0, 0, 0, 0, 0, 0],\n",
       "       [0, 0, 0, 0, 0, 0],\n",
       "       [0, 0, 0, 0, 0, 0]])"
      ]
     },
     "execution_count": 76,
     "metadata": {},
     "output_type": "execute_result"
    }
   ],
   "source": [
    "a [:]= 0\n",
    "a"
   ]
  },
  {
   "cell_type": "code",
   "execution_count": 77,
   "id": "c47d39cb",
   "metadata": {},
   "outputs": [
    {
     "data": {
      "text/plain": [
       "array([[ 0,  1,  2,  3,  4,  5],\n",
       "       [ 6,  7,  8,  9, 10, 11],\n",
       "       [12, 13, 14, 15, 16, 17],\n",
       "       [18, 19, 20, 21, 22, 23]])"
      ]
     },
     "execution_count": 77,
     "metadata": {},
     "output_type": "execute_result"
    }
   ],
   "source": [
    "arr2"
   ]
  },
  {
   "cell_type": "markdown",
   "id": "c0787ca3",
   "metadata": {},
   "source": [
    "### Matrix transpose"
   ]
  },
  {
   "cell_type": "code",
   "execution_count": 78,
   "id": "c3f82fff",
   "metadata": {},
   "outputs": [
    {
     "data": {
      "text/plain": [
       "array([[ 0,  1,  2,  3,  4],\n",
       "       [ 5,  6,  7,  8,  9],\n",
       "       [10, 11, 12, 13, 14]])"
      ]
     },
     "execution_count": 78,
     "metadata": {},
     "output_type": "execute_result"
    }
   ],
   "source": [
    "arr = np.arange(15).reshape(3, 5)\n",
    "arr"
   ]
  },
  {
   "cell_type": "code",
   "execution_count": 79,
   "id": "e9b0b1e7",
   "metadata": {},
   "outputs": [
    {
     "data": {
      "text/plain": [
       "array([[ 0,  5, 10],\n",
       "       [ 1,  6, 11],\n",
       "       [ 2,  7, 12],\n",
       "       [ 3,  8, 13],\n",
       "       [ 4,  9, 14]])"
      ]
     },
     "execution_count": 79,
     "metadata": {},
     "output_type": "execute_result"
    }
   ],
   "source": [
    "arr.T # For dimension 2"
   ]
  },
  {
   "cell_type": "code",
   "execution_count": 80,
   "id": "53a7d583",
   "metadata": {},
   "outputs": [
    {
     "data": {
      "text/plain": [
       "array([0, 1, 2, 3, 4, 5, 6, 7, 8, 9])"
      ]
     },
     "execution_count": 80,
     "metadata": {},
     "output_type": "execute_result"
    }
   ],
   "source": [
    "np.arange(10)"
   ]
  },
  {
   "cell_type": "code",
   "execution_count": 81,
   "id": "f461326d",
   "metadata": {},
   "outputs": [
    {
     "data": {
      "text/plain": [
       "array([0, 1, 2, 3, 4, 5, 6, 7, 8, 9])"
      ]
     },
     "execution_count": 81,
     "metadata": {},
     "output_type": "execute_result"
    }
   ],
   "source": [
    "np.arange(10).T"
   ]
  },
  {
   "cell_type": "code",
   "execution_count": 82,
   "id": "39c79919",
   "metadata": {},
   "outputs": [
    {
     "data": {
      "text/plain": [
       "array([[125, 140, 155, 170, 185],\n",
       "       [140, 158, 176, 194, 212],\n",
       "       [155, 176, 197, 218, 239],\n",
       "       [170, 194, 218, 242, 266],\n",
       "       [185, 212, 239, 266, 293]])"
      ]
     },
     "execution_count": 82,
     "metadata": {},
     "output_type": "execute_result"
    }
   ],
   "source": [
    "np.dot(arr.T, arr) #matrix product when we have ndim > 1"
   ]
  },
  {
   "cell_type": "code",
   "execution_count": 83,
   "id": "38d2fa6f",
   "metadata": {},
   "outputs": [
    {
     "data": {
      "text/plain": [
       "30"
      ]
     },
     "execution_count": 83,
     "metadata": {},
     "output_type": "execute_result"
    }
   ],
   "source": [
    "arr2 = np.arange(5)\n",
    "np.dot(arr2, arr2)"
   ]
  },
  {
   "cell_type": "markdown",
   "id": "abdb8112",
   "metadata": {},
   "source": [
    "For higher dimensions, transpose method. Pass a tuple of axis numbers to permute"
   ]
  },
  {
   "cell_type": "code",
   "execution_count": 84,
   "id": "16b6c951",
   "metadata": {},
   "outputs": [
    {
     "data": {
      "text/plain": [
       "array([[[ 0,  1,  2,  3],\n",
       "        [ 4,  5,  6,  7]],\n",
       "\n",
       "       [[ 8,  9, 10, 11],\n",
       "        [12, 13, 14, 15]]])"
      ]
     },
     "execution_count": 84,
     "metadata": {},
     "output_type": "execute_result"
    }
   ],
   "source": [
    "arr = np.arange(16).reshape((2, 2, 4))\n",
    "arr"
   ]
  },
  {
   "cell_type": "code",
   "execution_count": 85,
   "id": "d45472a3",
   "metadata": {},
   "outputs": [
    {
     "data": {
      "text/plain": [
       "array([[[ 0,  1,  2,  3],\n",
       "        [ 8,  9, 10, 11]],\n",
       "\n",
       "       [[ 4,  5,  6,  7],\n",
       "        [12, 13, 14, 15]]])"
      ]
     },
     "execution_count": 85,
     "metadata": {},
     "output_type": "execute_result"
    }
   ],
   "source": [
    "arr.transpose((1,0,2))"
   ]
  },
  {
   "cell_type": "code",
   "execution_count": 86,
   "id": "43c5aea7",
   "metadata": {},
   "outputs": [
    {
     "data": {
      "text/plain": [
       "array([[[ 0,  1,  2,  3],\n",
       "        [ 4,  5,  6,  7]],\n",
       "\n",
       "       [[ 8,  9, 10, 11],\n",
       "        [12, 13, 14, 15]]])"
      ]
     },
     "execution_count": 86,
     "metadata": {},
     "output_type": "execute_result"
    }
   ],
   "source": [
    "arr"
   ]
  },
  {
   "cell_type": "code",
   "execution_count": 87,
   "id": "d8d95ee9",
   "metadata": {},
   "outputs": [
    {
     "data": {
      "text/plain": [
       "array([[[ 0,  4],\n",
       "        [ 8, 12]],\n",
       "\n",
       "       [[ 1,  5],\n",
       "        [ 9, 13]],\n",
       "\n",
       "       [[ 2,  6],\n",
       "        [10, 14]],\n",
       "\n",
       "       [[ 3,  7],\n",
       "        [11, 15]]])"
      ]
     },
     "execution_count": 87,
     "metadata": {},
     "output_type": "execute_result"
    }
   ],
   "source": [
    "arr.transpose((2, 0, 1))"
   ]
  },
  {
   "cell_type": "markdown",
   "id": "290fea1e",
   "metadata": {},
   "source": [
    ".T method is a special case of the method *swapaxes* for ndarray. We pass a pair of axis numbers to swap:"
   ]
  },
  {
   "cell_type": "code",
   "execution_count": 88,
   "id": "8d11eb3e",
   "metadata": {},
   "outputs": [
    {
     "data": {
      "text/plain": [
       "array([[[ 0,  4],\n",
       "        [ 1,  5],\n",
       "        [ 2,  6],\n",
       "        [ 3,  7]],\n",
       "\n",
       "       [[ 8, 12],\n",
       "        [ 9, 13],\n",
       "        [10, 14],\n",
       "        [11, 15]]])"
      ]
     },
     "execution_count": 88,
     "metadata": {},
     "output_type": "execute_result"
    }
   ],
   "source": [
    "arr.swapaxes(1,2)"
   ]
  },
  {
   "cell_type": "code",
   "execution_count": 89,
   "id": "2e638d02",
   "metadata": {},
   "outputs": [
    {
     "data": {
      "text/plain": [
       "array([[[ 0,  1,  2,  3],\n",
       "        [ 4,  5,  6,  7]],\n",
       "\n",
       "       [[ 8,  9, 10, 11],\n",
       "        [12, 13, 14, 15]]])"
      ]
     },
     "execution_count": 89,
     "metadata": {},
     "output_type": "execute_result"
    }
   ],
   "source": [
    "arr"
   ]
  },
  {
   "cell_type": "markdown",
   "id": "6840c7bd",
   "metadata": {},
   "source": [
    "swapaxes method creates a view and not a copy of data. Look at the following lines of code:"
   ]
  },
  {
   "cell_type": "code",
   "execution_count": 90,
   "id": "92c175e6",
   "metadata": {},
   "outputs": [],
   "source": [
    "a = arr.swapaxes(1, 2)"
   ]
  },
  {
   "cell_type": "code",
   "execution_count": 91,
   "id": "2fae33e4",
   "metadata": {},
   "outputs": [
    {
     "data": {
      "text/plain": [
       "array([[[2, 2],\n",
       "        [2, 2],\n",
       "        [2, 2],\n",
       "        [2, 2]],\n",
       "\n",
       "       [[2, 2],\n",
       "        [2, 2],\n",
       "        [2, 2],\n",
       "        [2, 2]]])"
      ]
     },
     "execution_count": 91,
     "metadata": {},
     "output_type": "execute_result"
    }
   ],
   "source": [
    "a [:] = 2\n",
    "a"
   ]
  },
  {
   "cell_type": "code",
   "execution_count": 92,
   "id": "4d7f4222",
   "metadata": {},
   "outputs": [
    {
     "data": {
      "text/plain": [
       "array([[[2, 2, 2, 2],\n",
       "        [2, 2, 2, 2]],\n",
       "\n",
       "       [[2, 2, 2, 2],\n",
       "        [2, 2, 2, 2]]])"
      ]
     },
     "execution_count": 92,
     "metadata": {},
     "output_type": "execute_result"
    }
   ],
   "source": [
    "arr"
   ]
  },
  {
   "cell_type": "markdown",
   "id": "ec2cf7ea",
   "metadata": {},
   "source": [
    "## Universal functions"
   ]
  },
  {
   "cell_type": "markdown",
   "id": "21682457",
   "metadata": {},
   "source": [
    "Universal functions (ufunc): perform element-wise operation on ndarray data."
   ]
  },
  {
   "cell_type": "code",
   "execution_count": 93,
   "id": "4f64c4d2",
   "metadata": {},
   "outputs": [
    {
     "name": "stdout",
     "output_type": "stream",
     "text": [
      "[[0 1 2 3 4]\n",
      " [5 6 7 8 9]]\n",
      "[[9 2 8 6 8]\n",
      " [7 7 2 3 5]]\n"
     ]
    }
   ],
   "source": [
    "arr2 = np.arange(10).reshape(2, 5)\n",
    "arr3 = np.random.randint(0, 10, 10).reshape(2, 5)\n",
    "print(arr2)\n",
    "print(arr3)"
   ]
  },
  {
   "cell_type": "code",
   "execution_count": 94,
   "id": "1346e8f7",
   "metadata": {},
   "outputs": [
    {
     "data": {
      "text/plain": [
       "array([ 2, -2,  2, -2])"
      ]
     },
     "execution_count": 94,
     "metadata": {},
     "output_type": "execute_result"
    }
   ],
   "source": [
    "np.where([True, False, True, False], 2, -2)"
   ]
  },
  {
   "cell_type": "code",
   "execution_count": 95,
   "id": "715a77b9",
   "metadata": {},
   "outputs": [
    {
     "data": {
      "text/plain": [
       "array([[9, 1, 8, 6, 8],\n",
       "       [7, 7, 7, 8, 9]])"
      ]
     },
     "execution_count": 95,
     "metadata": {},
     "output_type": "execute_result"
    }
   ],
   "source": [
    "np.where(arr3 > 5, arr3, arr2) # Where arr3 element is greater than 5, choose that element, otherwise choose the element from arr2"
   ]
  },
  {
   "cell_type": "code",
   "execution_count": 96,
   "id": "7b59712b",
   "metadata": {},
   "outputs": [
    {
     "data": {
      "text/plain": [
       "array([-1.70125484, -0.89293745, -0.58935579,  0.21678485,  0.67582888,\n",
       "        0.85018236,  0.86074794,  1.38040061,  1.46349895,  1.76208103])"
      ]
     },
     "execution_count": 96,
     "metadata": {},
     "output_type": "execute_result"
    }
   ],
   "source": [
    "np.sort(np.random.randn(10))"
   ]
  },
  {
   "cell_type": "code",
   "execution_count": 97,
   "id": "c608a346",
   "metadata": {},
   "outputs": [
    {
     "data": {
      "text/plain": [
       "array([[0.23784634, 0.62451308, 0.96150168, 0.93993066],\n",
       "       [1.32680734, 1.20606948, 0.9343406 , 1.58407686],\n",
       "       [1.40494604, 0.91243133, 1.518723  , 0.29639647],\n",
       "       [0.28872449, 0.94970484, 1.417759  , 1.0534788 ]])"
      ]
     },
     "execution_count": 97,
     "metadata": {},
     "output_type": "execute_result"
    }
   ],
   "source": [
    "np.sqrt(np.abs(np.random.randn(4, 4)))"
   ]
  },
  {
   "cell_type": "code",
   "execution_count": 98,
   "id": "7a241560",
   "metadata": {},
   "outputs": [
    {
     "data": {
      "text/plain": [
       "array([2.71828183e+00, 7.38905610e+00, 2.00855369e+01, 5.45981500e+01,\n",
       "       1.48413159e+02, 4.03428793e+02, 1.09663316e+03, 2.98095799e+03,\n",
       "       8.10308393e+03])"
      ]
     },
     "execution_count": 98,
     "metadata": {},
     "output_type": "execute_result"
    }
   ],
   "source": [
    "np.exp(np.arange(1, 10))"
   ]
  },
  {
   "cell_type": "code",
   "execution_count": 99,
   "id": "e1fa0de3",
   "metadata": {},
   "outputs": [
    {
     "data": {
      "text/plain": [
       "array([0.70002229, 0.83045336, 0.90995187, 0.08983831, 0.52950247,\n",
       "       0.70234269, 0.34473854, 0.02387474, 0.92468552, 0.77175612])"
      ]
     },
     "execution_count": 99,
     "metadata": {},
     "output_type": "execute_result"
    }
   ],
   "source": [
    "np.random.rand(10)"
   ]
  },
  {
   "cell_type": "code",
   "execution_count": 100,
   "id": "1d3b40d2",
   "metadata": {},
   "outputs": [
    {
     "data": {
      "text/plain": [
       "array([2, 9, 0, 2, 1])"
      ]
     },
     "execution_count": 100,
     "metadata": {},
     "output_type": "execute_result"
    }
   ],
   "source": [
    "np.random.randint(0, 10, 5)"
   ]
  },
  {
   "cell_type": "code",
   "execution_count": 101,
   "id": "e87585a3",
   "metadata": {},
   "outputs": [
    {
     "data": {
      "text/plain": [
       "array([[5, 6, 3, 3],\n",
       "       [4, 1, 6, 5],\n",
       "       [9, 7, 9, 7]])"
      ]
     },
     "execution_count": 101,
     "metadata": {},
     "output_type": "execute_result"
    }
   ],
   "source": [
    "np.random.randint(0, 10, (3, 4))"
   ]
  },
  {
   "cell_type": "code",
   "execution_count": 102,
   "id": "f36e6989",
   "metadata": {},
   "outputs": [
    {
     "data": {
      "text/plain": [
       "array([[9, 2, 8, 6, 8],\n",
       "       [7, 7, 7, 8, 9]])"
      ]
     },
     "execution_count": 102,
     "metadata": {},
     "output_type": "execute_result"
    }
   ],
   "source": [
    "np.maximum(arr2, arr3)"
   ]
  },
  {
   "cell_type": "code",
   "execution_count": 103,
   "id": "36a7d7ba",
   "metadata": {},
   "outputs": [
    {
     "data": {
      "text/plain": [
       "9"
      ]
     },
     "execution_count": 103,
     "metadata": {},
     "output_type": "execute_result"
    }
   ],
   "source": [
    "arr2.max()"
   ]
  },
  {
   "cell_type": "code",
   "execution_count": 104,
   "id": "7f9d6522",
   "metadata": {},
   "outputs": [
    {
     "name": "stdout",
     "output_type": "stream",
     "text": [
      "[ 0.25164345  0.55744362 -0.29469128  0.93865436]\n",
      "[ 0.  0. -1.  1.]\n"
     ]
    }
   ],
   "source": [
    "remainder, wholePart = np.modf(np.random.randn(4)) # This function has two outputs: the fraction and the integral parts of each element.\n",
    "print(remainder)\n",
    "print(wholePart)"
   ]
  },
  {
   "cell_type": "markdown",
   "id": "8296329e",
   "metadata": {},
   "source": [
    "Universal functions (ufuncs) have this option of having an out argument to perform in-place operations. For example, we can calculate exponential of an array, and assign that value to the same array:"
   ]
  },
  {
   "cell_type": "code",
   "execution_count": 105,
   "id": "28164f74",
   "metadata": {},
   "outputs": [],
   "source": [
    "arr3 = np.array(np.random.randn(10))"
   ]
  },
  {
   "cell_type": "code",
   "execution_count": 106,
   "id": "c7b13656",
   "metadata": {},
   "outputs": [
    {
     "data": {
      "text/plain": [
       "array([-0.85190447,  0.06127631, -0.66258188,  1.93175824,  0.16688683,\n",
       "       -0.4324854 , -0.12551455, -0.27915909, -0.77298183,  1.74967994])"
      ]
     },
     "execution_count": 106,
     "metadata": {},
     "output_type": "execute_result"
    }
   ],
   "source": [
    "arr3"
   ]
  },
  {
   "cell_type": "code",
   "execution_count": 107,
   "id": "a4285758",
   "metadata": {},
   "outputs": [
    {
     "data": {
      "text/plain": [
       "array([0.42660171, 1.06319264, 0.51551861, 6.90163434, 1.18162053,\n",
       "       0.64889433, 0.88204293, 0.75641955, 0.4616345 , 5.75276116])"
      ]
     },
     "execution_count": 107,
     "metadata": {},
     "output_type": "execute_result"
    }
   ],
   "source": [
    "np.exp(arr3, arr3)"
   ]
  },
  {
   "cell_type": "code",
   "execution_count": 108,
   "id": "4580dcc5",
   "metadata": {},
   "outputs": [
    {
     "data": {
      "text/plain": [
       "array([0.42660171, 1.06319264, 0.51551861, 6.90163434, 1.18162053,\n",
       "       0.64889433, 0.88204293, 0.75641955, 0.4616345 , 5.75276116])"
      ]
     },
     "execution_count": 108,
     "metadata": {},
     "output_type": "execute_result"
    }
   ],
   "source": [
    "arr3"
   ]
  },
  {
   "cell_type": "code",
   "execution_count": 109,
   "id": "7f852258",
   "metadata": {},
   "outputs": [
    {
     "data": {
      "text/plain": [
       "array([0.65314754, 1.03111233, 0.71799624, 2.62709618, 1.0870237 ,\n",
       "       0.80553977, 0.93917141, 0.86972384, 0.6794369 , 2.39849143])"
      ]
     },
     "execution_count": 109,
     "metadata": {},
     "output_type": "execute_result"
    }
   ],
   "source": [
    "np.sqrt(arr3, arr3)\n",
    "arr3"
   ]
  },
  {
   "cell_type": "markdown",
   "id": "8b8f3f6e",
   "metadata": {},
   "source": [
    "## Array-oriented programming\n",
    "Replacing for loops with array expressions: *vectorication*"
   ]
  },
  {
   "cell_type": "markdown",
   "id": "1b61afdb",
   "metadata": {},
   "source": [
    "Suppose that we have two arrays. We want to compute a function for each combination of elements of the two arrays. We can use meshgrid function."
   ]
  },
  {
   "cell_type": "code",
   "execution_count": 128,
   "id": "c335e002",
   "metadata": {},
   "outputs": [
    {
     "name": "stdout",
     "output_type": "stream",
     "text": [
      "[-3.00000000e+00 -2.99000000e+00 -2.98000000e+00 -2.97000000e+00\n",
      " -2.96000000e+00 -2.95000000e+00 -2.94000000e+00 -2.93000000e+00\n",
      " -2.92000000e+00 -2.91000000e+00 -2.90000000e+00 -2.89000000e+00\n",
      " -2.88000000e+00 -2.87000000e+00 -2.86000000e+00 -2.85000000e+00\n",
      " -2.84000000e+00 -2.83000000e+00 -2.82000000e+00 -2.81000000e+00\n",
      " -2.80000000e+00 -2.79000000e+00 -2.78000000e+00 -2.77000000e+00\n",
      " -2.76000000e+00 -2.75000000e+00 -2.74000000e+00 -2.73000000e+00\n",
      " -2.72000000e+00 -2.71000000e+00 -2.70000000e+00 -2.69000000e+00\n",
      " -2.68000000e+00 -2.67000000e+00 -2.66000000e+00 -2.65000000e+00\n",
      " -2.64000000e+00 -2.63000000e+00 -2.62000000e+00 -2.61000000e+00\n",
      " -2.60000000e+00 -2.59000000e+00 -2.58000000e+00 -2.57000000e+00\n",
      " -2.56000000e+00 -2.55000000e+00 -2.54000000e+00 -2.53000000e+00\n",
      " -2.52000000e+00 -2.51000000e+00 -2.50000000e+00 -2.49000000e+00\n",
      " -2.48000000e+00 -2.47000000e+00 -2.46000000e+00 -2.45000000e+00\n",
      " -2.44000000e+00 -2.43000000e+00 -2.42000000e+00 -2.41000000e+00\n",
      " -2.40000000e+00 -2.39000000e+00 -2.38000000e+00 -2.37000000e+00\n",
      " -2.36000000e+00 -2.35000000e+00 -2.34000000e+00 -2.33000000e+00\n",
      " -2.32000000e+00 -2.31000000e+00 -2.30000000e+00 -2.29000000e+00\n",
      " -2.28000000e+00 -2.27000000e+00 -2.26000000e+00 -2.25000000e+00\n",
      " -2.24000000e+00 -2.23000000e+00 -2.22000000e+00 -2.21000000e+00\n",
      " -2.20000000e+00 -2.19000000e+00 -2.18000000e+00 -2.17000000e+00\n",
      " -2.16000000e+00 -2.15000000e+00 -2.14000000e+00 -2.13000000e+00\n",
      " -2.12000000e+00 -2.11000000e+00 -2.10000000e+00 -2.09000000e+00\n",
      " -2.08000000e+00 -2.07000000e+00 -2.06000000e+00 -2.05000000e+00\n",
      " -2.04000000e+00 -2.03000000e+00 -2.02000000e+00 -2.01000000e+00\n",
      " -2.00000000e+00 -1.99000000e+00 -1.98000000e+00 -1.97000000e+00\n",
      " -1.96000000e+00 -1.95000000e+00 -1.94000000e+00 -1.93000000e+00\n",
      " -1.92000000e+00 -1.91000000e+00 -1.90000000e+00 -1.89000000e+00\n",
      " -1.88000000e+00 -1.87000000e+00 -1.86000000e+00 -1.85000000e+00\n",
      " -1.84000000e+00 -1.83000000e+00 -1.82000000e+00 -1.81000000e+00\n",
      " -1.80000000e+00 -1.79000000e+00 -1.78000000e+00 -1.77000000e+00\n",
      " -1.76000000e+00 -1.75000000e+00 -1.74000000e+00 -1.73000000e+00\n",
      " -1.72000000e+00 -1.71000000e+00 -1.70000000e+00 -1.69000000e+00\n",
      " -1.68000000e+00 -1.67000000e+00 -1.66000000e+00 -1.65000000e+00\n",
      " -1.64000000e+00 -1.63000000e+00 -1.62000000e+00 -1.61000000e+00\n",
      " -1.60000000e+00 -1.59000000e+00 -1.58000000e+00 -1.57000000e+00\n",
      " -1.56000000e+00 -1.55000000e+00 -1.54000000e+00 -1.53000000e+00\n",
      " -1.52000000e+00 -1.51000000e+00 -1.50000000e+00 -1.49000000e+00\n",
      " -1.48000000e+00 -1.47000000e+00 -1.46000000e+00 -1.45000000e+00\n",
      " -1.44000000e+00 -1.43000000e+00 -1.42000000e+00 -1.41000000e+00\n",
      " -1.40000000e+00 -1.39000000e+00 -1.38000000e+00 -1.37000000e+00\n",
      " -1.36000000e+00 -1.35000000e+00 -1.34000000e+00 -1.33000000e+00\n",
      " -1.32000000e+00 -1.31000000e+00 -1.30000000e+00 -1.29000000e+00\n",
      " -1.28000000e+00 -1.27000000e+00 -1.26000000e+00 -1.25000000e+00\n",
      " -1.24000000e+00 -1.23000000e+00 -1.22000000e+00 -1.21000000e+00\n",
      " -1.20000000e+00 -1.19000000e+00 -1.18000000e+00 -1.17000000e+00\n",
      " -1.16000000e+00 -1.15000000e+00 -1.14000000e+00 -1.13000000e+00\n",
      " -1.12000000e+00 -1.11000000e+00 -1.10000000e+00 -1.09000000e+00\n",
      " -1.08000000e+00 -1.07000000e+00 -1.06000000e+00 -1.05000000e+00\n",
      " -1.04000000e+00 -1.03000000e+00 -1.02000000e+00 -1.01000000e+00\n",
      " -1.00000000e+00 -9.90000000e-01 -9.80000000e-01 -9.70000000e-01\n",
      " -9.60000000e-01 -9.50000000e-01 -9.40000000e-01 -9.30000000e-01\n",
      " -9.20000000e-01 -9.10000000e-01 -9.00000000e-01 -8.90000000e-01\n",
      " -8.80000000e-01 -8.70000000e-01 -8.60000000e-01 -8.50000000e-01\n",
      " -8.40000000e-01 -8.30000000e-01 -8.20000000e-01 -8.10000000e-01\n",
      " -8.00000000e-01 -7.90000000e-01 -7.80000000e-01 -7.70000000e-01\n",
      " -7.60000000e-01 -7.50000000e-01 -7.40000000e-01 -7.30000000e-01\n",
      " -7.20000000e-01 -7.10000000e-01 -7.00000000e-01 -6.90000000e-01\n",
      " -6.80000000e-01 -6.70000000e-01 -6.60000000e-01 -6.50000000e-01\n",
      " -6.40000000e-01 -6.30000000e-01 -6.20000000e-01 -6.10000000e-01\n",
      " -6.00000000e-01 -5.90000000e-01 -5.80000000e-01 -5.70000000e-01\n",
      " -5.60000000e-01 -5.50000000e-01 -5.40000000e-01 -5.30000000e-01\n",
      " -5.20000000e-01 -5.10000000e-01 -5.00000000e-01 -4.90000000e-01\n",
      " -4.80000000e-01 -4.70000000e-01 -4.60000000e-01 -4.50000000e-01\n",
      " -4.40000000e-01 -4.30000000e-01 -4.20000000e-01 -4.10000000e-01\n",
      " -4.00000000e-01 -3.90000000e-01 -3.80000000e-01 -3.70000000e-01\n",
      " -3.60000000e-01 -3.50000000e-01 -3.40000000e-01 -3.30000000e-01\n",
      " -3.20000000e-01 -3.10000000e-01 -3.00000000e-01 -2.90000000e-01\n",
      " -2.80000000e-01 -2.70000000e-01 -2.60000000e-01 -2.50000000e-01\n",
      " -2.40000000e-01 -2.30000000e-01 -2.20000000e-01 -2.10000000e-01\n",
      " -2.00000000e-01 -1.90000000e-01 -1.80000000e-01 -1.70000000e-01\n",
      " -1.60000000e-01 -1.50000000e-01 -1.40000000e-01 -1.30000000e-01\n",
      " -1.20000000e-01 -1.10000000e-01 -1.00000000e-01 -9.00000000e-02\n",
      " -8.00000000e-02 -7.00000000e-02 -6.00000000e-02 -5.00000000e-02\n",
      " -4.00000000e-02 -3.00000000e-02 -2.00000000e-02 -1.00000000e-02\n",
      " -6.39488462e-14  1.00000000e-02  2.00000000e-02  3.00000000e-02\n",
      "  4.00000000e-02  5.00000000e-02  6.00000000e-02  7.00000000e-02\n",
      "  8.00000000e-02  9.00000000e-02  1.00000000e-01  1.10000000e-01\n",
      "  1.20000000e-01  1.30000000e-01  1.40000000e-01  1.50000000e-01\n",
      "  1.60000000e-01  1.70000000e-01  1.80000000e-01  1.90000000e-01\n",
      "  2.00000000e-01  2.10000000e-01  2.20000000e-01  2.30000000e-01\n",
      "  2.40000000e-01  2.50000000e-01  2.60000000e-01  2.70000000e-01\n",
      "  2.80000000e-01  2.90000000e-01  3.00000000e-01  3.10000000e-01\n",
      "  3.20000000e-01  3.30000000e-01  3.40000000e-01  3.50000000e-01\n",
      "  3.60000000e-01  3.70000000e-01  3.80000000e-01  3.90000000e-01\n",
      "  4.00000000e-01  4.10000000e-01  4.20000000e-01  4.30000000e-01\n",
      "  4.40000000e-01  4.50000000e-01  4.60000000e-01  4.70000000e-01\n",
      "  4.80000000e-01  4.90000000e-01  5.00000000e-01  5.10000000e-01\n",
      "  5.20000000e-01  5.30000000e-01  5.40000000e-01  5.50000000e-01\n",
      "  5.60000000e-01  5.70000000e-01  5.80000000e-01  5.90000000e-01\n",
      "  6.00000000e-01  6.10000000e-01  6.20000000e-01  6.30000000e-01\n",
      "  6.40000000e-01  6.50000000e-01  6.60000000e-01  6.70000000e-01\n",
      "  6.80000000e-01  6.90000000e-01  7.00000000e-01  7.10000000e-01\n",
      "  7.20000000e-01  7.30000000e-01  7.40000000e-01  7.50000000e-01\n",
      "  7.60000000e-01  7.70000000e-01  7.80000000e-01  7.90000000e-01\n",
      "  8.00000000e-01  8.10000000e-01  8.20000000e-01  8.30000000e-01\n",
      "  8.40000000e-01  8.50000000e-01  8.60000000e-01  8.70000000e-01\n",
      "  8.80000000e-01  8.90000000e-01  9.00000000e-01  9.10000000e-01\n",
      "  9.20000000e-01  9.30000000e-01  9.40000000e-01  9.50000000e-01\n",
      "  9.60000000e-01  9.70000000e-01  9.80000000e-01  9.90000000e-01\n",
      "  1.00000000e+00  1.01000000e+00  1.02000000e+00  1.03000000e+00\n",
      "  1.04000000e+00  1.05000000e+00  1.06000000e+00  1.07000000e+00\n",
      "  1.08000000e+00  1.09000000e+00  1.10000000e+00  1.11000000e+00\n",
      "  1.12000000e+00  1.13000000e+00  1.14000000e+00  1.15000000e+00\n",
      "  1.16000000e+00  1.17000000e+00  1.18000000e+00  1.19000000e+00\n",
      "  1.20000000e+00  1.21000000e+00  1.22000000e+00  1.23000000e+00\n",
      "  1.24000000e+00  1.25000000e+00  1.26000000e+00  1.27000000e+00\n",
      "  1.28000000e+00  1.29000000e+00  1.30000000e+00  1.31000000e+00\n",
      "  1.32000000e+00  1.33000000e+00  1.34000000e+00  1.35000000e+00\n",
      "  1.36000000e+00  1.37000000e+00  1.38000000e+00  1.39000000e+00\n",
      "  1.40000000e+00  1.41000000e+00  1.42000000e+00  1.43000000e+00\n",
      "  1.44000000e+00  1.45000000e+00  1.46000000e+00  1.47000000e+00\n",
      "  1.48000000e+00  1.49000000e+00  1.50000000e+00  1.51000000e+00\n",
      "  1.52000000e+00  1.53000000e+00  1.54000000e+00  1.55000000e+00\n",
      "  1.56000000e+00  1.57000000e+00  1.58000000e+00  1.59000000e+00\n",
      "  1.60000000e+00  1.61000000e+00  1.62000000e+00  1.63000000e+00\n",
      "  1.64000000e+00  1.65000000e+00  1.66000000e+00  1.67000000e+00\n",
      "  1.68000000e+00  1.69000000e+00  1.70000000e+00  1.71000000e+00\n",
      "  1.72000000e+00  1.73000000e+00  1.74000000e+00  1.75000000e+00\n",
      "  1.76000000e+00  1.77000000e+00  1.78000000e+00  1.79000000e+00\n",
      "  1.80000000e+00  1.81000000e+00  1.82000000e+00  1.83000000e+00\n",
      "  1.84000000e+00  1.85000000e+00  1.86000000e+00  1.87000000e+00\n",
      "  1.88000000e+00  1.89000000e+00  1.90000000e+00  1.91000000e+00\n",
      "  1.92000000e+00  1.93000000e+00  1.94000000e+00  1.95000000e+00\n",
      "  1.96000000e+00  1.97000000e+00  1.98000000e+00  1.99000000e+00\n",
      "  2.00000000e+00  2.01000000e+00  2.02000000e+00  2.03000000e+00\n",
      "  2.04000000e+00  2.05000000e+00  2.06000000e+00  2.07000000e+00\n",
      "  2.08000000e+00  2.09000000e+00  2.10000000e+00  2.11000000e+00\n",
      "  2.12000000e+00  2.13000000e+00  2.14000000e+00  2.15000000e+00\n",
      "  2.16000000e+00  2.17000000e+00  2.18000000e+00  2.19000000e+00\n",
      "  2.20000000e+00  2.21000000e+00  2.22000000e+00  2.23000000e+00\n",
      "  2.24000000e+00  2.25000000e+00  2.26000000e+00  2.27000000e+00\n",
      "  2.28000000e+00  2.29000000e+00  2.30000000e+00  2.31000000e+00\n",
      "  2.32000000e+00  2.33000000e+00  2.34000000e+00  2.35000000e+00\n",
      "  2.36000000e+00  2.37000000e+00  2.38000000e+00  2.39000000e+00\n",
      "  2.40000000e+00  2.41000000e+00  2.42000000e+00  2.43000000e+00\n",
      "  2.44000000e+00  2.45000000e+00  2.46000000e+00  2.47000000e+00\n",
      "  2.48000000e+00  2.49000000e+00  2.50000000e+00  2.51000000e+00\n",
      "  2.52000000e+00  2.53000000e+00  2.54000000e+00  2.55000000e+00\n",
      "  2.56000000e+00  2.57000000e+00  2.58000000e+00  2.59000000e+00\n",
      "  2.60000000e+00  2.61000000e+00  2.62000000e+00  2.63000000e+00\n",
      "  2.64000000e+00  2.65000000e+00  2.66000000e+00  2.67000000e+00\n",
      "  2.68000000e+00  2.69000000e+00  2.70000000e+00  2.71000000e+00\n",
      "  2.72000000e+00  2.73000000e+00  2.74000000e+00  2.75000000e+00\n",
      "  2.76000000e+00  2.77000000e+00  2.78000000e+00  2.79000000e+00\n",
      "  2.80000000e+00  2.81000000e+00  2.82000000e+00  2.83000000e+00\n",
      "  2.84000000e+00  2.85000000e+00  2.86000000e+00  2.87000000e+00\n",
      "  2.88000000e+00  2.89000000e+00  2.90000000e+00  2.91000000e+00\n",
      "  2.92000000e+00  2.93000000e+00  2.94000000e+00  2.95000000e+00\n",
      "  2.96000000e+00  2.97000000e+00  2.98000000e+00  2.99000000e+00]\n"
     ]
    }
   ],
   "source": [
    "a1 = np.arange(-3, 3, 0.01)\n",
    "a2 = np.linspace(-2, 2, 400)\n",
    "print(a1)\n"
   ]
  },
  {
   "cell_type": "code",
   "execution_count": 129,
   "id": "e8c1bb9a",
   "metadata": {},
   "outputs": [
    {
     "name": "stdout",
     "output_type": "stream",
     "text": [
      "400\n"
     ]
    }
   ],
   "source": [
    "print(a2.size)"
   ]
  },
  {
   "cell_type": "code",
   "execution_count": 130,
   "id": "b0778544",
   "metadata": {},
   "outputs": [
    {
     "data": {
      "text/plain": [
       "(400,)"
      ]
     },
     "execution_count": 130,
     "metadata": {},
     "output_type": "execute_result"
    }
   ],
   "source": [
    "a2.shape"
   ]
  },
  {
   "cell_type": "code",
   "execution_count": 131,
   "id": "49c4d230",
   "metadata": {},
   "outputs": [],
   "source": [
    "a1_mesh, a2_mesh = np.meshgrid(a1, a2)"
   ]
  },
  {
   "cell_type": "code",
   "execution_count": 132,
   "id": "3cab9f32",
   "metadata": {},
   "outputs": [
    {
     "data": {
      "text/plain": [
       "array([[-3.  , -2.99, -2.98, ...,  2.97,  2.98,  2.99],\n",
       "       [-3.  , -2.99, -2.98, ...,  2.97,  2.98,  2.99],\n",
       "       [-3.  , -2.99, -2.98, ...,  2.97,  2.98,  2.99],\n",
       "       ...,\n",
       "       [-3.  , -2.99, -2.98, ...,  2.97,  2.98,  2.99],\n",
       "       [-3.  , -2.99, -2.98, ...,  2.97,  2.98,  2.99],\n",
       "       [-3.  , -2.99, -2.98, ...,  2.97,  2.98,  2.99]])"
      ]
     },
     "execution_count": 132,
     "metadata": {},
     "output_type": "execute_result"
    }
   ],
   "source": [
    "a1_mesh[:10]"
   ]
  },
  {
   "cell_type": "code",
   "execution_count": 133,
   "id": "4343d3c8",
   "metadata": {},
   "outputs": [
    {
     "data": {
      "text/plain": [
       "array([[-2.        , -2.        , -2.        , ..., -2.        ,\n",
       "        -2.        , -2.        ],\n",
       "       [-1.98997494, -1.98997494, -1.98997494, ..., -1.98997494,\n",
       "        -1.98997494, -1.98997494],\n",
       "       [-1.97994987, -1.97994987, -1.97994987, ..., -1.97994987,\n",
       "        -1.97994987, -1.97994987],\n",
       "       ...,\n",
       "       [-1.92982456, -1.92982456, -1.92982456, ..., -1.92982456,\n",
       "        -1.92982456, -1.92982456],\n",
       "       [-1.9197995 , -1.9197995 , -1.9197995 , ..., -1.9197995 ,\n",
       "        -1.9197995 , -1.9197995 ],\n",
       "       [-1.90977444, -1.90977444, -1.90977444, ..., -1.90977444,\n",
       "        -1.90977444, -1.90977444]])"
      ]
     },
     "execution_count": 133,
     "metadata": {},
     "output_type": "execute_result"
    }
   ],
   "source": [
    "a2_mesh[:10]"
   ]
  },
  {
   "cell_type": "markdown",
   "id": "69314b06",
   "metadata": {},
   "source": [
    "Now, let's compute an expression for mesh values: np.exp(a1^2 + a2^2)"
   ]
  },
  {
   "cell_type": "code",
   "execution_count": 134,
   "id": "f508aec2",
   "metadata": {},
   "outputs": [],
   "source": [
    "result = np.sqrt(a1_mesh**2 + a2_mesh**2)"
   ]
  },
  {
   "cell_type": "code",
   "execution_count": 135,
   "id": "265c8400",
   "metadata": {},
   "outputs": [
    {
     "data": {
      "text/plain": [
       "(400, 600)"
      ]
     },
     "execution_count": 135,
     "metadata": {},
     "output_type": "execute_result"
    }
   ],
   "source": [
    "result.shape"
   ]
  },
  {
   "cell_type": "code",
   "execution_count": 136,
   "id": "eea61b49",
   "metadata": {},
   "outputs": [],
   "source": [
    "import matplotlib.pyplot as plt"
   ]
  },
  {
   "cell_type": "code",
   "execution_count": 139,
   "id": "26491b06",
   "metadata": {},
   "outputs": [
    {
     "data": {
      "text/plain": [
       "Text(0.5, 1.0, 'Image plot of the function $\\\\sqrt{x^2 + y^2}$ for a grid of values')"
      ]
     },
     "execution_count": 139,
     "metadata": {},
     "output_type": "execute_result"
    },
    {
     "data": {
      "image/png": "[encoded data removed]",
      "text/plain": [
       "<Figure size 432x288 with 2 Axes>"
      ]
     },
     "metadata": {
      "needs_background": "light"
     },
     "output_type": "display_data"
    }
   ],
   "source": [
    "plt.imshow(result, cmap=plt.cm.gray); plt.colorbar()\n",
    "plt.title(\"Image plot of the function $\\sqrt{x^2 + y^2}$ for a grid of values\")"
   ]
  },
  {
   "cell_type": "markdown",
   "id": "26c59749",
   "metadata": {},
   "source": [
    "Using *np.where* function to avoid loops and comprehensions"
   ]
  },
  {
   "cell_type": "code",
   "execution_count": 149,
   "id": "cb2aed2d",
   "metadata": {},
   "outputs": [],
   "source": [
    "xarr = np.arange(1,6)/10 + 1"
   ]
  },
  {
   "cell_type": "code",
   "execution_count": 150,
   "id": "5a8503af",
   "metadata": {},
   "outputs": [],
   "source": [
    "yarr = np.arange(1,6)/10 + 2"
   ]
  },
  {
   "cell_type": "code",
   "execution_count": 151,
   "id": "c53b4193",
   "metadata": {},
   "outputs": [
    {
     "name": "stdout",
     "output_type": "stream",
     "text": [
      "[1.1 1.2 1.3 1.4 1.5]\n",
      "[2.1 2.2 2.3 2.4 2.5]\n"
     ]
    }
   ],
   "source": [
    "print(xarr)\n",
    "print(yarr)"
   ]
  },
  {
   "cell_type": "code",
   "execution_count": 154,
   "id": "9a192eee",
   "metadata": {},
   "outputs": [],
   "source": [
    "condition = np.array([True, False, False, True, True])"
   ]
  },
  {
   "cell_type": "markdown",
   "id": "3a6437db",
   "metadata": {},
   "source": [
    "Let's construct an expression that takes element from xarr if the corresponding element in condition is True, otherwise it gets the element from yarr"
   ]
  },
  {
   "cell_type": "code",
   "execution_count": 155,
   "id": "3f727eb7",
   "metadata": {},
   "outputs": [
    {
     "data": {
      "text/plain": [
       "array([1.1, 2.2, 2.3, 1.4, 1.5])"
      ]
     },
     "execution_count": 155,
     "metadata": {},
     "output_type": "execute_result"
    }
   ],
   "source": [
    "np.where(condition, xarr, yarr)"
   ]
  },
  {
   "cell_type": "markdown",
   "id": "0dfe9d8c",
   "metadata": {},
   "source": [
    "The second and third arguments to the function np.where do not need to be vectors(arrays)."
   ]
  },
  {
   "cell_type": "code",
   "execution_count": 157,
   "id": "1b629e40",
   "metadata": {},
   "outputs": [
    {
     "data": {
      "text/plain": [
       "array([ 100, -100, -100,  100,  100])"
      ]
     },
     "execution_count": 157,
     "metadata": {},
     "output_type": "execute_result"
    }
   ],
   "source": [
    "np.where(condition, 100, -100)"
   ]
  },
  {
   "cell_type": "code",
   "execution_count": 158,
   "id": "156feb94",
   "metadata": {},
   "outputs": [
    {
     "data": {
      "text/plain": [
       "array([100. ,   2.2,   2.3, 100. , 100. ])"
      ]
     },
     "execution_count": 158,
     "metadata": {},
     "output_type": "execute_result"
    }
   ],
   "source": [
    "np.where(condition, 100, yarr)"
   ]
  },
  {
   "cell_type": "markdown",
   "id": "d3e92b0f",
   "metadata": {},
   "source": [
    "Mathematical and Statistical methods\n",
    "\n",
    "aggregations: sum, var, std, mean, ...   These methods reduce dimension of the argument\n",
    "non-aggregations: cumsum, cumprod, ...   These methods do not reduce dimension of the argument"
   ]
  },
  {
   "cell_type": "code",
   "execution_count": 165,
   "id": "0dd91f64",
   "metadata": {},
   "outputs": [
    {
     "data": {
      "text/plain": [
       "array([[-0.44858333, -0.47569798,  0.02546018, -0.40149701],\n",
       "       [ 1.98498666, -0.51696084, -0.3707643 ,  0.25853606],\n",
       "       [-0.80155752,  0.0198458 ,  1.58947199, -0.04530644]])"
      ]
     },
     "execution_count": 165,
     "metadata": {},
     "output_type": "execute_result"
    }
   ],
   "source": [
    "a_arr = np.random.randn(3,4)\n",
    "a_arr"
   ]
  },
  {
   "cell_type": "code",
   "execution_count": 166,
   "id": "54b4d23c",
   "metadata": {},
   "outputs": [
    {
     "data": {
      "text/plain": [
       "0.06816110467117771"
      ]
     },
     "execution_count": 166,
     "metadata": {},
     "output_type": "execute_result"
    }
   ],
   "source": [
    "a_arr.mean() # mean of all elements"
   ]
  },
  {
   "cell_type": "code",
   "execution_count": 167,
   "id": "fe0953f1",
   "metadata": {},
   "outputs": [
    {
     "data": {
      "text/plain": [
       "array([ 0.2449486 , -0.32427101,  0.41472262, -0.0627558 ])"
      ]
     },
     "execution_count": 167,
     "metadata": {},
     "output_type": "execute_result"
    }
   ],
   "source": [
    "a_arr.mean(0) # mean of elements along the axis = 0"
   ]
  },
  {
   "cell_type": "code",
   "execution_count": 168,
   "id": "3b654f43",
   "metadata": {},
   "outputs": [
    {
     "data": {
      "text/plain": [
       "0.8179332560541326"
      ]
     },
     "execution_count": 168,
     "metadata": {},
     "output_type": "execute_result"
    }
   ],
   "source": [
    "a_arr.sum()"
   ]
  },
  {
   "cell_type": "code",
   "execution_count": 169,
   "id": "6d0ab793",
   "metadata": {},
   "outputs": [
    {
     "data": {
      "text/plain": [
       "array([ 0.73484581, -0.97281303,  1.24416787, -0.18826739])"
      ]
     },
     "execution_count": 169,
     "metadata": {},
     "output_type": "execute_result"
    }
   ],
   "source": [
    "a_arr.sum(0)"
   ]
  },
  {
   "cell_type": "code",
   "execution_count": 171,
   "id": "146ebb20",
   "metadata": {},
   "outputs": [
    {
     "data": {
      "text/plain": [
       "0.8224304539003815"
      ]
     },
     "execution_count": 171,
     "metadata": {},
     "output_type": "execute_result"
    }
   ],
   "source": [
    "a_arr.std()"
   ]
  },
  {
   "cell_type": "code",
   "execution_count": 174,
   "id": "03c2944e",
   "metadata": {},
   "outputs": [
    {
     "data": {
      "text/plain": [
       "array([[-0.44858333, -0.92428132, -0.89882114, -1.30031815],\n",
       "       [ 1.98498666,  1.46802582,  1.09726151,  1.35579757],\n",
       "       [-0.80155752, -0.78171172,  0.80776027,  0.76245383]])"
      ]
     },
     "execution_count": 174,
     "metadata": {},
     "output_type": "execute_result"
    }
   ],
   "source": [
    "a_arr.cumsum(1) #non-aggregation method"
   ]
  },
  {
   "cell_type": "code",
   "execution_count": 175,
   "id": "0c965c48",
   "metadata": {},
   "outputs": [
    {
     "data": {
      "text/plain": [
       "array([[-0.44858333, -0.47569798,  0.02546018, -0.40149701],\n",
       "       [-0.89043193,  0.24591723, -0.00943973, -0.10380145],\n",
       "       [ 0.71373241,  0.00488042, -0.01500418,  0.00470287]])"
      ]
     },
     "execution_count": 175,
     "metadata": {},
     "output_type": "execute_result"
    }
   ],
   "source": [
    "a_arr.cumprod(0) # non-aggregation method"
   ]
  },
  {
   "cell_type": "markdown",
   "id": "df6af54b",
   "metadata": {},
   "source": [
    "Methods for booleans"
   ]
  },
  {
   "cell_type": "markdown",
   "id": "3d5a5b7d",
   "metadata": {},
   "source": [
    "We can sum the elements of a boolean. True is counted as 1, False is counted as 0. "
   ]
  },
  {
   "cell_type": "code",
   "execution_count": 176,
   "id": "e25cd882",
   "metadata": {},
   "outputs": [
    {
     "data": {
      "text/plain": [
       "array([ True,  True, False,  True, False, False,  True])"
      ]
     },
     "execution_count": 176,
     "metadata": {},
     "output_type": "execute_result"
    }
   ],
   "source": [
    "arrBool = np.array([True, True, False, True, False, False, True])\n",
    "arrBool"
   ]
  },
  {
   "cell_type": "code",
   "execution_count": 177,
   "id": "a40cb140",
   "metadata": {},
   "outputs": [
    {
     "data": {
      "text/plain": [
       "4"
      ]
     },
     "execution_count": 177,
     "metadata": {},
     "output_type": "execute_result"
    }
   ],
   "source": [
    "arrBool.sum()"
   ]
  },
  {
   "cell_type": "code",
   "execution_count": 178,
   "id": "1bc9afaa",
   "metadata": {},
   "outputs": [
    {
     "data": {
      "text/plain": [
       "0"
      ]
     },
     "execution_count": 178,
     "metadata": {},
     "output_type": "execute_result"
    }
   ],
   "source": [
    "arrBool.prod()"
   ]
  },
  {
   "cell_type": "markdown",
   "id": "ae5e9024",
   "metadata": {},
   "source": [
    "Other useful methods: *any* and *all*\n",
    "\n",
    "any: if any of the elements in the array is True, this methods will return true\n",
    "all: returns true only if all of the elements in the array are true"
   ]
  },
  {
   "cell_type": "code",
   "execution_count": 179,
   "id": "77eef96d",
   "metadata": {},
   "outputs": [
    {
     "data": {
      "text/plain": [
       "True"
      ]
     },
     "execution_count": 179,
     "metadata": {},
     "output_type": "execute_result"
    }
   ],
   "source": [
    "arrBool.any()"
   ]
  },
  {
   "cell_type": "code",
   "execution_count": 180,
   "id": "666963db",
   "metadata": {},
   "outputs": [
    {
     "data": {
      "text/plain": [
       "False"
      ]
     },
     "execution_count": 180,
     "metadata": {},
     "output_type": "execute_result"
    }
   ],
   "source": [
    "arrBool.all()"
   ]
  },
  {
   "cell_type": "markdown",
   "id": "2cc92820",
   "metadata": {},
   "source": [
    "These two methods of *any* and *all* work for non-booleans also."
   ]
  },
  {
   "cell_type": "code",
   "execution_count": 181,
   "id": "04a0a9a4",
   "metadata": {},
   "outputs": [
    {
     "data": {
      "text/plain": [
       "array([ 0.034613  , -1.16337719,  1.98594891, -0.12817639, -0.46861098,\n",
       "       -0.25676633])"
      ]
     },
     "execution_count": 181,
     "metadata": {},
     "output_type": "execute_result"
    }
   ],
   "source": [
    "myarr = np.random.randn(6)\n",
    "myarr"
   ]
  },
  {
   "cell_type": "code",
   "execution_count": 184,
   "id": "8370527e",
   "metadata": {},
   "outputs": [
    {
     "data": {
      "text/plain": [
       "True"
      ]
     },
     "execution_count": 184,
     "metadata": {},
     "output_type": "execute_result"
    }
   ],
   "source": [
    "myarr.any() # Non-zero elements are treated as True"
   ]
  },
  {
   "cell_type": "code",
   "execution_count": 185,
   "id": "c1a09617",
   "metadata": {},
   "outputs": [
    {
     "data": {
      "text/plain": [
       "True"
      ]
     },
     "execution_count": 185,
     "metadata": {},
     "output_type": "execute_result"
    }
   ],
   "source": [
    "myarr.all()"
   ]
  },
  {
   "cell_type": "markdown",
   "id": "2202443b",
   "metadata": {},
   "source": [
    "Sorting\n",
    "Both the method and function"
   ]
  },
  {
   "cell_type": "code",
   "execution_count": 187,
   "id": "3daada2a",
   "metadata": {},
   "outputs": [
    {
     "data": {
      "text/plain": [
       "array([-1.16337719, -0.46861098, -0.25676633, -0.12817639,  0.034613  ,\n",
       "        1.98594891])"
      ]
     },
     "execution_count": 187,
     "metadata": {},
     "output_type": "execute_result"
    }
   ],
   "source": [
    "myarr.sort()\n",
    "myarr"
   ]
  },
  {
   "cell_type": "code",
   "execution_count": 188,
   "id": "610c125f",
   "metadata": {},
   "outputs": [
    {
     "data": {
      "text/plain": [
       "array([[0.64939816, 0.91673722, 0.90395365],\n",
       "       [0.29654154, 0.47516576, 0.3661773 ],\n",
       "       [0.28057953, 0.56948679, 0.96928351]])"
      ]
     },
     "execution_count": 188,
     "metadata": {},
     "output_type": "execute_result"
    }
   ],
   "source": [
    "myarr2 = np.random.rand(3,3)\n",
    "myarr2"
   ]
  },
  {
   "cell_type": "code",
   "execution_count": 191,
   "id": "9015b914",
   "metadata": {},
   "outputs": [
    {
     "data": {
      "text/plain": [
       "array([[0.28057953, 0.47516576, 0.3661773 ],\n",
       "       [0.29654154, 0.56948679, 0.90395365],\n",
       "       [0.64939816, 0.91673722, 0.96928351]])"
      ]
     },
     "execution_count": 191,
     "metadata": {},
     "output_type": "execute_result"
    }
   ],
   "source": [
    "np.sort(myarr2, axis=0) # sorting along the zero axis. This does not change myarr2 in-place, unline its method equivalent."
   ]
  },
  {
   "cell_type": "code",
   "execution_count": 192,
   "id": "0c8a2cf6",
   "metadata": {},
   "outputs": [
    {
     "data": {
      "text/plain": [
       "array([[0.64939816, 0.91673722, 0.90395365],\n",
       "       [0.29654154, 0.47516576, 0.3661773 ],\n",
       "       [0.28057953, 0.56948679, 0.96928351]])"
      ]
     },
     "execution_count": 192,
     "metadata": {},
     "output_type": "execute_result"
    }
   ],
   "source": [
    "myarr2"
   ]
  },
  {
   "cell_type": "code",
   "execution_count": 193,
   "id": "958aec08",
   "metadata": {},
   "outputs": [],
   "source": [
    "myarr2.sort(0)"
   ]
  },
  {
   "cell_type": "code",
   "execution_count": 194,
   "id": "8247a6be",
   "metadata": {},
   "outputs": [
    {
     "data": {
      "text/plain": [
       "array([[0.28057953, 0.47516576, 0.3661773 ],\n",
       "       [0.29654154, 0.56948679, 0.90395365],\n",
       "       [0.64939816, 0.91673722, 0.96928351]])"
      ]
     },
     "execution_count": 194,
     "metadata": {},
     "output_type": "execute_result"
    }
   ],
   "source": [
    "myarr2"
   ]
  },
  {
   "cell_type": "markdown",
   "id": "339c2521",
   "metadata": {},
   "source": [
    "Set operations\n",
    "\n",
    "A common function is np.unique: sorted unique values."
   ]
  },
  {
   "cell_type": "code",
   "execution_count": 195,
   "id": "12079021",
   "metadata": {},
   "outputs": [
    {
     "data": {
      "text/plain": [
       "array(['elisabeth', 'iman', 'joje', 'matilda'], dtype='<U9')"
      ]
     },
     "execution_count": 195,
     "metadata": {},
     "output_type": "execute_result"
    }
   ],
   "source": [
    "names = np.array(['iman', 'joje', 'elisabeth', 'matilda', 'iman'])\n",
    "np.unique(names)"
   ]
  },
  {
   "cell_type": "markdown",
   "id": "2a104b88",
   "metadata": {},
   "source": [
    "### saving and loading array data\n",
    "np.save(name, data) -> saving one array to a file\n",
    "\n",
    "np.savez(name, a = data1, b = data2, ...) -> saving more than one array to a file\n",
    "\n",
    "np.savez_compressed -> the same as np.saves but it compresses the data also."
   ]
  },
  {
   "cell_type": "code",
   "execution_count": 196,
   "id": "d4cfa4ba",
   "metadata": {},
   "outputs": [],
   "source": [
    "myArr = np.arange(10)\n",
    "np.save('myArray', myArr) # here the extension .npy will be automatically added."
   ]
  },
  {
   "cell_type": "code",
   "execution_count": 201,
   "id": "ff6fa6b7",
   "metadata": {},
   "outputs": [
    {
     "data": {
      "text/plain": [
       "array([0, 1, 2, 3, 4, 5, 6, 7, 8, 9])"
      ]
     },
     "execution_count": 201,
     "metadata": {},
     "output_type": "execute_result"
    }
   ],
   "source": [
    "np.load('myArray.npy') # here it is important to add the extension when loading"
   ]
  },
  {
   "cell_type": "code",
   "execution_count": 202,
   "id": "a889f785",
   "metadata": {},
   "outputs": [
    {
     "data": {
      "text/plain": [
       "array([0.60884439, 0.11548183, 0.29473797, 0.84487354, 0.38491083])"
      ]
     },
     "execution_count": 202,
     "metadata": {},
     "output_type": "execute_result"
    }
   ],
   "source": [
    "myArr2 = np.random.rand(5)\n",
    "myArr2"
   ]
  },
  {
   "cell_type": "code",
   "execution_count": 203,
   "id": "4bd3df4f",
   "metadata": {},
   "outputs": [],
   "source": [
    "np.savez('myArrays.npz', first = myArr, second = myArr2)"
   ]
  },
  {
   "cell_type": "code",
   "execution_count": 204,
   "id": "3b8029d6",
   "metadata": {},
   "outputs": [],
   "source": [
    "myArraysLoaded = np.load('myArrays.npz')"
   ]
  },
  {
   "cell_type": "code",
   "execution_count": 206,
   "id": "d75e0303",
   "metadata": {},
   "outputs": [
    {
     "data": {
      "text/plain": [
       "array([0, 1, 2, 3, 4, 5, 6, 7, 8, 9])"
      ]
     },
     "execution_count": 206,
     "metadata": {},
     "output_type": "execute_result"
    }
   ],
   "source": [
    "myArraysLoaded['first']"
   ]
  },
  {
   "cell_type": "code",
   "execution_count": 207,
   "id": "d56cca98",
   "metadata": {},
   "outputs": [
    {
     "data": {
      "text/plain": [
       "array([0.60884439, 0.11548183, 0.29473797, 0.84487354, 0.38491083])"
      ]
     },
     "execution_count": 207,
     "metadata": {},
     "output_type": "execute_result"
    }
   ],
   "source": [
    "myArraysLoaded['second']"
   ]
  },
  {
   "cell_type": "markdown",
   "id": "c9726901",
   "metadata": {},
   "source": [
    "### Linear algebra"
   ]
  },
  {
   "cell_type": "code",
   "execution_count": 210,
   "id": "a18a1895",
   "metadata": {},
   "outputs": [
    {
     "data": {
      "text/plain": [
       "(5,)"
      ]
     },
     "execution_count": 210,
     "metadata": {},
     "output_type": "execute_result"
    }
   ],
   "source": [
    "myArr = np.arange(5)\n",
    "myArr.shape"
   ]
  },
  {
   "cell_type": "code",
   "execution_count": 211,
   "id": "b8aefcc9",
   "metadata": {},
   "outputs": [
    {
     "data": {
      "text/plain": [
       "(2, 5)"
      ]
     },
     "execution_count": 211,
     "metadata": {},
     "output_type": "execute_result"
    }
   ],
   "source": [
    "myArr2 = np.arange(10).reshape(2,5)\n",
    "myArr2.shape"
   ]
  },
  {
   "cell_type": "code",
   "execution_count": 213,
   "id": "bd99329d",
   "metadata": {},
   "outputs": [
    {
     "name": "stdout",
     "output_type": "stream",
     "text": [
      "Matrix product is [30 80] and its shape is (2,)\n"
     ]
    }
   ],
   "source": [
    "product = np.dot(myArr2, myArr)\n",
    "print(\"Matrix product is {0} and its shape is {1}\".format(product, product.shape))"
   ]
  },
  {
   "cell_type": "markdown",
   "id": "74331aeb",
   "metadata": {},
   "source": [
    "As can be seen above, the multiplication took the shape of the lower dimension array."
   ]
  },
  {
   "cell_type": "code",
   "execution_count": 215,
   "id": "312fdfa4",
   "metadata": {},
   "outputs": [
    {
     "ename": "ValueError",
     "evalue": "shapes (5,) and (2,5) not aligned: 5 (dim 0) != 2 (dim 0)",
     "output_type": "error",
     "traceback": [
      "\u001b[1;31m---------------------------------------------------------------------------\u001b[0m",
      "\u001b[1;31mValueError\u001b[0m                                Traceback (most recent call last)",
      "Input \u001b[1;32mIn [215]\u001b[0m, in \u001b[0;36m<cell line: 1>\u001b[1;34m()\u001b[0m\n\u001b[1;32m----> 1\u001b[0m \u001b[43mnp\u001b[49m\u001b[38;5;241;43m.\u001b[39;49m\u001b[43mdot\u001b[49m\u001b[43m(\u001b[49m\u001b[43mmyArr\u001b[49m\u001b[43m,\u001b[49m\u001b[43m \u001b[49m\u001b[43mmyArr2\u001b[49m\u001b[43m)\u001b[49m\n",
      "File \u001b[1;32m<__array_function__ internals>:180\u001b[0m, in \u001b[0;36mdot\u001b[1;34m(*args, **kwargs)\u001b[0m\n",
      "\u001b[1;31mValueError\u001b[0m: shapes (5,) and (2,5) not aligned: 5 (dim 0) != 2 (dim 0)"
     ]
    }
   ],
   "source": [
    "np.dot(myArr, myArr2) # dimensions should match"
   ]
  },
  {
   "cell_type": "markdown",
   "id": "ed3dfc1a",
   "metadata": {},
   "source": [
    "Another way of doing this is to use the @ operator."
   ]
  },
  {
   "cell_type": "code",
   "execution_count": 216,
   "id": "0a595353",
   "metadata": {},
   "outputs": [
    {
     "data": {
      "text/plain": [
       "array([30, 80])"
      ]
     },
     "execution_count": 216,
     "metadata": {},
     "output_type": "execute_result"
    }
   ],
   "source": [
    "myArr2 @ myArr"
   ]
  },
  {
   "cell_type": "markdown",
   "id": "1ff8578c",
   "metadata": {},
   "source": [
    "Linear algebra module in NumPy is np.linalg"
   ]
  },
  {
   "cell_type": "code",
   "execution_count": 218,
   "id": "6ba4082d",
   "metadata": {},
   "outputs": [],
   "source": [
    "from numpy.linalg import inv, qr"
   ]
  },
  {
   "cell_type": "code",
   "execution_count": 219,
   "id": "a852f7c4",
   "metadata": {},
   "outputs": [
    {
     "data": {
      "text/plain": [
       "array([[0.4897244 , 0.58750234, 0.53022285],\n",
       "       [0.9655908 , 0.21351384, 0.73551325],\n",
       "       [0.50451192, 0.74804809, 0.82193411]])"
      ]
     },
     "execution_count": 219,
     "metadata": {},
     "output_type": "execute_result"
    }
   ],
   "source": [
    "x = np.random.rand(9).reshape(3, 3)\n",
    "x"
   ]
  },
  {
   "cell_type": "code",
   "execution_count": 220,
   "id": "21dc4032",
   "metadata": {},
   "outputs": [
    {
     "data": {
      "text/plain": [
       "array([[0.4897244 , 0.9655908 , 0.50451192],\n",
       "       [0.58750234, 0.21351384, 0.74804809],\n",
       "       [0.53022285, 0.73551325, 0.82193411]])"
      ]
     },
     "execution_count": 220,
     "metadata": {},
     "output_type": "execute_result"
    }
   ],
   "source": [
    "x.T"
   ]
  },
  {
   "cell_type": "code",
   "execution_count": 221,
   "id": "be7cb645",
   "metadata": {},
   "outputs": [
    {
     "data": {
      "text/plain": [
       "array([[ 3.53834448,  0.81451683, -3.01143242],\n",
       "       [ 3.99039886, -1.27497156, -1.43325624],\n",
       "       [-5.803564  ,  0.66040158,  4.36950859]])"
      ]
     },
     "execution_count": 221,
     "metadata": {},
     "output_type": "execute_result"
    }
   ],
   "source": [
    "inv(x)"
   ]
  },
  {
   "cell_type": "code",
   "execution_count": 222,
   "id": "7f040f9d",
   "metadata": {},
   "outputs": [
    {
     "data": {
      "text/plain": [
       "array([[ 1.00000000e+00, -1.84325699e-17,  2.60493880e-16],\n",
       "       [ 1.27476534e-15,  1.00000000e+00, -5.71874403e-16],\n",
       "       [ 1.09236217e-15, -1.54710493e-16,  1.00000000e+00]])"
      ]
     },
     "execution_count": 222,
     "metadata": {},
     "output_type": "execute_result"
    }
   ],
   "source": [
    "x@inv(x)"
   ]
  },
  {
   "cell_type": "code",
   "execution_count": 223,
   "id": "9e969100",
   "metadata": {},
   "outputs": [],
   "source": [
    "Q, R = qr(x)"
   ]
  },
  {
   "cell_type": "code",
   "execution_count": 224,
   "id": "da501e4e",
   "metadata": {},
   "outputs": [
    {
     "data": {
      "text/plain": [
       "array([[-0.40999746,  0.44599772, -0.7956055 ],\n",
       "       [-0.80839301, -0.58163938,  0.09053387],\n",
       "       [-0.42237759,  0.68028058,  0.5990121 ]])"
      ]
     },
     "execution_count": 224,
     "metadata": {},
     "output_type": "execute_result"
    }
   ],
   "source": [
    "Q"
   ]
  },
  {
   "cell_type": "code",
   "execution_count": 225,
   "id": "aa11529c",
   "metadata": {},
   "outputs": [
    {
     "data": {
      "text/plain": [
       "array([[-1.19445714, -0.72943631, -1.15914034],\n",
       "       [ 0.        ,  0.64671924,  0.36782053],\n",
       "       [ 0.        ,  0.        ,  0.13708912]])"
      ]
     },
     "execution_count": 225,
     "metadata": {},
     "output_type": "execute_result"
    }
   ],
   "source": [
    "R"
   ]
  },
  {
   "cell_type": "code",
   "execution_count": 226,
   "id": "66385e71",
   "metadata": {},
   "outputs": [
    {
     "data": {
      "text/plain": [
       "array([[0.4897244 , 0.58750234, 0.53022285],\n",
       "       [0.9655908 , 0.21351384, 0.73551325],\n",
       "       [0.50451192, 0.74804809, 0.82193411]])"
      ]
     },
     "execution_count": 226,
     "metadata": {},
     "output_type": "execute_result"
    }
   ],
   "source": [
    "Q@R"
   ]
  },
  {
   "cell_type": "code",
   "execution_count": 227,
   "id": "ef46d45c",
   "metadata": {},
   "outputs": [
    {
     "data": {
      "text/plain": [
       "array([[0.4897244 , 0.58750234, 0.53022285],\n",
       "       [0.9655908 , 0.21351384, 0.73551325],\n",
       "       [0.50451192, 0.74804809, 0.82193411]])"
      ]
     },
     "execution_count": 227,
     "metadata": {},
     "output_type": "execute_result"
    }
   ],
   "source": [
    "x"
   ]
  },
  {
   "cell_type": "code",
   "execution_count": 231,
   "id": "0fc361f2",
   "metadata": {},
   "outputs": [
    {
     "data": {
      "text/plain": [
       "array([[ 1.00000000e+00, -1.84325699e-17,  2.60493880e-16],\n",
       "       [ 1.27476534e-15,  1.00000000e+00, -5.71874403e-16],\n",
       "       [ 1.09236217e-15, -1.54710493e-16,  1.00000000e+00]])"
      ]
     },
     "execution_count": 231,
     "metadata": {},
     "output_type": "execute_result"
    }
   ],
   "source": [
    "x.dot(inv(x)) # dot() is also a method for arrays."
   ]
  },
  {
   "cell_type": "code",
   "execution_count": 232,
   "id": "5b7cd012",
   "metadata": {},
   "outputs": [
    {
     "data": {
      "text/plain": [
       "array([[0.4897244 , 0.58750234, 0.53022285],\n",
       "       [0.9655908 , 0.21351384, 0.73551325],\n",
       "       [0.50451192, 0.74804809, 0.82193411]])"
      ]
     },
     "execution_count": 232,
     "metadata": {},
     "output_type": "execute_result"
    }
   ],
   "source": [
    "x"
   ]
  },
  {
   "cell_type": "code",
   "execution_count": 235,
   "id": "a2f623ef",
   "metadata": {},
   "outputs": [
    {
     "data": {
      "text/plain": [
       "array([[ 3.53834448,  0.81451683, -3.01143242],\n",
       "       [ 3.99039886, -1.27497156, -1.43325624],\n",
       "       [-5.803564  ,  0.66040158,  4.36950859]])"
      ]
     },
     "execution_count": 235,
     "metadata": {},
     "output_type": "execute_result"
    }
   ],
   "source": [
    "inv(x)"
   ]
  },
  {
   "cell_type": "code",
   "execution_count": 236,
   "id": "807bc2e8",
   "metadata": {},
   "outputs": [
    {
     "data": {
      "text/plain": [
       "(3, 3)"
      ]
     },
     "execution_count": 236,
     "metadata": {},
     "output_type": "execute_result"
    }
   ],
   "source": [
    "x.shape"
   ]
  },
  {
   "cell_type": "code",
   "execution_count": 239,
   "id": "0760b392",
   "metadata": {},
   "outputs": [
    {
     "data": {
      "text/plain": [
       "(array([ 1.87043643,  0.12133864, -0.46660273]),\n",
       " array([[-0.49499059, -0.54781907,  0.32413608],\n",
       "        [-0.57689004, -0.34452997, -0.86771687],\n",
       "        [-0.6497555 ,  0.76236039,  0.37683317]]))"
      ]
     },
     "execution_count": 239,
     "metadata": {},
     "output_type": "execute_result"
    }
   ],
   "source": [
    "np.linalg.eig(x)"
   ]
  },
  {
   "cell_type": "code",
   "execution_count": 240,
   "id": "b0968005",
   "metadata": {},
   "outputs": [
    {
     "data": {
      "text/plain": [
       "array([[ 3.53834448,  0.81451683, -3.01143242],\n",
       "       [ 3.99039886, -1.27497156, -1.43325624],\n",
       "       [-5.803564  ,  0.66040158,  4.36950859]])"
      ]
     },
     "execution_count": 240,
     "metadata": {},
     "output_type": "execute_result"
    }
   ],
   "source": [
    "np.linalg.pinv(x)"
   ]
  },
  {
   "cell_type": "code",
   "execution_count": 241,
   "id": "caf6f9dc",
   "metadata": {},
   "outputs": [
    {
     "data": {
      "text/plain": [
       "(array([[-0.48244251,  0.30155092, -0.8223845 ],\n",
       "        [-0.61233251, -0.7874529 ,  0.07047566],\n",
       "        [-0.62633706,  0.53757322,  0.56455019]]),\n",
       " array([1.89146144, 0.53494141, 0.10466118]),\n",
       " array([[-0.6045701 , -0.46668031, -0.64552652],\n",
       "        [-0.63832848,  0.76860828,  0.04216706],\n",
       "        [-0.47647849, -0.43755091,  0.76257292]]))"
      ]
     },
     "execution_count": 241,
     "metadata": {},
     "output_type": "execute_result"
    }
   ],
   "source": [
    "np.linalg.svd(x)"
   ]
  },
  {
   "cell_type": "markdown",
   "id": "940343e4",
   "metadata": {},
   "source": [
    "## Pseudorandom number generation"
   ]
  },
  {
   "cell_type": "code",
   "execution_count": 246,
   "id": "39791a63",
   "metadata": {},
   "outputs": [
    {
     "data": {
      "text/plain": [
       "array([[ 0.36476558, -0.43017134, -0.10023479,  4.48072034],\n",
       "       [ 0.63743571, -0.10372365, -1.03004248,  2.73537456],\n",
       "       [-1.84186011,  2.46138095, -0.36688424,  1.55286852],\n",
       "       [ 0.35144383,  4.70325549,  4.38447744,  1.35343644]])"
      ]
     },
     "execution_count": 246,
     "metadata": {},
     "output_type": "execute_result"
    }
   ],
   "source": [
    "np.random.normal(loc=1, scale=2, size=(4,4)) #Notice that there is a difference between random.normal and random.randn. normal\n",
    "#generates a generic array of normal distribution samples. randn generates samples of a specific normal distribution (the standard one)"
   ]
  },
  {
   "cell_type": "markdown",
   "id": "61293a5b",
   "metadata": {},
   "source": [
    "Python has a built-in module called *random* which only generates one normal sample at a time"
   ]
  },
  {
   "cell_type": "code",
   "execution_count": 247,
   "id": "d1ce26fc",
   "metadata": {},
   "outputs": [
    {
     "name": "stdout",
     "output_type": "stream",
     "text": [
      "62.1 ms ± 527 µs per loop (mean ± std. dev. of 7 runs, 10 loops each)\n"
     ]
    }
   ],
   "source": [
    "from random import normalvariate\n",
    "%timeit result = [normalvariate(0, 1) for _ in range(100000)]"
   ]
  },
  {
   "cell_type": "code",
   "execution_count": 248,
   "id": "54d018ee",
   "metadata": {},
   "outputs": [
    {
     "name": "stdout",
     "output_type": "stream",
     "text": [
      "1.68 ms ± 10.9 µs per loop (mean ± std. dev. of 7 runs, 1,000 loops each)\n"
     ]
    }
   ],
   "source": [
    "%timeit result = np.random.randn(100000)"
   ]
  },
  {
   "cell_type": "markdown",
   "id": "31c1927c",
   "metadata": {},
   "source": [
    "As can be seen above, generating random (or better to say pseudorandom) values are much faster in NumPy than using the built-in function normalvariate of the random package."
   ]
  },
  {
   "cell_type": "markdown",
   "id": "4f7dac6e",
   "metadata": {},
   "source": [
    "Now let's look at seed value for PRNG (pseudorandom number generator). If we set the seed value to something, we can reproduce the same value of the generated numbers when we need it to. For example: "
   ]
  },
  {
   "cell_type": "code",
   "execution_count": 252,
   "id": "81df924f",
   "metadata": {},
   "outputs": [
    {
     "data": {
      "text/plain": [
       "array([[-1.0856306 ,  0.99734545,  0.2829785 , -1.50629471],\n",
       "       [-0.57860025,  1.65143654, -2.42667924, -0.42891263],\n",
       "       [ 1.26593626, -0.8667404 , -0.67888615, -0.09470897]])"
      ]
     },
     "execution_count": 252,
     "metadata": {},
     "output_type": "execute_result"
    }
   ],
   "source": [
    "np.random.seed(123)\n",
    "np.random.randn(3, 4)"
   ]
  },
  {
   "cell_type": "code",
   "execution_count": 253,
   "id": "d086bf96",
   "metadata": {},
   "outputs": [
    {
     "data": {
      "text/plain": [
       "array([[ 1.49138963, -0.638902  , -0.44398196, -0.43435128],\n",
       "       [ 2.20593008,  2.18678609,  1.0040539 ,  0.3861864 ],\n",
       "       [ 0.73736858,  1.49073203, -0.93583387,  1.17582904]])"
      ]
     },
     "execution_count": 253,
     "metadata": {},
     "output_type": "execute_result"
    }
   ],
   "source": [
    "np.random.randn(3, 4)"
   ]
  },
  {
   "cell_type": "code",
   "execution_count": 254,
   "id": "1f554bd0",
   "metadata": {},
   "outputs": [
    {
     "data": {
      "text/plain": [
       "array([[-1.0856306 ,  0.99734545,  0.2829785 , -1.50629471],\n",
       "       [-0.57860025,  1.65143654, -2.42667924, -0.42891263],\n",
       "       [ 1.26593626, -0.8667404 , -0.67888615, -0.09470897]])"
      ]
     },
     "execution_count": 254,
     "metadata": {},
     "output_type": "execute_result"
    }
   ],
   "source": [
    "np.random.seed(123) #Setting the same seed value\n",
    "np.random.randn(3, 4)"
   ]
  },
  {
   "cell_type": "code",
   "execution_count": 255,
   "id": "33ee2ecc",
   "metadata": {},
   "outputs": [
    {
     "data": {
      "text/plain": [
       "array([[ 1.49138963, -0.638902  , -0.44398196, -0.43435128],\n",
       "       [ 2.20593008,  2.18678609,  1.0040539 ,  0.3861864 ],\n",
       "       [ 0.73736858,  1.49073203, -0.93583387,  1.17582904]])"
      ]
     },
     "execution_count": 255,
     "metadata": {},
     "output_type": "execute_result"
    }
   ],
   "source": [
    "np.random.randn(3, 4)"
   ]
  },
  {
   "cell_type": "markdown",
   "id": "46fbb75c",
   "metadata": {},
   "source": [
    "As it can be seen, the generated matrices are similar to the ones generated when we first set the seed value."
   ]
  },
  {
   "cell_type": "markdown",
   "id": "086dea25",
   "metadata": {},
   "source": [
    "If you want to generate pseudorandom numbers and do not want to change the seed globally (that is, to not change the seed that all functions in np.random are using), then use np.random.RandomState class to generate an object. This way we are isolating the seed from the global seed value that is set by np.random.seed()."
   ]
  },
  {
   "cell_type": "code",
   "execution_count": 270,
   "id": "053706bb",
   "metadata": {},
   "outputs": [
    {
     "data": {
      "text/plain": [
       "array([[ 1.78862847,  0.43650985],\n",
       "       [ 0.09649747, -1.8634927 ]])"
      ]
     },
     "execution_count": 270,
     "metadata": {},
     "output_type": "execute_result"
    }
   ],
   "source": [
    "np.random.seed(3)\n",
    "np.random.randn(2, 2)"
   ]
  },
  {
   "cell_type": "code",
   "execution_count": 271,
   "id": "e1563cba",
   "metadata": {},
   "outputs": [
    {
     "data": {
      "text/plain": [
       "array([[-0.2773882 , -0.35475898],\n",
       "       [-0.08274148, -0.62700068]])"
      ]
     },
     "execution_count": 271,
     "metadata": {},
     "output_type": "execute_result"
    }
   ],
   "source": [
    "np.random.randn(2, 2)"
   ]
  },
  {
   "cell_type": "code",
   "execution_count": 272,
   "id": "35b1bb49",
   "metadata": {},
   "outputs": [
    {
     "data": {
      "text/plain": [
       "array([[-0.04381817, -0.47721803],\n",
       "       [-1.31386475,  0.88462238]])"
      ]
     },
     "execution_count": 272,
     "metadata": {},
     "output_type": "execute_result"
    }
   ],
   "source": [
    "np.random.randn(2, 2)"
   ]
  },
  {
   "cell_type": "code",
   "execution_count": 273,
   "id": "9f9a77ef",
   "metadata": {},
   "outputs": [
    {
     "data": {
      "text/plain": [
       "RandomState(MT19937) at 0x262F1AD9E40"
      ]
     },
     "execution_count": 273,
     "metadata": {},
     "output_type": "execute_result"
    }
   ],
   "source": [
    "rng = np.random.RandomState(3)\n",
    "rng"
   ]
  },
  {
   "cell_type": "code",
   "execution_count": 274,
   "id": "8437fa83",
   "metadata": {},
   "outputs": [
    {
     "data": {
      "text/plain": [
       "array([[ 1.78862847,  0.43650985],\n",
       "       [ 0.09649747, -1.8634927 ]])"
      ]
     },
     "execution_count": 274,
     "metadata": {},
     "output_type": "execute_result"
    }
   ],
   "source": [
    "rng.randn(2, 2) # This is the same as line 260, but we have not changed the global seed value."
   ]
  },
  {
   "cell_type": "code",
   "execution_count": 278,
   "id": "394d806e",
   "metadata": {},
   "outputs": [
    {
     "data": {
      "text/plain": [
       "array([[-0.04381817, -0.47721803],\n",
       "       [-1.31386475,  0.88462238]])"
      ]
     },
     "execution_count": 278,
     "metadata": {},
     "output_type": "execute_result"
    }
   ],
   "source": [
    "rng.randn(2, 2)"
   ]
  },
  {
   "cell_type": "code",
   "execution_count": 279,
   "id": "34619be7",
   "metadata": {},
   "outputs": [
    {
     "data": {
      "text/plain": [
       "array([-1.24412333, -0.62641691, -0.80376609, -2.41908317, -0.92379202,\n",
       "       -1.02387576,  1.12397796, -0.13191423, -1.62328545,  0.64667545])"
      ]
     },
     "execution_count": 279,
     "metadata": {},
     "output_type": "execute_result"
    }
   ],
   "source": [
    "a = np.random.randn(10)\n",
    "a"
   ]
  },
  {
   "cell_type": "code",
   "execution_count": 283,
   "id": "2b437d74",
   "metadata": {},
   "outputs": [
    {
     "data": {
      "text/plain": [
       "array([-1.24412333, -0.62641691, -0.80376609, -0.41908317, -0.92379202,\n",
       "       -1.02387576,  1.12397796, -0.13191423, -1.62328545,  0.64667545])"
      ]
     },
     "execution_count": 283,
     "metadata": {},
     "output_type": "execute_result"
    }
   ],
   "source": [
    "np.fmod(a, 2) # remember that we also have a function called np.modf :D"
   ]
  }
 ],
 "metadata": {
  "kernelspec": {
   "display_name": "Python 3 (ipykernel)",
   "language": "python",
   "name": "python3"
  },
  "language_info": {
   "codemirror_mode": {
    "name": "ipython",
    "version": 3
   },
   "file_extension": ".py",
   "mimetype": "text/x-python",
   "name": "python",
   "nbconvert_exporter": "python",
   "pygments_lexer": "ipython3",
   "version": "3.9.12"
  }
 },
 "nbformat": 4,
 "nbformat_minor": 5
}
