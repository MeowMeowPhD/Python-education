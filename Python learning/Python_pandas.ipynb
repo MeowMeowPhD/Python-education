{
 "cells": [
  {
   "cell_type": "markdown",
   "id": "a602ff93",
   "metadata": {},
   "source": [
    "# Pandas tutorial"
   ]
  },
  {
   "cell_type": "code",
   "execution_count": 3,
   "id": "d513a644",
   "metadata": {},
   "outputs": [],
   "source": [
    "import numpy as np\n",
    "import pandas as pd"
   ]
  },
  {
   "cell_type": "markdown",
   "id": "218e9f2b",
   "metadata": {},
   "source": [
    "## Series object"
   ]
  },
  {
   "cell_type": "code",
   "execution_count": 4,
   "id": "6c528b89",
   "metadata": {},
   "outputs": [
    {
     "data": {
      "text/plain": [
       "0    10\n",
       "1    20\n",
       "2    30\n",
       "3    40\n",
       "dtype: int32"
      ]
     },
     "execution_count": 4,
     "metadata": {},
     "output_type": "execute_result"
    }
   ],
   "source": [
    "series_1 = pd.Series(np.array([10, 20, 30, 40]))\n",
    "series_1"
   ]
  },
  {
   "cell_type": "code",
   "execution_count": 5,
   "id": "647c4cb2",
   "metadata": {},
   "outputs": [
    {
     "data": {
      "text/plain": [
       "A    0\n",
       "B    1\n",
       "C    2\n",
       "D    3\n",
       "dtype: int32"
      ]
     },
     "execution_count": 5,
     "metadata": {},
     "output_type": "execute_result"
    }
   ],
   "source": [
    "series_2 = pd.Series(data=np.arange(4), index=['A', 'B', 'C', 'D'])\n",
    "series_2"
   ]
  },
  {
   "cell_type": "code",
   "execution_count": 6,
   "id": "e0aeaaa7",
   "metadata": {},
   "outputs": [
    {
     "data": {
      "text/plain": [
       "array([0, 1, 2, 3])"
      ]
     },
     "execution_count": 6,
     "metadata": {},
     "output_type": "execute_result"
    }
   ],
   "source": [
    "series_2.values # Getting values of the series"
   ]
  },
  {
   "cell_type": "code",
   "execution_count": 7,
   "id": "270190c2",
   "metadata": {},
   "outputs": [
    {
     "data": {
      "text/plain": [
       "Index(['A', 'B', 'C', 'D'], dtype='object')"
      ]
     },
     "execution_count": 7,
     "metadata": {},
     "output_type": "execute_result"
    }
   ],
   "source": [
    "series_2.index # Getting indices of the series"
   ]
  },
  {
   "cell_type": "code",
   "execution_count": 8,
   "id": "ba14af5b",
   "metadata": {},
   "outputs": [
    {
     "data": {
      "text/plain": [
       "0"
      ]
     },
     "execution_count": 8,
     "metadata": {},
     "output_type": "execute_result"
    }
   ],
   "source": [
    "series_2['A'] # Getting the value corresponding to label(index) 'A'"
   ]
  },
  {
   "cell_type": "code",
   "execution_count": 9,
   "id": "e8a35994",
   "metadata": {},
   "outputs": [
    {
     "data": {
      "text/plain": [
       "A    0\n",
       "C    2\n",
       "dtype: int32"
      ]
     },
     "execution_count": 9,
     "metadata": {},
     "output_type": "execute_result"
    }
   ],
   "source": [
    "series_2[['A', 'C']] # Getting the values corresponding to several labels: 'A', 'B'"
   ]
  },
  {
   "cell_type": "code",
   "execution_count": 10,
   "id": "7905cf4e",
   "metadata": {},
   "outputs": [
    {
     "data": {
      "text/plain": [
       "D    3\n",
       "dtype: int32"
      ]
     },
     "execution_count": 10,
     "metadata": {},
     "output_type": "execute_result"
    }
   ],
   "source": [
    "series_2[series_2 > 2] # We can do boolean conditioning "
   ]
  },
  {
   "cell_type": "code",
   "execution_count": 11,
   "id": "891c5f7a",
   "metadata": {},
   "outputs": [
    {
     "data": {
      "text/plain": [
       "A     1.000000\n",
       "B     2.718282\n",
       "C     7.389056\n",
       "D    20.085537\n",
       "dtype: float64"
      ]
     },
     "execution_count": 11,
     "metadata": {},
     "output_type": "execute_result"
    }
   ],
   "source": [
    "np.exp(series_2) # We can pass a Series object to NumPy functions"
   ]
  },
  {
   "cell_type": "code",
   "execution_count": 12,
   "id": "8115cf4d",
   "metadata": {},
   "outputs": [
    {
     "data": {
      "text/plain": [
       "A     0\n",
       "B     4\n",
       "C     8\n",
       "D    12\n",
       "dtype: int32"
      ]
     },
     "execution_count": 12,
     "metadata": {},
     "output_type": "execute_result"
    }
   ],
   "source": [
    "series_2 * 4 # We can do arithmetic with Series object"
   ]
  },
  {
   "cell_type": "markdown",
   "id": "d472cb6e",
   "metadata": {},
   "source": [
    "We can think of Series object as a dictionary since it maps an index to a value."
   ]
  },
  {
   "cell_type": "code",
   "execution_count": 13,
   "id": "c4d41964",
   "metadata": {},
   "outputs": [
    {
     "data": {
      "text/plain": [
       "True"
      ]
     },
     "execution_count": 13,
     "metadata": {},
     "output_type": "execute_result"
    }
   ],
   "source": [
    "'B' in series_2"
   ]
  },
  {
   "cell_type": "code",
   "execution_count": 14,
   "id": "59c3bca2",
   "metadata": {},
   "outputs": [
    {
     "data": {
      "text/plain": [
       "False"
      ]
     },
     "execution_count": 14,
     "metadata": {},
     "output_type": "execute_result"
    }
   ],
   "source": [
    "'F' in series_2"
   ]
  },
  {
   "cell_type": "markdown",
   "id": "84fe4fc7",
   "metadata": {},
   "source": [
    "We can pass a dictionary to pd.Series()."
   ]
  },
  {
   "cell_type": "code",
   "execution_count": 15,
   "id": "8b15afa8",
   "metadata": {},
   "outputs": [
    {
     "data": {
      "text/plain": [
       "wellness        Yarishna\n",
       "figure           Rebecca\n",
       "bodybuilding        Iman\n",
       "212                Shaun\n",
       "dtype: object"
      ]
     },
     "execution_count": 15,
     "metadata": {},
     "output_type": "execute_result"
    }
   ],
   "source": [
    "dict_1 = {'wellness': 'Yarishna',\n",
    "          'figure': 'Rebecca',\n",
    "          'bodybuilding': 'Iman',\n",
    "         '212': 'Shaun'}\n",
    "series_2 = pd.Series(dict_1)\n",
    "series_2"
   ]
  },
  {
   "cell_type": "markdown",
   "id": "f22ba65c",
   "metadata": {},
   "source": [
    "We can override the index by changing the index explicitly. If the index already exists as a dictionary key, then we will have a value associated with it, otherwise we receive NaN."
   ]
  },
  {
   "cell_type": "code",
   "execution_count": 16,
   "id": "6df8b576",
   "metadata": {},
   "outputs": [
    {
     "data": {
      "text/plain": [
       "FBB             NaN\n",
       "Natural FBB     NaN\n",
       "best natural    NaN\n",
       "Giant killer    NaN\n",
       "dtype: object"
      ]
     },
     "execution_count": 16,
     "metadata": {},
     "output_type": "execute_result"
    }
   ],
   "source": [
    "pd.Series(dict_1, index=['FBB', 'Natural FBB', 'best natural', 'Giant killer'])"
   ]
  },
  {
   "cell_type": "code",
   "execution_count": 17,
   "id": "9343a8bd",
   "metadata": {},
   "outputs": [
    {
     "data": {
      "text/plain": [
       "figure           Rebecca\n",
       "212                Shaun\n",
       "best natural         NaN\n",
       "wellness        Yarishna\n",
       "dtype: object"
      ]
     },
     "execution_count": 17,
     "metadata": {},
     "output_type": "execute_result"
    }
   ],
   "source": [
    "series_3 = pd.Series(dict_1, index=['figure', '212', 'best natural', 'wellness'])\n",
    "series_3"
   ]
  },
  {
   "cell_type": "markdown",
   "id": "36024366",
   "metadata": {},
   "source": [
    "Finding missing values: *isnull*, *notnull* both as pandas functions and Series methods. "
   ]
  },
  {
   "cell_type": "code",
   "execution_count": 18,
   "id": "3af642ae",
   "metadata": {},
   "outputs": [
    {
     "data": {
      "text/plain": [
       "figure          False\n",
       "212             False\n",
       "best natural     True\n",
       "wellness        False\n",
       "dtype: bool"
      ]
     },
     "execution_count": 18,
     "metadata": {},
     "output_type": "execute_result"
    }
   ],
   "source": [
    "pd.isnull(series_3)"
   ]
  },
  {
   "cell_type": "code",
   "execution_count": 19,
   "id": "feb7a259",
   "metadata": {},
   "outputs": [
    {
     "data": {
      "text/plain": [
       "figure           True\n",
       "212              True\n",
       "best natural    False\n",
       "wellness         True\n",
       "dtype: bool"
      ]
     },
     "execution_count": 19,
     "metadata": {},
     "output_type": "execute_result"
    }
   ],
   "source": [
    "pd.notnull(series_3)"
   ]
  },
  {
   "cell_type": "code",
   "execution_count": 20,
   "id": "2b3f62ff",
   "metadata": {},
   "outputs": [
    {
     "data": {
      "text/plain": [
       "figure          False\n",
       "212             False\n",
       "best natural     True\n",
       "wellness        False\n",
       "dtype: bool"
      ]
     },
     "execution_count": 20,
     "metadata": {},
     "output_type": "execute_result"
    }
   ],
   "source": [
    "series_3.isnull()"
   ]
  },
  {
   "cell_type": "code",
   "execution_count": 21,
   "id": "5e58a4f0",
   "metadata": {},
   "outputs": [
    {
     "data": {
      "text/plain": [
       "figure           True\n",
       "212              True\n",
       "best natural    False\n",
       "wellness         True\n",
       "dtype: bool"
      ]
     },
     "execution_count": 21,
     "metadata": {},
     "output_type": "execute_result"
    }
   ],
   "source": [
    "series_3.notnull()"
   ]
  },
  {
   "cell_type": "markdown",
   "id": "e3935144",
   "metadata": {},
   "source": [
    "When we perform arithmetic operations on Series objects, the objects are aligned by index."
   ]
  },
  {
   "cell_type": "code",
   "execution_count": 22,
   "id": "c447e06b",
   "metadata": {},
   "outputs": [
    {
     "name": "stdout",
     "output_type": "stream",
     "text": [
      "C    3\n",
      "D    2\n",
      "E    1\n",
      "F    2\n",
      "G    4\n",
      "dtype: int32\n",
      "A    3\n",
      "B    4\n",
      "C    1\n",
      "D    4\n",
      "G    1\n",
      "dtype: int32\n"
     ]
    }
   ],
   "source": [
    "series_4 = pd.Series(data=np.random.randint(1, 5, 5), index=['C', 'D', 'E', 'F', 'G'])\n",
    "series_5 = pd.Series(data=np.random.randint(1, 5, 5), index=['A', 'B', 'C', 'D', 'G'])\n",
    "print(series_4)\n",
    "print(series_5)"
   ]
  },
  {
   "cell_type": "code",
   "execution_count": 23,
   "id": "12215b56",
   "metadata": {},
   "outputs": [
    {
     "data": {
      "text/plain": [
       "A    NaN\n",
       "B    NaN\n",
       "C    4.0\n",
       "D    6.0\n",
       "E    NaN\n",
       "F    NaN\n",
       "G    5.0\n",
       "dtype: float64"
      ]
     },
     "execution_count": 23,
     "metadata": {},
     "output_type": "execute_result"
    }
   ],
   "source": [
    "series_4 + series_5"
   ]
  },
  {
   "cell_type": "markdown",
   "id": "6c28ec98",
   "metadata": {},
   "source": [
    "We can change a Series index inplace:"
   ]
  },
  {
   "cell_type": "code",
   "execution_count": 24,
   "id": "865cef6a",
   "metadata": {},
   "outputs": [
    {
     "data": {
      "text/plain": [
       "0    3\n",
       "1    2\n",
       "2    1\n",
       "3    2\n",
       "4    4\n",
       "dtype: int32"
      ]
     },
     "execution_count": 24,
     "metadata": {},
     "output_type": "execute_result"
    }
   ],
   "source": [
    "series_4.index = range(5)\n",
    "series_4"
   ]
  },
  {
   "cell_type": "markdown",
   "id": "47cde443",
   "metadata": {},
   "source": [
    "Both Series object and its index have name attributes:"
   ]
  },
  {
   "cell_type": "code",
   "execution_count": 25,
   "id": "c8a049f9",
   "metadata": {},
   "outputs": [
    {
     "name": "stdout",
     "output_type": "stream",
     "text": [
      "myInd\n",
      "0    3\n",
      "1    2\n",
      "2    1\n",
      "3    2\n",
      "4    4\n",
      "Name: Example Series, dtype: int32\n"
     ]
    }
   ],
   "source": [
    "series_4.name = 'Example Series'\n",
    "series_4.index.name = 'myInd'\n",
    "print(series_4)"
   ]
  },
  {
   "cell_type": "markdown",
   "id": "287ada6e",
   "metadata": {},
   "source": [
    "## DataFrame"
   ]
  },
  {
   "cell_type": "code",
   "execution_count": 26,
   "id": "d4065ec0",
   "metadata": {},
   "outputs": [
    {
     "data": {
      "text/html": [
       "<div>\n",
       "<style scoped>\n",
       "    .dataframe tbody tr th:only-of-type {\n",
       "        vertical-align: middle;\n",
       "    }\n",
       "\n",
       "    .dataframe tbody tr th {\n",
       "        vertical-align: top;\n",
       "    }\n",
       "\n",
       "    .dataframe thead th {\n",
       "        text-align: right;\n",
       "    }\n",
       "</style>\n",
       "<table border=\"1\" class=\"dataframe\">\n",
       "  <thead>\n",
       "    <tr style=\"text-align: right;\">\n",
       "      <th></th>\n",
       "      <th>Books</th>\n",
       "      <th>Pens</th>\n",
       "      <th>Shoes</th>\n",
       "    </tr>\n",
       "  </thead>\n",
       "  <tbody>\n",
       "    <tr>\n",
       "      <th>0</th>\n",
       "      <td>0.106177</td>\n",
       "      <td>0.670650</td>\n",
       "      <td>0.696617</td>\n",
       "    </tr>\n",
       "    <tr>\n",
       "      <th>1</th>\n",
       "      <td>0.038392</td>\n",
       "      <td>-0.065415</td>\n",
       "      <td>-0.136931</td>\n",
       "    </tr>\n",
       "    <tr>\n",
       "      <th>2</th>\n",
       "      <td>0.839177</td>\n",
       "      <td>-0.184619</td>\n",
       "      <td>0.299250</td>\n",
       "    </tr>\n",
       "    <tr>\n",
       "      <th>3</th>\n",
       "      <td>0.150768</td>\n",
       "      <td>1.172743</td>\n",
       "      <td>1.096405</td>\n",
       "    </tr>\n",
       "    <tr>\n",
       "      <th>4</th>\n",
       "      <td>-1.019381</td>\n",
       "      <td>-1.595853</td>\n",
       "      <td>1.786830</td>\n",
       "    </tr>\n",
       "    <tr>\n",
       "      <th>5</th>\n",
       "      <td>-2.171378</td>\n",
       "      <td>-0.189140</td>\n",
       "      <td>-0.672368</td>\n",
       "    </tr>\n",
       "  </tbody>\n",
       "</table>\n",
       "</div>"
      ],
      "text/plain": [
       "      Books      Pens     Shoes\n",
       "0  0.106177  0.670650  0.696617\n",
       "1  0.038392 -0.065415 -0.136931\n",
       "2  0.839177 -0.184619  0.299250\n",
       "3  0.150768  1.172743  1.096405\n",
       "4 -1.019381 -1.595853  1.786830\n",
       "5 -2.171378 -0.189140 -0.672368"
      ]
     },
     "execution_count": 26,
     "metadata": {},
     "output_type": "execute_result"
    }
   ],
   "source": [
    "dataframe_1 = pd.DataFrame(data = np.random.randn(6, 3), columns=['Books', 'Pens', 'Shoes'])\n",
    "dataframe_1"
   ]
  },
  {
   "cell_type": "code",
   "execution_count": 27,
   "id": "e20ba9f3",
   "metadata": {},
   "outputs": [
    {
     "data": {
      "text/html": [
       "<div>\n",
       "<style scoped>\n",
       "    .dataframe tbody tr th:only-of-type {\n",
       "        vertical-align: middle;\n",
       "    }\n",
       "\n",
       "    .dataframe tbody tr th {\n",
       "        vertical-align: top;\n",
       "    }\n",
       "\n",
       "    .dataframe thead th {\n",
       "        text-align: right;\n",
       "    }\n",
       "</style>\n",
       "<table border=\"1\" class=\"dataframe\">\n",
       "  <thead>\n",
       "    <tr style=\"text-align: right;\">\n",
       "      <th></th>\n",
       "      <th>Books</th>\n",
       "      <th>Pens</th>\n",
       "      <th>Shoes</th>\n",
       "    </tr>\n",
       "  </thead>\n",
       "  <tbody>\n",
       "    <tr>\n",
       "      <th>A</th>\n",
       "      <td>0.106177</td>\n",
       "      <td>0.670650</td>\n",
       "      <td>0.696617</td>\n",
       "    </tr>\n",
       "    <tr>\n",
       "      <th>B</th>\n",
       "      <td>0.038392</td>\n",
       "      <td>-0.065415</td>\n",
       "      <td>-0.136931</td>\n",
       "    </tr>\n",
       "    <tr>\n",
       "      <th>C</th>\n",
       "      <td>0.839177</td>\n",
       "      <td>-0.184619</td>\n",
       "      <td>0.299250</td>\n",
       "    </tr>\n",
       "    <tr>\n",
       "      <th>D</th>\n",
       "      <td>0.150768</td>\n",
       "      <td>1.172743</td>\n",
       "      <td>1.096405</td>\n",
       "    </tr>\n",
       "    <tr>\n",
       "      <th>E</th>\n",
       "      <td>-1.019381</td>\n",
       "      <td>-1.595853</td>\n",
       "      <td>1.786830</td>\n",
       "    </tr>\n",
       "    <tr>\n",
       "      <th>F</th>\n",
       "      <td>-2.171378</td>\n",
       "      <td>-0.189140</td>\n",
       "      <td>-0.672368</td>\n",
       "    </tr>\n",
       "  </tbody>\n",
       "</table>\n",
       "</div>"
      ],
      "text/plain": [
       "      Books      Pens     Shoes\n",
       "A  0.106177  0.670650  0.696617\n",
       "B  0.038392 -0.065415 -0.136931\n",
       "C  0.839177 -0.184619  0.299250\n",
       "D  0.150768  1.172743  1.096405\n",
       "E -1.019381 -1.595853  1.786830\n",
       "F -2.171378 -0.189140 -0.672368"
      ]
     },
     "execution_count": 27,
     "metadata": {},
     "output_type": "execute_result"
    }
   ],
   "source": [
    "dataframe_1.index = ['A', 'B', 'C', 'D', 'E', 'F'] # This is how we change the index in place\n",
    "dataframe_1"
   ]
  },
  {
   "cell_type": "code",
   "execution_count": 28,
   "id": "14b33b34",
   "metadata": {},
   "outputs": [
    {
     "data": {
      "text/html": [
       "<div>\n",
       "<style scoped>\n",
       "    .dataframe tbody tr th:only-of-type {\n",
       "        vertical-align: middle;\n",
       "    }\n",
       "\n",
       "    .dataframe tbody tr th {\n",
       "        vertical-align: top;\n",
       "    }\n",
       "\n",
       "    .dataframe thead th {\n",
       "        text-align: right;\n",
       "    }\n",
       "</style>\n",
       "<table border=\"1\" class=\"dataframe\">\n",
       "  <thead>\n",
       "    <tr style=\"text-align: right;\">\n",
       "      <th></th>\n",
       "      <th>Books</th>\n",
       "      <th>Pens</th>\n",
       "      <th>Shoes</th>\n",
       "    </tr>\n",
       "  </thead>\n",
       "  <tbody>\n",
       "    <tr>\n",
       "      <th>A</th>\n",
       "      <td>-0.418848</td>\n",
       "      <td>0.794568</td>\n",
       "      <td>-1.647985</td>\n",
       "    </tr>\n",
       "    <tr>\n",
       "      <th>B</th>\n",
       "      <td>-0.044543</td>\n",
       "      <td>0.127121</td>\n",
       "      <td>-0.060478</td>\n",
       "    </tr>\n",
       "    <tr>\n",
       "      <th>C</th>\n",
       "      <td>-2.498023</td>\n",
       "      <td>0.707344</td>\n",
       "      <td>-0.654386</td>\n",
       "    </tr>\n",
       "    <tr>\n",
       "      <th>D</th>\n",
       "      <td>-1.364706</td>\n",
       "      <td>0.694902</td>\n",
       "      <td>-1.836611</td>\n",
       "    </tr>\n",
       "    <tr>\n",
       "      <th>E</th>\n",
       "      <td>0.551308</td>\n",
       "      <td>-0.559189</td>\n",
       "      <td>0.042506</td>\n",
       "    </tr>\n",
       "    <tr>\n",
       "      <th>F</th>\n",
       "      <td>-0.567165</td>\n",
       "      <td>1.268265</td>\n",
       "      <td>0.357781</td>\n",
       "    </tr>\n",
       "  </tbody>\n",
       "</table>\n",
       "</div>"
      ],
      "text/plain": [
       "      Books      Pens     Shoes\n",
       "A -0.418848  0.794568 -1.647985\n",
       "B -0.044543  0.127121 -0.060478\n",
       "C -2.498023  0.707344 -0.654386\n",
       "D -1.364706  0.694902 -1.836611\n",
       "E  0.551308 -0.559189  0.042506\n",
       "F -0.567165  1.268265  0.357781"
      ]
     },
     "execution_count": 28,
     "metadata": {},
     "output_type": "execute_result"
    }
   ],
   "source": [
    "pd.DataFrame(data = np.random.randn(6, 3), columns=['Books', 'Pens', 'Shoes'], index=['A', 'B', 'C','D','E','F'])"
   ]
  },
  {
   "cell_type": "markdown",
   "id": "a15ae3bf",
   "metadata": {},
   "source": [
    "We can also pass a dictionary to pd.DataFrame to create an object."
   ]
  },
  {
   "cell_type": "code",
   "execution_count": 29,
   "id": "e61d7041",
   "metadata": {},
   "outputs": [
    {
     "name": "stdout",
     "output_type": "stream",
     "text": [
      "Created DataFrame using dictionary:\n",
      "   A  B         C\n",
      "0  0  3 -1.193923\n",
      "1  1  4  0.288813\n",
      "2  2  3 -2.445151\n",
      "3  3  5 -0.608942\n",
      "4  4  6 -1.694468\n",
      "5  5  6  0.123274\n",
      "6  6  3  0.691400\n",
      "7  7  5  1.226608\n",
      "8  8  1  0.111452\n",
      "9  9  4  1.825219\n",
      "\n",
      "Created DataFrame by specifying the index:\n",
      "   A  B         C\n",
      "E  0  3 -1.193923\n",
      "F  1  4  0.288813\n",
      "G  2  3 -2.445151\n",
      "H  3  5 -0.608942\n",
      "I  4  6 -1.694468\n",
      "G  5  6  0.123274\n",
      "K  6  3  0.691400\n",
      "L  7  5  1.226608\n",
      "M  8  1  0.111452\n",
      "N  9  4  1.825219\n"
     ]
    }
   ],
   "source": [
    "dict_2 = {'A': np.arange(10), 'B': np.random.randint(1, 7, 10), 'C': np.random.randn(10)} \n",
    "print(f\"Created DataFrame using dictionary:\\n{pd.DataFrame(dict_2)}\") # Automatically assigns the index\n",
    "print(f\"\\nCreated DataFrame by specifying the index:\\n{pd.DataFrame(dict_2, index=list('EFGHIGKLMN'))}\") # We can pass the index like this.\n"
   ]
  },
  {
   "cell_type": "code",
   "execution_count": 30,
   "id": "e99696d4",
   "metadata": {},
   "outputs": [
    {
     "data": {
      "text/html": [
       "<div>\n",
       "<style scoped>\n",
       "    .dataframe tbody tr th:only-of-type {\n",
       "        vertical-align: middle;\n",
       "    }\n",
       "\n",
       "    .dataframe tbody tr th {\n",
       "        vertical-align: top;\n",
       "    }\n",
       "\n",
       "    .dataframe thead th {\n",
       "        text-align: right;\n",
       "    }\n",
       "</style>\n",
       "<table border=\"1\" class=\"dataframe\">\n",
       "  <thead>\n",
       "    <tr style=\"text-align: right;\">\n",
       "      <th></th>\n",
       "      <th>A</th>\n",
       "      <th>B</th>\n",
       "      <th>C</th>\n",
       "    </tr>\n",
       "  </thead>\n",
       "  <tbody>\n",
       "    <tr>\n",
       "      <th>0</th>\n",
       "      <td>0</td>\n",
       "      <td>3</td>\n",
       "      <td>-1.193923</td>\n",
       "    </tr>\n",
       "    <tr>\n",
       "      <th>1</th>\n",
       "      <td>1</td>\n",
       "      <td>4</td>\n",
       "      <td>0.288813</td>\n",
       "    </tr>\n",
       "    <tr>\n",
       "      <th>2</th>\n",
       "      <td>2</td>\n",
       "      <td>3</td>\n",
       "      <td>-2.445151</td>\n",
       "    </tr>\n",
       "    <tr>\n",
       "      <th>3</th>\n",
       "      <td>3</td>\n",
       "      <td>5</td>\n",
       "      <td>-0.608942</td>\n",
       "    </tr>\n",
       "    <tr>\n",
       "      <th>4</th>\n",
       "      <td>4</td>\n",
       "      <td>6</td>\n",
       "      <td>-1.694468</td>\n",
       "    </tr>\n",
       "  </tbody>\n",
       "</table>\n",
       "</div>"
      ],
      "text/plain": [
       "   A  B         C\n",
       "0  0  3 -1.193923\n",
       "1  1  4  0.288813\n",
       "2  2  3 -2.445151\n",
       "3  3  5 -0.608942\n",
       "4  4  6 -1.694468"
      ]
     },
     "execution_count": 30,
     "metadata": {},
     "output_type": "execute_result"
    }
   ],
   "source": [
    "pd.DataFrame(dict_2).head() # head() method shows the first 5 rows of a DataFrame."
   ]
  },
  {
   "cell_type": "code",
   "execution_count": 31,
   "id": "9bce3388",
   "metadata": {},
   "outputs": [
    {
     "data": {
      "text/html": [
       "<div>\n",
       "<style scoped>\n",
       "    .dataframe tbody tr th:only-of-type {\n",
       "        vertical-align: middle;\n",
       "    }\n",
       "\n",
       "    .dataframe tbody tr th {\n",
       "        vertical-align: top;\n",
       "    }\n",
       "\n",
       "    .dataframe thead th {\n",
       "        text-align: right;\n",
       "    }\n",
       "</style>\n",
       "<table border=\"1\" class=\"dataframe\">\n",
       "  <thead>\n",
       "    <tr style=\"text-align: right;\">\n",
       "      <th></th>\n",
       "      <th>B</th>\n",
       "      <th>C</th>\n",
       "      <th>A</th>\n",
       "    </tr>\n",
       "  </thead>\n",
       "  <tbody>\n",
       "    <tr>\n",
       "      <th>0</th>\n",
       "      <td>3</td>\n",
       "      <td>-1.193923</td>\n",
       "      <td>0</td>\n",
       "    </tr>\n",
       "    <tr>\n",
       "      <th>1</th>\n",
       "      <td>4</td>\n",
       "      <td>0.288813</td>\n",
       "      <td>1</td>\n",
       "    </tr>\n",
       "    <tr>\n",
       "      <th>2</th>\n",
       "      <td>3</td>\n",
       "      <td>-2.445151</td>\n",
       "      <td>2</td>\n",
       "    </tr>\n",
       "    <tr>\n",
       "      <th>3</th>\n",
       "      <td>5</td>\n",
       "      <td>-0.608942</td>\n",
       "      <td>3</td>\n",
       "    </tr>\n",
       "    <tr>\n",
       "      <th>4</th>\n",
       "      <td>6</td>\n",
       "      <td>-1.694468</td>\n",
       "      <td>4</td>\n",
       "    </tr>\n",
       "    <tr>\n",
       "      <th>5</th>\n",
       "      <td>6</td>\n",
       "      <td>0.123274</td>\n",
       "      <td>5</td>\n",
       "    </tr>\n",
       "    <tr>\n",
       "      <th>6</th>\n",
       "      <td>3</td>\n",
       "      <td>0.691400</td>\n",
       "      <td>6</td>\n",
       "    </tr>\n",
       "    <tr>\n",
       "      <th>7</th>\n",
       "      <td>5</td>\n",
       "      <td>1.226608</td>\n",
       "      <td>7</td>\n",
       "    </tr>\n",
       "    <tr>\n",
       "      <th>8</th>\n",
       "      <td>1</td>\n",
       "      <td>0.111452</td>\n",
       "      <td>8</td>\n",
       "    </tr>\n",
       "    <tr>\n",
       "      <th>9</th>\n",
       "      <td>4</td>\n",
       "      <td>1.825219</td>\n",
       "      <td>9</td>\n",
       "    </tr>\n",
       "  </tbody>\n",
       "</table>\n",
       "</div>"
      ],
      "text/plain": [
       "   B         C  A\n",
       "0  3 -1.193923  0\n",
       "1  4  0.288813  1\n",
       "2  3 -2.445151  2\n",
       "3  5 -0.608942  3\n",
       "4  6 -1.694468  4\n",
       "5  6  0.123274  5\n",
       "6  3  0.691400  6\n",
       "7  5  1.226608  7\n",
       "8  1  0.111452  8\n",
       "9  4  1.825219  9"
      ]
     },
     "execution_count": 31,
     "metadata": {},
     "output_type": "execute_result"
    }
   ],
   "source": [
    "pd.DataFrame(dict_2, columns=['B', 'C', 'A']) # Rearranging the columns"
   ]
  },
  {
   "cell_type": "code",
   "execution_count": 32,
   "id": "84aa366a",
   "metadata": {},
   "outputs": [
    {
     "data": {
      "text/html": [
       "<div>\n",
       "<style scoped>\n",
       "    .dataframe tbody tr th:only-of-type {\n",
       "        vertical-align: middle;\n",
       "    }\n",
       "\n",
       "    .dataframe tbody tr th {\n",
       "        vertical-align: top;\n",
       "    }\n",
       "\n",
       "    .dataframe thead th {\n",
       "        text-align: right;\n",
       "    }\n",
       "</style>\n",
       "<table border=\"1\" class=\"dataframe\">\n",
       "  <thead>\n",
       "    <tr style=\"text-align: right;\">\n",
       "      <th></th>\n",
       "      <th>A</th>\n",
       "      <th>B</th>\n",
       "      <th>C</th>\n",
       "      <th>D</th>\n",
       "    </tr>\n",
       "  </thead>\n",
       "  <tbody>\n",
       "    <tr>\n",
       "      <th>0</th>\n",
       "      <td>0</td>\n",
       "      <td>3</td>\n",
       "      <td>-1.193923</td>\n",
       "      <td>NaN</td>\n",
       "    </tr>\n",
       "    <tr>\n",
       "      <th>1</th>\n",
       "      <td>1</td>\n",
       "      <td>4</td>\n",
       "      <td>0.288813</td>\n",
       "      <td>NaN</td>\n",
       "    </tr>\n",
       "    <tr>\n",
       "      <th>2</th>\n",
       "      <td>2</td>\n",
       "      <td>3</td>\n",
       "      <td>-2.445151</td>\n",
       "      <td>NaN</td>\n",
       "    </tr>\n",
       "    <tr>\n",
       "      <th>3</th>\n",
       "      <td>3</td>\n",
       "      <td>5</td>\n",
       "      <td>-0.608942</td>\n",
       "      <td>NaN</td>\n",
       "    </tr>\n",
       "    <tr>\n",
       "      <th>4</th>\n",
       "      <td>4</td>\n",
       "      <td>6</td>\n",
       "      <td>-1.694468</td>\n",
       "      <td>NaN</td>\n",
       "    </tr>\n",
       "    <tr>\n",
       "      <th>5</th>\n",
       "      <td>5</td>\n",
       "      <td>6</td>\n",
       "      <td>0.123274</td>\n",
       "      <td>NaN</td>\n",
       "    </tr>\n",
       "    <tr>\n",
       "      <th>6</th>\n",
       "      <td>6</td>\n",
       "      <td>3</td>\n",
       "      <td>0.691400</td>\n",
       "      <td>NaN</td>\n",
       "    </tr>\n",
       "    <tr>\n",
       "      <th>7</th>\n",
       "      <td>7</td>\n",
       "      <td>5</td>\n",
       "      <td>1.226608</td>\n",
       "      <td>NaN</td>\n",
       "    </tr>\n",
       "    <tr>\n",
       "      <th>8</th>\n",
       "      <td>8</td>\n",
       "      <td>1</td>\n",
       "      <td>0.111452</td>\n",
       "      <td>NaN</td>\n",
       "    </tr>\n",
       "    <tr>\n",
       "      <th>9</th>\n",
       "      <td>9</td>\n",
       "      <td>4</td>\n",
       "      <td>1.825219</td>\n",
       "      <td>NaN</td>\n",
       "    </tr>\n",
       "  </tbody>\n",
       "</table>\n",
       "</div>"
      ],
      "text/plain": [
       "   A  B         C    D\n",
       "0  0  3 -1.193923  NaN\n",
       "1  1  4  0.288813  NaN\n",
       "2  2  3 -2.445151  NaN\n",
       "3  3  5 -0.608942  NaN\n",
       "4  4  6 -1.694468  NaN\n",
       "5  5  6  0.123274  NaN\n",
       "6  6  3  0.691400  NaN\n",
       "7  7  5  1.226608  NaN\n",
       "8  8  1  0.111452  NaN\n",
       "9  9  4  1.825219  NaN"
      ]
     },
     "execution_count": 32,
     "metadata": {},
     "output_type": "execute_result"
    }
   ],
   "source": [
    "pd.DataFrame(dict_2, columns=['A', 'B', 'C', 'D']) # Here, we don't have a key 'D' in dict_2. \n",
    "#Including 'D' in the columns will add that column and assigns NaN values to it."
   ]
  },
  {
   "cell_type": "markdown",
   "id": "25b9dafc",
   "metadata": {},
   "source": [
    "Retrieving a column:\n",
    "\n",
    "Either use dictionary notation or attribute: df['columnName'] or df.columnName"
   ]
  },
  {
   "cell_type": "code",
   "execution_count": 33,
   "id": "7ba14c3e",
   "metadata": {},
   "outputs": [
    {
     "data": {
      "text/plain": [
       "A    0.670650\n",
       "B   -0.065415\n",
       "C   -0.184619\n",
       "D    1.172743\n",
       "E   -1.595853\n",
       "F   -0.189140\n",
       "Name: Pens, dtype: float64"
      ]
     },
     "execution_count": 33,
     "metadata": {},
     "output_type": "execute_result"
    }
   ],
   "source": [
    "dataframe_1['Pens']"
   ]
  },
  {
   "cell_type": "code",
   "execution_count": 34,
   "id": "4ac85201",
   "metadata": {},
   "outputs": [
    {
     "data": {
      "text/plain": [
       "A    0.670650\n",
       "B   -0.065415\n",
       "C   -0.184619\n",
       "D    1.172743\n",
       "E   -1.595853\n",
       "F   -0.189140\n",
       "Name: Pens, dtype: float64"
      ]
     },
     "execution_count": 34,
     "metadata": {},
     "output_type": "execute_result"
    }
   ],
   "source": [
    "dataframe_1.Pens"
   ]
  },
  {
   "cell_type": "markdown",
   "id": "6d07b1ac",
   "metadata": {},
   "source": [
    "Note that dictionary notation for getting a column works with any column name, but using attribute only works if the columnName is a valued Python variable name."
   ]
  },
  {
   "cell_type": "code",
   "execution_count": 35,
   "id": "9723458d",
   "metadata": {},
   "outputs": [
    {
     "data": {
      "text/plain": [
       "Index(['Books', 'Pens', 'Shoes'], dtype='object')"
      ]
     },
     "execution_count": 35,
     "metadata": {},
     "output_type": "execute_result"
    }
   ],
   "source": [
    "dataframe_1.columns"
   ]
  },
  {
   "cell_type": "code",
   "execution_count": 36,
   "id": "7ca89784",
   "metadata": {},
   "outputs": [
    {
     "data": {
      "text/html": [
       "<div>\n",
       "<style scoped>\n",
       "    .dataframe tbody tr th:only-of-type {\n",
       "        vertical-align: middle;\n",
       "    }\n",
       "\n",
       "    .dataframe tbody tr th {\n",
       "        vertical-align: top;\n",
       "    }\n",
       "\n",
       "    .dataframe thead th {\n",
       "        text-align: right;\n",
       "    }\n",
       "</style>\n",
       "<table border=\"1\" class=\"dataframe\">\n",
       "  <thead>\n",
       "    <tr style=\"text-align: right;\">\n",
       "      <th></th>\n",
       "      <th>Books</th>\n",
       "      <th>Pens</th>\n",
       "      <th>1</th>\n",
       "    </tr>\n",
       "  </thead>\n",
       "  <tbody>\n",
       "    <tr>\n",
       "      <th>A</th>\n",
       "      <td>0.106177</td>\n",
       "      <td>0.670650</td>\n",
       "      <td>0.696617</td>\n",
       "    </tr>\n",
       "    <tr>\n",
       "      <th>B</th>\n",
       "      <td>0.038392</td>\n",
       "      <td>-0.065415</td>\n",
       "      <td>-0.136931</td>\n",
       "    </tr>\n",
       "    <tr>\n",
       "      <th>C</th>\n",
       "      <td>0.839177</td>\n",
       "      <td>-0.184619</td>\n",
       "      <td>0.299250</td>\n",
       "    </tr>\n",
       "    <tr>\n",
       "      <th>D</th>\n",
       "      <td>0.150768</td>\n",
       "      <td>1.172743</td>\n",
       "      <td>1.096405</td>\n",
       "    </tr>\n",
       "    <tr>\n",
       "      <th>E</th>\n",
       "      <td>-1.019381</td>\n",
       "      <td>-1.595853</td>\n",
       "      <td>1.786830</td>\n",
       "    </tr>\n",
       "    <tr>\n",
       "      <th>F</th>\n",
       "      <td>-2.171378</td>\n",
       "      <td>-0.189140</td>\n",
       "      <td>-0.672368</td>\n",
       "    </tr>\n",
       "  </tbody>\n",
       "</table>\n",
       "</div>"
      ],
      "text/plain": [
       "      Books      Pens         1\n",
       "A  0.106177  0.670650  0.696617\n",
       "B  0.038392 -0.065415 -0.136931\n",
       "C  0.839177 -0.184619  0.299250\n",
       "D  0.150768  1.172743  1.096405\n",
       "E -1.019381 -1.595853  1.786830\n",
       "F -2.171378 -0.189140 -0.672368"
      ]
     },
     "execution_count": 36,
     "metadata": {},
     "output_type": "execute_result"
    }
   ],
   "source": [
    "dataframe_1.columns = ['Books', 'Pens', 1]\n",
    "dataframe_1"
   ]
  },
  {
   "cell_type": "code",
   "execution_count": 37,
   "id": "5982577c",
   "metadata": {},
   "outputs": [
    {
     "data": {
      "text/plain": [
       "A    0.696617\n",
       "B   -0.136931\n",
       "C    0.299250\n",
       "D    1.096405\n",
       "E    1.786830\n",
       "F   -0.672368\n",
       "Name: 1, dtype: float64"
      ]
     },
     "execution_count": 37,
     "metadata": {},
     "output_type": "execute_result"
    }
   ],
   "source": [
    "dataframe_1[1]"
   ]
  },
  {
   "cell_type": "code",
   "execution_count": 38,
   "id": "1d6aee39",
   "metadata": {},
   "outputs": [
    {
     "ename": "SyntaxError",
     "evalue": "invalid syntax (492237829.py, line 1)",
     "output_type": "error",
     "traceback": [
      "\u001b[1;36m  Input \u001b[1;32mIn [38]\u001b[1;36m\u001b[0m\n\u001b[1;33m    dataframe_1.1 # We cannot retrieve column corresponding to 1!\u001b[0m\n\u001b[1;37m               ^\u001b[0m\n\u001b[1;31mSyntaxError\u001b[0m\u001b[1;31m:\u001b[0m invalid syntax\n"
     ]
    }
   ],
   "source": [
    "dataframe_1.1 # We cannot retrieve column corresponding to 1!"
   ]
  },
  {
   "cell_type": "code",
   "execution_count": null,
   "id": "c5569d89",
   "metadata": {},
   "outputs": [],
   "source": [
    "print(dataframe_1)\n",
    "dataframe_1.loc['C'] # retrieves row with index 'C'"
   ]
  },
  {
   "cell_type": "code",
   "execution_count": null,
   "id": "076ad56d",
   "metadata": {},
   "outputs": [],
   "source": [
    "dataframe_1.iloc[2] # retrieves row number 3"
   ]
  },
  {
   "cell_type": "code",
   "execution_count": null,
   "id": "f4585ac7",
   "metadata": {},
   "outputs": [],
   "source": [
    "dataframe_2 = pd.DataFrame(dict_2, columns=['A', 'B', 'C', 'D'])\n",
    "print(dataframe_2)\n",
    "dataframe_2['D'] = 2\n",
    "print(dataframe_2)"
   ]
  },
  {
   "cell_type": "code",
   "execution_count": null,
   "id": "437723d7",
   "metadata": {},
   "outputs": [],
   "source": [
    "dataframe_2['D'] = np.random.randn(10,1) # length of the assigned vector should match the number of rows in DF.\n",
    "dataframe_2"
   ]
  },
  {
   "cell_type": "code",
   "execution_count": null,
   "id": "a11f0fc2",
   "metadata": {},
   "outputs": [],
   "source": [
    "series_6 = pd.Series(np.random.randint(1,5,10), index=np.arange(4, 14)) # \n",
    "dataframe_2 ['D'] = series_6 # When assigning a Series to a DF column, index are aligned.\n",
    "dataframe_2"
   ]
  },
  {
   "cell_type": "code",
   "execution_count": null,
   "id": "731ab80d",
   "metadata": {},
   "outputs": [],
   "source": [
    "del dataframe_2['D'] # del keyword deletes a column\n",
    "dataframe_2"
   ]
  },
  {
   "cell_type": "code",
   "execution_count": null,
   "id": "3a1de43f",
   "metadata": {},
   "outputs": [],
   "source": [
    "dataframe_1 = pd.DataFrame(np.random.randn(6,3), columns=['Books', 'Pens', 'Shoes'])\n",
    "print(dataframe_1)\n",
    "book = dataframe_1['Books']\n",
    "book = 1\n",
    "print(dataframe_1)"
   ]
  },
  {
   "cell_type": "code",
   "execution_count": null,
   "id": "4ccf127b",
   "metadata": {},
   "outputs": [],
   "source": [
    "dataframe_1.columns.name = 'Commodity' # Setting name of the columns to be 'commodity'\n",
    "dataframe_1.index.name = 'rows' # Setting name of the index to be 'rows'\n",
    "dataframe_1"
   ]
  },
  {
   "cell_type": "markdown",
   "id": "676fc63a",
   "metadata": {},
   "source": [
    "We can pass a nested dictionary to pd.DataFrame(). So basically, a dict of dict. "
   ]
  },
  {
   "cell_type": "code",
   "execution_count": null,
   "id": "87289b57",
   "metadata": {},
   "outputs": [],
   "source": [
    "dictOfDict_1 = {'Column1': {'ind1': 1, 'ind2': 2, 'ind3': 3},\n",
    "              'Column2': {'ind1': 4, 'ind2': 5, 'ind3': 6},\n",
    "              'Column3': {'ind1': 7, 'ind2': 8, 'ind3': 9}} \n",
    "pd.DataFrame(dictOfDict_1)\n",
    "# The outer keys are regarded as Column names."
   ]
  },
  {
   "cell_type": "code",
   "execution_count": null,
   "id": "cf7456e9",
   "metadata": {},
   "outputs": [],
   "source": [
    "pd.DataFrame(dictOfDict_1, index=['ind2', 'ind3', 'ind4']) # Here we override the indexes. Notice the NaN values."
   ]
  },
  {
   "cell_type": "markdown",
   "id": "11ccdee7",
   "metadata": {},
   "source": [
    "We can also pass a dict of Series:"
   ]
  },
  {
   "cell_type": "code",
   "execution_count": null,
   "id": "ef13715f",
   "metadata": {},
   "outputs": [],
   "source": [
    "dictOfSeries_1 = {'cost': dataframe_2['A'],\n",
    "                  'tax': dataframe_2['B'],\n",
    "                  'income': dataframe_2['C']}\n",
    "pd.DataFrame(dictOfSeries_1)\n",
    "# index of Series is used as the index of the built DataFrame."
   ]
  },
  {
   "cell_type": "markdown",
   "id": "a01ecf77",
   "metadata": {},
   "source": [
    "Some hotKey for Jupyter notebook: if you want to create an empy cell after a cell, press B. A cell before the current cell, press A."
   ]
  },
  {
   "cell_type": "code",
   "execution_count": null,
   "id": "8ef1a455",
   "metadata": {},
   "outputs": [],
   "source": [
    "dataframe_2.values # Getting values of the DataFrame"
   ]
  },
  {
   "cell_type": "code",
   "execution_count": null,
   "id": "ad581eab",
   "metadata": {},
   "outputs": [],
   "source": [
    "series_3.values # Getting values of the Series"
   ]
  },
  {
   "cell_type": "code",
   "execution_count": null,
   "id": "959ee265",
   "metadata": {},
   "outputs": [],
   "source": [
    "print(dataframe_2['B'].value_counts()) # Counting number of times each element in the column 'B' is repeated.\n",
    "print(dataframe_2)"
   ]
  },
  {
   "cell_type": "code",
   "execution_count": null,
   "id": "2c3d3eb3",
   "metadata": {},
   "outputs": [],
   "source": []
  },
  {
   "cell_type": "markdown",
   "id": "270b1dd0",
   "metadata": {},
   "source": [
    "We can transpose a DataFrame:"
   ]
  },
  {
   "cell_type": "code",
   "execution_count": null,
   "id": "c46df25d",
   "metadata": {},
   "outputs": [],
   "source": [
    "dataframe_1.T"
   ]
  },
  {
   "cell_type": "markdown",
   "id": "05fe1b57",
   "metadata": {},
   "source": [
    "### reindexing: "
   ]
  },
  {
   "cell_type": "code",
   "execution_count": null,
   "id": "e091b43a",
   "metadata": {},
   "outputs": [],
   "source": [
    "dataframe_3 = pd.DataFrame(data=np.random.randn(7, 5), columns=list('ABCDE'),\n",
    "                           index=range(7))\n",
    "dataframe_3"
   ]
  },
  {
   "cell_type": "code",
   "execution_count": null,
   "id": "3efe1d8d",
   "metadata": {},
   "outputs": [],
   "source": [
    "dataframe_4 = dataframe_3.reindex(index=[1, 2, 8, 6, 7])\n",
    "dataframe_4 # values corresponding to the indices that don't exist in the original DF will be NaN."
   ]
  },
  {
   "cell_type": "code",
   "execution_count": null,
   "id": "07d5bdbf",
   "metadata": {},
   "outputs": [],
   "source": [
    "dataframe_3.reindex(index=[1, 2, 8, 6, 7], method='ffill') # we can fill in NaN values using method.\n",
    "# Here, the method is forward fill."
   ]
  },
  {
   "cell_type": "markdown",
   "id": "9413ad51",
   "metadata": {},
   "source": [
    "We can reindex columns as well. If we only pass one list, then we are changing the index. "
   ]
  },
  {
   "cell_type": "code",
   "execution_count": null,
   "id": "87497ec3",
   "metadata": {},
   "outputs": [],
   "source": [
    "dataframe_3.reindex(index=[1, 2, 8, 6, 7], columns=['A', 'C', 'E'])"
   ]
  },
  {
   "cell_type": "markdown",
   "id": "abbb9a51",
   "metadata": {},
   "source": [
    "### Dropping entries from axes"
   ]
  },
  {
   "cell_type": "code",
   "execution_count": null,
   "id": "dadaf746",
   "metadata": {},
   "outputs": [],
   "source": [
    "obj = pd.DataFrame(data=np.arange(12).reshape(3, 4), columns=list('ABCD'))\n",
    "obj"
   ]
  },
  {
   "cell_type": "code",
   "execution_count": null,
   "id": "0ff4a911",
   "metadata": {},
   "outputs": [],
   "source": [
    "obj.drop(1) # This drops the row with index 1. "
   ]
  },
  {
   "cell_type": "code",
   "execution_count": null,
   "id": "b2db1d18",
   "metadata": {},
   "outputs": [],
   "source": [
    "print(obj) # you can see that by calling the drop method, obj did not change. We can however make the change\n",
    "# to be in place\n",
    "obj.drop(2, inplace=True)\n",
    "print(f\"The new obj is \\n{obj}\")"
   ]
  },
  {
   "cell_type": "markdown",
   "id": "a91939dd",
   "metadata": {},
   "source": [
    "We can also drop columns. For this, we should write axis = 1 or axis = 'columns'"
   ]
  },
  {
   "cell_type": "code",
   "execution_count": null,
   "id": "1efa0bf9",
   "metadata": {},
   "outputs": [],
   "source": [
    "obj = pd.DataFrame(data=np.arange(12).reshape(3, 4), columns=list('ABCD'))\n",
    "obj.drop(['A', 'B'], axis = 1)"
   ]
  },
  {
   "cell_type": "code",
   "execution_count": null,
   "id": "f94b3442",
   "metadata": {},
   "outputs": [],
   "source": [
    "obj.drop('C', axis = 'columns')"
   ]
  },
  {
   "cell_type": "code",
   "execution_count": null,
   "id": "79a9f5a2",
   "metadata": {},
   "outputs": [],
   "source": []
  },
  {
   "cell_type": "code",
   "execution_count": null,
   "id": "e8d27e99",
   "metadata": {},
   "outputs": [],
   "source": []
  },
  {
   "cell_type": "markdown",
   "id": "44f1c242",
   "metadata": {},
   "source": [
    "### Indexing"
   ]
  },
  {
   "cell_type": "code",
   "execution_count": null,
   "id": "8e060c3d",
   "metadata": {},
   "outputs": [],
   "source": [
    "obj_s = pd.Series(np.arange(3, 7), index=list('QWER'))\n",
    "obj_s"
   ]
  },
  {
   "cell_type": "code",
   "execution_count": null,
   "id": "880888e5",
   "metadata": {},
   "outputs": [],
   "source": [
    "obj_s[1]"
   ]
  },
  {
   "cell_type": "code",
   "execution_count": null,
   "id": "a71b7700",
   "metadata": {},
   "outputs": [],
   "source": [
    "obj_s[0:2]"
   ]
  },
  {
   "cell_type": "code",
   "execution_count": null,
   "id": "4462c1ca",
   "metadata": {},
   "outputs": [],
   "source": [
    "obj_s[['W', 'R']]"
   ]
  },
  {
   "cell_type": "code",
   "execution_count": null,
   "id": "4f496c86",
   "metadata": {},
   "outputs": [],
   "source": [
    "obj_s[obj_s > 3]"
   ]
  },
  {
   "cell_type": "code",
   "execution_count": null,
   "id": "994f9997",
   "metadata": {},
   "outputs": [],
   "source": [
    "obj_s['Q': 'E'] # Note that this way of slicing with indexes is inclusive of the end-point."
   ]
  },
  {
   "cell_type": "code",
   "execution_count": null,
   "id": "01f85393",
   "metadata": {},
   "outputs": [],
   "source": [
    "obj_s['Q': 'E'] = np.array([7, 8, 9]) # This will change obj_s in place\n",
    "obj_s "
   ]
  },
  {
   "cell_type": "markdown",
   "id": "0d3a97a9",
   "metadata": {},
   "source": [
    "Operation on DF:"
   ]
  },
  {
   "cell_type": "markdown",
   "id": "fd0c660c",
   "metadata": {},
   "source": [
    "Let's try this on DataFrame. It is not exactly the same because when we write df[x], it returns column, not row. To return row(s), we should use the slicing notation \":\"."
   ]
  },
  {
   "cell_type": "code",
   "execution_count": null,
   "id": "89eb904c",
   "metadata": {},
   "outputs": [],
   "source": [
    "obj.index = list('ghj')\n",
    "obj"
   ]
  },
  {
   "cell_type": "code",
   "execution_count": null,
   "id": "8d6b7ba7",
   "metadata": {},
   "outputs": [],
   "source": [
    "obj[1:2] # if you pass obj[1], you will get an error! Note that obj[] returns column(s), but slicing like the \n",
    "#one here works to return rows."
   ]
  },
  {
   "cell_type": "code",
   "execution_count": null,
   "id": "530f1ff4",
   "metadata": {},
   "outputs": [],
   "source": [
    "obj[0:2]"
   ]
  },
  {
   "cell_type": "markdown",
   "id": "345defba",
   "metadata": {},
   "source": [
    "Some operations on DF:"
   ]
  },
  {
   "cell_type": "code",
   "execution_count": null,
   "id": "94c4594f",
   "metadata": {},
   "outputs": [],
   "source": [
    "print(obj)\n",
    "obj > 5"
   ]
  },
  {
   "cell_type": "code",
   "execution_count": null,
   "id": "d11ced40",
   "metadata": {},
   "outputs": [],
   "source": [
    "obj[obj > 5] = 10"
   ]
  },
  {
   "cell_type": "code",
   "execution_count": null,
   "id": "b2d4145a",
   "metadata": {},
   "outputs": [],
   "source": [
    "obj"
   ]
  },
  {
   "cell_type": "markdown",
   "id": "36f00f9f",
   "metadata": {},
   "source": [
    "Selection with loc and iloc:"
   ]
  },
  {
   "cell_type": "code",
   "execution_count": null,
   "id": "aa9ad1ea",
   "metadata": {},
   "outputs": [],
   "source": [
    "print(dataframe_4)\n",
    "dataframe_4.loc[[2, 6], ['A', 'B']] # loc can be used to access particular cut of the DF. \n",
    "# it is basically a way of reindexing."
   ]
  },
  {
   "cell_type": "code",
   "execution_count": null,
   "id": "b152faca",
   "metadata": {},
   "outputs": [],
   "source": [
    "dataframe_4.iloc[0, 1]"
   ]
  },
  {
   "cell_type": "code",
   "execution_count": null,
   "id": "0ed8dfbd",
   "metadata": {},
   "outputs": [],
   "source": [
    "dataframe_1"
   ]
  },
  {
   "cell_type": "code",
   "execution_count": null,
   "id": "a51c491e",
   "metadata": {},
   "outputs": [],
   "source": [
    "dataframe_1[dataframe_1['Books'] > 0]"
   ]
  },
  {
   "cell_type": "code",
   "execution_count": null,
   "id": "16ddf28f",
   "metadata": {},
   "outputs": [],
   "source": [
    "dataframe_1"
   ]
  },
  {
   "cell_type": "code",
   "execution_count": null,
   "id": "17f1140a",
   "metadata": {},
   "outputs": [],
   "source": [
    "dataframe_1.iloc[1, 1]"
   ]
  },
  {
   "cell_type": "code",
   "execution_count": null,
   "id": "d1bd7516",
   "metadata": {},
   "outputs": [],
   "source": [
    "dataframe_1.iat[1, 1]"
   ]
  },
  {
   "cell_type": "markdown",
   "id": "74817802",
   "metadata": {},
   "source": [
    "Integer indexes"
   ]
  },
  {
   "cell_type": "code",
   "execution_count": null,
   "id": "9ba0a7a5",
   "metadata": {},
   "outputs": [],
   "source": [
    "series_3"
   ]
  },
  {
   "cell_type": "code",
   "execution_count": null,
   "id": "d18e01b9",
   "metadata": {},
   "outputs": [],
   "source": [
    "series_3[0]"
   ]
  },
  {
   "cell_type": "code",
   "execution_count": null,
   "id": "6580fdd5",
   "metadata": {},
   "outputs": [],
   "source": [
    "series_3['figure']"
   ]
  },
  {
   "cell_type": "code",
   "execution_count": null,
   "id": "ed9de986",
   "metadata": {},
   "outputs": [],
   "source": [
    "series_3[-1]"
   ]
  },
  {
   "cell_type": "markdown",
   "id": "0f30232f",
   "metadata": {},
   "source": [
    "Consider a Series with integer indexes. This can cause an error with previous syntax as it creates confusion:"
   ]
  },
  {
   "cell_type": "code",
   "execution_count": null,
   "id": "692ec5f1",
   "metadata": {},
   "outputs": [],
   "source": [
    "series_1"
   ]
  },
  {
   "cell_type": "code",
   "execution_count": null,
   "id": "6321041f",
   "metadata": {},
   "outputs": [],
   "source": [
    "series_1[-1] # This causes confusion as indexes are integers."
   ]
  },
  {
   "cell_type": "code",
   "execution_count": null,
   "id": "cb4edec2",
   "metadata": {},
   "outputs": [],
   "source": [
    "series_1[2]"
   ]
  },
  {
   "cell_type": "code",
   "execution_count": null,
   "id": "6e7711d0",
   "metadata": {},
   "outputs": [],
   "source": [
    "series_1.iloc[-1] # This one works pretty well. Use loc with labels, and iloc for integer indexing."
   ]
  },
  {
   "cell_type": "code",
   "execution_count": null,
   "id": "ec3848e9",
   "metadata": {},
   "outputs": [],
   "source": [
    "print(series_2)\n",
    "print()\n",
    "print(series_2['figure':])"
   ]
  },
  {
   "cell_type": "code",
   "execution_count": null,
   "id": "5069975d",
   "metadata": {},
   "outputs": [],
   "source": [
    "series_2.iloc[1:] # The same as above"
   ]
  },
  {
   "cell_type": "code",
   "execution_count": null,
   "id": "77019707",
   "metadata": {},
   "outputs": [],
   "source": [
    "series_1[0:1]"
   ]
  },
  {
   "cell_type": "code",
   "execution_count": null,
   "id": "a094711d",
   "metadata": {},
   "outputs": [],
   "source": [
    "series_1.loc[0:1] # This includes the end-point."
   ]
  },
  {
   "cell_type": "code",
   "execution_count": null,
   "id": "5ce2dcc2",
   "metadata": {},
   "outputs": [],
   "source": [
    "series_1.iloc[0:1]"
   ]
  },
  {
   "cell_type": "code",
   "execution_count": null,
   "id": "98d8a146",
   "metadata": {},
   "outputs": [],
   "source": [
    "dataframe_1.loc['B':'D', 'Books': 1] # Notice that for DF as well, .loc[] includes the end point."
   ]
  },
  {
   "cell_type": "markdown",
   "id": "57368ab6",
   "metadata": {},
   "source": [
    "### Arithmetic and Data Alignment\n",
    "arithmetic operation between objects that have different indexes returns objects with union of the indexes. "
   ]
  },
  {
   "cell_type": "code",
   "execution_count": null,
   "id": "b5260d4a",
   "metadata": {},
   "outputs": [],
   "source": [
    "s1 = pd.Series(data=np.arange(5), index=list('ABCDE'))\n",
    "s2 = pd.Series(data=np.random.randn(3), index=list('DAF'))\n",
    "print(s1)\n",
    "print(s2)"
   ]
  },
  {
   "cell_type": "code",
   "execution_count": null,
   "id": "20cc75e8",
   "metadata": {},
   "outputs": [],
   "source": [
    "s1 + s2"
   ]
  },
  {
   "cell_type": "markdown",
   "id": "36f17264",
   "metadata": {},
   "source": [
    "For DataFrame, the alignment is performed on both index and label (row and column)"
   ]
  },
  {
   "cell_type": "code",
   "execution_count": null,
   "id": "0f35bdff",
   "metadata": {},
   "outputs": [],
   "source": [
    "dataframe_1"
   ]
  },
  {
   "cell_type": "code",
   "execution_count": null,
   "id": "3224122b",
   "metadata": {},
   "outputs": [],
   "source": [
    "dataframe_2 = pd.DataFrame(np.random.randn(6, 2), index = list('DCBHIJ'), columns=['Books', 1])\n",
    "print(dataframe_2)"
   ]
  },
  {
   "cell_type": "code",
   "execution_count": null,
   "id": "5b331329",
   "metadata": {},
   "outputs": [],
   "source": [
    "dataframe_1 + dataframe_2"
   ]
  },
  {
   "cell_type": "markdown",
   "id": "89187203",
   "metadata": {},
   "source": [
    "### Arithmetic methods with fill values\n",
    "When performing arithmetic with DFs, if one axis label (or index) exists in one but not in the other DF, then we can specify a fill value to be considered for the DF that does not have that particular index (or label). Note that for the operation to not yield NaN for a particular (index, column), either the index or column should exist in both DataFrames."
   ]
  },
  {
   "cell_type": "code",
   "execution_count": 39,
   "id": "9cb8ca7d",
   "metadata": {},
   "outputs": [
    {
     "data": {
      "text/html": [
       "<div>\n",
       "<style scoped>\n",
       "    .dataframe tbody tr th:only-of-type {\n",
       "        vertical-align: middle;\n",
       "    }\n",
       "\n",
       "    .dataframe tbody tr th {\n",
       "        vertical-align: top;\n",
       "    }\n",
       "\n",
       "    .dataframe thead th {\n",
       "        text-align: right;\n",
       "    }\n",
       "</style>\n",
       "<table border=\"1\" class=\"dataframe\">\n",
       "  <thead>\n",
       "    <tr style=\"text-align: right;\">\n",
       "      <th></th>\n",
       "      <th>1</th>\n",
       "      <th>2</th>\n",
       "      <th>3</th>\n",
       "    </tr>\n",
       "  </thead>\n",
       "  <tbody>\n",
       "    <tr>\n",
       "      <th>A</th>\n",
       "      <td>0.199641</td>\n",
       "      <td>0.633846</td>\n",
       "      <td>0.961436</td>\n",
       "    </tr>\n",
       "    <tr>\n",
       "      <th>B</th>\n",
       "      <td>0.794488</td>\n",
       "      <td>0.344083</td>\n",
       "      <td>0.461509</td>\n",
       "    </tr>\n",
       "  </tbody>\n",
       "</table>\n",
       "</div>"
      ],
      "text/plain": [
       "          1         2         3\n",
       "A  0.199641  0.633846  0.961436\n",
       "B  0.794488  0.344083  0.461509"
      ]
     },
     "execution_count": 39,
     "metadata": {},
     "output_type": "execute_result"
    }
   ],
   "source": [
    "df_1 = pd.DataFrame(np.random.rand(2, 3), list('AB'), columns = list('123'))\n",
    "df_1"
   ]
  },
  {
   "cell_type": "code",
   "execution_count": 40,
   "id": "21988f6c",
   "metadata": {},
   "outputs": [
    {
     "data": {
      "text/html": [
       "<div>\n",
       "<style scoped>\n",
       "    .dataframe tbody tr th:only-of-type {\n",
       "        vertical-align: middle;\n",
       "    }\n",
       "\n",
       "    .dataframe tbody tr th {\n",
       "        vertical-align: top;\n",
       "    }\n",
       "\n",
       "    .dataframe thead th {\n",
       "        text-align: right;\n",
       "    }\n",
       "</style>\n",
       "<table border=\"1\" class=\"dataframe\">\n",
       "  <thead>\n",
       "    <tr style=\"text-align: right;\">\n",
       "      <th></th>\n",
       "      <th>2</th>\n",
       "      <th>3</th>\n",
       "      <th>4</th>\n",
       "    </tr>\n",
       "  </thead>\n",
       "  <tbody>\n",
       "    <tr>\n",
       "      <th>A</th>\n",
       "      <td>-0.988540</td>\n",
       "      <td>0.905256</td>\n",
       "      <td>-0.378478</td>\n",
       "    </tr>\n",
       "    <tr>\n",
       "      <th>B</th>\n",
       "      <td>-0.556566</td>\n",
       "      <td>1.316743</td>\n",
       "      <td>-0.090936</td>\n",
       "    </tr>\n",
       "    <tr>\n",
       "      <th>C</th>\n",
       "      <td>0.363658</td>\n",
       "      <td>-0.501675</td>\n",
       "      <td>2.598462</td>\n",
       "    </tr>\n",
       "  </tbody>\n",
       "</table>\n",
       "</div>"
      ],
      "text/plain": [
       "          2         3         4\n",
       "A -0.988540  0.905256 -0.378478\n",
       "B -0.556566  1.316743 -0.090936\n",
       "C  0.363658 -0.501675  2.598462"
      ]
     },
     "execution_count": 40,
     "metadata": {},
     "output_type": "execute_result"
    }
   ],
   "source": [
    "df_2 = pd.DataFrame(np.random.randn(3, 3), list('ABC'), list('234'))\n",
    "df_2"
   ]
  },
  {
   "cell_type": "code",
   "execution_count": 41,
   "id": "400d6b58",
   "metadata": {},
   "outputs": [
    {
     "data": {
      "text/html": [
       "<div>\n",
       "<style scoped>\n",
       "    .dataframe tbody tr th:only-of-type {\n",
       "        vertical-align: middle;\n",
       "    }\n",
       "\n",
       "    .dataframe tbody tr th {\n",
       "        vertical-align: top;\n",
       "    }\n",
       "\n",
       "    .dataframe thead th {\n",
       "        text-align: right;\n",
       "    }\n",
       "</style>\n",
       "<table border=\"1\" class=\"dataframe\">\n",
       "  <thead>\n",
       "    <tr style=\"text-align: right;\">\n",
       "      <th></th>\n",
       "      <th>1</th>\n",
       "      <th>2</th>\n",
       "      <th>3</th>\n",
       "      <th>4</th>\n",
       "    </tr>\n",
       "  </thead>\n",
       "  <tbody>\n",
       "    <tr>\n",
       "      <th>A</th>\n",
       "      <td>NaN</td>\n",
       "      <td>-0.354695</td>\n",
       "      <td>1.866692</td>\n",
       "      <td>NaN</td>\n",
       "    </tr>\n",
       "    <tr>\n",
       "      <th>B</th>\n",
       "      <td>NaN</td>\n",
       "      <td>-0.212482</td>\n",
       "      <td>1.778252</td>\n",
       "      <td>NaN</td>\n",
       "    </tr>\n",
       "    <tr>\n",
       "      <th>C</th>\n",
       "      <td>NaN</td>\n",
       "      <td>NaN</td>\n",
       "      <td>NaN</td>\n",
       "      <td>NaN</td>\n",
       "    </tr>\n",
       "  </tbody>\n",
       "</table>\n",
       "</div>"
      ],
      "text/plain": [
       "    1         2         3   4\n",
       "A NaN -0.354695  1.866692 NaN\n",
       "B NaN -0.212482  1.778252 NaN\n",
       "C NaN       NaN       NaN NaN"
      ]
     },
     "execution_count": 41,
     "metadata": {},
     "output_type": "execute_result"
    }
   ],
   "source": [
    "df_1 + df_2"
   ]
  },
  {
   "cell_type": "code",
   "execution_count": 44,
   "id": "81626cc0",
   "metadata": {},
   "outputs": [
    {
     "data": {
      "text/html": [
       "<div>\n",
       "<style scoped>\n",
       "    .dataframe tbody tr th:only-of-type {\n",
       "        vertical-align: middle;\n",
       "    }\n",
       "\n",
       "    .dataframe tbody tr th {\n",
       "        vertical-align: top;\n",
       "    }\n",
       "\n",
       "    .dataframe thead th {\n",
       "        text-align: right;\n",
       "    }\n",
       "</style>\n",
       "<table border=\"1\" class=\"dataframe\">\n",
       "  <thead>\n",
       "    <tr style=\"text-align: right;\">\n",
       "      <th></th>\n",
       "      <th>1</th>\n",
       "      <th>2</th>\n",
       "      <th>3</th>\n",
       "      <th>4</th>\n",
       "    </tr>\n",
       "  </thead>\n",
       "  <tbody>\n",
       "    <tr>\n",
       "      <th>A</th>\n",
       "      <td>5.199641</td>\n",
       "      <td>-0.354695</td>\n",
       "      <td>1.866692</td>\n",
       "      <td>4.621522</td>\n",
       "    </tr>\n",
       "    <tr>\n",
       "      <th>B</th>\n",
       "      <td>5.794488</td>\n",
       "      <td>-0.212482</td>\n",
       "      <td>1.778252</td>\n",
       "      <td>4.909064</td>\n",
       "    </tr>\n",
       "    <tr>\n",
       "      <th>C</th>\n",
       "      <td>NaN</td>\n",
       "      <td>5.363658</td>\n",
       "      <td>4.498325</td>\n",
       "      <td>7.598462</td>\n",
       "    </tr>\n",
       "  </tbody>\n",
       "</table>\n",
       "</div>"
      ],
      "text/plain": [
       "          1         2         3         4\n",
       "A  5.199641 -0.354695  1.866692  4.621522\n",
       "B  5.794488 -0.212482  1.778252  4.909064\n",
       "C       NaN  5.363658  4.498325  7.598462"
      ]
     },
     "execution_count": 44,
     "metadata": {},
     "output_type": "execute_result"
    }
   ],
   "source": [
    "df_1.add(df_2, fill_value=5) # The value corresponding to (index='C', column=1) is NaN since neither of the dataframes have this element."
   ]
  },
  {
   "cell_type": "code",
   "execution_count": 43,
   "id": "f4b6f639",
   "metadata": {},
   "outputs": [
    {
     "data": {
      "text/html": [
       "<div>\n",
       "<style scoped>\n",
       "    .dataframe tbody tr th:only-of-type {\n",
       "        vertical-align: middle;\n",
       "    }\n",
       "\n",
       "    .dataframe tbody tr th {\n",
       "        vertical-align: top;\n",
       "    }\n",
       "\n",
       "    .dataframe thead th {\n",
       "        text-align: right;\n",
       "    }\n",
       "</style>\n",
       "<table border=\"1\" class=\"dataframe\">\n",
       "  <thead>\n",
       "    <tr style=\"text-align: right;\">\n",
       "      <th></th>\n",
       "      <th>1</th>\n",
       "      <th>2</th>\n",
       "      <th>3</th>\n",
       "      <th>4</th>\n",
       "    </tr>\n",
       "  </thead>\n",
       "  <tbody>\n",
       "    <tr>\n",
       "      <th>A</th>\n",
       "      <td>5.199641</td>\n",
       "      <td>-0.354695</td>\n",
       "      <td>1.866692</td>\n",
       "      <td>4.621522</td>\n",
       "    </tr>\n",
       "    <tr>\n",
       "      <th>B</th>\n",
       "      <td>5.794488</td>\n",
       "      <td>-0.212482</td>\n",
       "      <td>1.778252</td>\n",
       "      <td>4.909064</td>\n",
       "    </tr>\n",
       "    <tr>\n",
       "      <th>C</th>\n",
       "      <td>NaN</td>\n",
       "      <td>5.363658</td>\n",
       "      <td>4.498325</td>\n",
       "      <td>7.598462</td>\n",
       "    </tr>\n",
       "  </tbody>\n",
       "</table>\n",
       "</div>"
      ],
      "text/plain": [
       "          1         2         3         4\n",
       "A  5.199641 -0.354695  1.866692  4.621522\n",
       "B  5.794488 -0.212482  1.778252  4.909064\n",
       "C       NaN  5.363658  4.498325  7.598462"
      ]
     },
     "execution_count": 43,
     "metadata": {},
     "output_type": "execute_result"
    }
   ],
   "source": [
    "df_2.add(df_1, fill_value=5)"
   ]
  },
  {
   "cell_type": "code",
   "execution_count": null,
   "id": "9f715dec",
   "metadata": {},
   "outputs": [],
   "source": [
    "df_1.div(1)"
   ]
  },
  {
   "cell_type": "code",
   "execution_count": 81,
   "id": "430a3d54",
   "metadata": {},
   "outputs": [
    {
     "data": {
      "text/html": [
       "<div>\n",
       "<style scoped>\n",
       "    .dataframe tbody tr th:only-of-type {\n",
       "        vertical-align: middle;\n",
       "    }\n",
       "\n",
       "    .dataframe tbody tr th {\n",
       "        vertical-align: top;\n",
       "    }\n",
       "\n",
       "    .dataframe thead th {\n",
       "        text-align: right;\n",
       "    }\n",
       "</style>\n",
       "<table border=\"1\" class=\"dataframe\">\n",
       "  <thead>\n",
       "    <tr style=\"text-align: right;\">\n",
       "      <th></th>\n",
       "      <th>1</th>\n",
       "      <th>2</th>\n",
       "      <th>3</th>\n",
       "    </tr>\n",
       "  </thead>\n",
       "  <tbody>\n",
       "    <tr>\n",
       "      <th>A</th>\n",
       "      <td>2.941764</td>\n",
       "      <td>1.743102</td>\n",
       "      <td>1.043381</td>\n",
       "    </tr>\n",
       "    <tr>\n",
       "      <th>B</th>\n",
       "      <td>34.917109</td>\n",
       "      <td>2.093751</td>\n",
       "      <td>8.665987</td>\n",
       "    </tr>\n",
       "  </tbody>\n",
       "</table>\n",
       "</div>"
      ],
      "text/plain": [
       "           1         2         3\n",
       "A   2.941764  1.743102  1.043381\n",
       "B  34.917109  2.093751  8.665987"
      ]
     },
     "execution_count": 81,
     "metadata": {},
     "output_type": "execute_result"
    }
   ],
   "source": [
    "df_1.rdiv(1) # rdiv reverese the order of division. "
   ]
  },
  {
   "cell_type": "markdown",
   "id": "e219bbda",
   "metadata": {},
   "source": [
    "### Operations between DF and Series\n",
    "let's look at NumPy. By default the operation is performed for each row. This called *broadcasting*."
   ]
  },
  {
   "cell_type": "code",
   "execution_count": 50,
   "id": "879c136c",
   "metadata": {},
   "outputs": [
    {
     "data": {
      "text/plain": [
       "array([[ 0,  1,  2,  3],\n",
       "       [ 4,  5,  6,  7],\n",
       "       [ 8,  9, 10, 11]])"
      ]
     },
     "execution_count": 50,
     "metadata": {},
     "output_type": "execute_result"
    }
   ],
   "source": [
    "arr = np.arange(12).reshape(3, 4)\n",
    "arr"
   ]
  },
  {
   "cell_type": "code",
   "execution_count": 51,
   "id": "b9f46b00",
   "metadata": {},
   "outputs": [
    {
     "data": {
      "text/plain": [
       "array([[0, 0, 0, 0],\n",
       "       [4, 4, 4, 4],\n",
       "       [8, 8, 8, 8]])"
      ]
     },
     "execution_count": 51,
     "metadata": {},
     "output_type": "execute_result"
    }
   ],
   "source": [
    "arr - arr[0]"
   ]
  },
  {
   "cell_type": "markdown",
   "id": "f895bb6e",
   "metadata": {},
   "source": [
    "Let's do the same to DF and Series"
   ]
  },
  {
   "cell_type": "code",
   "execution_count": 58,
   "id": "3123f887",
   "metadata": {},
   "outputs": [
    {
     "data": {
      "text/html": [
       "<div>\n",
       "<style scoped>\n",
       "    .dataframe tbody tr th:only-of-type {\n",
       "        vertical-align: middle;\n",
       "    }\n",
       "\n",
       "    .dataframe tbody tr th {\n",
       "        vertical-align: top;\n",
       "    }\n",
       "\n",
       "    .dataframe thead th {\n",
       "        text-align: right;\n",
       "    }\n",
       "</style>\n",
       "<table border=\"1\" class=\"dataframe\">\n",
       "  <thead>\n",
       "    <tr style=\"text-align: right;\">\n",
       "      <th></th>\n",
       "      <th>Books</th>\n",
       "      <th>Pens</th>\n",
       "      <th>1</th>\n",
       "    </tr>\n",
       "  </thead>\n",
       "  <tbody>\n",
       "    <tr>\n",
       "      <th>A</th>\n",
       "      <td>0.106177</td>\n",
       "      <td>0.670650</td>\n",
       "      <td>0.696617</td>\n",
       "    </tr>\n",
       "    <tr>\n",
       "      <th>B</th>\n",
       "      <td>0.038392</td>\n",
       "      <td>-0.065415</td>\n",
       "      <td>-0.136931</td>\n",
       "    </tr>\n",
       "    <tr>\n",
       "      <th>C</th>\n",
       "      <td>0.839177</td>\n",
       "      <td>-0.184619</td>\n",
       "      <td>0.299250</td>\n",
       "    </tr>\n",
       "    <tr>\n",
       "      <th>D</th>\n",
       "      <td>0.150768</td>\n",
       "      <td>1.172743</td>\n",
       "      <td>1.096405</td>\n",
       "    </tr>\n",
       "    <tr>\n",
       "      <th>E</th>\n",
       "      <td>-1.019381</td>\n",
       "      <td>-1.595853</td>\n",
       "      <td>1.786830</td>\n",
       "    </tr>\n",
       "    <tr>\n",
       "      <th>F</th>\n",
       "      <td>-2.171378</td>\n",
       "      <td>-0.189140</td>\n",
       "      <td>-0.672368</td>\n",
       "    </tr>\n",
       "  </tbody>\n",
       "</table>\n",
       "</div>"
      ],
      "text/plain": [
       "      Books      Pens         1\n",
       "A  0.106177  0.670650  0.696617\n",
       "B  0.038392 -0.065415 -0.136931\n",
       "C  0.839177 -0.184619  0.299250\n",
       "D  0.150768  1.172743  1.096405\n",
       "E -1.019381 -1.595853  1.786830\n",
       "F -2.171378 -0.189140 -0.672368"
      ]
     },
     "execution_count": 58,
     "metadata": {},
     "output_type": "execute_result"
    }
   ],
   "source": [
    "dataframe_1"
   ]
  },
  {
   "cell_type": "code",
   "execution_count": 54,
   "id": "e7f2bd0b",
   "metadata": {},
   "outputs": [
    {
     "data": {
      "text/plain": [
       "Books    0.106177\n",
       "Pens     0.670650\n",
       "1        0.696617\n",
       "Name: A, dtype: float64"
      ]
     },
     "execution_count": 54,
     "metadata": {},
     "output_type": "execute_result"
    }
   ],
   "source": [
    "dataframe_1.loc['A']"
   ]
  },
  {
   "cell_type": "code",
   "execution_count": 56,
   "id": "b80305f2",
   "metadata": {},
   "outputs": [
    {
     "data": {
      "text/html": [
       "<div>\n",
       "<style scoped>\n",
       "    .dataframe tbody tr th:only-of-type {\n",
       "        vertical-align: middle;\n",
       "    }\n",
       "\n",
       "    .dataframe tbody tr th {\n",
       "        vertical-align: top;\n",
       "    }\n",
       "\n",
       "    .dataframe thead th {\n",
       "        text-align: right;\n",
       "    }\n",
       "</style>\n",
       "<table border=\"1\" class=\"dataframe\">\n",
       "  <thead>\n",
       "    <tr style=\"text-align: right;\">\n",
       "      <th></th>\n",
       "      <th>Books</th>\n",
       "      <th>Pens</th>\n",
       "      <th>1</th>\n",
       "    </tr>\n",
       "  </thead>\n",
       "  <tbody>\n",
       "    <tr>\n",
       "      <th>A</th>\n",
       "      <td>0.000000</td>\n",
       "      <td>0.000000</td>\n",
       "      <td>0.000000</td>\n",
       "    </tr>\n",
       "    <tr>\n",
       "      <th>B</th>\n",
       "      <td>-0.067784</td>\n",
       "      <td>-0.736065</td>\n",
       "      <td>-0.833548</td>\n",
       "    </tr>\n",
       "    <tr>\n",
       "      <th>C</th>\n",
       "      <td>0.733001</td>\n",
       "      <td>-0.855269</td>\n",
       "      <td>-0.397368</td>\n",
       "    </tr>\n",
       "    <tr>\n",
       "      <th>D</th>\n",
       "      <td>0.044591</td>\n",
       "      <td>0.502093</td>\n",
       "      <td>0.399788</td>\n",
       "    </tr>\n",
       "    <tr>\n",
       "      <th>E</th>\n",
       "      <td>-1.125558</td>\n",
       "      <td>-2.266503</td>\n",
       "      <td>1.090213</td>\n",
       "    </tr>\n",
       "    <tr>\n",
       "      <th>F</th>\n",
       "      <td>-2.277554</td>\n",
       "      <td>-0.859790</td>\n",
       "      <td>-1.368985</td>\n",
       "    </tr>\n",
       "  </tbody>\n",
       "</table>\n",
       "</div>"
      ],
      "text/plain": [
       "      Books      Pens         1\n",
       "A  0.000000  0.000000  0.000000\n",
       "B -0.067784 -0.736065 -0.833548\n",
       "C  0.733001 -0.855269 -0.397368\n",
       "D  0.044591  0.502093  0.399788\n",
       "E -1.125558 -2.266503  1.090213\n",
       "F -2.277554 -0.859790 -1.368985"
      ]
     },
     "execution_count": 56,
     "metadata": {},
     "output_type": "execute_result"
    }
   ],
   "source": [
    "dataframe_1 - dataframe_1.loc['A']"
   ]
  },
  {
   "cell_type": "markdown",
   "id": "e1ef80a2",
   "metadata": {},
   "source": [
    "By default, the operation between a DF and Series matches the index of the Series with DF columns.\n",
    "\n",
    "We can also do the operation along DF index. In this case, we should use arithmetic methods:"
   ]
  },
  {
   "cell_type": "code",
   "execution_count": 59,
   "id": "2a711519",
   "metadata": {},
   "outputs": [
    {
     "data": {
      "text/html": [
       "<div>\n",
       "<style scoped>\n",
       "    .dataframe tbody tr th:only-of-type {\n",
       "        vertical-align: middle;\n",
       "    }\n",
       "\n",
       "    .dataframe tbody tr th {\n",
       "        vertical-align: top;\n",
       "    }\n",
       "\n",
       "    .dataframe thead th {\n",
       "        text-align: right;\n",
       "    }\n",
       "</style>\n",
       "<table border=\"1\" class=\"dataframe\">\n",
       "  <thead>\n",
       "    <tr style=\"text-align: right;\">\n",
       "      <th></th>\n",
       "      <th>Books</th>\n",
       "      <th>Pens</th>\n",
       "      <th>1</th>\n",
       "    </tr>\n",
       "  </thead>\n",
       "  <tbody>\n",
       "    <tr>\n",
       "      <th>A</th>\n",
       "      <td>0.0</td>\n",
       "      <td>0.564473</td>\n",
       "      <td>0.590441</td>\n",
       "    </tr>\n",
       "    <tr>\n",
       "      <th>B</th>\n",
       "      <td>0.0</td>\n",
       "      <td>-0.103807</td>\n",
       "      <td>-0.175323</td>\n",
       "    </tr>\n",
       "    <tr>\n",
       "      <th>C</th>\n",
       "      <td>0.0</td>\n",
       "      <td>-1.023796</td>\n",
       "      <td>-0.539928</td>\n",
       "    </tr>\n",
       "    <tr>\n",
       "      <th>D</th>\n",
       "      <td>0.0</td>\n",
       "      <td>1.021975</td>\n",
       "      <td>0.945637</td>\n",
       "    </tr>\n",
       "    <tr>\n",
       "      <th>E</th>\n",
       "      <td>0.0</td>\n",
       "      <td>-0.576472</td>\n",
       "      <td>2.806212</td>\n",
       "    </tr>\n",
       "    <tr>\n",
       "      <th>F</th>\n",
       "      <td>0.0</td>\n",
       "      <td>1.982237</td>\n",
       "      <td>1.499010</td>\n",
       "    </tr>\n",
       "  </tbody>\n",
       "</table>\n",
       "</div>"
      ],
      "text/plain": [
       "   Books      Pens         1\n",
       "A    0.0  0.564473  0.590441\n",
       "B    0.0 -0.103807 -0.175323\n",
       "C    0.0 -1.023796 -0.539928\n",
       "D    0.0  1.021975  0.945637\n",
       "E    0.0 -0.576472  2.806212\n",
       "F    0.0  1.982237  1.499010"
      ]
     },
     "execution_count": 59,
     "metadata": {},
     "output_type": "execute_result"
    }
   ],
   "source": [
    "dataframe_1.sub(dataframe_1['Books'], axis=0) # The number of axis we pass corresponds to the axis we want to match on."
   ]
  },
  {
   "cell_type": "markdown",
   "id": "4bf5e88d",
   "metadata": {},
   "source": [
    "## Function application and mapping"
   ]
  },
  {
   "cell_type": "markdown",
   "id": "aefa282c",
   "metadata": {},
   "source": [
    "We can apply ufunc functions of NumPy to DF and Series:"
   ]
  },
  {
   "cell_type": "code",
   "execution_count": 61,
   "id": "54624f9c",
   "metadata": {},
   "outputs": [
    {
     "data": {
      "text/html": [
       "<div>\n",
       "<style scoped>\n",
       "    .dataframe tbody tr th:only-of-type {\n",
       "        vertical-align: middle;\n",
       "    }\n",
       "\n",
       "    .dataframe tbody tr th {\n",
       "        vertical-align: top;\n",
       "    }\n",
       "\n",
       "    .dataframe thead th {\n",
       "        text-align: right;\n",
       "    }\n",
       "</style>\n",
       "<table border=\"1\" class=\"dataframe\">\n",
       "  <thead>\n",
       "    <tr style=\"text-align: right;\">\n",
       "      <th></th>\n",
       "      <th>Books</th>\n",
       "      <th>Pens</th>\n",
       "      <th>1</th>\n",
       "    </tr>\n",
       "  </thead>\n",
       "  <tbody>\n",
       "    <tr>\n",
       "      <th>A</th>\n",
       "      <td>1.112018</td>\n",
       "      <td>1.955508</td>\n",
       "      <td>2.006952</td>\n",
       "    </tr>\n",
       "    <tr>\n",
       "      <th>B</th>\n",
       "      <td>1.039139</td>\n",
       "      <td>0.936679</td>\n",
       "      <td>0.872030</td>\n",
       "    </tr>\n",
       "    <tr>\n",
       "      <th>C</th>\n",
       "      <td>2.314462</td>\n",
       "      <td>0.831421</td>\n",
       "      <td>1.348846</td>\n",
       "    </tr>\n",
       "    <tr>\n",
       "      <th>D</th>\n",
       "      <td>1.162727</td>\n",
       "      <td>3.230843</td>\n",
       "      <td>2.993385</td>\n",
       "    </tr>\n",
       "    <tr>\n",
       "      <th>E</th>\n",
       "      <td>0.360818</td>\n",
       "      <td>0.202735</td>\n",
       "      <td>5.970499</td>\n",
       "    </tr>\n",
       "    <tr>\n",
       "      <th>F</th>\n",
       "      <td>0.114020</td>\n",
       "      <td>0.827670</td>\n",
       "      <td>0.510498</td>\n",
       "    </tr>\n",
       "  </tbody>\n",
       "</table>\n",
       "</div>"
      ],
      "text/plain": [
       "      Books      Pens         1\n",
       "A  1.112018  1.955508  2.006952\n",
       "B  1.039139  0.936679  0.872030\n",
       "C  2.314462  0.831421  1.348846\n",
       "D  1.162727  3.230843  2.993385\n",
       "E  0.360818  0.202735  5.970499\n",
       "F  0.114020  0.827670  0.510498"
      ]
     },
     "execution_count": 61,
     "metadata": {},
     "output_type": "execute_result"
    }
   ],
   "source": [
    "np.exp(dataframe_1)"
   ]
  },
  {
   "cell_type": "markdown",
   "id": "36671d3b",
   "metadata": {},
   "source": [
    "We can apply functions of one-dimensional arrays to each row or column of a DF."
   ]
  },
  {
   "cell_type": "code",
   "execution_count": 62,
   "id": "d68317ab",
   "metadata": {},
   "outputs": [
    {
     "data": {
      "text/html": [
       "<div>\n",
       "<style scoped>\n",
       "    .dataframe tbody tr th:only-of-type {\n",
       "        vertical-align: middle;\n",
       "    }\n",
       "\n",
       "    .dataframe tbody tr th {\n",
       "        vertical-align: top;\n",
       "    }\n",
       "\n",
       "    .dataframe thead th {\n",
       "        text-align: right;\n",
       "    }\n",
       "</style>\n",
       "<table border=\"1\" class=\"dataframe\">\n",
       "  <thead>\n",
       "    <tr style=\"text-align: right;\">\n",
       "      <th></th>\n",
       "      <th>Books</th>\n",
       "      <th>Pens</th>\n",
       "      <th>1</th>\n",
       "    </tr>\n",
       "  </thead>\n",
       "  <tbody>\n",
       "    <tr>\n",
       "      <th>A</th>\n",
       "      <td>0.106177</td>\n",
       "      <td>0.670650</td>\n",
       "      <td>0.696617</td>\n",
       "    </tr>\n",
       "    <tr>\n",
       "      <th>B</th>\n",
       "      <td>0.038392</td>\n",
       "      <td>-0.065415</td>\n",
       "      <td>-0.136931</td>\n",
       "    </tr>\n",
       "    <tr>\n",
       "      <th>C</th>\n",
       "      <td>0.839177</td>\n",
       "      <td>-0.184619</td>\n",
       "      <td>0.299250</td>\n",
       "    </tr>\n",
       "    <tr>\n",
       "      <th>D</th>\n",
       "      <td>0.150768</td>\n",
       "      <td>1.172743</td>\n",
       "      <td>1.096405</td>\n",
       "    </tr>\n",
       "    <tr>\n",
       "      <th>E</th>\n",
       "      <td>-1.019381</td>\n",
       "      <td>-1.595853</td>\n",
       "      <td>1.786830</td>\n",
       "    </tr>\n",
       "    <tr>\n",
       "      <th>F</th>\n",
       "      <td>-2.171378</td>\n",
       "      <td>-0.189140</td>\n",
       "      <td>-0.672368</td>\n",
       "    </tr>\n",
       "  </tbody>\n",
       "</table>\n",
       "</div>"
      ],
      "text/plain": [
       "      Books      Pens         1\n",
       "A  0.106177  0.670650  0.696617\n",
       "B  0.038392 -0.065415 -0.136931\n",
       "C  0.839177 -0.184619  0.299250\n",
       "D  0.150768  1.172743  1.096405\n",
       "E -1.019381 -1.595853  1.786830\n",
       "F -2.171378 -0.189140 -0.672368"
      ]
     },
     "execution_count": 62,
     "metadata": {},
     "output_type": "execute_result"
    }
   ],
   "source": [
    "f = lambda x: x.max() - x.min()\n",
    "dataframe_1"
   ]
  },
  {
   "cell_type": "code",
   "execution_count": 63,
   "id": "6d2cb01b",
   "metadata": {},
   "outputs": [
    {
     "data": {
      "text/plain": [
       "Books    3.010555\n",
       "Pens     2.768597\n",
       "1        2.459198\n",
       "dtype: float64"
      ]
     },
     "execution_count": 63,
     "metadata": {},
     "output_type": "execute_result"
    }
   ],
   "source": [
    "dataframe_1.apply(f)"
   ]
  },
  {
   "cell_type": "markdown",
   "id": "ed9dbbf9",
   "metadata": {},
   "source": [
    "If you want to apply the function to rows, set axis='columns'"
   ]
  },
  {
   "cell_type": "code",
   "execution_count": 64,
   "id": "700a3adf",
   "metadata": {},
   "outputs": [
    {
     "data": {
      "text/plain": [
       "A    0.590441\n",
       "B    0.175323\n",
       "C    1.023796\n",
       "D    1.021975\n",
       "E    3.382684\n",
       "F    1.982237\n",
       "dtype: float64"
      ]
     },
     "execution_count": 64,
     "metadata": {},
     "output_type": "execute_result"
    }
   ],
   "source": [
    "dataframe_1.apply(f, axis='columns')"
   ]
  },
  {
   "cell_type": "markdown",
   "id": "02e11517",
   "metadata": {},
   "source": [
    "The function we apply to DF need not return a scaler. It can be a Series for instance:"
   ]
  },
  {
   "cell_type": "code",
   "execution_count": 67,
   "id": "304f0007",
   "metadata": {},
   "outputs": [],
   "source": [
    "f2 = lambda x: pd.Series([x.min(), x.max()], index = ['x_min', 'x_max'])"
   ]
  },
  {
   "cell_type": "code",
   "execution_count": 68,
   "id": "6295d806",
   "metadata": {},
   "outputs": [
    {
     "data": {
      "text/html": [
       "<div>\n",
       "<style scoped>\n",
       "    .dataframe tbody tr th:only-of-type {\n",
       "        vertical-align: middle;\n",
       "    }\n",
       "\n",
       "    .dataframe tbody tr th {\n",
       "        vertical-align: top;\n",
       "    }\n",
       "\n",
       "    .dataframe thead th {\n",
       "        text-align: right;\n",
       "    }\n",
       "</style>\n",
       "<table border=\"1\" class=\"dataframe\">\n",
       "  <thead>\n",
       "    <tr style=\"text-align: right;\">\n",
       "      <th></th>\n",
       "      <th>Books</th>\n",
       "      <th>Pens</th>\n",
       "      <th>1</th>\n",
       "    </tr>\n",
       "  </thead>\n",
       "  <tbody>\n",
       "    <tr>\n",
       "      <th>x_min</th>\n",
       "      <td>-2.171378</td>\n",
       "      <td>-1.595853</td>\n",
       "      <td>-0.672368</td>\n",
       "    </tr>\n",
       "    <tr>\n",
       "      <th>x_max</th>\n",
       "      <td>0.839177</td>\n",
       "      <td>1.172743</td>\n",
       "      <td>1.786830</td>\n",
       "    </tr>\n",
       "  </tbody>\n",
       "</table>\n",
       "</div>"
      ],
      "text/plain": [
       "          Books      Pens         1\n",
       "x_min -2.171378 -1.595853 -0.672368\n",
       "x_max  0.839177  1.172743  1.786830"
      ]
     },
     "execution_count": 68,
     "metadata": {},
     "output_type": "execute_result"
    }
   ],
   "source": [
    "dataframe_1.apply(f2)"
   ]
  },
  {
   "cell_type": "markdown",
   "id": "90effad2",
   "metadata": {},
   "source": [
    "Now let's apply a function to elements of DF, instead of applying it to row or column. For this, use the applymap method. The reason for this naming convention is that for Series, we have a map method."
   ]
  },
  {
   "cell_type": "code",
   "execution_count": 69,
   "id": "bf0a768a",
   "metadata": {},
   "outputs": [],
   "source": [
    "f3 = lambda x: x + np.sin(x)"
   ]
  },
  {
   "cell_type": "code",
   "execution_count": 70,
   "id": "836c34cd",
   "metadata": {},
   "outputs": [
    {
     "data": {
      "text/html": [
       "<div>\n",
       "<style scoped>\n",
       "    .dataframe tbody tr th:only-of-type {\n",
       "        vertical-align: middle;\n",
       "    }\n",
       "\n",
       "    .dataframe tbody tr th {\n",
       "        vertical-align: top;\n",
       "    }\n",
       "\n",
       "    .dataframe thead th {\n",
       "        text-align: right;\n",
       "    }\n",
       "</style>\n",
       "<table border=\"1\" class=\"dataframe\">\n",
       "  <thead>\n",
       "    <tr style=\"text-align: right;\">\n",
       "      <th></th>\n",
       "      <th>Books</th>\n",
       "      <th>Pens</th>\n",
       "      <th>1</th>\n",
       "    </tr>\n",
       "  </thead>\n",
       "  <tbody>\n",
       "    <tr>\n",
       "      <th>A</th>\n",
       "      <td>0.212154</td>\n",
       "      <td>1.292145</td>\n",
       "      <td>1.338244</td>\n",
       "    </tr>\n",
       "    <tr>\n",
       "      <th>B</th>\n",
       "      <td>0.076775</td>\n",
       "      <td>-0.130783</td>\n",
       "      <td>-0.273434</td>\n",
       "    </tr>\n",
       "    <tr>\n",
       "      <th>C</th>\n",
       "      <td>1.583271</td>\n",
       "      <td>-0.368191</td>\n",
       "      <td>0.594053</td>\n",
       "    </tr>\n",
       "    <tr>\n",
       "      <th>D</th>\n",
       "      <td>0.300965</td>\n",
       "      <td>2.094561</td>\n",
       "      <td>1.985976</td>\n",
       "    </tr>\n",
       "    <tr>\n",
       "      <th>E</th>\n",
       "      <td>-1.871166</td>\n",
       "      <td>-2.595539</td>\n",
       "      <td>2.763586</td>\n",
       "    </tr>\n",
       "    <tr>\n",
       "      <th>F</th>\n",
       "      <td>-2.996385</td>\n",
       "      <td>-0.377155</td>\n",
       "      <td>-1.295208</td>\n",
       "    </tr>\n",
       "  </tbody>\n",
       "</table>\n",
       "</div>"
      ],
      "text/plain": [
       "      Books      Pens         1\n",
       "A  0.212154  1.292145  1.338244\n",
       "B  0.076775 -0.130783 -0.273434\n",
       "C  1.583271 -0.368191  0.594053\n",
       "D  0.300965  2.094561  1.985976\n",
       "E -1.871166 -2.595539  2.763586\n",
       "F -2.996385 -0.377155 -1.295208"
      ]
     },
     "execution_count": 70,
     "metadata": {},
     "output_type": "execute_result"
    }
   ],
   "source": [
    "dataframe_1.applymap(f3)"
   ]
  },
  {
   "cell_type": "markdown",
   "id": "58b209b0",
   "metadata": {},
   "source": [
    "For Series, we have the map method:"
   ]
  },
  {
   "cell_type": "code",
   "execution_count": 71,
   "id": "fbcb7186",
   "metadata": {},
   "outputs": [
    {
     "data": {
      "text/plain": [
       "0    10\n",
       "1    20\n",
       "2    30\n",
       "3    40\n",
       "dtype: int32"
      ]
     },
     "execution_count": 71,
     "metadata": {},
     "output_type": "execute_result"
    }
   ],
   "source": [
    "series_1"
   ]
  },
  {
   "cell_type": "code",
   "execution_count": 72,
   "id": "f565229c",
   "metadata": {},
   "outputs": [
    {
     "data": {
      "text/plain": [
       "0     9.455979\n",
       "1    20.912945\n",
       "2    29.011968\n",
       "3    40.745113\n",
       "dtype: float64"
      ]
     },
     "execution_count": 72,
     "metadata": {},
     "output_type": "execute_result"
    }
   ],
   "source": [
    "series_1.map(f3)"
   ]
  },
  {
   "cell_type": "code",
   "execution_count": 74,
   "id": "246d456f",
   "metadata": {},
   "outputs": [
    {
     "name": "stdout",
     "output_type": "stream",
     "text": [
      "[0, 1, 2, 3]\n",
      "[5, 6, 7, 8, 9]\n"
     ]
    }
   ],
   "source": [
    "x = list(range(4))\n",
    "y = list(range(5,10))\n",
    "print(x)\n",
    "print(y)"
   ]
  },
  {
   "cell_type": "code",
   "execution_count": 75,
   "id": "8db2a865",
   "metadata": {},
   "outputs": [
    {
     "name": "stdout",
     "output_type": "stream",
     "text": [
      "x is extended to be [0, 1, 2, 3, 5, 6, 7, 8, 9]\n"
     ]
    }
   ],
   "source": [
    "x.extend(y)\n",
    "print(f\"x is extended to be {x}\")"
   ]
  },
  {
   "cell_type": "markdown",
   "id": "dc3ccc90",
   "metadata": {},
   "source": [
    "Diverging from subject here. Interesting string formatting in Python:"
   ]
  },
  {
   "cell_type": "code",
   "execution_count": 91,
   "id": "85057c57",
   "metadata": {},
   "outputs": [
    {
     "name": "stdout",
     "output_type": "stream",
     "text": [
      "The value is 2.154327 and the second value is 3.44444\n",
      "The value is 2.15 and the second value is 3.44\n",
      "The value is 2.15 and the second value is 3.44\n",
      "The value is 3.44 and the second value is 2.15\n"
     ]
    }
   ],
   "source": [
    "float1 = 2.154327\n",
    "float2 = 3.44444\n",
    "format_float = \"The value is {0} and the second value is {1}\".format(float1, float2)\n",
    "print(format_float)\n",
    "format_float2 = \"The value is {0:.2f} and the second value is {1:0.2f}\".format(float1, float2) # This is how we can specify \n",
    "#how many float decimals places we want.\n",
    "print(format_float2)\n",
    "format_float3 = \"The value is {:.2f} and the second value is {:0.2f}\".format(float1, float2)\n",
    "print(format_float3) # Here you can see that we could do it without putting the placeholders 0 and 1.\n",
    "format_float4 = \"The value is {1:.2f} and the second value is {0:0.2f}\".format(float1, float2)\n",
    "print(format_float4) # This reverses the order of numbers."
   ]
  },
  {
   "cell_type": "markdown",
   "id": "ebf6c4ee",
   "metadata": {},
   "source": [
    "### Sorting and ranking"
   ]
  },
  {
   "cell_type": "markdown",
   "id": "dc5943a3",
   "metadata": {},
   "source": [
    "We can sort Series and DF by either index or values:\n",
    "\n",
    "sort_index method -> sorting by index (we can specify axis also)\n",
    "\n",
    "sort_values method -> sorting by values (we can pass multiple columns based on which we sort)"
   ]
  },
  {
   "cell_type": "code",
   "execution_count": 98,
   "id": "e505a7ba",
   "metadata": {},
   "outputs": [
    {
     "data": {
      "text/plain": [
       "4    10\n",
       "3    30\n",
       "1    50\n",
       "2    40\n",
       "dtype: int64"
      ]
     },
     "execution_count": 98,
     "metadata": {},
     "output_type": "execute_result"
    }
   ],
   "source": [
    "series_6 = pd.Series([10, 30, 50, 40], index=[4, 3, 1, 2])\n",
    "series_6"
   ]
  },
  {
   "cell_type": "code",
   "execution_count": 99,
   "id": "e26c0e33",
   "metadata": {},
   "outputs": [
    {
     "data": {
      "text/plain": [
       "1    50\n",
       "2    40\n",
       "3    30\n",
       "4    10\n",
       "dtype: int64"
      ]
     },
     "execution_count": 99,
     "metadata": {},
     "output_type": "execute_result"
    }
   ],
   "source": [
    "series_6.sort_index()"
   ]
  },
  {
   "cell_type": "code",
   "execution_count": 117,
   "id": "eb0c04e7",
   "metadata": {},
   "outputs": [
    {
     "data": {
      "text/plain": [
       "4    10\n",
       "3    30\n",
       "2    40\n",
       "1    50\n",
       "dtype: int64"
      ]
     },
     "execution_count": 117,
     "metadata": {},
     "output_type": "execute_result"
    }
   ],
   "source": [
    "series_6.sort_values() # missing values go to the end."
   ]
  },
  {
   "cell_type": "markdown",
   "id": "81ff74b0",
   "metadata": {},
   "source": [
    "Let's look at DF:"
   ]
  },
  {
   "cell_type": "code",
   "execution_count": 118,
   "id": "37b91886",
   "metadata": {},
   "outputs": [
    {
     "data": {
      "text/html": [
       "<div>\n",
       "<style scoped>\n",
       "    .dataframe tbody tr th:only-of-type {\n",
       "        vertical-align: middle;\n",
       "    }\n",
       "\n",
       "    .dataframe tbody tr th {\n",
       "        vertical-align: top;\n",
       "    }\n",
       "\n",
       "    .dataframe thead th {\n",
       "        text-align: right;\n",
       "    }\n",
       "</style>\n",
       "<table border=\"1\" class=\"dataframe\">\n",
       "  <thead>\n",
       "    <tr style=\"text-align: right;\">\n",
       "      <th></th>\n",
       "      <th>B</th>\n",
       "      <th>A</th>\n",
       "      <th>C</th>\n",
       "    </tr>\n",
       "  </thead>\n",
       "  <tbody>\n",
       "    <tr>\n",
       "      <th>1</th>\n",
       "      <td>4</td>\n",
       "      <td>5</td>\n",
       "      <td>4</td>\n",
       "    </tr>\n",
       "    <tr>\n",
       "      <th>4</th>\n",
       "      <td>5</td>\n",
       "      <td>4</td>\n",
       "      <td>5</td>\n",
       "    </tr>\n",
       "    <tr>\n",
       "      <th>3</th>\n",
       "      <td>3</td>\n",
       "      <td>5</td>\n",
       "      <td>5</td>\n",
       "    </tr>\n",
       "    <tr>\n",
       "      <th>2</th>\n",
       "      <td>5</td>\n",
       "      <td>5</td>\n",
       "      <td>4</td>\n",
       "    </tr>\n",
       "  </tbody>\n",
       "</table>\n",
       "</div>"
      ],
      "text/plain": [
       "   B  A  C\n",
       "1  4  5  4\n",
       "4  5  4  5\n",
       "3  3  5  5\n",
       "2  5  5  4"
      ]
     },
     "execution_count": 118,
     "metadata": {},
     "output_type": "execute_result"
    }
   ],
   "source": [
    "dataframe_2 = pd.DataFrame(np.random.randint(3, 6, (4, 3)), index = list('1432'), columns=list('BAC'))\n",
    "dataframe_2"
   ]
  },
  {
   "cell_type": "code",
   "execution_count": 119,
   "id": "4f26a80b",
   "metadata": {},
   "outputs": [
    {
     "data": {
      "text/html": [
       "<div>\n",
       "<style scoped>\n",
       "    .dataframe tbody tr th:only-of-type {\n",
       "        vertical-align: middle;\n",
       "    }\n",
       "\n",
       "    .dataframe tbody tr th {\n",
       "        vertical-align: top;\n",
       "    }\n",
       "\n",
       "    .dataframe thead th {\n",
       "        text-align: right;\n",
       "    }\n",
       "</style>\n",
       "<table border=\"1\" class=\"dataframe\">\n",
       "  <thead>\n",
       "    <tr style=\"text-align: right;\">\n",
       "      <th></th>\n",
       "      <th>B</th>\n",
       "      <th>A</th>\n",
       "      <th>C</th>\n",
       "    </tr>\n",
       "  </thead>\n",
       "  <tbody>\n",
       "    <tr>\n",
       "      <th>1</th>\n",
       "      <td>4</td>\n",
       "      <td>5</td>\n",
       "      <td>4</td>\n",
       "    </tr>\n",
       "    <tr>\n",
       "      <th>2</th>\n",
       "      <td>5</td>\n",
       "      <td>5</td>\n",
       "      <td>4</td>\n",
       "    </tr>\n",
       "    <tr>\n",
       "      <th>3</th>\n",
       "      <td>3</td>\n",
       "      <td>5</td>\n",
       "      <td>5</td>\n",
       "    </tr>\n",
       "    <tr>\n",
       "      <th>4</th>\n",
       "      <td>5</td>\n",
       "      <td>4</td>\n",
       "      <td>5</td>\n",
       "    </tr>\n",
       "  </tbody>\n",
       "</table>\n",
       "</div>"
      ],
      "text/plain": [
       "   B  A  C\n",
       "1  4  5  4\n",
       "2  5  5  4\n",
       "3  3  5  5\n",
       "4  5  4  5"
      ]
     },
     "execution_count": 119,
     "metadata": {},
     "output_type": "execute_result"
    }
   ],
   "source": [
    "dataframe_2.sort_index()"
   ]
  },
  {
   "cell_type": "code",
   "execution_count": 120,
   "id": "22c3cfaa",
   "metadata": {},
   "outputs": [
    {
     "data": {
      "text/html": [
       "<div>\n",
       "<style scoped>\n",
       "    .dataframe tbody tr th:only-of-type {\n",
       "        vertical-align: middle;\n",
       "    }\n",
       "\n",
       "    .dataframe tbody tr th {\n",
       "        vertical-align: top;\n",
       "    }\n",
       "\n",
       "    .dataframe thead th {\n",
       "        text-align: right;\n",
       "    }\n",
       "</style>\n",
       "<table border=\"1\" class=\"dataframe\">\n",
       "  <thead>\n",
       "    <tr style=\"text-align: right;\">\n",
       "      <th></th>\n",
       "      <th>A</th>\n",
       "      <th>B</th>\n",
       "      <th>C</th>\n",
       "    </tr>\n",
       "  </thead>\n",
       "  <tbody>\n",
       "    <tr>\n",
       "      <th>1</th>\n",
       "      <td>5</td>\n",
       "      <td>4</td>\n",
       "      <td>4</td>\n",
       "    </tr>\n",
       "    <tr>\n",
       "      <th>4</th>\n",
       "      <td>4</td>\n",
       "      <td>5</td>\n",
       "      <td>5</td>\n",
       "    </tr>\n",
       "    <tr>\n",
       "      <th>3</th>\n",
       "      <td>5</td>\n",
       "      <td>3</td>\n",
       "      <td>5</td>\n",
       "    </tr>\n",
       "    <tr>\n",
       "      <th>2</th>\n",
       "      <td>5</td>\n",
       "      <td>5</td>\n",
       "      <td>4</td>\n",
       "    </tr>\n",
       "  </tbody>\n",
       "</table>\n",
       "</div>"
      ],
      "text/plain": [
       "   A  B  C\n",
       "1  5  4  4\n",
       "4  4  5  5\n",
       "3  5  3  5\n",
       "2  5  5  4"
      ]
     },
     "execution_count": 120,
     "metadata": {},
     "output_type": "execute_result"
    }
   ],
   "source": [
    "dataframe_2.sort_index(axis='columns')"
   ]
  },
  {
   "cell_type": "code",
   "execution_count": 121,
   "id": "753176a1",
   "metadata": {},
   "outputs": [
    {
     "data": {
      "text/html": [
       "<div>\n",
       "<style scoped>\n",
       "    .dataframe tbody tr th:only-of-type {\n",
       "        vertical-align: middle;\n",
       "    }\n",
       "\n",
       "    .dataframe tbody tr th {\n",
       "        vertical-align: top;\n",
       "    }\n",
       "\n",
       "    .dataframe thead th {\n",
       "        text-align: right;\n",
       "    }\n",
       "</style>\n",
       "<table border=\"1\" class=\"dataframe\">\n",
       "  <thead>\n",
       "    <tr style=\"text-align: right;\">\n",
       "      <th></th>\n",
       "      <th>B</th>\n",
       "      <th>A</th>\n",
       "      <th>C</th>\n",
       "    </tr>\n",
       "  </thead>\n",
       "  <tbody>\n",
       "    <tr>\n",
       "      <th>1</th>\n",
       "      <td>4</td>\n",
       "      <td>5</td>\n",
       "      <td>4</td>\n",
       "    </tr>\n",
       "    <tr>\n",
       "      <th>2</th>\n",
       "      <td>5</td>\n",
       "      <td>5</td>\n",
       "      <td>4</td>\n",
       "    </tr>\n",
       "    <tr>\n",
       "      <th>4</th>\n",
       "      <td>5</td>\n",
       "      <td>4</td>\n",
       "      <td>5</td>\n",
       "    </tr>\n",
       "    <tr>\n",
       "      <th>3</th>\n",
       "      <td>3</td>\n",
       "      <td>5</td>\n",
       "      <td>5</td>\n",
       "    </tr>\n",
       "  </tbody>\n",
       "</table>\n",
       "</div>"
      ],
      "text/plain": [
       "   B  A  C\n",
       "1  4  5  4\n",
       "2  5  5  4\n",
       "4  5  4  5\n",
       "3  3  5  5"
      ]
     },
     "execution_count": 121,
     "metadata": {},
     "output_type": "execute_result"
    }
   ],
   "source": [
    "dataframe_2.sort_values(by='C') # Sorting by column 'C'"
   ]
  },
  {
   "cell_type": "code",
   "execution_count": 122,
   "id": "c48c41be",
   "metadata": {},
   "outputs": [
    {
     "data": {
      "text/html": [
       "<div>\n",
       "<style scoped>\n",
       "    .dataframe tbody tr th:only-of-type {\n",
       "        vertical-align: middle;\n",
       "    }\n",
       "\n",
       "    .dataframe tbody tr th {\n",
       "        vertical-align: top;\n",
       "    }\n",
       "\n",
       "    .dataframe thead th {\n",
       "        text-align: right;\n",
       "    }\n",
       "</style>\n",
       "<table border=\"1\" class=\"dataframe\">\n",
       "  <thead>\n",
       "    <tr style=\"text-align: right;\">\n",
       "      <th></th>\n",
       "      <th>B</th>\n",
       "      <th>A</th>\n",
       "      <th>C</th>\n",
       "    </tr>\n",
       "  </thead>\n",
       "  <tbody>\n",
       "    <tr>\n",
       "      <th>1</th>\n",
       "      <td>4</td>\n",
       "      <td>5</td>\n",
       "      <td>4</td>\n",
       "    </tr>\n",
       "    <tr>\n",
       "      <th>2</th>\n",
       "      <td>5</td>\n",
       "      <td>5</td>\n",
       "      <td>4</td>\n",
       "    </tr>\n",
       "    <tr>\n",
       "      <th>3</th>\n",
       "      <td>3</td>\n",
       "      <td>5</td>\n",
       "      <td>5</td>\n",
       "    </tr>\n",
       "    <tr>\n",
       "      <th>4</th>\n",
       "      <td>5</td>\n",
       "      <td>4</td>\n",
       "      <td>5</td>\n",
       "    </tr>\n",
       "  </tbody>\n",
       "</table>\n",
       "</div>"
      ],
      "text/plain": [
       "   B  A  C\n",
       "1  4  5  4\n",
       "2  5  5  4\n",
       "3  3  5  5\n",
       "4  5  4  5"
      ]
     },
     "execution_count": 122,
     "metadata": {},
     "output_type": "execute_result"
    }
   ],
   "source": [
    "dataframe_2.sort_values(by=['C', 'B']) # Sorting by first column 'C', and then sorting with respect to column 'B'"
   ]
  },
  {
   "cell_type": "markdown",
   "id": "14f961c8",
   "metadata": {},
   "source": [
    "We can also sort in descending manner (the default is ascending):"
   ]
  },
  {
   "cell_type": "code",
   "execution_count": 123,
   "id": "f03c8805",
   "metadata": {},
   "outputs": [
    {
     "data": {
      "text/html": [
       "<div>\n",
       "<style scoped>\n",
       "    .dataframe tbody tr th:only-of-type {\n",
       "        vertical-align: middle;\n",
       "    }\n",
       "\n",
       "    .dataframe tbody tr th {\n",
       "        vertical-align: top;\n",
       "    }\n",
       "\n",
       "    .dataframe thead th {\n",
       "        text-align: right;\n",
       "    }\n",
       "</style>\n",
       "<table border=\"1\" class=\"dataframe\">\n",
       "  <thead>\n",
       "    <tr style=\"text-align: right;\">\n",
       "      <th></th>\n",
       "      <th>B</th>\n",
       "      <th>A</th>\n",
       "      <th>C</th>\n",
       "    </tr>\n",
       "  </thead>\n",
       "  <tbody>\n",
       "    <tr>\n",
       "      <th>1</th>\n",
       "      <td>4</td>\n",
       "      <td>5</td>\n",
       "      <td>4</td>\n",
       "    </tr>\n",
       "    <tr>\n",
       "      <th>2</th>\n",
       "      <td>5</td>\n",
       "      <td>5</td>\n",
       "      <td>4</td>\n",
       "    </tr>\n",
       "    <tr>\n",
       "      <th>3</th>\n",
       "      <td>3</td>\n",
       "      <td>5</td>\n",
       "      <td>5</td>\n",
       "    </tr>\n",
       "    <tr>\n",
       "      <th>4</th>\n",
       "      <td>5</td>\n",
       "      <td>4</td>\n",
       "      <td>5</td>\n",
       "    </tr>\n",
       "  </tbody>\n",
       "</table>\n",
       "</div>"
      ],
      "text/plain": [
       "   B  A  C\n",
       "1  4  5  4\n",
       "2  5  5  4\n",
       "3  3  5  5\n",
       "4  5  4  5"
      ]
     },
     "execution_count": 123,
     "metadata": {},
     "output_type": "execute_result"
    }
   ],
   "source": [
    "dataframe_2.sort_index()"
   ]
  },
  {
   "cell_type": "code",
   "execution_count": 124,
   "id": "95fa7968",
   "metadata": {},
   "outputs": [
    {
     "data": {
      "text/html": [
       "<div>\n",
       "<style scoped>\n",
       "    .dataframe tbody tr th:only-of-type {\n",
       "        vertical-align: middle;\n",
       "    }\n",
       "\n",
       "    .dataframe tbody tr th {\n",
       "        vertical-align: top;\n",
       "    }\n",
       "\n",
       "    .dataframe thead th {\n",
       "        text-align: right;\n",
       "    }\n",
       "</style>\n",
       "<table border=\"1\" class=\"dataframe\">\n",
       "  <thead>\n",
       "    <tr style=\"text-align: right;\">\n",
       "      <th></th>\n",
       "      <th>B</th>\n",
       "      <th>A</th>\n",
       "      <th>C</th>\n",
       "    </tr>\n",
       "  </thead>\n",
       "  <tbody>\n",
       "    <tr>\n",
       "      <th>4</th>\n",
       "      <td>5</td>\n",
       "      <td>4</td>\n",
       "      <td>5</td>\n",
       "    </tr>\n",
       "    <tr>\n",
       "      <th>3</th>\n",
       "      <td>3</td>\n",
       "      <td>5</td>\n",
       "      <td>5</td>\n",
       "    </tr>\n",
       "    <tr>\n",
       "      <th>2</th>\n",
       "      <td>5</td>\n",
       "      <td>5</td>\n",
       "      <td>4</td>\n",
       "    </tr>\n",
       "    <tr>\n",
       "      <th>1</th>\n",
       "      <td>4</td>\n",
       "      <td>5</td>\n",
       "      <td>4</td>\n",
       "    </tr>\n",
       "  </tbody>\n",
       "</table>\n",
       "</div>"
      ],
      "text/plain": [
       "   B  A  C\n",
       "4  5  4  5\n",
       "3  3  5  5\n",
       "2  5  5  4\n",
       "1  4  5  4"
      ]
     },
     "execution_count": 124,
     "metadata": {},
     "output_type": "execute_result"
    }
   ],
   "source": [
    "dataframe_2.sort_index(ascending=False) # Descending"
   ]
  },
  {
   "cell_type": "markdown",
   "id": "43745b38",
   "metadata": {},
   "source": [
    "### Ranking"
   ]
  },
  {
   "cell_type": "markdown",
   "id": "17e7cdb4",
   "metadata": {},
   "source": [
    "We can assign ranks to data in array from one (1) to the number of valid data points. We basically assign to each value in array, a rank value that shows where it stands compared to the other values in the array. This can be both ascending or descending."
   ]
  },
  {
   "cell_type": "code",
   "execution_count": 126,
   "id": "f953d36b",
   "metadata": {},
   "outputs": [
    {
     "data": {
      "text/plain": [
       "4    10\n",
       "3    30\n",
       "1    50\n",
       "2    40\n",
       "dtype: int64"
      ]
     },
     "execution_count": 126,
     "metadata": {},
     "output_type": "execute_result"
    }
   ],
   "source": [
    "series_6"
   ]
  },
  {
   "cell_type": "code",
   "execution_count": 127,
   "id": "525e74b5",
   "metadata": {},
   "outputs": [
    {
     "data": {
      "text/plain": [
       "4    1.0\n",
       "3    2.0\n",
       "1    4.0\n",
       "2    3.0\n",
       "dtype: float64"
      ]
     },
     "execution_count": 127,
     "metadata": {},
     "output_type": "execute_result"
    }
   ],
   "source": [
    "series_6.rank()"
   ]
  },
  {
   "cell_type": "code",
   "execution_count": 128,
   "id": "5603fd82",
   "metadata": {},
   "outputs": [
    {
     "data": {
      "text/plain": [
       "4    4.0\n",
       "3    3.0\n",
       "1    1.0\n",
       "2    2.0\n",
       "dtype: float64"
      ]
     },
     "execution_count": 128,
     "metadata": {},
     "output_type": "execute_result"
    }
   ],
   "source": [
    "series_6.rank(ascending=False)"
   ]
  },
  {
   "cell_type": "markdown",
   "id": "109987e4",
   "metadata": {},
   "source": [
    "When we have duplicates of elements, we can change the way we rank them."
   ]
  },
  {
   "cell_type": "code",
   "execution_count": 130,
   "id": "7ff367ce",
   "metadata": {},
   "outputs": [
    {
     "data": {
      "text/plain": [
       "0    4\n",
       "1    5\n",
       "2    3\n",
       "3    5\n",
       "4    2\n",
       "5    2\n",
       "6    4\n",
       "7    5\n",
       "dtype: int32"
      ]
     },
     "execution_count": 130,
     "metadata": {},
     "output_type": "execute_result"
    }
   ],
   "source": [
    "series_7 = pd.Series(np.random.randint(2,6, 8))\n",
    "series_7"
   ]
  },
  {
   "cell_type": "code",
   "execution_count": 131,
   "id": "b3fe3681",
   "metadata": {},
   "outputs": [
    {
     "data": {
      "text/plain": [
       "0    4.5\n",
       "1    7.0\n",
       "2    3.0\n",
       "3    7.0\n",
       "4    1.5\n",
       "5    1.5\n",
       "6    4.5\n",
       "7    7.0\n",
       "dtype: float64"
      ]
     },
     "execution_count": 131,
     "metadata": {},
     "output_type": "execute_result"
    }
   ],
   "source": [
    "series_7.rank() #we have two 2's. The default ranking system is to assign to them the average of ranks 1, 2 (since they are\n",
    "#the smallest values so they have ranks 1, 2). \n",
    "#we have two 4's also. They are assigned the rank (4+5)/2 =4.5."
   ]
  },
  {
   "cell_type": "markdown",
   "id": "51fb941a",
   "metadata": {},
   "source": [
    "We can change the method by which we rank:"
   ]
  },
  {
   "cell_type": "code",
   "execution_count": 133,
   "id": "6316c394",
   "metadata": {},
   "outputs": [
    {
     "data": {
      "text/plain": [
       "0    4.0\n",
       "1    6.0\n",
       "2    3.0\n",
       "3    7.0\n",
       "4    1.0\n",
       "5    2.0\n",
       "6    5.0\n",
       "7    8.0\n",
       "dtype: float64"
      ]
     },
     "execution_count": 133,
     "metadata": {},
     "output_type": "execute_result"
    }
   ],
   "source": [
    "series_7.rank(method='first') # Elements are ranked based on which is first spotted in the array. For example, we have two 2's\n",
    "#The one corresponding to the index 4 is appeared first so it will take rank 1. Here, we are not averaging. The default method\n",
    "# is method = 'average'"
   ]
  },
  {
   "cell_type": "code",
   "execution_count": 137,
   "id": "593242b3",
   "metadata": {},
   "outputs": [
    {
     "data": {
      "text/plain": [
       "0    4.0\n",
       "1    6.0\n",
       "2    3.0\n",
       "3    6.0\n",
       "4    1.0\n",
       "5    1.0\n",
       "6    4.0\n",
       "7    6.0\n",
       "dtype: float64"
      ]
     },
     "execution_count": 137,
     "metadata": {},
     "output_type": "execute_result"
    }
   ],
   "source": [
    "series_7.rank(method='min') # using the minimum rank for the whole group. Notice the ranks for index 4 and 5 where the elements\n",
    "#are 2."
   ]
  },
  {
   "cell_type": "code",
   "execution_count": 138,
   "id": "67fa112e",
   "metadata": {},
   "outputs": [
    {
     "data": {
      "text/plain": [
       "0    5.0\n",
       "1    8.0\n",
       "2    3.0\n",
       "3    8.0\n",
       "4    2.0\n",
       "5    2.0\n",
       "6    5.0\n",
       "7    8.0\n",
       "dtype: float64"
      ]
     },
     "execution_count": 138,
     "metadata": {},
     "output_type": "execute_result"
    }
   ],
   "source": [
    "series_7.rank(method='max') # using the maximum rank for the whole group"
   ]
  },
  {
   "cell_type": "code",
   "execution_count": 139,
   "id": "d6a83784",
   "metadata": {},
   "outputs": [
    {
     "data": {
      "text/plain": [
       "0    3.0\n",
       "1    4.0\n",
       "2    2.0\n",
       "3    4.0\n",
       "4    1.0\n",
       "5    1.0\n",
       "6    3.0\n",
       "7    4.0\n",
       "dtype: float64"
      ]
     },
     "execution_count": 139,
     "metadata": {},
     "output_type": "execute_result"
    }
   ],
   "source": [
    "series_7.rank(method='dense') # if you notice the output of method='min', there is no rank=2. To not skip any rank when counting,\n",
    "#we can use the method 'dense'. It is similar to 'min', but ranks always increase by 1 between groups."
   ]
  },
  {
   "cell_type": "markdown",
   "id": "68b868f7",
   "metadata": {},
   "source": [
    "### Axis indexes with duplicate labels"
   ]
  },
  {
   "cell_type": "code",
   "execution_count": 141,
   "id": "91644418",
   "metadata": {},
   "outputs": [
    {
     "data": {
      "text/plain": [
       "A    0\n",
       "A    1\n",
       "B    2\n",
       "B    3\n",
       "C    4\n",
       "C    5\n",
       "D    6\n",
       "D    7\n",
       "dtype: int32"
      ]
     },
     "execution_count": 141,
     "metadata": {},
     "output_type": "execute_result"
    }
   ],
   "source": [
    "series_8 = pd.Series(np.arange(8), index=list('AABBCCDD'))\n",
    "series_8"
   ]
  },
  {
   "cell_type": "code",
   "execution_count": 143,
   "id": "3dc74c81",
   "metadata": {},
   "outputs": [
    {
     "data": {
      "text/plain": [
       "B    2\n",
       "B    3\n",
       "dtype: int32"
      ]
     },
     "execution_count": 143,
     "metadata": {},
     "output_type": "execute_result"
    }
   ],
   "source": [
    "series_8['B']# this returns all the values corresponding to index 'B'"
   ]
  },
  {
   "cell_type": "code",
   "execution_count": 146,
   "id": "ce3a0e41",
   "metadata": {},
   "outputs": [
    {
     "data": {
      "text/plain": [
       "False"
      ]
     },
     "execution_count": 146,
     "metadata": {},
     "output_type": "execute_result"
    }
   ],
   "source": [
    "series_8.index.is_unique # This shows if we have duplicates in index"
   ]
  },
  {
   "cell_type": "markdown",
   "id": "0f898492",
   "metadata": {},
   "source": [
    "The same goes for DataFrame:"
   ]
  },
  {
   "cell_type": "code",
   "execution_count": 147,
   "id": "3260eee7",
   "metadata": {},
   "outputs": [],
   "source": [
    "dataframe_3 = pd.DataFrame(np.arange(12).reshape(3, 4), index = list('AAB'), columns= ['C', 'C', 'D', 'E'])"
   ]
  },
  {
   "cell_type": "code",
   "execution_count": 148,
   "id": "460e3d82",
   "metadata": {},
   "outputs": [
    {
     "data": {
      "text/html": [
       "<div>\n",
       "<style scoped>\n",
       "    .dataframe tbody tr th:only-of-type {\n",
       "        vertical-align: middle;\n",
       "    }\n",
       "\n",
       "    .dataframe tbody tr th {\n",
       "        vertical-align: top;\n",
       "    }\n",
       "\n",
       "    .dataframe thead th {\n",
       "        text-align: right;\n",
       "    }\n",
       "</style>\n",
       "<table border=\"1\" class=\"dataframe\">\n",
       "  <thead>\n",
       "    <tr style=\"text-align: right;\">\n",
       "      <th></th>\n",
       "      <th>C</th>\n",
       "      <th>C</th>\n",
       "      <th>D</th>\n",
       "      <th>E</th>\n",
       "    </tr>\n",
       "  </thead>\n",
       "  <tbody>\n",
       "    <tr>\n",
       "      <th>A</th>\n",
       "      <td>0</td>\n",
       "      <td>1</td>\n",
       "      <td>2</td>\n",
       "      <td>3</td>\n",
       "    </tr>\n",
       "    <tr>\n",
       "      <th>A</th>\n",
       "      <td>4</td>\n",
       "      <td>5</td>\n",
       "      <td>6</td>\n",
       "      <td>7</td>\n",
       "    </tr>\n",
       "    <tr>\n",
       "      <th>B</th>\n",
       "      <td>8</td>\n",
       "      <td>9</td>\n",
       "      <td>10</td>\n",
       "      <td>11</td>\n",
       "    </tr>\n",
       "  </tbody>\n",
       "</table>\n",
       "</div>"
      ],
      "text/plain": [
       "   C  C   D   E\n",
       "A  0  1   2   3\n",
       "A  4  5   6   7\n",
       "B  8  9  10  11"
      ]
     },
     "execution_count": 148,
     "metadata": {},
     "output_type": "execute_result"
    }
   ],
   "source": [
    "dataframe_3"
   ]
  },
  {
   "cell_type": "code",
   "execution_count": 151,
   "id": "3efe9789",
   "metadata": {},
   "outputs": [
    {
     "data": {
      "text/plain": [
       "False"
      ]
     },
     "execution_count": 151,
     "metadata": {},
     "output_type": "execute_result"
    }
   ],
   "source": [
    "dataframe_3.index.is_unique"
   ]
  },
  {
   "cell_type": "code",
   "execution_count": 152,
   "id": "800a619f",
   "metadata": {},
   "outputs": [
    {
     "data": {
      "text/plain": [
       "False"
      ]
     },
     "execution_count": 152,
     "metadata": {},
     "output_type": "execute_result"
    }
   ],
   "source": [
    "dataframe_3.columns.is_unique"
   ]
  },
  {
   "cell_type": "code",
   "execution_count": 153,
   "id": "7ba7b0a3",
   "metadata": {},
   "outputs": [
    {
     "data": {
      "text/html": [
       "<div>\n",
       "<style scoped>\n",
       "    .dataframe tbody tr th:only-of-type {\n",
       "        vertical-align: middle;\n",
       "    }\n",
       "\n",
       "    .dataframe tbody tr th {\n",
       "        vertical-align: top;\n",
       "    }\n",
       "\n",
       "    .dataframe thead th {\n",
       "        text-align: right;\n",
       "    }\n",
       "</style>\n",
       "<table border=\"1\" class=\"dataframe\">\n",
       "  <thead>\n",
       "    <tr style=\"text-align: right;\">\n",
       "      <th></th>\n",
       "      <th>C</th>\n",
       "      <th>C</th>\n",
       "    </tr>\n",
       "  </thead>\n",
       "  <tbody>\n",
       "    <tr>\n",
       "      <th>A</th>\n",
       "      <td>0</td>\n",
       "      <td>1</td>\n",
       "    </tr>\n",
       "    <tr>\n",
       "      <th>A</th>\n",
       "      <td>4</td>\n",
       "      <td>5</td>\n",
       "    </tr>\n",
       "  </tbody>\n",
       "</table>\n",
       "</div>"
      ],
      "text/plain": [
       "   C  C\n",
       "A  0  1\n",
       "A  4  5"
      ]
     },
     "execution_count": 153,
     "metadata": {},
     "output_type": "execute_result"
    }
   ],
   "source": [
    "dataframe_3.loc['A', 'C']"
   ]
  },
  {
   "cell_type": "markdown",
   "id": "d8cf47e1",
   "metadata": {},
   "source": [
    "## Summarizing and computing descriptive statistics"
   ]
  },
  {
   "cell_type": "code",
   "execution_count": null,
   "id": "afcdc536",
   "metadata": {},
   "outputs": [],
   "source": []
  },
  {
   "cell_type": "code",
   "execution_count": null,
   "id": "b0bd30ad",
   "metadata": {},
   "outputs": [],
   "source": []
  },
  {
   "cell_type": "code",
   "execution_count": null,
   "id": "f05e2097",
   "metadata": {},
   "outputs": [],
   "source": []
  },
  {
   "cell_type": "code",
   "execution_count": null,
   "id": "aa2705bf",
   "metadata": {},
   "outputs": [],
   "source": []
  },
  {
   "cell_type": "code",
   "execution_count": null,
   "id": "2f502c8a",
   "metadata": {},
   "outputs": [],
   "source": []
  },
  {
   "cell_type": "code",
   "execution_count": null,
   "id": "6a10dc69",
   "metadata": {},
   "outputs": [],
   "source": []
  },
  {
   "cell_type": "code",
   "execution_count": null,
   "id": "d3056462",
   "metadata": {},
   "outputs": [],
   "source": []
  },
  {
   "cell_type": "code",
   "execution_count": null,
   "id": "ac2cd507",
   "metadata": {},
   "outputs": [],
   "source": []
  },
  {
   "cell_type": "code",
   "execution_count": null,
   "id": "5565bf2b",
   "metadata": {},
   "outputs": [],
   "source": []
  },
  {
   "cell_type": "code",
   "execution_count": null,
   "id": "6e225dbb",
   "metadata": {},
   "outputs": [],
   "source": [
    "dict1 = {'color':['red', 'blue', 'green'], 'price': [10, 23, 34]}\n",
    "myDF = pd.DataFrame(dict1, index=['A', 'B', 'C'])\n",
    "myDF"
   ]
  },
  {
   "cell_type": "code",
   "execution_count": null,
   "id": "dd7a7838",
   "metadata": {},
   "outputs": [],
   "source": [
    "dict_5 = {'Store': [1, 2, 1, 2], 'Flavor': ['Choc', 'Van', 'Straw', 'Choc'], 'Sales': [26, 12, 18, 22]}\n",
    "df_5 = pd.DataFrame(dict_5)\n",
    "df_5"
   ]
  },
  {
   "cell_type": "code",
   "execution_count": null,
   "id": "5a2f5f84",
   "metadata": {},
   "outputs": [],
   "source": [
    "byStore = df_5.groupby('Store')\n",
    "byStore.mean()"
   ]
  },
  {
   "cell_type": "code",
   "execution_count": null,
   "id": "6594e1e6",
   "metadata": {},
   "outputs": [],
   "source": [
    "byStore.sum().loc[1]"
   ]
  },
  {
   "cell_type": "code",
   "execution_count": null,
   "id": "f5f9676f",
   "metadata": {},
   "outputs": [],
   "source": [
    "byStore.describe()"
   ]
  },
  {
   "attachments": {
    "image.png": {
     "image/png": "[encoded data removed]"
    }
   },
   "cell_type": "markdown",
   "id": "a829bc07",
   "metadata": {},
   "source": [
    "#When you enter the parantheses you can press shift + tab to know the keys you can set. very informative.![image.png](attachment:image.png)"
   ]
  },
  {
   "cell_type": "code",
   "execution_count": null,
   "id": "e47b9e0c",
   "metadata": {},
   "outputs": [],
   "source": [
    "df_5.sum()"
   ]
  },
  {
   "cell_type": "code",
   "execution_count": null,
   "id": "90aba6f3",
   "metadata": {},
   "outputs": [],
   "source": [
    "df_5.describe()"
   ]
  },
  {
   "cell_type": "code",
   "execution_count": null,
   "id": "46e605cd",
   "metadata": {},
   "outputs": [],
   "source": [
    "df_5"
   ]
  },
  {
   "cell_type": "code",
   "execution_count": null,
   "id": "627dfa8c",
   "metadata": {},
   "outputs": [],
   "source": [
    "df_5['Sales'].apply(np.sqrt)"
   ]
  },
  {
   "cell_type": "code",
   "execution_count": null,
   "id": "53193ee3",
   "metadata": {},
   "outputs": [],
   "source": [
    "series1 = pd.Series(('iman', 'Shafikhani'), index = ['First name', 'Last name'])\n",
    "series1"
   ]
  },
  {
   "cell_type": "code",
   "execution_count": null,
   "id": "cb7f0f01",
   "metadata": {},
   "outputs": [],
   "source": [
    "df_1 = pd.DataFrame({'Contact': ['Iman Shafikhani', 'Mohammad Binaei']})\n",
    "df_1"
   ]
  },
  {
   "cell_type": "code",
   "execution_count": null,
   "id": "92afb543",
   "metadata": {},
   "outputs": [],
   "source": [
    "def split_names(df):\n",
    "    def get_names(full_name):\n",
    "        f_name, l_name = full_name.split()\n",
    "        return pd.Series(\n",
    "        (f_name, l_name),\n",
    "        index = ['First name', 'Last name'])\n",
    "    names = df['Contact'].apply(get_names)\n",
    "    df[names.columns] = names\n",
    "    return df"
   ]
  },
  {
   "cell_type": "code",
   "execution_count": null,
   "id": "286242c1",
   "metadata": {},
   "outputs": [],
   "source": [
    "    def get_names(full_name):\n",
    "        f_name, l_name = full_name.split()\n",
    "        return pd.Series(\n",
    "        (f_name, l_name),\n",
    "        index = ['First name', 'Last name'])"
   ]
  },
  {
   "cell_type": "code",
   "execution_count": null,
   "id": "34f3c06d",
   "metadata": {},
   "outputs": [],
   "source": [
    "names = df_1['Contact'].apply(get_names)\n",
    "names"
   ]
  },
  {
   "cell_type": "code",
   "execution_count": null,
   "id": "9ebd4fe9",
   "metadata": {},
   "outputs": [],
   "source": [
    "names.columns"
   ]
  },
  {
   "cell_type": "code",
   "execution_count": null,
   "id": "ae1cb9a9",
   "metadata": {},
   "outputs": [],
   "source": [
    "df_1[names.columns] = names"
   ]
  },
  {
   "cell_type": "code",
   "execution_count": null,
   "id": "20a76cb3",
   "metadata": {},
   "outputs": [],
   "source": [
    "df_1"
   ]
  },
  {
   "cell_type": "code",
   "execution_count": null,
   "id": "1163690e",
   "metadata": {},
   "outputs": [],
   "source": [
    " "
   ]
  }
 ],
 "metadata": {
  "kernelspec": {
   "display_name": "Python 3 (ipykernel)",
   "language": "python",
   "name": "python3"
  },
  "language_info": {
   "codemirror_mode": {
    "name": "ipython",
    "version": 3
   },
   "file_extension": ".py",
   "mimetype": "text/x-python",
   "name": "python",
   "nbconvert_exporter": "python",
   "pygments_lexer": "ipython3",
   "version": "3.9.12"
  }
 },
 "nbformat": 4,
 "nbformat_minor": 5
}
