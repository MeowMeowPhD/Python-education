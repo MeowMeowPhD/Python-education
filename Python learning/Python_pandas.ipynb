{
 "cells": [
  {
   "cell_type": "markdown",
   "id": "a602ff93",
   "metadata": {},
   "source": [
    "# Pandas tutorial"
   ]
  },
  {
   "cell_type": "code",
   "execution_count": 1,
   "id": "d513a644",
   "metadata": {},
   "outputs": [],
   "source": [
    "import numpy as np\n",
    "import pandas as pd"
   ]
  },
  {
   "cell_type": "markdown",
   "id": "218e9f2b",
   "metadata": {},
   "source": [
    "## Series object"
   ]
  },
  {
   "cell_type": "code",
   "execution_count": 2,
   "id": "6c528b89",
   "metadata": {},
   "outputs": [
    {
     "data": {
      "text/plain": [
       "0    10\n",
       "1    20\n",
       "2    30\n",
       "3    40\n",
       "dtype: int32"
      ]
     },
     "execution_count": 2,
     "metadata": {},
     "output_type": "execute_result"
    }
   ],
   "source": [
    "series_1 = pd.Series(np.array([10, 20, 30, 40]))\n",
    "series_1"
   ]
  },
  {
   "cell_type": "code",
   "execution_count": 3,
   "id": "647c4cb2",
   "metadata": {},
   "outputs": [
    {
     "data": {
      "text/plain": [
       "A    0\n",
       "B    1\n",
       "C    2\n",
       "D    3\n",
       "dtype: int32"
      ]
     },
     "execution_count": 3,
     "metadata": {},
     "output_type": "execute_result"
    }
   ],
   "source": [
    "series_2 = pd.Series(data=np.arange(4), index=['A', 'B', 'C', 'D'])\n",
    "series_2"
   ]
  },
  {
   "cell_type": "code",
   "execution_count": 4,
   "id": "e0aeaaa7",
   "metadata": {},
   "outputs": [
    {
     "data": {
      "text/plain": [
       "array([0, 1, 2, 3])"
      ]
     },
     "execution_count": 4,
     "metadata": {},
     "output_type": "execute_result"
    }
   ],
   "source": [
    "series_2.values # Getting values of the series"
   ]
  },
  {
   "cell_type": "code",
   "execution_count": 5,
   "id": "270190c2",
   "metadata": {},
   "outputs": [
    {
     "data": {
      "text/plain": [
       "Index(['A', 'B', 'C', 'D'], dtype='object')"
      ]
     },
     "execution_count": 5,
     "metadata": {},
     "output_type": "execute_result"
    }
   ],
   "source": [
    "series_2.index # Getting indices of the series"
   ]
  },
  {
   "cell_type": "code",
   "execution_count": 6,
   "id": "ba14af5b",
   "metadata": {},
   "outputs": [
    {
     "data": {
      "text/plain": [
       "0"
      ]
     },
     "execution_count": 6,
     "metadata": {},
     "output_type": "execute_result"
    }
   ],
   "source": [
    "series_2['A'] # Getting the value corresponding to label(index) 'A'"
   ]
  },
  {
   "cell_type": "code",
   "execution_count": 7,
   "id": "e8a35994",
   "metadata": {},
   "outputs": [
    {
     "data": {
      "text/plain": [
       "A    0\n",
       "C    2\n",
       "dtype: int32"
      ]
     },
     "execution_count": 7,
     "metadata": {},
     "output_type": "execute_result"
    }
   ],
   "source": [
    "series_2[['A', 'C']] # Getting the values corresponding to several labels: 'A', 'B'"
   ]
  },
  {
   "cell_type": "code",
   "execution_count": 8,
   "id": "7905cf4e",
   "metadata": {},
   "outputs": [
    {
     "data": {
      "text/plain": [
       "D    3\n",
       "dtype: int32"
      ]
     },
     "execution_count": 8,
     "metadata": {},
     "output_type": "execute_result"
    }
   ],
   "source": [
    "series_2[series_2 > 2] # We can do boolean conditioning "
   ]
  },
  {
   "cell_type": "code",
   "execution_count": 9,
   "id": "891c5f7a",
   "metadata": {},
   "outputs": [
    {
     "data": {
      "text/plain": [
       "A     1.000000\n",
       "B     2.718282\n",
       "C     7.389056\n",
       "D    20.085537\n",
       "dtype: float64"
      ]
     },
     "execution_count": 9,
     "metadata": {},
     "output_type": "execute_result"
    }
   ],
   "source": [
    "np.exp(series_2) # We can pass a Series object to NumPy functions"
   ]
  },
  {
   "cell_type": "code",
   "execution_count": 10,
   "id": "8115cf4d",
   "metadata": {},
   "outputs": [
    {
     "data": {
      "text/plain": [
       "A     0\n",
       "B     4\n",
       "C     8\n",
       "D    12\n",
       "dtype: int32"
      ]
     },
     "execution_count": 10,
     "metadata": {},
     "output_type": "execute_result"
    }
   ],
   "source": [
    "series_2 * 4 # We can do arithmetic with Series object"
   ]
  },
  {
   "cell_type": "markdown",
   "id": "d472cb6e",
   "metadata": {},
   "source": [
    "We can think of Series object as a dictionary since it maps an index to a value."
   ]
  },
  {
   "cell_type": "code",
   "execution_count": 11,
   "id": "c4d41964",
   "metadata": {},
   "outputs": [
    {
     "data": {
      "text/plain": [
       "True"
      ]
     },
     "execution_count": 11,
     "metadata": {},
     "output_type": "execute_result"
    }
   ],
   "source": [
    "'B' in series_2"
   ]
  },
  {
   "cell_type": "code",
   "execution_count": 12,
   "id": "59c3bca2",
   "metadata": {},
   "outputs": [
    {
     "data": {
      "text/plain": [
       "False"
      ]
     },
     "execution_count": 12,
     "metadata": {},
     "output_type": "execute_result"
    }
   ],
   "source": [
    "'F' in series_2"
   ]
  },
  {
   "cell_type": "markdown",
   "id": "84fe4fc7",
   "metadata": {},
   "source": [
    "We can pass a dictionary to pd.Series()."
   ]
  },
  {
   "cell_type": "code",
   "execution_count": 13,
   "id": "8b15afa8",
   "metadata": {},
   "outputs": [
    {
     "data": {
      "text/plain": [
       "wellness        Yarishna\n",
       "figure           Rebecca\n",
       "bodybuilding        Iman\n",
       "212                Shaun\n",
       "dtype: object"
      ]
     },
     "execution_count": 13,
     "metadata": {},
     "output_type": "execute_result"
    }
   ],
   "source": [
    "dict_1 = {'wellness': 'Yarishna',\n",
    "          'figure': 'Rebecca',\n",
    "          'bodybuilding': 'Iman',\n",
    "         '212': 'Shaun'}\n",
    "series_2 = pd.Series(dict_1)\n",
    "series_2"
   ]
  },
  {
   "cell_type": "markdown",
   "id": "f22ba65c",
   "metadata": {},
   "source": [
    "We can override the index by changing the index explicitly. If the index already exists as a dictionary key, then we will have a value associated with it, otherwise we receive NaN."
   ]
  },
  {
   "cell_type": "code",
   "execution_count": 14,
   "id": "6df8b576",
   "metadata": {},
   "outputs": [
    {
     "data": {
      "text/plain": [
       "FBB             NaN\n",
       "Natural FBB     NaN\n",
       "best natural    NaN\n",
       "Giant killer    NaN\n",
       "dtype: object"
      ]
     },
     "execution_count": 14,
     "metadata": {},
     "output_type": "execute_result"
    }
   ],
   "source": [
    "pd.Series(dict_1, index=['FBB', 'Natural FBB', 'best natural', 'Giant killer'])"
   ]
  },
  {
   "cell_type": "code",
   "execution_count": 15,
   "id": "9343a8bd",
   "metadata": {},
   "outputs": [
    {
     "data": {
      "text/plain": [
       "figure           Rebecca\n",
       "212                Shaun\n",
       "best natural         NaN\n",
       "wellness        Yarishna\n",
       "dtype: object"
      ]
     },
     "execution_count": 15,
     "metadata": {},
     "output_type": "execute_result"
    }
   ],
   "source": [
    "series_3 = pd.Series(dict_1, index=['figure', '212', 'best natural', 'wellness'])\n",
    "series_3"
   ]
  },
  {
   "cell_type": "markdown",
   "id": "36024366",
   "metadata": {},
   "source": [
    "Finding missing values: *isnull*, *notnull* both as pandas functions and Series methods. "
   ]
  },
  {
   "cell_type": "code",
   "execution_count": 16,
   "id": "3af642ae",
   "metadata": {},
   "outputs": [
    {
     "data": {
      "text/plain": [
       "figure          False\n",
       "212             False\n",
       "best natural     True\n",
       "wellness        False\n",
       "dtype: bool"
      ]
     },
     "execution_count": 16,
     "metadata": {},
     "output_type": "execute_result"
    }
   ],
   "source": [
    "pd.isnull(series_3)"
   ]
  },
  {
   "cell_type": "code",
   "execution_count": 17,
   "id": "feb7a259",
   "metadata": {},
   "outputs": [
    {
     "data": {
      "text/plain": [
       "figure           True\n",
       "212              True\n",
       "best natural    False\n",
       "wellness         True\n",
       "dtype: bool"
      ]
     },
     "execution_count": 17,
     "metadata": {},
     "output_type": "execute_result"
    }
   ],
   "source": [
    "pd.notnull(series_3)"
   ]
  },
  {
   "cell_type": "code",
   "execution_count": 18,
   "id": "2b3f62ff",
   "metadata": {},
   "outputs": [
    {
     "data": {
      "text/plain": [
       "figure          False\n",
       "212             False\n",
       "best natural     True\n",
       "wellness        False\n",
       "dtype: bool"
      ]
     },
     "execution_count": 18,
     "metadata": {},
     "output_type": "execute_result"
    }
   ],
   "source": [
    "series_3.isnull()"
   ]
  },
  {
   "cell_type": "code",
   "execution_count": 19,
   "id": "5e58a4f0",
   "metadata": {},
   "outputs": [
    {
     "data": {
      "text/plain": [
       "figure           True\n",
       "212              True\n",
       "best natural    False\n",
       "wellness         True\n",
       "dtype: bool"
      ]
     },
     "execution_count": 19,
     "metadata": {},
     "output_type": "execute_result"
    }
   ],
   "source": [
    "series_3.notnull()"
   ]
  },
  {
   "cell_type": "markdown",
   "id": "e3935144",
   "metadata": {},
   "source": [
    "When we perform arithmetic operations on Series objects, the objects are aligned by index."
   ]
  },
  {
   "cell_type": "code",
   "execution_count": 20,
   "id": "c447e06b",
   "metadata": {},
   "outputs": [
    {
     "name": "stdout",
     "output_type": "stream",
     "text": [
      "C    3\n",
      "D    2\n",
      "E    3\n",
      "F    3\n",
      "G    1\n",
      "dtype: int32\n",
      "A    1\n",
      "B    3\n",
      "C    2\n",
      "D    2\n",
      "G    1\n",
      "dtype: int32\n"
     ]
    }
   ],
   "source": [
    "series_4 = pd.Series(data=np.random.randint(1, 5, 5), index=['C', 'D', 'E', 'F', 'G'])\n",
    "series_5 = pd.Series(data=np.random.randint(1, 5, 5), index=['A', 'B', 'C', 'D', 'G'])\n",
    "print(series_4)\n",
    "print(series_5)"
   ]
  },
  {
   "cell_type": "code",
   "execution_count": 21,
   "id": "12215b56",
   "metadata": {},
   "outputs": [
    {
     "data": {
      "text/plain": [
       "A    NaN\n",
       "B    NaN\n",
       "C    5.0\n",
       "D    4.0\n",
       "E    NaN\n",
       "F    NaN\n",
       "G    2.0\n",
       "dtype: float64"
      ]
     },
     "execution_count": 21,
     "metadata": {},
     "output_type": "execute_result"
    }
   ],
   "source": [
    "series_4 + series_5"
   ]
  },
  {
   "cell_type": "markdown",
   "id": "6c28ec98",
   "metadata": {},
   "source": [
    "We can change a Series index inplace:"
   ]
  },
  {
   "cell_type": "code",
   "execution_count": 22,
   "id": "865cef6a",
   "metadata": {},
   "outputs": [
    {
     "data": {
      "text/plain": [
       "0    3\n",
       "1    2\n",
       "2    3\n",
       "3    3\n",
       "4    1\n",
       "dtype: int32"
      ]
     },
     "execution_count": 22,
     "metadata": {},
     "output_type": "execute_result"
    }
   ],
   "source": [
    "series_4.index = range(5)\n",
    "series_4"
   ]
  },
  {
   "cell_type": "markdown",
   "id": "47cde443",
   "metadata": {},
   "source": [
    "Both Series object and its index have name attributes:"
   ]
  },
  {
   "cell_type": "code",
   "execution_count": 23,
   "id": "c8a049f9",
   "metadata": {},
   "outputs": [
    {
     "name": "stdout",
     "output_type": "stream",
     "text": [
      "myInd\n",
      "0    3\n",
      "1    2\n",
      "2    3\n",
      "3    3\n",
      "4    1\n",
      "Name: Example Series, dtype: int32\n"
     ]
    }
   ],
   "source": [
    "series_4.name = 'Example Series'\n",
    "series_4.index.name = 'myInd'\n",
    "print(series_4)"
   ]
  },
  {
   "cell_type": "markdown",
   "id": "287ada6e",
   "metadata": {},
   "source": [
    "## DataFrame"
   ]
  },
  {
   "cell_type": "code",
   "execution_count": 24,
   "id": "d4065ec0",
   "metadata": {},
   "outputs": [
    {
     "data": {
      "text/html": [
       "<div>\n",
       "<style scoped>\n",
       "    .dataframe tbody tr th:only-of-type {\n",
       "        vertical-align: middle;\n",
       "    }\n",
       "\n",
       "    .dataframe tbody tr th {\n",
       "        vertical-align: top;\n",
       "    }\n",
       "\n",
       "    .dataframe thead th {\n",
       "        text-align: right;\n",
       "    }\n",
       "</style>\n",
       "<table border=\"1\" class=\"dataframe\">\n",
       "  <thead>\n",
       "    <tr style=\"text-align: right;\">\n",
       "      <th></th>\n",
       "      <th>Books</th>\n",
       "      <th>Pens</th>\n",
       "      <th>Shoes</th>\n",
       "    </tr>\n",
       "  </thead>\n",
       "  <tbody>\n",
       "    <tr>\n",
       "      <th>0</th>\n",
       "      <td>0.897605</td>\n",
       "      <td>-0.327327</td>\n",
       "      <td>0.971786</td>\n",
       "    </tr>\n",
       "    <tr>\n",
       "      <th>1</th>\n",
       "      <td>-0.393532</td>\n",
       "      <td>0.961626</td>\n",
       "      <td>0.123480</td>\n",
       "    </tr>\n",
       "    <tr>\n",
       "      <th>2</th>\n",
       "      <td>0.499512</td>\n",
       "      <td>0.492447</td>\n",
       "      <td>0.540122</td>\n",
       "    </tr>\n",
       "    <tr>\n",
       "      <th>3</th>\n",
       "      <td>0.120541</td>\n",
       "      <td>-0.868138</td>\n",
       "      <td>0.354568</td>\n",
       "    </tr>\n",
       "    <tr>\n",
       "      <th>4</th>\n",
       "      <td>0.738193</td>\n",
       "      <td>-0.020874</td>\n",
       "      <td>0.306368</td>\n",
       "    </tr>\n",
       "    <tr>\n",
       "      <th>5</th>\n",
       "      <td>0.205080</td>\n",
       "      <td>0.321613</td>\n",
       "      <td>2.036782</td>\n",
       "    </tr>\n",
       "  </tbody>\n",
       "</table>\n",
       "</div>"
      ],
      "text/plain": [
       "      Books      Pens     Shoes\n",
       "0  0.897605 -0.327327  0.971786\n",
       "1 -0.393532  0.961626  0.123480\n",
       "2  0.499512  0.492447  0.540122\n",
       "3  0.120541 -0.868138  0.354568\n",
       "4  0.738193 -0.020874  0.306368\n",
       "5  0.205080  0.321613  2.036782"
      ]
     },
     "execution_count": 24,
     "metadata": {},
     "output_type": "execute_result"
    }
   ],
   "source": [
    "dataframe_1 = pd.DataFrame(data = np.random.randn(6, 3), columns=['Books', 'Pens', 'Shoes'])\n",
    "dataframe_1"
   ]
  },
  {
   "cell_type": "code",
   "execution_count": 25,
   "id": "e20ba9f3",
   "metadata": {},
   "outputs": [
    {
     "data": {
      "text/html": [
       "<div>\n",
       "<style scoped>\n",
       "    .dataframe tbody tr th:only-of-type {\n",
       "        vertical-align: middle;\n",
       "    }\n",
       "\n",
       "    .dataframe tbody tr th {\n",
       "        vertical-align: top;\n",
       "    }\n",
       "\n",
       "    .dataframe thead th {\n",
       "        text-align: right;\n",
       "    }\n",
       "</style>\n",
       "<table border=\"1\" class=\"dataframe\">\n",
       "  <thead>\n",
       "    <tr style=\"text-align: right;\">\n",
       "      <th></th>\n",
       "      <th>Books</th>\n",
       "      <th>Pens</th>\n",
       "      <th>Shoes</th>\n",
       "    </tr>\n",
       "  </thead>\n",
       "  <tbody>\n",
       "    <tr>\n",
       "      <th>A</th>\n",
       "      <td>0.897605</td>\n",
       "      <td>-0.327327</td>\n",
       "      <td>0.971786</td>\n",
       "    </tr>\n",
       "    <tr>\n",
       "      <th>B</th>\n",
       "      <td>-0.393532</td>\n",
       "      <td>0.961626</td>\n",
       "      <td>0.123480</td>\n",
       "    </tr>\n",
       "    <tr>\n",
       "      <th>C</th>\n",
       "      <td>0.499512</td>\n",
       "      <td>0.492447</td>\n",
       "      <td>0.540122</td>\n",
       "    </tr>\n",
       "    <tr>\n",
       "      <th>D</th>\n",
       "      <td>0.120541</td>\n",
       "      <td>-0.868138</td>\n",
       "      <td>0.354568</td>\n",
       "    </tr>\n",
       "    <tr>\n",
       "      <th>E</th>\n",
       "      <td>0.738193</td>\n",
       "      <td>-0.020874</td>\n",
       "      <td>0.306368</td>\n",
       "    </tr>\n",
       "    <tr>\n",
       "      <th>F</th>\n",
       "      <td>0.205080</td>\n",
       "      <td>0.321613</td>\n",
       "      <td>2.036782</td>\n",
       "    </tr>\n",
       "  </tbody>\n",
       "</table>\n",
       "</div>"
      ],
      "text/plain": [
       "      Books      Pens     Shoes\n",
       "A  0.897605 -0.327327  0.971786\n",
       "B -0.393532  0.961626  0.123480\n",
       "C  0.499512  0.492447  0.540122\n",
       "D  0.120541 -0.868138  0.354568\n",
       "E  0.738193 -0.020874  0.306368\n",
       "F  0.205080  0.321613  2.036782"
      ]
     },
     "execution_count": 25,
     "metadata": {},
     "output_type": "execute_result"
    }
   ],
   "source": [
    "dataframe_1.index = ['A', 'B', 'C', 'D', 'E', 'F'] # This is how we change the index in place\n",
    "dataframe_1"
   ]
  },
  {
   "cell_type": "code",
   "execution_count": 26,
   "id": "14b33b34",
   "metadata": {},
   "outputs": [
    {
     "data": {
      "text/html": [
       "<div>\n",
       "<style scoped>\n",
       "    .dataframe tbody tr th:only-of-type {\n",
       "        vertical-align: middle;\n",
       "    }\n",
       "\n",
       "    .dataframe tbody tr th {\n",
       "        vertical-align: top;\n",
       "    }\n",
       "\n",
       "    .dataframe thead th {\n",
       "        text-align: right;\n",
       "    }\n",
       "</style>\n",
       "<table border=\"1\" class=\"dataframe\">\n",
       "  <thead>\n",
       "    <tr style=\"text-align: right;\">\n",
       "      <th></th>\n",
       "      <th>Books</th>\n",
       "      <th>Pens</th>\n",
       "      <th>Shoes</th>\n",
       "    </tr>\n",
       "  </thead>\n",
       "  <tbody>\n",
       "    <tr>\n",
       "      <th>A</th>\n",
       "      <td>1.552978</td>\n",
       "      <td>-1.216543</td>\n",
       "      <td>-0.075854</td>\n",
       "    </tr>\n",
       "    <tr>\n",
       "      <th>B</th>\n",
       "      <td>-0.951889</td>\n",
       "      <td>-1.335041</td>\n",
       "      <td>-0.940417</td>\n",
       "    </tr>\n",
       "    <tr>\n",
       "      <th>C</th>\n",
       "      <td>0.713440</td>\n",
       "      <td>1.247843</td>\n",
       "      <td>-0.546016</td>\n",
       "    </tr>\n",
       "    <tr>\n",
       "      <th>D</th>\n",
       "      <td>-0.280789</td>\n",
       "      <td>0.024700</td>\n",
       "      <td>-0.386500</td>\n",
       "    </tr>\n",
       "    <tr>\n",
       "      <th>E</th>\n",
       "      <td>-0.771771</td>\n",
       "      <td>-1.217179</td>\n",
       "      <td>0.795600</td>\n",
       "    </tr>\n",
       "    <tr>\n",
       "      <th>F</th>\n",
       "      <td>-0.788823</td>\n",
       "      <td>-0.353966</td>\n",
       "      <td>0.095842</td>\n",
       "    </tr>\n",
       "  </tbody>\n",
       "</table>\n",
       "</div>"
      ],
      "text/plain": [
       "      Books      Pens     Shoes\n",
       "A  1.552978 -1.216543 -0.075854\n",
       "B -0.951889 -1.335041 -0.940417\n",
       "C  0.713440  1.247843 -0.546016\n",
       "D -0.280789  0.024700 -0.386500\n",
       "E -0.771771 -1.217179  0.795600\n",
       "F -0.788823 -0.353966  0.095842"
      ]
     },
     "execution_count": 26,
     "metadata": {},
     "output_type": "execute_result"
    }
   ],
   "source": [
    "pd.DataFrame(data = np.random.randn(6, 3), columns=['Books', 'Pens', 'Shoes'], index=['A', 'B', 'C','D','E','F'])"
   ]
  },
  {
   "cell_type": "markdown",
   "id": "a15ae3bf",
   "metadata": {},
   "source": [
    "We can also pass a dictionary to pd.DataFrame to create an object."
   ]
  },
  {
   "cell_type": "code",
   "execution_count": 27,
   "id": "e61d7041",
   "metadata": {},
   "outputs": [
    {
     "name": "stdout",
     "output_type": "stream",
     "text": [
      "Created DataFrame using dictionary:\n",
      "   A  B         C\n",
      "0  0  6 -0.219076\n",
      "1  1  6 -2.564587\n",
      "2  2  4  0.628099\n",
      "3  3  5  0.190485\n",
      "4  4  3  0.049223\n",
      "5  5  3 -0.190953\n",
      "6  6  2  2.152835\n",
      "7  7  3 -1.163424\n",
      "8  8  6  0.553983\n",
      "9  9  5 -1.060710\n",
      "\n",
      "Created DataFrame by specifying the index:\n",
      "   A  B         C\n",
      "E  0  6 -0.219076\n",
      "F  1  6 -2.564587\n",
      "G  2  4  0.628099\n",
      "H  3  5  0.190485\n",
      "I  4  3  0.049223\n",
      "G  5  3 -0.190953\n",
      "K  6  2  2.152835\n",
      "L  7  3 -1.163424\n",
      "M  8  6  0.553983\n",
      "N  9  5 -1.060710\n"
     ]
    }
   ],
   "source": [
    "dict_2 = {'A': np.arange(10), 'B': np.random.randint(1, 7, 10), 'C': np.random.randn(10)} \n",
    "print(f\"Created DataFrame using dictionary:\\n{pd.DataFrame(dict_2)}\") # Automatically assigns the index\n",
    "print(f\"\\nCreated DataFrame by specifying the index:\\n{pd.DataFrame(dict_2, index=list('EFGHIGKLMN'))}\") # We can pass the index like this.\n"
   ]
  },
  {
   "cell_type": "code",
   "execution_count": 28,
   "id": "e99696d4",
   "metadata": {},
   "outputs": [
    {
     "data": {
      "text/html": [
       "<div>\n",
       "<style scoped>\n",
       "    .dataframe tbody tr th:only-of-type {\n",
       "        vertical-align: middle;\n",
       "    }\n",
       "\n",
       "    .dataframe tbody tr th {\n",
       "        vertical-align: top;\n",
       "    }\n",
       "\n",
       "    .dataframe thead th {\n",
       "        text-align: right;\n",
       "    }\n",
       "</style>\n",
       "<table border=\"1\" class=\"dataframe\">\n",
       "  <thead>\n",
       "    <tr style=\"text-align: right;\">\n",
       "      <th></th>\n",
       "      <th>A</th>\n",
       "      <th>B</th>\n",
       "      <th>C</th>\n",
       "    </tr>\n",
       "  </thead>\n",
       "  <tbody>\n",
       "    <tr>\n",
       "      <th>0</th>\n",
       "      <td>0</td>\n",
       "      <td>6</td>\n",
       "      <td>-0.219076</td>\n",
       "    </tr>\n",
       "    <tr>\n",
       "      <th>1</th>\n",
       "      <td>1</td>\n",
       "      <td>6</td>\n",
       "      <td>-2.564587</td>\n",
       "    </tr>\n",
       "    <tr>\n",
       "      <th>2</th>\n",
       "      <td>2</td>\n",
       "      <td>4</td>\n",
       "      <td>0.628099</td>\n",
       "    </tr>\n",
       "    <tr>\n",
       "      <th>3</th>\n",
       "      <td>3</td>\n",
       "      <td>5</td>\n",
       "      <td>0.190485</td>\n",
       "    </tr>\n",
       "    <tr>\n",
       "      <th>4</th>\n",
       "      <td>4</td>\n",
       "      <td>3</td>\n",
       "      <td>0.049223</td>\n",
       "    </tr>\n",
       "  </tbody>\n",
       "</table>\n",
       "</div>"
      ],
      "text/plain": [
       "   A  B         C\n",
       "0  0  6 -0.219076\n",
       "1  1  6 -2.564587\n",
       "2  2  4  0.628099\n",
       "3  3  5  0.190485\n",
       "4  4  3  0.049223"
      ]
     },
     "execution_count": 28,
     "metadata": {},
     "output_type": "execute_result"
    }
   ],
   "source": [
    "pd.DataFrame(dict_2).head() # head() method shows the first 5 rows of a DataFrame."
   ]
  },
  {
   "cell_type": "code",
   "execution_count": 29,
   "id": "9bce3388",
   "metadata": {},
   "outputs": [
    {
     "data": {
      "text/html": [
       "<div>\n",
       "<style scoped>\n",
       "    .dataframe tbody tr th:only-of-type {\n",
       "        vertical-align: middle;\n",
       "    }\n",
       "\n",
       "    .dataframe tbody tr th {\n",
       "        vertical-align: top;\n",
       "    }\n",
       "\n",
       "    .dataframe thead th {\n",
       "        text-align: right;\n",
       "    }\n",
       "</style>\n",
       "<table border=\"1\" class=\"dataframe\">\n",
       "  <thead>\n",
       "    <tr style=\"text-align: right;\">\n",
       "      <th></th>\n",
       "      <th>B</th>\n",
       "      <th>C</th>\n",
       "      <th>A</th>\n",
       "    </tr>\n",
       "  </thead>\n",
       "  <tbody>\n",
       "    <tr>\n",
       "      <th>0</th>\n",
       "      <td>6</td>\n",
       "      <td>-0.219076</td>\n",
       "      <td>0</td>\n",
       "    </tr>\n",
       "    <tr>\n",
       "      <th>1</th>\n",
       "      <td>6</td>\n",
       "      <td>-2.564587</td>\n",
       "      <td>1</td>\n",
       "    </tr>\n",
       "    <tr>\n",
       "      <th>2</th>\n",
       "      <td>4</td>\n",
       "      <td>0.628099</td>\n",
       "      <td>2</td>\n",
       "    </tr>\n",
       "    <tr>\n",
       "      <th>3</th>\n",
       "      <td>5</td>\n",
       "      <td>0.190485</td>\n",
       "      <td>3</td>\n",
       "    </tr>\n",
       "    <tr>\n",
       "      <th>4</th>\n",
       "      <td>3</td>\n",
       "      <td>0.049223</td>\n",
       "      <td>4</td>\n",
       "    </tr>\n",
       "    <tr>\n",
       "      <th>5</th>\n",
       "      <td>3</td>\n",
       "      <td>-0.190953</td>\n",
       "      <td>5</td>\n",
       "    </tr>\n",
       "    <tr>\n",
       "      <th>6</th>\n",
       "      <td>2</td>\n",
       "      <td>2.152835</td>\n",
       "      <td>6</td>\n",
       "    </tr>\n",
       "    <tr>\n",
       "      <th>7</th>\n",
       "      <td>3</td>\n",
       "      <td>-1.163424</td>\n",
       "      <td>7</td>\n",
       "    </tr>\n",
       "    <tr>\n",
       "      <th>8</th>\n",
       "      <td>6</td>\n",
       "      <td>0.553983</td>\n",
       "      <td>8</td>\n",
       "    </tr>\n",
       "    <tr>\n",
       "      <th>9</th>\n",
       "      <td>5</td>\n",
       "      <td>-1.060710</td>\n",
       "      <td>9</td>\n",
       "    </tr>\n",
       "  </tbody>\n",
       "</table>\n",
       "</div>"
      ],
      "text/plain": [
       "   B         C  A\n",
       "0  6 -0.219076  0\n",
       "1  6 -2.564587  1\n",
       "2  4  0.628099  2\n",
       "3  5  0.190485  3\n",
       "4  3  0.049223  4\n",
       "5  3 -0.190953  5\n",
       "6  2  2.152835  6\n",
       "7  3 -1.163424  7\n",
       "8  6  0.553983  8\n",
       "9  5 -1.060710  9"
      ]
     },
     "execution_count": 29,
     "metadata": {},
     "output_type": "execute_result"
    }
   ],
   "source": [
    "pd.DataFrame(dict_2, columns=['B', 'C', 'A']) # Rearranging the columns"
   ]
  },
  {
   "cell_type": "code",
   "execution_count": 30,
   "id": "84aa366a",
   "metadata": {},
   "outputs": [
    {
     "data": {
      "text/html": [
       "<div>\n",
       "<style scoped>\n",
       "    .dataframe tbody tr th:only-of-type {\n",
       "        vertical-align: middle;\n",
       "    }\n",
       "\n",
       "    .dataframe tbody tr th {\n",
       "        vertical-align: top;\n",
       "    }\n",
       "\n",
       "    .dataframe thead th {\n",
       "        text-align: right;\n",
       "    }\n",
       "</style>\n",
       "<table border=\"1\" class=\"dataframe\">\n",
       "  <thead>\n",
       "    <tr style=\"text-align: right;\">\n",
       "      <th></th>\n",
       "      <th>A</th>\n",
       "      <th>B</th>\n",
       "      <th>C</th>\n",
       "      <th>D</th>\n",
       "    </tr>\n",
       "  </thead>\n",
       "  <tbody>\n",
       "    <tr>\n",
       "      <th>0</th>\n",
       "      <td>0</td>\n",
       "      <td>6</td>\n",
       "      <td>-0.219076</td>\n",
       "      <td>NaN</td>\n",
       "    </tr>\n",
       "    <tr>\n",
       "      <th>1</th>\n",
       "      <td>1</td>\n",
       "      <td>6</td>\n",
       "      <td>-2.564587</td>\n",
       "      <td>NaN</td>\n",
       "    </tr>\n",
       "    <tr>\n",
       "      <th>2</th>\n",
       "      <td>2</td>\n",
       "      <td>4</td>\n",
       "      <td>0.628099</td>\n",
       "      <td>NaN</td>\n",
       "    </tr>\n",
       "    <tr>\n",
       "      <th>3</th>\n",
       "      <td>3</td>\n",
       "      <td>5</td>\n",
       "      <td>0.190485</td>\n",
       "      <td>NaN</td>\n",
       "    </tr>\n",
       "    <tr>\n",
       "      <th>4</th>\n",
       "      <td>4</td>\n",
       "      <td>3</td>\n",
       "      <td>0.049223</td>\n",
       "      <td>NaN</td>\n",
       "    </tr>\n",
       "    <tr>\n",
       "      <th>5</th>\n",
       "      <td>5</td>\n",
       "      <td>3</td>\n",
       "      <td>-0.190953</td>\n",
       "      <td>NaN</td>\n",
       "    </tr>\n",
       "    <tr>\n",
       "      <th>6</th>\n",
       "      <td>6</td>\n",
       "      <td>2</td>\n",
       "      <td>2.152835</td>\n",
       "      <td>NaN</td>\n",
       "    </tr>\n",
       "    <tr>\n",
       "      <th>7</th>\n",
       "      <td>7</td>\n",
       "      <td>3</td>\n",
       "      <td>-1.163424</td>\n",
       "      <td>NaN</td>\n",
       "    </tr>\n",
       "    <tr>\n",
       "      <th>8</th>\n",
       "      <td>8</td>\n",
       "      <td>6</td>\n",
       "      <td>0.553983</td>\n",
       "      <td>NaN</td>\n",
       "    </tr>\n",
       "    <tr>\n",
       "      <th>9</th>\n",
       "      <td>9</td>\n",
       "      <td>5</td>\n",
       "      <td>-1.060710</td>\n",
       "      <td>NaN</td>\n",
       "    </tr>\n",
       "  </tbody>\n",
       "</table>\n",
       "</div>"
      ],
      "text/plain": [
       "   A  B         C    D\n",
       "0  0  6 -0.219076  NaN\n",
       "1  1  6 -2.564587  NaN\n",
       "2  2  4  0.628099  NaN\n",
       "3  3  5  0.190485  NaN\n",
       "4  4  3  0.049223  NaN\n",
       "5  5  3 -0.190953  NaN\n",
       "6  6  2  2.152835  NaN\n",
       "7  7  3 -1.163424  NaN\n",
       "8  8  6  0.553983  NaN\n",
       "9  9  5 -1.060710  NaN"
      ]
     },
     "execution_count": 30,
     "metadata": {},
     "output_type": "execute_result"
    }
   ],
   "source": [
    "pd.DataFrame(dict_2, columns=['A', 'B', 'C', 'D']) # Here, we don't have a key 'D' in dict_2. \n",
    "#Including 'D' in the columns will add that column and assigns NaN values to it."
   ]
  },
  {
   "cell_type": "markdown",
   "id": "25b9dafc",
   "metadata": {},
   "source": [
    "Retrieving a column:\n",
    "\n",
    "Either use dictionary notation or attribute: df['columnName'] or df.columnName"
   ]
  },
  {
   "cell_type": "code",
   "execution_count": 31,
   "id": "7ba14c3e",
   "metadata": {},
   "outputs": [
    {
     "data": {
      "text/plain": [
       "A   -0.327327\n",
       "B    0.961626\n",
       "C    0.492447\n",
       "D   -0.868138\n",
       "E   -0.020874\n",
       "F    0.321613\n",
       "Name: Pens, dtype: float64"
      ]
     },
     "execution_count": 31,
     "metadata": {},
     "output_type": "execute_result"
    }
   ],
   "source": [
    "dataframe_1['Pens']"
   ]
  },
  {
   "cell_type": "code",
   "execution_count": 32,
   "id": "4ac85201",
   "metadata": {},
   "outputs": [
    {
     "data": {
      "text/plain": [
       "A   -0.327327\n",
       "B    0.961626\n",
       "C    0.492447\n",
       "D   -0.868138\n",
       "E   -0.020874\n",
       "F    0.321613\n",
       "Name: Pens, dtype: float64"
      ]
     },
     "execution_count": 32,
     "metadata": {},
     "output_type": "execute_result"
    }
   ],
   "source": [
    "dataframe_1.Pens"
   ]
  },
  {
   "cell_type": "markdown",
   "id": "6d07b1ac",
   "metadata": {},
   "source": [
    "Note that dictionary notation for getting a column works with any column name, but using attribute only works if the columnName is a valued Python variable name."
   ]
  },
  {
   "cell_type": "code",
   "execution_count": 33,
   "id": "9723458d",
   "metadata": {},
   "outputs": [
    {
     "data": {
      "text/plain": [
       "Index(['Books', 'Pens', 'Shoes'], dtype='object')"
      ]
     },
     "execution_count": 33,
     "metadata": {},
     "output_type": "execute_result"
    }
   ],
   "source": [
    "dataframe_1.columns"
   ]
  },
  {
   "cell_type": "code",
   "execution_count": 34,
   "id": "7ca89784",
   "metadata": {},
   "outputs": [
    {
     "data": {
      "text/html": [
       "<div>\n",
       "<style scoped>\n",
       "    .dataframe tbody tr th:only-of-type {\n",
       "        vertical-align: middle;\n",
       "    }\n",
       "\n",
       "    .dataframe tbody tr th {\n",
       "        vertical-align: top;\n",
       "    }\n",
       "\n",
       "    .dataframe thead th {\n",
       "        text-align: right;\n",
       "    }\n",
       "</style>\n",
       "<table border=\"1\" class=\"dataframe\">\n",
       "  <thead>\n",
       "    <tr style=\"text-align: right;\">\n",
       "      <th></th>\n",
       "      <th>Books</th>\n",
       "      <th>Pens</th>\n",
       "      <th>1</th>\n",
       "    </tr>\n",
       "  </thead>\n",
       "  <tbody>\n",
       "    <tr>\n",
       "      <th>A</th>\n",
       "      <td>0.897605</td>\n",
       "      <td>-0.327327</td>\n",
       "      <td>0.971786</td>\n",
       "    </tr>\n",
       "    <tr>\n",
       "      <th>B</th>\n",
       "      <td>-0.393532</td>\n",
       "      <td>0.961626</td>\n",
       "      <td>0.123480</td>\n",
       "    </tr>\n",
       "    <tr>\n",
       "      <th>C</th>\n",
       "      <td>0.499512</td>\n",
       "      <td>0.492447</td>\n",
       "      <td>0.540122</td>\n",
       "    </tr>\n",
       "    <tr>\n",
       "      <th>D</th>\n",
       "      <td>0.120541</td>\n",
       "      <td>-0.868138</td>\n",
       "      <td>0.354568</td>\n",
       "    </tr>\n",
       "    <tr>\n",
       "      <th>E</th>\n",
       "      <td>0.738193</td>\n",
       "      <td>-0.020874</td>\n",
       "      <td>0.306368</td>\n",
       "    </tr>\n",
       "    <tr>\n",
       "      <th>F</th>\n",
       "      <td>0.205080</td>\n",
       "      <td>0.321613</td>\n",
       "      <td>2.036782</td>\n",
       "    </tr>\n",
       "  </tbody>\n",
       "</table>\n",
       "</div>"
      ],
      "text/plain": [
       "      Books      Pens         1\n",
       "A  0.897605 -0.327327  0.971786\n",
       "B -0.393532  0.961626  0.123480\n",
       "C  0.499512  0.492447  0.540122\n",
       "D  0.120541 -0.868138  0.354568\n",
       "E  0.738193 -0.020874  0.306368\n",
       "F  0.205080  0.321613  2.036782"
      ]
     },
     "execution_count": 34,
     "metadata": {},
     "output_type": "execute_result"
    }
   ],
   "source": [
    "dataframe_1.columns = ['Books', 'Pens', 1]\n",
    "dataframe_1"
   ]
  },
  {
   "cell_type": "code",
   "execution_count": 35,
   "id": "5982577c",
   "metadata": {},
   "outputs": [
    {
     "data": {
      "text/plain": [
       "A    0.971786\n",
       "B    0.123480\n",
       "C    0.540122\n",
       "D    0.354568\n",
       "E    0.306368\n",
       "F    2.036782\n",
       "Name: 1, dtype: float64"
      ]
     },
     "execution_count": 35,
     "metadata": {},
     "output_type": "execute_result"
    }
   ],
   "source": [
    "dataframe_1[1]"
   ]
  },
  {
   "cell_type": "code",
   "execution_count": 36,
   "id": "1d6aee39",
   "metadata": {},
   "outputs": [
    {
     "ename": "SyntaxError",
     "evalue": "invalid syntax (492237829.py, line 1)",
     "output_type": "error",
     "traceback": [
      "\u001b[1;36m  Input \u001b[1;32mIn [36]\u001b[1;36m\u001b[0m\n\u001b[1;33m    dataframe_1.1 # We cannot retrieve column corresponding to 1!\u001b[0m\n\u001b[1;37m               ^\u001b[0m\n\u001b[1;31mSyntaxError\u001b[0m\u001b[1;31m:\u001b[0m invalid syntax\n"
     ]
    }
   ],
   "source": [
    "dataframe_1.1 # We cannot retrieve column corresponding to 1!"
   ]
  },
  {
   "cell_type": "code",
   "execution_count": null,
   "id": "c5569d89",
   "metadata": {},
   "outputs": [],
   "source": [
    "print(dataframe_1)\n",
    "dataframe_1.loc['C'] # retrieves row with index 'C'"
   ]
  },
  {
   "cell_type": "code",
   "execution_count": null,
   "id": "076ad56d",
   "metadata": {},
   "outputs": [],
   "source": [
    "dataframe_1.iloc[2] # retrieves row number 3"
   ]
  },
  {
   "cell_type": "code",
   "execution_count": null,
   "id": "f4585ac7",
   "metadata": {},
   "outputs": [],
   "source": [
    "dataframe_2 = pd.DataFrame(dict_2, columns=['A', 'B', 'C', 'D'])\n",
    "print(dataframe_2)\n",
    "dataframe_2['D'] = 2\n",
    "print(dataframe_2)"
   ]
  },
  {
   "cell_type": "code",
   "execution_count": null,
   "id": "437723d7",
   "metadata": {},
   "outputs": [],
   "source": [
    "dataframe_2['D'] = np.random.randn(10,1) # length of the assigned vector should match the number of rows in DF.\n",
    "dataframe_2"
   ]
  },
  {
   "cell_type": "code",
   "execution_count": null,
   "id": "a11f0fc2",
   "metadata": {},
   "outputs": [],
   "source": [
    "series_6 = pd.Series(np.random.randint(1,5,10), index=np.arange(4, 14)) # \n",
    "dataframe_2 ['D'] = series_6 # When assigning a Series to a DF column, index are aligned.\n",
    "dataframe_2"
   ]
  },
  {
   "cell_type": "code",
   "execution_count": null,
   "id": "731ab80d",
   "metadata": {},
   "outputs": [],
   "source": [
    "del dataframe_2['D'] # del keyword deletes a column\n",
    "dataframe_2"
   ]
  },
  {
   "cell_type": "code",
   "execution_count": null,
   "id": "3a1de43f",
   "metadata": {},
   "outputs": [],
   "source": [
    "dataframe_1 = pd.DataFrame(np.random.randn(6,3), columns=['Books', 'Pens', 'Shoes'])\n",
    "print(dataframe_1)\n",
    "book = dataframe_1['Books']\n",
    "book = 1\n",
    "print(dataframe_1)"
   ]
  },
  {
   "cell_type": "code",
   "execution_count": null,
   "id": "4ccf127b",
   "metadata": {},
   "outputs": [],
   "source": [
    "dataframe_1.columns.name = 'Commodity' # Setting name of the columns to be 'commodity'\n",
    "dataframe_1.index.name = 'rows' # Setting name of the index to be 'rows'\n",
    "dataframe_1"
   ]
  },
  {
   "cell_type": "markdown",
   "id": "676fc63a",
   "metadata": {},
   "source": [
    "We can pass a nested dictionary to pd.DataFrame(). So basically, a dict of dict. "
   ]
  },
  {
   "cell_type": "code",
   "execution_count": null,
   "id": "87289b57",
   "metadata": {},
   "outputs": [],
   "source": [
    "dictOfDict_1 = {'Column1': {'ind1': 1, 'ind2': 2, 'ind3': 3},\n",
    "              'Column2': {'ind1': 4, 'ind2': 5, 'ind3': 6},\n",
    "              'Column3': {'ind1': 7, 'ind2': 8, 'ind3': 9}} \n",
    "pd.DataFrame(dictOfDict_1)\n",
    "# The outer keys are regarded as Column names."
   ]
  },
  {
   "cell_type": "code",
   "execution_count": null,
   "id": "cf7456e9",
   "metadata": {},
   "outputs": [],
   "source": [
    "pd.DataFrame(dictOfDict_1, index=['ind2', 'ind3', 'ind4']) # Here we override the indexes. Notice the NaN values."
   ]
  },
  {
   "cell_type": "markdown",
   "id": "11ccdee7",
   "metadata": {},
   "source": [
    "We can also pass a dict of Series:"
   ]
  },
  {
   "cell_type": "code",
   "execution_count": null,
   "id": "ef13715f",
   "metadata": {},
   "outputs": [],
   "source": [
    "dictOfSeries_1 = {'cost': dataframe_2['A'],\n",
    "                  'tax': dataframe_2['B'],\n",
    "                  'income': dataframe_2['C']}\n",
    "pd.DataFrame(dictOfSeries_1)\n",
    "# index of Series is used as the index of the built DataFrame."
   ]
  },
  {
   "cell_type": "markdown",
   "id": "a01ecf77",
   "metadata": {},
   "source": [
    "Some hotKey for Jupyter notebook: if you want to create an empy cell after a cell, press B. A cell before the current cell, press A."
   ]
  },
  {
   "cell_type": "code",
   "execution_count": null,
   "id": "8ef1a455",
   "metadata": {},
   "outputs": [],
   "source": [
    "dataframe_2.values # Getting values of the DataFrame"
   ]
  },
  {
   "cell_type": "code",
   "execution_count": null,
   "id": "ad581eab",
   "metadata": {},
   "outputs": [],
   "source": [
    "series_3.values # Getting values of the Series"
   ]
  },
  {
   "cell_type": "code",
   "execution_count": null,
   "id": "959ee265",
   "metadata": {},
   "outputs": [],
   "source": [
    "print(dataframe_2['B'].value_counts()) # Counting number of times each element in the column 'B' is repeated.\n",
    "print(dataframe_2)"
   ]
  },
  {
   "cell_type": "code",
   "execution_count": null,
   "id": "2c3d3eb3",
   "metadata": {},
   "outputs": [],
   "source": []
  },
  {
   "cell_type": "markdown",
   "id": "270b1dd0",
   "metadata": {},
   "source": [
    "We can transpose a DataFrame:"
   ]
  },
  {
   "cell_type": "code",
   "execution_count": null,
   "id": "c46df25d",
   "metadata": {},
   "outputs": [],
   "source": [
    "dataframe_1.T"
   ]
  },
  {
   "cell_type": "markdown",
   "id": "05fe1b57",
   "metadata": {},
   "source": [
    "### reindexing: "
   ]
  },
  {
   "cell_type": "code",
   "execution_count": null,
   "id": "e091b43a",
   "metadata": {},
   "outputs": [],
   "source": [
    "dataframe_3 = pd.DataFrame(data=np.random.randn(7, 5), columns=list('ABCDE'),\n",
    "                           index=range(7))\n",
    "dataframe_3"
   ]
  },
  {
   "cell_type": "code",
   "execution_count": null,
   "id": "3efe1d8d",
   "metadata": {},
   "outputs": [],
   "source": [
    "dataframe_4 = dataframe_3.reindex(index=[1, 2, 8, 6, 7])\n",
    "dataframe_4 # values corresponding to the indices that don't exist in the original DF will be NaN."
   ]
  },
  {
   "cell_type": "code",
   "execution_count": null,
   "id": "07d5bdbf",
   "metadata": {},
   "outputs": [],
   "source": [
    "dataframe_3.reindex(index=[1, 2, 8, 6, 7], method='ffill') # we can fill in NaN values using method.\n",
    "# Here, the method is forward fill."
   ]
  },
  {
   "cell_type": "markdown",
   "id": "9413ad51",
   "metadata": {},
   "source": [
    "We can reindex columns as well. If we only pass one list, then we are changing the index. "
   ]
  },
  {
   "cell_type": "code",
   "execution_count": null,
   "id": "87497ec3",
   "metadata": {},
   "outputs": [],
   "source": [
    "dataframe_3.reindex(index=[1, 2, 8, 6, 7], columns=['A', 'C', 'E'])"
   ]
  },
  {
   "cell_type": "markdown",
   "id": "abbb9a51",
   "metadata": {},
   "source": [
    "### Dropping entries from axes"
   ]
  },
  {
   "cell_type": "code",
   "execution_count": null,
   "id": "dadaf746",
   "metadata": {},
   "outputs": [],
   "source": [
    "obj = pd.DataFrame(data=np.arange(12).reshape(3, 4), columns=list('ABCD'))\n",
    "obj"
   ]
  },
  {
   "cell_type": "code",
   "execution_count": null,
   "id": "0ff4a911",
   "metadata": {},
   "outputs": [],
   "source": [
    "obj.drop(1) # This drops the row with index 1. "
   ]
  },
  {
   "cell_type": "code",
   "execution_count": null,
   "id": "b2db1d18",
   "metadata": {},
   "outputs": [],
   "source": [
    "print(obj) # you can see that by calling the drop method, obj did not change. We can however make the change\n",
    "# to be in place\n",
    "obj.drop(2, inplace=True)\n",
    "print(f\"The new obj is \\n{obj}\")"
   ]
  },
  {
   "cell_type": "markdown",
   "id": "a91939dd",
   "metadata": {},
   "source": [
    "We can also drop columns. For this, we should write axis = 1 or axis = 'columns'"
   ]
  },
  {
   "cell_type": "code",
   "execution_count": null,
   "id": "1efa0bf9",
   "metadata": {},
   "outputs": [],
   "source": [
    "obj = pd.DataFrame(data=np.arange(12).reshape(3, 4), columns=list('ABCD'))\n",
    "obj.drop(['A', 'B'], axis = 1)"
   ]
  },
  {
   "cell_type": "code",
   "execution_count": null,
   "id": "f94b3442",
   "metadata": {},
   "outputs": [],
   "source": [
    "obj.drop('C', axis = 'columns')"
   ]
  },
  {
   "cell_type": "code",
   "execution_count": null,
   "id": "79a9f5a2",
   "metadata": {},
   "outputs": [],
   "source": []
  },
  {
   "cell_type": "code",
   "execution_count": null,
   "id": "e8d27e99",
   "metadata": {},
   "outputs": [],
   "source": []
  },
  {
   "cell_type": "markdown",
   "id": "44f1c242",
   "metadata": {},
   "source": [
    "### Indexing"
   ]
  },
  {
   "cell_type": "code",
   "execution_count": null,
   "id": "8e060c3d",
   "metadata": {},
   "outputs": [],
   "source": [
    "obj_s = pd.Series(np.arange(3, 7), index=list('QWER'))\n",
    "obj_s"
   ]
  },
  {
   "cell_type": "code",
   "execution_count": null,
   "id": "880888e5",
   "metadata": {},
   "outputs": [],
   "source": [
    "obj_s[1]"
   ]
  },
  {
   "cell_type": "code",
   "execution_count": null,
   "id": "a71b7700",
   "metadata": {},
   "outputs": [],
   "source": [
    "obj_s[0:2]"
   ]
  },
  {
   "cell_type": "code",
   "execution_count": null,
   "id": "4462c1ca",
   "metadata": {},
   "outputs": [],
   "source": [
    "obj_s[['W', 'R']]"
   ]
  },
  {
   "cell_type": "code",
   "execution_count": null,
   "id": "4f496c86",
   "metadata": {},
   "outputs": [],
   "source": [
    "obj_s[obj_s > 3]"
   ]
  },
  {
   "cell_type": "code",
   "execution_count": null,
   "id": "994f9997",
   "metadata": {},
   "outputs": [],
   "source": [
    "obj_s['Q': 'E'] # Note that this way of slicing with indexes is inclusive of the end-point."
   ]
  },
  {
   "cell_type": "code",
   "execution_count": null,
   "id": "01f85393",
   "metadata": {},
   "outputs": [],
   "source": [
    "obj_s['Q': 'E'] = np.array([7, 8, 9]) # This will change obj_s in place\n",
    "obj_s "
   ]
  },
  {
   "cell_type": "markdown",
   "id": "0d3a97a9",
   "metadata": {},
   "source": [
    "Operation on DF:"
   ]
  },
  {
   "cell_type": "markdown",
   "id": "fd0c660c",
   "metadata": {},
   "source": [
    "Let's try this on DataFrame. It is not exactly the same because when we write df[x], it returns column, not row. To return row(s), we should use the slicing notation \":\"."
   ]
  },
  {
   "cell_type": "code",
   "execution_count": null,
   "id": "89eb904c",
   "metadata": {},
   "outputs": [],
   "source": [
    "obj.index = list('ghj')\n",
    "obj"
   ]
  },
  {
   "cell_type": "code",
   "execution_count": null,
   "id": "8d6b7ba7",
   "metadata": {},
   "outputs": [],
   "source": [
    "obj[1:2] # if you pass obj[1], you will get an error! Note that obj[] returns column(s), but slicing like the \n",
    "#one here works to return rows."
   ]
  },
  {
   "cell_type": "code",
   "execution_count": null,
   "id": "530f1ff4",
   "metadata": {},
   "outputs": [],
   "source": [
    "obj[0:2]"
   ]
  },
  {
   "cell_type": "markdown",
   "id": "345defba",
   "metadata": {},
   "source": [
    "Some operations on DF:"
   ]
  },
  {
   "cell_type": "code",
   "execution_count": null,
   "id": "94c4594f",
   "metadata": {},
   "outputs": [],
   "source": [
    "print(obj)\n",
    "obj > 5"
   ]
  },
  {
   "cell_type": "code",
   "execution_count": null,
   "id": "d11ced40",
   "metadata": {},
   "outputs": [],
   "source": [
    "obj[obj > 5] = 10"
   ]
  },
  {
   "cell_type": "code",
   "execution_count": null,
   "id": "b2d4145a",
   "metadata": {},
   "outputs": [],
   "source": [
    "obj"
   ]
  },
  {
   "cell_type": "markdown",
   "id": "36f00f9f",
   "metadata": {},
   "source": [
    "Selection with loc and iloc:"
   ]
  },
  {
   "cell_type": "code",
   "execution_count": null,
   "id": "aa9ad1ea",
   "metadata": {},
   "outputs": [],
   "source": [
    "print(dataframe_4)\n",
    "dataframe_4.loc[[2, 6], ['A', 'B']] # loc can be used to access particular cut of the DF. \n",
    "# it is basically a way of reindexing."
   ]
  },
  {
   "cell_type": "code",
   "execution_count": null,
   "id": "b152faca",
   "metadata": {},
   "outputs": [],
   "source": [
    "dataframe_4.iloc[0, 1]"
   ]
  },
  {
   "cell_type": "code",
   "execution_count": null,
   "id": "0ed8dfbd",
   "metadata": {},
   "outputs": [],
   "source": [
    "dataframe_1"
   ]
  },
  {
   "cell_type": "code",
   "execution_count": null,
   "id": "a51c491e",
   "metadata": {},
   "outputs": [],
   "source": [
    "dataframe_1[dataframe_1['Books'] > 0]"
   ]
  },
  {
   "cell_type": "code",
   "execution_count": null,
   "id": "16ddf28f",
   "metadata": {},
   "outputs": [],
   "source": [
    "dataframe_1"
   ]
  },
  {
   "cell_type": "code",
   "execution_count": null,
   "id": "17f1140a",
   "metadata": {},
   "outputs": [],
   "source": [
    "dataframe_1.iloc[1, 1]"
   ]
  },
  {
   "cell_type": "code",
   "execution_count": null,
   "id": "d1bd7516",
   "metadata": {},
   "outputs": [],
   "source": [
    "dataframe_1.iat[1, 1]"
   ]
  },
  {
   "cell_type": "markdown",
   "id": "74817802",
   "metadata": {},
   "source": [
    "Integer indexes"
   ]
  },
  {
   "cell_type": "code",
   "execution_count": null,
   "id": "9ba0a7a5",
   "metadata": {},
   "outputs": [],
   "source": [
    "series_3"
   ]
  },
  {
   "cell_type": "code",
   "execution_count": null,
   "id": "d18e01b9",
   "metadata": {},
   "outputs": [],
   "source": [
    "series_3[0]"
   ]
  },
  {
   "cell_type": "code",
   "execution_count": null,
   "id": "6580fdd5",
   "metadata": {},
   "outputs": [],
   "source": [
    "series_3['figure']"
   ]
  },
  {
   "cell_type": "code",
   "execution_count": null,
   "id": "ed9de986",
   "metadata": {},
   "outputs": [],
   "source": [
    "series_3[-1]"
   ]
  },
  {
   "cell_type": "markdown",
   "id": "0f30232f",
   "metadata": {},
   "source": [
    "Consider a Series with integer indexes. This can cause an error with previous syntax as it creates confusion:"
   ]
  },
  {
   "cell_type": "code",
   "execution_count": null,
   "id": "692ec5f1",
   "metadata": {},
   "outputs": [],
   "source": [
    "series_1"
   ]
  },
  {
   "cell_type": "code",
   "execution_count": null,
   "id": "6321041f",
   "metadata": {},
   "outputs": [],
   "source": [
    "series_1[-1] # This causes confusion as indexes are integers."
   ]
  },
  {
   "cell_type": "code",
   "execution_count": null,
   "id": "cb4edec2",
   "metadata": {},
   "outputs": [],
   "source": [
    "series_1[2]"
   ]
  },
  {
   "cell_type": "code",
   "execution_count": null,
   "id": "6e7711d0",
   "metadata": {},
   "outputs": [],
   "source": [
    "series_1.iloc[-1] # This one works pretty well. Use loc with labels, and iloc for integer indexing."
   ]
  },
  {
   "cell_type": "code",
   "execution_count": null,
   "id": "ec3848e9",
   "metadata": {},
   "outputs": [],
   "source": [
    "print(series_2)\n",
    "print()\n",
    "print(series_2['figure':])"
   ]
  },
  {
   "cell_type": "code",
   "execution_count": null,
   "id": "5069975d",
   "metadata": {},
   "outputs": [],
   "source": [
    "series_2.iloc[1:] # The same as above"
   ]
  },
  {
   "cell_type": "code",
   "execution_count": null,
   "id": "77019707",
   "metadata": {},
   "outputs": [],
   "source": [
    "series_1[0:1]"
   ]
  },
  {
   "cell_type": "code",
   "execution_count": null,
   "id": "a094711d",
   "metadata": {},
   "outputs": [],
   "source": [
    "series_1.loc[0:1] # This includes the end-point."
   ]
  },
  {
   "cell_type": "code",
   "execution_count": null,
   "id": "5ce2dcc2",
   "metadata": {},
   "outputs": [],
   "source": [
    "series_1.iloc[0:1]"
   ]
  },
  {
   "cell_type": "code",
   "execution_count": null,
   "id": "98d8a146",
   "metadata": {},
   "outputs": [],
   "source": [
    "dataframe_1.loc['B':'D', 'Books': 1] # Notice that for DF as well, .loc[] includes the end point."
   ]
  },
  {
   "cell_type": "markdown",
   "id": "57368ab6",
   "metadata": {},
   "source": [
    "### Arithmetic and Data Alignment\n",
    "arithmetic operation between objects that have different indexes returns objects with union of the indexes. "
   ]
  },
  {
   "cell_type": "code",
   "execution_count": null,
   "id": "b5260d4a",
   "metadata": {},
   "outputs": [],
   "source": [
    "s1 = pd.Series(data=np.arange(5), index=list('ABCDE'))\n",
    "s2 = pd.Series(data=np.random.randn(3), index=list('DAF'))\n",
    "print(s1)\n",
    "print(s2)"
   ]
  },
  {
   "cell_type": "code",
   "execution_count": null,
   "id": "20cc75e8",
   "metadata": {},
   "outputs": [],
   "source": [
    "s1 + s2"
   ]
  },
  {
   "cell_type": "markdown",
   "id": "36f17264",
   "metadata": {},
   "source": [
    "For DataFrame, the alignment is performed on both index and label (row and column)"
   ]
  },
  {
   "cell_type": "code",
   "execution_count": null,
   "id": "0f35bdff",
   "metadata": {},
   "outputs": [],
   "source": [
    "dataframe_1"
   ]
  },
  {
   "cell_type": "code",
   "execution_count": null,
   "id": "3224122b",
   "metadata": {},
   "outputs": [],
   "source": [
    "dataframe_2 = pd.DataFrame(np.random.randn(6, 2), index = list('DCBHIJ'), columns=['Books', 1])\n",
    "print(dataframe_2)"
   ]
  },
  {
   "cell_type": "code",
   "execution_count": null,
   "id": "5b331329",
   "metadata": {},
   "outputs": [],
   "source": [
    "dataframe_1 + dataframe_2"
   ]
  },
  {
   "cell_type": "markdown",
   "id": "89187203",
   "metadata": {},
   "source": [
    "### Arithmetic methods with fill values\n",
    "When performing arithmetic with DFs, if one axis label (or index) exists in one but not in the other DF, then we can specify a fill value to be considered for the DF that does not have that particular index (or label). Note that for the operation to not yield NaN for a particular (index, column), either the index or column should exist in both DataFrames."
   ]
  },
  {
   "cell_type": "code",
   "execution_count": null,
   "id": "9cb8ca7d",
   "metadata": {},
   "outputs": [],
   "source": [
    "df_1 = pd.DataFrame(np.random.rand(2, 3), list('AB'), columns = list('123'))\n",
    "df_1"
   ]
  },
  {
   "cell_type": "code",
   "execution_count": null,
   "id": "21988f6c",
   "metadata": {},
   "outputs": [],
   "source": [
    "df_2 = pd.DataFrame(np.random.randn(3, 3), list('ABC'), list('234'))\n",
    "df_2"
   ]
  },
  {
   "cell_type": "code",
   "execution_count": null,
   "id": "400d6b58",
   "metadata": {},
   "outputs": [],
   "source": [
    "df_1 + df_2"
   ]
  },
  {
   "cell_type": "code",
   "execution_count": null,
   "id": "81626cc0",
   "metadata": {},
   "outputs": [],
   "source": [
    "df_1.add(df_2, fill_value=5) # The value corresponding to (index='C', column=1) is NaN since neither of the dataframes have this element."
   ]
  },
  {
   "cell_type": "code",
   "execution_count": null,
   "id": "f4b6f639",
   "metadata": {},
   "outputs": [],
   "source": [
    "df_2.add(df_1, fill_value=5)"
   ]
  },
  {
   "cell_type": "code",
   "execution_count": null,
   "id": "9f715dec",
   "metadata": {},
   "outputs": [],
   "source": [
    "df_1.div(1)"
   ]
  },
  {
   "cell_type": "code",
   "execution_count": null,
   "id": "430a3d54",
   "metadata": {},
   "outputs": [],
   "source": [
    "df_1.rdiv(1) # rdiv reverese the order of division. "
   ]
  },
  {
   "cell_type": "markdown",
   "id": "f8fdd621",
   "metadata": {},
   "source": [
    "### Operations between DF and Series\n",
    "let's look at NumPy. By default the operation is performed for each row. This called *broadcasting*."
   ]
  },
  {
   "cell_type": "code",
   "execution_count": null,
   "id": "879c136c",
   "metadata": {},
   "outputs": [],
   "source": [
    "arr = np.arange(12).reshape(3, 4)\n",
    "arr"
   ]
  },
  {
   "cell_type": "code",
   "execution_count": null,
   "id": "b9f46b00",
   "metadata": {},
   "outputs": [],
   "source": [
    "arr - arr[0]"
   ]
  },
  {
   "cell_type": "markdown",
   "id": "890bc30f",
   "metadata": {},
   "source": [
    "Let's do the same to DF and Series"
   ]
  },
  {
   "cell_type": "code",
   "execution_count": null,
   "id": "3123f887",
   "metadata": {},
   "outputs": [],
   "source": [
    "dataframe_1"
   ]
  },
  {
   "cell_type": "code",
   "execution_count": null,
   "id": "e7f2bd0b",
   "metadata": {},
   "outputs": [],
   "source": [
    "dataframe_1.loc['A']"
   ]
  },
  {
   "cell_type": "code",
   "execution_count": null,
   "id": "b80305f2",
   "metadata": {},
   "outputs": [],
   "source": [
    "dataframe_1 - dataframe_1.loc['A']"
   ]
  },
  {
   "cell_type": "markdown",
   "id": "1ada9708",
   "metadata": {},
   "source": [
    "By default, the operation between a DF and Series matches the index of the Series with DF columns.\n",
    "\n",
    "We can also do the operation along DF index. In this case, we should use arithmetic methods:"
   ]
  },
  {
   "cell_type": "code",
   "execution_count": null,
   "id": "2a711519",
   "metadata": {},
   "outputs": [],
   "source": [
    "dataframe_1.sub(dataframe_1['Books'], axis=0) # The number of axis we pass corresponds to the axis we want to match on."
   ]
  },
  {
   "cell_type": "markdown",
   "id": "a682d314",
   "metadata": {},
   "source": [
    "## Function application and mapping"
   ]
  },
  {
   "cell_type": "markdown",
   "id": "a6219d6d",
   "metadata": {},
   "source": [
    "We can apply ufunc functions of NumPy to DF and Series:"
   ]
  },
  {
   "cell_type": "code",
   "execution_count": null,
   "id": "54624f9c",
   "metadata": {},
   "outputs": [],
   "source": [
    "np.exp(dataframe_1)"
   ]
  },
  {
   "cell_type": "markdown",
   "id": "66762e3f",
   "metadata": {},
   "source": [
    "We can apply functions of one-dimensional arrays to each row or column of a DF."
   ]
  },
  {
   "cell_type": "code",
   "execution_count": null,
   "id": "d68317ab",
   "metadata": {},
   "outputs": [],
   "source": [
    "f = lambda x: x.max() - x.min()\n",
    "dataframe_1"
   ]
  },
  {
   "cell_type": "code",
   "execution_count": null,
   "id": "6d2cb01b",
   "metadata": {},
   "outputs": [],
   "source": [
    "dataframe_1.apply(f)"
   ]
  },
  {
   "cell_type": "markdown",
   "id": "3362229c",
   "metadata": {},
   "source": [
    "If you want to apply the function to rows, set axis='columns'"
   ]
  },
  {
   "cell_type": "code",
   "execution_count": null,
   "id": "700a3adf",
   "metadata": {},
   "outputs": [],
   "source": [
    "dataframe_1.apply(f, axis='columns')"
   ]
  },
  {
   "cell_type": "markdown",
   "id": "e888317d",
   "metadata": {},
   "source": [
    "The function we apply to DF need not return a scaler. It can be a Series for instance:"
   ]
  },
  {
   "cell_type": "code",
   "execution_count": null,
   "id": "6439c41d",
   "metadata": {},
   "outputs": [],
   "source": [
    "f2 = lambda x: pd.Series([x.min(), x.max()], index = ['x_min', 'x_max'])"
   ]
  },
  {
   "cell_type": "code",
   "execution_count": null,
   "id": "7d2f44f6",
   "metadata": {},
   "outputs": [],
   "source": [
    "dataframe_1.apply(f2)"
   ]
  },
  {
   "cell_type": "markdown",
   "id": "6ce8157b",
   "metadata": {},
   "source": [
    "Now let's apply a function to elements of DF, instead of applying it to row or column. For this, use the applymap method. The reason for this naming convention is that for Series, we have a map method."
   ]
  },
  {
   "cell_type": "code",
   "execution_count": null,
   "id": "faf0a5eb",
   "metadata": {},
   "outputs": [],
   "source": [
    "f3 = lambda x: x + np.sin(x)"
   ]
  },
  {
   "cell_type": "code",
   "execution_count": null,
   "id": "86707895",
   "metadata": {},
   "outputs": [],
   "source": [
    "dataframe_1.applymap(f3)"
   ]
  },
  {
   "cell_type": "markdown",
   "id": "c976d45f",
   "metadata": {},
   "source": [
    "For Series, we have the map method:"
   ]
  },
  {
   "cell_type": "code",
   "execution_count": null,
   "id": "572f28d7",
   "metadata": {},
   "outputs": [],
   "source": [
    "series_1"
   ]
  },
  {
   "cell_type": "code",
   "execution_count": null,
   "id": "5a61e884",
   "metadata": {},
   "outputs": [],
   "source": [
    "series_1.map(f3)"
   ]
  },
  {
   "cell_type": "code",
   "execution_count": null,
   "id": "9791f3b8",
   "metadata": {},
   "outputs": [],
   "source": [
    "x = list(range(4))\n",
    "y = list(range(5,10))\n",
    "print(x)\n",
    "print(y)"
   ]
  },
  {
   "cell_type": "code",
   "execution_count": null,
   "id": "e532fa14",
   "metadata": {},
   "outputs": [],
   "source": [
    "x.extend(y)\n",
    "print(f\"x is extended to be {x}\")"
   ]
  },
  {
   "cell_type": "markdown",
   "id": "55c16baa",
   "metadata": {},
   "source": [
    "Diverging from subject here. Interesting string formatting in Python:"
   ]
  },
  {
   "cell_type": "code",
   "execution_count": null,
   "id": "be35df5e",
   "metadata": {},
   "outputs": [],
   "source": [
    "float1 = 2.154327\n",
    "float2 = 3.44444\n",
    "format_float = \"The value is {0} and the second value is {1}\".format(float1, float2)\n",
    "print(format_float)\n",
    "format_float2 = \"The value is {0:.2f} and the second value is {1:0.2f}\".format(float1, float2) # This is how we can specify \n",
    "#how many float decimals places we want.\n",
    "print(format_float2)\n",
    "format_float3 = \"The value is {:.2f} and the second value is {:0.2f}\".format(float1, float2)\n",
    "print(format_float3) # Here you can see that we could do it without putting the placeholders 0 and 1.\n",
    "format_float4 = \"The value is {1:.2f} and the second value is {0:0.2f}\".format(float1, float2)\n",
    "print(format_float4) # This reverses the order of numbers."
   ]
  },
  {
   "cell_type": "markdown",
   "id": "cd75ba12",
   "metadata": {},
   "source": [
    "### Sorting and ranking"
   ]
  },
  {
   "cell_type": "markdown",
   "id": "b6c8f615",
   "metadata": {},
   "source": [
    "We can sort Series and DF by either index or values:\n",
    "\n",
    "sort_index method -> sorting by index (we can specify axis also)\n",
    "\n",
    "sort_values method -> sorting by values (we can pass multiple columns based on which we sort)"
   ]
  },
  {
   "cell_type": "code",
   "execution_count": null,
   "id": "ad9b6d21",
   "metadata": {},
   "outputs": [],
   "source": [
    "series_6 = pd.Series([10, 30, 50, 40], index=[4, 3, 1, 2])\n",
    "series_6"
   ]
  },
  {
   "cell_type": "code",
   "execution_count": null,
   "id": "ce28a53f",
   "metadata": {},
   "outputs": [],
   "source": [
    "series_6.sort_index()"
   ]
  },
  {
   "cell_type": "code",
   "execution_count": null,
   "id": "1567bc5a",
   "metadata": {},
   "outputs": [],
   "source": [
    "series_6.sort_values() # missing values go to the end."
   ]
  },
  {
   "cell_type": "markdown",
   "id": "28d173bb",
   "metadata": {},
   "source": [
    "Let's look at DF:"
   ]
  },
  {
   "cell_type": "code",
   "execution_count": null,
   "id": "37b91886",
   "metadata": {},
   "outputs": [],
   "source": [
    "dataframe_2 = pd.DataFrame(np.random.randint(3, 6, (4, 3)), index = list('1432'), columns=list('BAC'))\n",
    "dataframe_2"
   ]
  },
  {
   "cell_type": "code",
   "execution_count": null,
   "id": "a5901ffa",
   "metadata": {},
   "outputs": [],
   "source": [
    "dataframe_2.sort_index()"
   ]
  },
  {
   "cell_type": "code",
   "execution_count": null,
   "id": "2ed8f967",
   "metadata": {},
   "outputs": [],
   "source": [
    "dataframe_2.sort_index(axis='columns')"
   ]
  },
  {
   "cell_type": "code",
   "execution_count": null,
   "id": "4a57d440",
   "metadata": {},
   "outputs": [],
   "source": [
    "dataframe_2.sort_values(by='C') # Sorting by column 'C'"
   ]
  },
  {
   "cell_type": "code",
   "execution_count": null,
   "id": "2e6cd947",
   "metadata": {},
   "outputs": [],
   "source": [
    "dataframe_2.sort_values(by=['C', 'B']) # Sorting by first column 'C', and then sorting with respect to column 'B'"
   ]
  },
  {
   "cell_type": "markdown",
   "id": "daab199b",
   "metadata": {},
   "source": [
    "We can also sort in descending manner (the default is ascending):"
   ]
  },
  {
   "cell_type": "code",
   "execution_count": null,
   "id": "306e9341",
   "metadata": {},
   "outputs": [],
   "source": [
    "dataframe_2.sort_index()"
   ]
  },
  {
   "cell_type": "code",
   "execution_count": null,
   "id": "9988ebe2",
   "metadata": {},
   "outputs": [],
   "source": [
    "dataframe_2.sort_index(ascending=False) # Descending"
   ]
  },
  {
   "cell_type": "markdown",
   "id": "654d6be1",
   "metadata": {},
   "source": [
    "### Ranking"
   ]
  },
  {
   "cell_type": "markdown",
   "id": "86a538df",
   "metadata": {},
   "source": [
    "We can assign ranks to data in array from one (1) to the number of valid data points. We basically assign to each value in array, a rank value that shows where it stands compared to the other values in the array. This can be both ascending or descending."
   ]
  },
  {
   "cell_type": "code",
   "execution_count": null,
   "id": "4981a49a",
   "metadata": {},
   "outputs": [],
   "source": [
    "series_6"
   ]
  },
  {
   "cell_type": "code",
   "execution_count": null,
   "id": "4c803345",
   "metadata": {},
   "outputs": [],
   "source": [
    "series_6.rank()"
   ]
  },
  {
   "cell_type": "code",
   "execution_count": null,
   "id": "90861bdf",
   "metadata": {},
   "outputs": [],
   "source": [
    "series_6.rank(ascending=False)"
   ]
  },
  {
   "cell_type": "markdown",
   "id": "833842e9",
   "metadata": {},
   "source": [
    "When we have duplicates of elements, we can change the way we rank them."
   ]
  },
  {
   "cell_type": "code",
   "execution_count": null,
   "id": "f00b3d25",
   "metadata": {},
   "outputs": [],
   "source": [
    "series_7 = pd.Series(np.random.randint(2,6, 8))\n",
    "series_7"
   ]
  },
  {
   "cell_type": "code",
   "execution_count": null,
   "id": "07f7d098",
   "metadata": {},
   "outputs": [],
   "source": [
    "series_7.rank() #we have two 2's. The default ranking system is to assign to them the average of ranks 1, 2 (since they are\n",
    "#the smallest values so they have ranks 1, 2). \n",
    "#we have two 4's also. They are assigned the rank (4+5)/2 =4.5."
   ]
  },
  {
   "cell_type": "markdown",
   "id": "bb380f45",
   "metadata": {},
   "source": [
    "We can change the method by which we rank:"
   ]
  },
  {
   "cell_type": "code",
   "execution_count": null,
   "id": "19c0a786",
   "metadata": {},
   "outputs": [],
   "source": [
    "series_7.rank(method='first') # Elements are ranked based on which is first spotted in the array. For example, we have two 2's\n",
    "#The one corresponding to the index 4 is appeared first so it will take rank 1. Here, we are not averaging. The default method\n",
    "# is method = 'average'"
   ]
  },
  {
   "cell_type": "code",
   "execution_count": null,
   "id": "9fafa42f",
   "metadata": {},
   "outputs": [],
   "source": [
    "series_7.rank(method='min') # using the minimum rank for the whole group. Notice the ranks for index 4 and 5 where the elements\n",
    "#are 2."
   ]
  },
  {
   "cell_type": "code",
   "execution_count": null,
   "id": "4d7f30b7",
   "metadata": {},
   "outputs": [],
   "source": [
    "series_7.rank(method='max') # using the maximum rank for the whole group"
   ]
  },
  {
   "cell_type": "code",
   "execution_count": null,
   "id": "0004e2ca",
   "metadata": {},
   "outputs": [],
   "source": [
    "series_7.rank(method='dense') # if you notice the output of method='min', there is no rank=2. To not skip any rank when counting,\n",
    "#we can use the method 'dense'. It is similar to 'min', but ranks always increase by 1 between groups."
   ]
  },
  {
   "cell_type": "markdown",
   "id": "edc8be5a",
   "metadata": {},
   "source": [
    "### Axis indexes with duplicate labels"
   ]
  },
  {
   "cell_type": "code",
   "execution_count": null,
   "id": "2511b2bf",
   "metadata": {},
   "outputs": [],
   "source": [
    "series_8 = pd.Series(np.arange(8), index=list('AABBCCDD'))\n",
    "series_8"
   ]
  },
  {
   "cell_type": "code",
   "execution_count": null,
   "id": "fd8622b6",
   "metadata": {},
   "outputs": [],
   "source": [
    "series_8['B']# this returns all the values corresponding to index 'B'"
   ]
  },
  {
   "cell_type": "code",
   "execution_count": null,
   "id": "10e827a3",
   "metadata": {},
   "outputs": [],
   "source": [
    "series_8.index.is_unique # This shows if we have duplicates in index"
   ]
  },
  {
   "cell_type": "markdown",
   "id": "a3354027",
   "metadata": {},
   "source": [
    "The same goes for DataFrame:"
   ]
  },
  {
   "cell_type": "code",
   "execution_count": null,
   "id": "3c1b84cd",
   "metadata": {},
   "outputs": [],
   "source": [
    "dataframe_3 = pd.DataFrame(np.arange(12).reshape(3, 4), index = list('AAB'), columns= ['C', 'C', 'D', 'E'])"
   ]
  },
  {
   "cell_type": "code",
   "execution_count": null,
   "id": "3ab1a296",
   "metadata": {},
   "outputs": [],
   "source": [
    "dataframe_3"
   ]
  },
  {
   "cell_type": "code",
   "execution_count": null,
   "id": "8f7d77b1",
   "metadata": {},
   "outputs": [],
   "source": [
    "dataframe_3.index.is_unique"
   ]
  },
  {
   "cell_type": "code",
   "execution_count": null,
   "id": "2d41b897",
   "metadata": {},
   "outputs": [],
   "source": [
    "dataframe_3.columns.is_unique"
   ]
  },
  {
   "cell_type": "code",
   "execution_count": null,
   "id": "62f465a4",
   "metadata": {},
   "outputs": [],
   "source": [
    "dataframe_3.loc['A', 'C']"
   ]
  },
  {
   "cell_type": "markdown",
   "id": "e5f59bd8",
   "metadata": {},
   "source": [
    "## Summarizing and computing descriptive statistics"
   ]
  },
  {
   "cell_type": "code",
   "execution_count": null,
   "id": "d5018794",
   "metadata": {},
   "outputs": [],
   "source": [
    "dataframe_4 = pd.DataFrame([[1, 3, np.nan], [np.nan, 12, 8], [0, np.nan, 5]])\n",
    "dataframe_4"
   ]
  },
  {
   "cell_type": "code",
   "execution_count": null,
   "id": "c104cfed",
   "metadata": {},
   "outputs": [],
   "source": [
    "dataframe_4.describe()"
   ]
  },
  {
   "cell_type": "code",
   "execution_count": null,
   "id": "d9ff7b58",
   "metadata": {},
   "outputs": [],
   "source": [
    "dataframe_4.sum() # nan values are ignored unless the whole row (or column) consists of nan."
   ]
  },
  {
   "cell_type": "code",
   "execution_count": null,
   "id": "4902a6b4",
   "metadata": {},
   "outputs": [],
   "source": [
    "dataframe_4.mean()"
   ]
  },
  {
   "cell_type": "code",
   "execution_count": null,
   "id": "a046b8b1",
   "metadata": {},
   "outputs": [],
   "source": [
    "dataframe_4.sum(axis='columns') # Specifying in which direction we want to apply the sum method."
   ]
  },
  {
   "cell_type": "markdown",
   "id": "e319ac89",
   "metadata": {},
   "source": [
    "We can take NaN values into account by setting skipna = flase"
   ]
  },
  {
   "cell_type": "code",
   "execution_count": null,
   "id": "3aba3c44",
   "metadata": {},
   "outputs": [],
   "source": [
    "dataframe_4.sum(skipna=False) # nan values are ignored unless the whole row (or column) consists of nan."
   ]
  },
  {
   "cell_type": "markdown",
   "id": "978d7ae0",
   "metadata": {},
   "source": [
    "We can find where is the location of maximum or minimum value in row/column."
   ]
  },
  {
   "cell_type": "code",
   "execution_count": null,
   "id": "4554048a",
   "metadata": {},
   "outputs": [],
   "source": [
    "dataframe_1"
   ]
  },
  {
   "cell_type": "code",
   "execution_count": null,
   "id": "c6a0ba5d",
   "metadata": {},
   "outputs": [],
   "source": [
    "dataframe_1.idxmax()"
   ]
  },
  {
   "cell_type": "code",
   "execution_count": null,
   "id": "226c7779",
   "metadata": {},
   "outputs": [],
   "source": [
    "dataframe_1.idxmax(axis=1)"
   ]
  },
  {
   "cell_type": "code",
   "execution_count": null,
   "id": "909db6f1",
   "metadata": {},
   "outputs": [],
   "source": [
    "dataframe_1.idxmin() # minimum index location."
   ]
  },
  {
   "cell_type": "markdown",
   "id": "d0e2d999",
   "metadata": {},
   "source": [
    "Other methods:"
   ]
  },
  {
   "cell_type": "code",
   "execution_count": null,
   "id": "c727fd60",
   "metadata": {},
   "outputs": [],
   "source": [
    "dataframe_1.cumsum()"
   ]
  },
  {
   "cell_type": "code",
   "execution_count": null,
   "id": "f7840ecc",
   "metadata": {},
   "outputs": [],
   "source": [
    "dataframe_1.cumprod()"
   ]
  },
  {
   "cell_type": "code",
   "execution_count": null,
   "id": "587f66d8",
   "metadata": {},
   "outputs": [],
   "source": [
    "dataframe_1.cumprod(axis=1) # we can determine the axis also."
   ]
  },
  {
   "cell_type": "code",
   "execution_count": null,
   "id": "afd1a8ff",
   "metadata": {},
   "outputs": [],
   "source": [
    "dataframe_4"
   ]
  },
  {
   "cell_type": "code",
   "execution_count": null,
   "id": "541c6be6",
   "metadata": {},
   "outputs": [],
   "source": [
    "dataframe_4.cumsum()"
   ]
  },
  {
   "cell_type": "code",
   "execution_count": null,
   "id": "3fa10bde",
   "metadata": {},
   "outputs": [],
   "source": [
    "dataframe_4.head(2) # looking at the first two rows. If we don't specify the input argument to .head(), it is 5 by default."
   ]
  },
  {
   "cell_type": "code",
   "execution_count": null,
   "id": "c8380d9c",
   "metadata": {},
   "outputs": [],
   "source": [
    "obj = pd.DataFrame(np.random.randn(10, 9))\n",
    "obj"
   ]
  },
  {
   "cell_type": "code",
   "execution_count": null,
   "id": "0836e2dc",
   "metadata": {},
   "outputs": [],
   "source": [
    "obj.tail() # shows the last 5 rows."
   ]
  },
  {
   "cell_type": "markdown",
   "id": "9876a14b",
   "metadata": {},
   "source": [
    "What happends if we execute .describe method for a DF that includes non-numerical values?"
   ]
  },
  {
   "cell_type": "code",
   "execution_count": null,
   "id": "d6e76345",
   "metadata": {},
   "outputs": [],
   "source": [
    "dataframe_5 = pd.DataFrame([list('ABCD'), list('EFGH'), list('IJKL')])\n",
    "dataframe_5"
   ]
  },
  {
   "cell_type": "code",
   "execution_count": null,
   "id": "eab5a885",
   "metadata": {},
   "outputs": [],
   "source": [
    "dataframe_5.describe()"
   ]
  },
  {
   "cell_type": "markdown",
   "id": "49bcbabd",
   "metadata": {},
   "source": [
    "## Correlation and covariance"
   ]
  },
  {
   "cell_type": "markdown",
   "id": "70b86e5a",
   "metadata": {},
   "source": [
    "To find correlation/vairance between two Series (or columns of DF), use *corr/cov* methods."
   ]
  },
  {
   "cell_type": "code",
   "execution_count": null,
   "id": "9efccac8",
   "metadata": {},
   "outputs": [],
   "source": [
    "dataframe_1"
   ]
  },
  {
   "cell_type": "code",
   "execution_count": null,
   "id": "09a9cef2",
   "metadata": {},
   "outputs": [],
   "source": [
    "dataframe_1['Books'].corr(dataframe_1['Pens']) #Correlation between two columns"
   ]
  },
  {
   "cell_type": "code",
   "execution_count": null,
   "id": "01542ea7",
   "metadata": {},
   "outputs": [],
   "source": [
    "dataframe_1['Books'].cov(dataframe_1['Pens']) #covariance between two Columns (Series)"
   ]
  },
  {
   "cell_type": "code",
   "execution_count": null,
   "id": "f2fb4d24",
   "metadata": {},
   "outputs": [],
   "source": [
    "dataframe_1.cov() #covariance between columns"
   ]
  },
  {
   "cell_type": "code",
   "execution_count": null,
   "id": "82960b11",
   "metadata": {},
   "outputs": [],
   "source": [
    "dataframe_1.corr() #correlation between columns"
   ]
  },
  {
   "cell_type": "markdown",
   "id": "38f0cd9e",
   "metadata": {},
   "source": [
    "To find correlation between a DF and something else, use *corrwith* method."
   ]
  },
  {
   "cell_type": "code",
   "execution_count": null,
   "id": "7a818fb8",
   "metadata": {},
   "outputs": [],
   "source": [
    "dataframe_1.corrwith(dataframe_1.Books) # Correlation with a column (Series)"
   ]
  },
  {
   "cell_type": "code",
   "execution_count": null,
   "id": "7d28a6ef",
   "metadata": {},
   "outputs": [],
   "source": [
    "dataframe_1.corrwith(dataframe_1 + np.random.randn(dataframe_1.index.size, dataframe_1.columns.size)) # Correlation with another\n",
    "#DF. In here, correlation is performed by matching column names."
   ]
  },
  {
   "cell_type": "code",
   "execution_count": null,
   "id": "a2054fd8",
   "metadata": {},
   "outputs": [],
   "source": [
    "dataframe_1.corrwith(dataframe_1 + np.random.randn(dataframe_1.index.size, dataframe_1.columns.size), axis='columns') \n",
    "# Does things row-by-row."
   ]
  },
  {
   "cell_type": "code",
   "execution_count": 38,
   "id": "81bdf12a",
   "metadata": {},
   "outputs": [
    {
     "data": {
      "text/html": [
       "<div>\n",
       "<style scoped>\n",
       "    .dataframe tbody tr th:only-of-type {\n",
       "        vertical-align: middle;\n",
       "    }\n",
       "\n",
       "    .dataframe tbody tr th {\n",
       "        vertical-align: top;\n",
       "    }\n",
       "\n",
       "    .dataframe thead th {\n",
       "        text-align: right;\n",
       "    }\n",
       "</style>\n",
       "<table border=\"1\" class=\"dataframe\">\n",
       "  <thead>\n",
       "    <tr style=\"text-align: right;\">\n",
       "      <th></th>\n",
       "      <th>Books</th>\n",
       "      <th>Pens</th>\n",
       "      <th>1</th>\n",
       "    </tr>\n",
       "  </thead>\n",
       "  <tbody>\n",
       "    <tr>\n",
       "      <th>A</th>\n",
       "      <td>0.897605</td>\n",
       "      <td>-0.327327</td>\n",
       "      <td>0.971786</td>\n",
       "    </tr>\n",
       "    <tr>\n",
       "      <th>B</th>\n",
       "      <td>-0.393532</td>\n",
       "      <td>0.961626</td>\n",
       "      <td>0.123480</td>\n",
       "    </tr>\n",
       "    <tr>\n",
       "      <th>C</th>\n",
       "      <td>0.499512</td>\n",
       "      <td>0.492447</td>\n",
       "      <td>0.540122</td>\n",
       "    </tr>\n",
       "    <tr>\n",
       "      <th>D</th>\n",
       "      <td>0.120541</td>\n",
       "      <td>-0.868138</td>\n",
       "      <td>0.354568</td>\n",
       "    </tr>\n",
       "    <tr>\n",
       "      <th>E</th>\n",
       "      <td>0.738193</td>\n",
       "      <td>-0.020874</td>\n",
       "      <td>0.306368</td>\n",
       "    </tr>\n",
       "    <tr>\n",
       "      <th>F</th>\n",
       "      <td>0.205080</td>\n",
       "      <td>0.321613</td>\n",
       "      <td>2.036782</td>\n",
       "    </tr>\n",
       "  </tbody>\n",
       "</table>\n",
       "</div>"
      ],
      "text/plain": [
       "      Books      Pens         1\n",
       "A  0.897605 -0.327327  0.971786\n",
       "B -0.393532  0.961626  0.123480\n",
       "C  0.499512  0.492447  0.540122\n",
       "D  0.120541 -0.868138  0.354568\n",
       "E  0.738193 -0.020874  0.306368\n",
       "F  0.205080  0.321613  2.036782"
      ]
     },
     "execution_count": 38,
     "metadata": {},
     "output_type": "execute_result"
    }
   ],
   "source": [
    "dataframe_1"
   ]
  },
  {
   "cell_type": "markdown",
   "id": "21953504",
   "metadata": {},
   "source": [
    "### Unique values, value counts, and memberships"
   ]
  },
  {
   "cell_type": "code",
   "execution_count": 55,
   "id": "2308ab8b",
   "metadata": {},
   "outputs": [
    {
     "data": {
      "text/plain": [
       "0    3\n",
       "1    3\n",
       "2    3\n",
       "3    6\n",
       "4    5\n",
       "5    3\n",
       "6    4\n",
       "7    3\n",
       "8    4\n",
       "9    3\n",
       "dtype: int32"
      ]
     },
     "execution_count": 55,
     "metadata": {},
     "output_type": "execute_result"
    }
   ],
   "source": [
    "obj = pd.Series(np.random.randint(3, 8, 10))\n",
    "obj"
   ]
  },
  {
   "cell_type": "code",
   "execution_count": 56,
   "id": "9414b24e",
   "metadata": {},
   "outputs": [
    {
     "data": {
      "text/plain": [
       "array([3, 6, 5, 4])"
      ]
     },
     "execution_count": 56,
     "metadata": {},
     "output_type": "execute_result"
    }
   ],
   "source": [
    "obj.unique()"
   ]
  },
  {
   "cell_type": "code",
   "execution_count": 57,
   "id": "c0cd8fc5",
   "metadata": {},
   "outputs": [
    {
     "data": {
      "text/plain": [
       "3    6\n",
       "4    2\n",
       "6    1\n",
       "5    1\n",
       "dtype: int64"
      ]
     },
     "execution_count": 57,
     "metadata": {},
     "output_type": "execute_result"
    }
   ],
   "source": [
    "obj.value_counts()"
   ]
  },
  {
   "cell_type": "code",
   "execution_count": 59,
   "id": "db7d1cbd",
   "metadata": {},
   "outputs": [
    {
     "data": {
      "text/plain": [
       "3    6\n",
       "6    1\n",
       "5    1\n",
       "4    2\n",
       "dtype: int64"
      ]
     },
     "execution_count": 59,
     "metadata": {},
     "output_type": "execute_result"
    }
   ],
   "source": [
    "obj.value_counts(sort = False)"
   ]
  },
  {
   "cell_type": "markdown",
   "id": "ab4e7873",
   "metadata": {},
   "source": [
    "We can also count values using Pandas function -> pd.value_counts"
   ]
  },
  {
   "cell_type": "code",
   "execution_count": 61,
   "id": "9df977f7",
   "metadata": {},
   "outputs": [
    {
     "data": {
      "text/plain": [
       "3    6\n",
       "4    2\n",
       "6    1\n",
       "5    1\n",
       "dtype: int64"
      ]
     },
     "execution_count": 61,
     "metadata": {},
     "output_type": "execute_result"
    }
   ],
   "source": [
    "pd.value_counts(obj)"
   ]
  },
  {
   "cell_type": "code",
   "execution_count": 62,
   "id": "4c4729b7",
   "metadata": {},
   "outputs": [
    {
     "data": {
      "text/plain": [
       "0     True\n",
       "1     True\n",
       "2     True\n",
       "3    False\n",
       "4    False\n",
       "5     True\n",
       "6    False\n",
       "7     True\n",
       "8    False\n",
       "9     True\n",
       "dtype: bool"
      ]
     },
     "execution_count": 62,
     "metadata": {},
     "output_type": "execute_result"
    }
   ],
   "source": [
    "obj.isin([3, 1, 10])"
   ]
  },
  {
   "cell_type": "code",
   "execution_count": 63,
   "id": "16856627",
   "metadata": {},
   "outputs": [
    {
     "data": {
      "text/plain": [
       "0    False\n",
       "1    False\n",
       "2    False\n",
       "3    False\n",
       "4    False\n",
       "5    False\n",
       "6    False\n",
       "7    False\n",
       "8    False\n",
       "9    False\n",
       "dtype: bool"
      ]
     },
     "execution_count": 63,
     "metadata": {},
     "output_type": "execute_result"
    }
   ],
   "source": [
    "obj.isin(['Alamdar', 'Hello'])"
   ]
  },
  {
   "cell_type": "markdown",
   "id": "9e35a6a6",
   "metadata": {},
   "source": [
    "*get_indexer* method is a method of the Pandas **Index** object:"
   ]
  },
  {
   "cell_type": "code",
   "execution_count": 73,
   "id": "09c0d06d",
   "metadata": {},
   "outputs": [
    {
     "data": {
      "text/plain": [
       "array([-1, -1, -1, -1,  2, -1,  1, -1,  1, -1], dtype=int64)"
      ]
     },
     "execution_count": 73,
     "metadata": {},
     "output_type": "execute_result"
    }
   ],
   "source": [
    "pd.Index([1, 4, 5]).get_indexer(obj) # What does it do? It matches the index object [1, 4, 5] to obj. For each element in obj,\n",
    "#it returns the index of the element in [1, 4, 5] that matches that element."
   ]
  },
  {
   "cell_type": "code",
   "execution_count": 74,
   "id": "1c21bff7",
   "metadata": {},
   "outputs": [
    {
     "data": {
      "text/plain": [
       "array([3, 3, 3, 6, 5, 3, 4, 3, 4, 3], dtype=int64)"
      ]
     },
     "execution_count": 74,
     "metadata": {},
     "output_type": "execute_result"
    }
   ],
   "source": [
    "pd.Index(pd.Series(range(8))).get_indexer(obj)"
   ]
  },
  {
   "cell_type": "markdown",
   "id": "ba08327d",
   "metadata": {},
   "source": [
    "Apply value_counts function to DF:"
   ]
  },
  {
   "cell_type": "code",
   "execution_count": 79,
   "id": "68253aab",
   "metadata": {},
   "outputs": [],
   "source": [
    "df3 = pd.DataFrame(np.arange(1, 13).reshape(4, 3))"
   ]
  },
  {
   "cell_type": "code",
   "execution_count": 82,
   "id": "c90392c7",
   "metadata": {},
   "outputs": [
    {
     "data": {
      "text/html": [
       "<div>\n",
       "<style scoped>\n",
       "    .dataframe tbody tr th:only-of-type {\n",
       "        vertical-align: middle;\n",
       "    }\n",
       "\n",
       "    .dataframe tbody tr th {\n",
       "        vertical-align: top;\n",
       "    }\n",
       "\n",
       "    .dataframe thead th {\n",
       "        text-align: right;\n",
       "    }\n",
       "</style>\n",
       "<table border=\"1\" class=\"dataframe\">\n",
       "  <thead>\n",
       "    <tr style=\"text-align: right;\">\n",
       "      <th></th>\n",
       "      <th>0</th>\n",
       "      <th>1</th>\n",
       "      <th>2</th>\n",
       "    </tr>\n",
       "  </thead>\n",
       "  <tbody>\n",
       "    <tr>\n",
       "      <th>1</th>\n",
       "      <td>1.0</td>\n",
       "      <td>0.0</td>\n",
       "      <td>0.0</td>\n",
       "    </tr>\n",
       "    <tr>\n",
       "      <th>2</th>\n",
       "      <td>0.0</td>\n",
       "      <td>1.0</td>\n",
       "      <td>0.0</td>\n",
       "    </tr>\n",
       "    <tr>\n",
       "      <th>3</th>\n",
       "      <td>0.0</td>\n",
       "      <td>0.0</td>\n",
       "      <td>1.0</td>\n",
       "    </tr>\n",
       "    <tr>\n",
       "      <th>4</th>\n",
       "      <td>1.0</td>\n",
       "      <td>0.0</td>\n",
       "      <td>0.0</td>\n",
       "    </tr>\n",
       "    <tr>\n",
       "      <th>5</th>\n",
       "      <td>0.0</td>\n",
       "      <td>1.0</td>\n",
       "      <td>0.0</td>\n",
       "    </tr>\n",
       "    <tr>\n",
       "      <th>6</th>\n",
       "      <td>0.0</td>\n",
       "      <td>0.0</td>\n",
       "      <td>1.0</td>\n",
       "    </tr>\n",
       "    <tr>\n",
       "      <th>7</th>\n",
       "      <td>1.0</td>\n",
       "      <td>0.0</td>\n",
       "      <td>0.0</td>\n",
       "    </tr>\n",
       "    <tr>\n",
       "      <th>8</th>\n",
       "      <td>0.0</td>\n",
       "      <td>1.0</td>\n",
       "      <td>0.0</td>\n",
       "    </tr>\n",
       "    <tr>\n",
       "      <th>9</th>\n",
       "      <td>0.0</td>\n",
       "      <td>0.0</td>\n",
       "      <td>1.0</td>\n",
       "    </tr>\n",
       "    <tr>\n",
       "      <th>10</th>\n",
       "      <td>1.0</td>\n",
       "      <td>0.0</td>\n",
       "      <td>0.0</td>\n",
       "    </tr>\n",
       "    <tr>\n",
       "      <th>11</th>\n",
       "      <td>0.0</td>\n",
       "      <td>1.0</td>\n",
       "      <td>0.0</td>\n",
       "    </tr>\n",
       "    <tr>\n",
       "      <th>12</th>\n",
       "      <td>0.0</td>\n",
       "      <td>0.0</td>\n",
       "      <td>1.0</td>\n",
       "    </tr>\n",
       "  </tbody>\n",
       "</table>\n",
       "</div>"
      ],
      "text/plain": [
       "      0    1    2\n",
       "1   1.0  0.0  0.0\n",
       "2   0.0  1.0  0.0\n",
       "3   0.0  0.0  1.0\n",
       "4   1.0  0.0  0.0\n",
       "5   0.0  1.0  0.0\n",
       "6   0.0  0.0  1.0\n",
       "7   1.0  0.0  0.0\n",
       "8   0.0  1.0  0.0\n",
       "9   0.0  0.0  1.0\n",
       "10  1.0  0.0  0.0\n",
       "11  0.0  1.0  0.0\n",
       "12  0.0  0.0  1.0"
      ]
     },
     "execution_count": 82,
     "metadata": {},
     "output_type": "execute_result"
    }
   ],
   "source": [
    "df3.apply(pd.value_counts).fillna(0)"
   ]
  },
  {
   "cell_type": "markdown",
   "id": "d9c7183d",
   "metadata": {},
   "source": [
    "Pandas groupby:"
   ]
  },
  {
   "cell_type": "code",
   "execution_count": 83,
   "id": "696d174f",
   "metadata": {},
   "outputs": [
    {
     "name": "stdout",
     "output_type": "stream",
     "text": [
      "   Courses    Fee Duration  Discount\n",
      "0    Spark  22000   30days      1000\n",
      "1  PySpark  25000   50days      2300\n",
      "2   Hadoop  23000   35days      1000\n",
      "3   Python  24000   40days      1200\n",
      "4   Pandas  26000   60days      2500\n",
      "5   Hadoop  25000   35days      1300\n",
      "6    Spark  25000   55days      1400\n",
      "7   Python  22000   50days      1600\n"
     ]
    }
   ],
   "source": [
    "technologies   = ({\n",
    "    'Courses':[\"Spark\",\"PySpark\",\"Hadoop\",\"Python\",\"Pandas\",\"Hadoop\",\"Spark\",\"Python\"],\n",
    "    'Fee' :[22000,25000,23000,24000,26000,25000,25000,22000],\n",
    "    'Duration':['30days','50days','35days','40days','60days','35days','55days','50days'],\n",
    "    'Discount':[1000,2300,1000,1200,2500,1300,1400,1600]\n",
    "                })\n",
    "df = pd.DataFrame(technologies, columns=['Courses','Fee','Duration','Discount'])\n",
    "print(df)\n"
   ]
  },
  {
   "cell_type": "code",
   "execution_count": 94,
   "id": "5a46b7eb",
   "metadata": {},
   "outputs": [
    {
     "data": {
      "text/html": [
       "<div>\n",
       "<style scoped>\n",
       "    .dataframe tbody tr th:only-of-type {\n",
       "        vertical-align: middle;\n",
       "    }\n",
       "\n",
       "    .dataframe tbody tr th {\n",
       "        vertical-align: top;\n",
       "    }\n",
       "\n",
       "    .dataframe thead th {\n",
       "        text-align: right;\n",
       "    }\n",
       "</style>\n",
       "<table border=\"1\" class=\"dataframe\">\n",
       "  <thead>\n",
       "    <tr style=\"text-align: right;\">\n",
       "      <th></th>\n",
       "      <th>Fee</th>\n",
       "      <th>Discount</th>\n",
       "    </tr>\n",
       "    <tr>\n",
       "      <th>Duration</th>\n",
       "      <th></th>\n",
       "      <th></th>\n",
       "    </tr>\n",
       "  </thead>\n",
       "  <tbody>\n",
       "    <tr>\n",
       "      <th>30days</th>\n",
       "      <td>22000.0</td>\n",
       "      <td>1000.0</td>\n",
       "    </tr>\n",
       "    <tr>\n",
       "      <th>35days</th>\n",
       "      <td>24000.0</td>\n",
       "      <td>1150.0</td>\n",
       "    </tr>\n",
       "    <tr>\n",
       "      <th>40days</th>\n",
       "      <td>24000.0</td>\n",
       "      <td>1200.0</td>\n",
       "    </tr>\n",
       "    <tr>\n",
       "      <th>50days</th>\n",
       "      <td>23500.0</td>\n",
       "      <td>1950.0</td>\n",
       "    </tr>\n",
       "    <tr>\n",
       "      <th>55days</th>\n",
       "      <td>25000.0</td>\n",
       "      <td>1400.0</td>\n",
       "    </tr>\n",
       "    <tr>\n",
       "      <th>60days</th>\n",
       "      <td>26000.0</td>\n",
       "      <td>2500.0</td>\n",
       "    </tr>\n",
       "  </tbody>\n",
       "</table>\n",
       "</div>"
      ],
      "text/plain": [
       "              Fee  Discount\n",
       "Duration                   \n",
       "30days    22000.0    1000.0\n",
       "35days    24000.0    1150.0\n",
       "40days    24000.0    1200.0\n",
       "50days    23500.0    1950.0\n",
       "55days    25000.0    1400.0\n",
       "60days    26000.0    2500.0"
      ]
     },
     "execution_count": 94,
     "metadata": {},
     "output_type": "execute_result"
    }
   ],
   "source": [
    "df.groupby(['Duration']).mean()"
   ]
  },
  {
   "cell_type": "code",
   "execution_count": 107,
   "id": "9bd047f1",
   "metadata": {},
   "outputs": [
    {
     "data": {
      "text/plain": [
       "8"
      ]
     },
     "execution_count": 107,
     "metadata": {},
     "output_type": "execute_result"
    }
   ],
   "source": [
    "df['Fee'].count()"
   ]
  },
  {
   "cell_type": "code",
   "execution_count": 96,
   "id": "e074431e",
   "metadata": {},
   "outputs": [
    {
     "data": {
      "text/plain": [
       "Courses  Duration\n",
       "Hadoop   35days      2\n",
       "Pandas   60days      1\n",
       "PySpark  50days      1\n",
       "Python   40days      1\n",
       "         50days      1\n",
       "Spark    30days      1\n",
       "         55days      1\n",
       "Name: Fee, dtype: int64"
      ]
     },
     "execution_count": 96,
     "metadata": {},
     "output_type": "execute_result"
    }
   ],
   "source": [
    "df.groupby(['Courses','Duration'])['Fee'].count()"
   ]
  },
  {
   "cell_type": "code",
   "execution_count": 106,
   "id": "abee143a",
   "metadata": {},
   "outputs": [
    {
     "data": {
      "text/plain": [
       "Courses  Duration\n",
       "Hadoop   35days      2\n",
       "Pandas   60days      1\n",
       "PySpark  50days      1\n",
       "Python   40days      1\n",
       "         50days      1\n",
       "Spark    30days      1\n",
       "         55days      1\n",
       "Name: Fee, dtype: int64"
      ]
     },
     "execution_count": 106,
     "metadata": {},
     "output_type": "execute_result"
    }
   ],
   "source": [
    "df.groupby(['Courses','Duration'])['Fee'].agg('count')"
   ]
  },
  {
   "cell_type": "code",
   "execution_count": 98,
   "id": "eef76181",
   "metadata": {},
   "outputs": [
    {
     "data": {
      "text/html": [
       "<div>\n",
       "<style scoped>\n",
       "    .dataframe tbody tr th:only-of-type {\n",
       "        vertical-align: middle;\n",
       "    }\n",
       "\n",
       "    .dataframe tbody tr th {\n",
       "        vertical-align: top;\n",
       "    }\n",
       "\n",
       "    .dataframe thead th {\n",
       "        text-align: right;\n",
       "    }\n",
       "</style>\n",
       "<table border=\"1\" class=\"dataframe\">\n",
       "  <thead>\n",
       "    <tr style=\"text-align: right;\">\n",
       "      <th></th>\n",
       "      <th>Courses</th>\n",
       "      <th>Duration</th>\n",
       "      <th>Fee</th>\n",
       "    </tr>\n",
       "  </thead>\n",
       "  <tbody>\n",
       "    <tr>\n",
       "      <th>0</th>\n",
       "      <td>Hadoop</td>\n",
       "      <td>35days</td>\n",
       "      <td>2</td>\n",
       "    </tr>\n",
       "    <tr>\n",
       "      <th>1</th>\n",
       "      <td>Pandas</td>\n",
       "      <td>60days</td>\n",
       "      <td>1</td>\n",
       "    </tr>\n",
       "    <tr>\n",
       "      <th>2</th>\n",
       "      <td>PySpark</td>\n",
       "      <td>50days</td>\n",
       "      <td>1</td>\n",
       "    </tr>\n",
       "    <tr>\n",
       "      <th>3</th>\n",
       "      <td>Python</td>\n",
       "      <td>40days</td>\n",
       "      <td>1</td>\n",
       "    </tr>\n",
       "    <tr>\n",
       "      <th>4</th>\n",
       "      <td>Python</td>\n",
       "      <td>50days</td>\n",
       "      <td>1</td>\n",
       "    </tr>\n",
       "    <tr>\n",
       "      <th>5</th>\n",
       "      <td>Spark</td>\n",
       "      <td>30days</td>\n",
       "      <td>1</td>\n",
       "    </tr>\n",
       "    <tr>\n",
       "      <th>6</th>\n",
       "      <td>Spark</td>\n",
       "      <td>55days</td>\n",
       "      <td>1</td>\n",
       "    </tr>\n",
       "  </tbody>\n",
       "</table>\n",
       "</div>"
      ],
      "text/plain": [
       "   Courses Duration  Fee\n",
       "0   Hadoop   35days    2\n",
       "1   Pandas   60days    1\n",
       "2  PySpark   50days    1\n",
       "3   Python   40days    1\n",
       "4   Python   50days    1\n",
       "5    Spark   30days    1\n",
       "6    Spark   55days    1"
      ]
     },
     "execution_count": 98,
     "metadata": {},
     "output_type": "execute_result"
    }
   ],
   "source": [
    "df.groupby(['Courses','Duration'])['Fee'].agg('count').reset_index()"
   ]
  },
  {
   "cell_type": "code",
   "execution_count": 114,
   "id": "c4217e2d",
   "metadata": {},
   "outputs": [
    {
     "data": {
      "text/plain": [
       "Books    6\n",
       "Pens     6\n",
       "1        6\n",
       "dtype: int64"
      ]
     },
     "execution_count": 114,
     "metadata": {},
     "output_type": "execute_result"
    }
   ],
   "source": [
    "dataframe_1.agg('count')"
   ]
  },
  {
   "cell_type": "markdown",
   "id": "064a6e64",
   "metadata": {},
   "source": [
    "## Cut function:"
   ]
  },
  {
   "cell_type": "code",
   "execution_count": 120,
   "id": "0e7304c2",
   "metadata": {},
   "outputs": [
    {
     "data": {
      "text/html": [
       "<div>\n",
       "<style scoped>\n",
       "    .dataframe tbody tr th:only-of-type {\n",
       "        vertical-align: middle;\n",
       "    }\n",
       "\n",
       "    .dataframe tbody tr th {\n",
       "        vertical-align: top;\n",
       "    }\n",
       "\n",
       "    .dataframe thead th {\n",
       "        text-align: right;\n",
       "    }\n",
       "</style>\n",
       "<table border=\"1\" class=\"dataframe\">\n",
       "  <thead>\n",
       "    <tr style=\"text-align: right;\">\n",
       "      <th></th>\n",
       "      <th>Courses</th>\n",
       "      <th>Fee</th>\n",
       "      <th>Duration</th>\n",
       "      <th>Discount</th>\n",
       "      <th>Fee_range</th>\n",
       "    </tr>\n",
       "  </thead>\n",
       "  <tbody>\n",
       "    <tr>\n",
       "      <th>0</th>\n",
       "      <td>Spark</td>\n",
       "      <td>22000</td>\n",
       "      <td>30days</td>\n",
       "      <td>1000</td>\n",
       "      <td>cheap</td>\n",
       "    </tr>\n",
       "    <tr>\n",
       "      <th>1</th>\n",
       "      <td>PySpark</td>\n",
       "      <td>25000</td>\n",
       "      <td>50days</td>\n",
       "      <td>2300</td>\n",
       "      <td>expensive</td>\n",
       "    </tr>\n",
       "    <tr>\n",
       "      <th>2</th>\n",
       "      <td>Hadoop</td>\n",
       "      <td>23000</td>\n",
       "      <td>35days</td>\n",
       "      <td>1000</td>\n",
       "      <td>moderate</td>\n",
       "    </tr>\n",
       "    <tr>\n",
       "      <th>3</th>\n",
       "      <td>Python</td>\n",
       "      <td>24000</td>\n",
       "      <td>40days</td>\n",
       "      <td>1200</td>\n",
       "      <td>expensive</td>\n",
       "    </tr>\n",
       "    <tr>\n",
       "      <th>4</th>\n",
       "      <td>Pandas</td>\n",
       "      <td>26000</td>\n",
       "      <td>60days</td>\n",
       "      <td>2500</td>\n",
       "      <td>expensive</td>\n",
       "    </tr>\n",
       "    <tr>\n",
       "      <th>5</th>\n",
       "      <td>Hadoop</td>\n",
       "      <td>25000</td>\n",
       "      <td>35days</td>\n",
       "      <td>1300</td>\n",
       "      <td>expensive</td>\n",
       "    </tr>\n",
       "    <tr>\n",
       "      <th>6</th>\n",
       "      <td>Spark</td>\n",
       "      <td>25000</td>\n",
       "      <td>55days</td>\n",
       "      <td>1400</td>\n",
       "      <td>expensive</td>\n",
       "    </tr>\n",
       "    <tr>\n",
       "      <th>7</th>\n",
       "      <td>Python</td>\n",
       "      <td>22000</td>\n",
       "      <td>50days</td>\n",
       "      <td>1600</td>\n",
       "      <td>cheap</td>\n",
       "    </tr>\n",
       "  </tbody>\n",
       "</table>\n",
       "</div>"
      ],
      "text/plain": [
       "   Courses    Fee Duration  Discount  Fee_range\n",
       "0    Spark  22000   30days      1000      cheap\n",
       "1  PySpark  25000   50days      2300  expensive\n",
       "2   Hadoop  23000   35days      1000   moderate\n",
       "3   Python  24000   40days      1200  expensive\n",
       "4   Pandas  26000   60days      2500  expensive\n",
       "5   Hadoop  25000   35days      1300  expensive\n",
       "6    Spark  25000   55days      1400  expensive\n",
       "7   Python  22000   50days      1600      cheap"
      ]
     },
     "execution_count": 120,
     "metadata": {},
     "output_type": "execute_result"
    }
   ],
   "source": [
    "df['Fee_range'] = pd.cut(df['Fee'], bins = [21000, 22100, 23000, 30000], labels=('cheap', 'moderate', 'expensive'))\n",
    "df"
   ]
  },
  {
   "cell_type": "code",
   "execution_count": 119,
   "id": "73397dbf",
   "metadata": {},
   "outputs": [
    {
     "data": {
      "text/html": [
       "<div>\n",
       "<style scoped>\n",
       "    .dataframe tbody tr th:only-of-type {\n",
       "        vertical-align: middle;\n",
       "    }\n",
       "\n",
       "    .dataframe tbody tr th {\n",
       "        vertical-align: top;\n",
       "    }\n",
       "\n",
       "    .dataframe thead th {\n",
       "        text-align: right;\n",
       "    }\n",
       "</style>\n",
       "<table border=\"1\" class=\"dataframe\">\n",
       "  <thead>\n",
       "    <tr style=\"text-align: right;\">\n",
       "      <th></th>\n",
       "      <th>Courses</th>\n",
       "      <th>Fee</th>\n",
       "      <th>Duration</th>\n",
       "      <th>Discount</th>\n",
       "      <th>Fee_range</th>\n",
       "    </tr>\n",
       "  </thead>\n",
       "  <tbody>\n",
       "    <tr>\n",
       "      <th>0</th>\n",
       "      <td>Spark</td>\n",
       "      <td>22000</td>\n",
       "      <td>30days</td>\n",
       "      <td>1000</td>\n",
       "      <td>cheap</td>\n",
       "    </tr>\n",
       "    <tr>\n",
       "      <th>1</th>\n",
       "      <td>PySpark</td>\n",
       "      <td>25000</td>\n",
       "      <td>50days</td>\n",
       "      <td>2300</td>\n",
       "      <td>expensive</td>\n",
       "    </tr>\n",
       "    <tr>\n",
       "      <th>2</th>\n",
       "      <td>Hadoop</td>\n",
       "      <td>23000</td>\n",
       "      <td>35days</td>\n",
       "      <td>1000</td>\n",
       "      <td>cheap</td>\n",
       "    </tr>\n",
       "    <tr>\n",
       "      <th>3</th>\n",
       "      <td>Python</td>\n",
       "      <td>24000</td>\n",
       "      <td>40days</td>\n",
       "      <td>1200</td>\n",
       "      <td>moderate</td>\n",
       "    </tr>\n",
       "    <tr>\n",
       "      <th>4</th>\n",
       "      <td>Pandas</td>\n",
       "      <td>26000</td>\n",
       "      <td>60days</td>\n",
       "      <td>2500</td>\n",
       "      <td>expensive</td>\n",
       "    </tr>\n",
       "    <tr>\n",
       "      <th>5</th>\n",
       "      <td>Hadoop</td>\n",
       "      <td>25000</td>\n",
       "      <td>35days</td>\n",
       "      <td>1300</td>\n",
       "      <td>expensive</td>\n",
       "    </tr>\n",
       "    <tr>\n",
       "      <th>6</th>\n",
       "      <td>Spark</td>\n",
       "      <td>25000</td>\n",
       "      <td>55days</td>\n",
       "      <td>1400</td>\n",
       "      <td>expensive</td>\n",
       "    </tr>\n",
       "    <tr>\n",
       "      <th>7</th>\n",
       "      <td>Python</td>\n",
       "      <td>22000</td>\n",
       "      <td>50days</td>\n",
       "      <td>1600</td>\n",
       "      <td>cheap</td>\n",
       "    </tr>\n",
       "  </tbody>\n",
       "</table>\n",
       "</div>"
      ],
      "text/plain": [
       "   Courses    Fee Duration  Discount  Fee_range\n",
       "0    Spark  22000   30days      1000      cheap\n",
       "1  PySpark  25000   50days      2300  expensive\n",
       "2   Hadoop  23000   35days      1000      cheap\n",
       "3   Python  24000   40days      1200   moderate\n",
       "4   Pandas  26000   60days      2500  expensive\n",
       "5   Hadoop  25000   35days      1300  expensive\n",
       "6    Spark  25000   55days      1400  expensive\n",
       "7   Python  22000   50days      1600      cheap"
      ]
     },
     "execution_count": 119,
     "metadata": {},
     "output_type": "execute_result"
    }
   ],
   "source": [
    "df['Fee_range'] = pd.cut(df['Fee'], bins = 3, labels=('cheap', 'moderate', 'expensive'))\n",
    "df"
   ]
  },
  {
   "cell_type": "code",
   "execution_count": null,
   "id": "93b0211a",
   "metadata": {},
   "outputs": [],
   "source": []
  },
  {
   "cell_type": "code",
   "execution_count": null,
   "id": "fa109fcf",
   "metadata": {},
   "outputs": [],
   "source": []
  },
  {
   "cell_type": "code",
   "execution_count": null,
   "id": "6e225dbb",
   "metadata": {},
   "outputs": [],
   "source": [
    "dict1 = {'color':['red', 'blue', 'green'], 'price': [10, 23, 34]}\n",
    "myDF = pd.DataFrame(dict1, index=['A', 'B', 'C'])\n",
    "myDF"
   ]
  },
  {
   "cell_type": "code",
   "execution_count": null,
   "id": "dd7a7838",
   "metadata": {},
   "outputs": [],
   "source": [
    "dict_5 = {'Store': [1, 2, 1, 2], 'Flavor': ['Choc', 'Van', 'Straw', 'Choc'], 'Sales': [26, 12, 18, 22]}\n",
    "df_5 = pd.DataFrame(dict_5)\n",
    "df_5"
   ]
  },
  {
   "cell_type": "code",
   "execution_count": null,
   "id": "5a2f5f84",
   "metadata": {},
   "outputs": [],
   "source": [
    "byStore = df_5.groupby('Store')\n",
    "byStore.mean()"
   ]
  },
  {
   "cell_type": "code",
   "execution_count": null,
   "id": "6594e1e6",
   "metadata": {},
   "outputs": [],
   "source": [
    "byStore.sum().loc[1]"
   ]
  },
  {
   "cell_type": "code",
   "execution_count": null,
   "id": "f5f9676f",
   "metadata": {},
   "outputs": [],
   "source": [
    "byStore.describe()"
   ]
  },
  {
   "attachments": {
    "image.png": {
     "image/png": "[encoded data removed]"
    }
   },
   "cell_type": "markdown",
   "id": "a829bc07",
   "metadata": {},
   "source": [
    "#When you enter the parantheses you can press shift + tab to know the keys you can set. very informative.![image.png](attachment:image.png)"
   ]
  },
  {
   "cell_type": "code",
   "execution_count": null,
   "id": "e47b9e0c",
   "metadata": {},
   "outputs": [],
   "source": [
    "df_5.sum()"
   ]
  },
  {
   "cell_type": "code",
   "execution_count": null,
   "id": "90aba6f3",
   "metadata": {},
   "outputs": [],
   "source": [
    "df_5.describe()"
   ]
  },
  {
   "cell_type": "code",
   "execution_count": null,
   "id": "46e605cd",
   "metadata": {},
   "outputs": [],
   "source": [
    "df_5"
   ]
  },
  {
   "cell_type": "code",
   "execution_count": null,
   "id": "627dfa8c",
   "metadata": {},
   "outputs": [],
   "source": [
    "df_5['Sales'].apply(np.sqrt)"
   ]
  },
  {
   "cell_type": "code",
   "execution_count": null,
   "id": "53193ee3",
   "metadata": {},
   "outputs": [],
   "source": [
    "series1 = pd.Series(('iman', 'Shafikhani'), index = ['First name', 'Last name'])\n",
    "series1"
   ]
  },
  {
   "cell_type": "code",
   "execution_count": null,
   "id": "cb7f0f01",
   "metadata": {},
   "outputs": [],
   "source": [
    "df_1 = pd.DataFrame({'Contact': ['Iman Shafikhani', 'Mohammad Binaei']})\n",
    "df_1"
   ]
  },
  {
   "cell_type": "code",
   "execution_count": null,
   "id": "92afb543",
   "metadata": {},
   "outputs": [],
   "source": [
    "def split_names(df):\n",
    "    def get_names(full_name):\n",
    "        f_name, l_name = full_name.split()\n",
    "        return pd.Series(\n",
    "        (f_name, l_name),\n",
    "        index = ['First name', 'Last name'])\n",
    "    names = df['Contact'].apply(get_names)\n",
    "    df[names.columns] = names\n",
    "    return df"
   ]
  },
  {
   "cell_type": "code",
   "execution_count": null,
   "id": "286242c1",
   "metadata": {},
   "outputs": [],
   "source": [
    "    def get_names(full_name):\n",
    "        f_name, l_name = full_name.split()\n",
    "        return pd.Series(\n",
    "        (f_name, l_name),\n",
    "        index = ['First name', 'Last name'])"
   ]
  },
  {
   "cell_type": "code",
   "execution_count": null,
   "id": "34f3c06d",
   "metadata": {},
   "outputs": [],
   "source": [
    "names = df_1['Contact'].apply(get_names)\n",
    "names"
   ]
  },
  {
   "cell_type": "code",
   "execution_count": null,
   "id": "9ebd4fe9",
   "metadata": {},
   "outputs": [],
   "source": [
    "names.columns"
   ]
  },
  {
   "cell_type": "code",
   "execution_count": null,
   "id": "ae1cb9a9",
   "metadata": {},
   "outputs": [],
   "source": [
    "df_1[names.columns] = names"
   ]
  },
  {
   "cell_type": "code",
   "execution_count": null,
   "id": "20a76cb3",
   "metadata": {},
   "outputs": [],
   "source": [
    "df_1"
   ]
  },
  {
   "cell_type": "code",
   "execution_count": null,
   "id": "1163690e",
   "metadata": {},
   "outputs": [],
   "source": [
    " "
   ]
  }
 ],
 "metadata": {
  "kernelspec": {
   "display_name": "Python 3 (ipykernel)",
   "language": "python",
   "name": "python3"
  },
  "language_info": {
   "codemirror_mode": {
    "name": "ipython",
    "version": 3
   },
   "file_extension": ".py",
   "mimetype": "text/x-python",
   "name": "python",
   "nbconvert_exporter": "python",
   "pygments_lexer": "ipython3",
   "version": "3.9.12"
  }
 },
 "nbformat": 4,
 "nbformat_minor": 5
}
