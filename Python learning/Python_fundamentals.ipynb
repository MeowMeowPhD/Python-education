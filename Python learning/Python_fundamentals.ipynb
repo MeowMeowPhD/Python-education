{
 "cells": [
  {
   "cell_type": "markdown",
   "id": "05886f57",
   "metadata": {},
   "source": [
    "# Learning python basics\n",
    "## Tuples\n",
    "Unpacking:"
   ]
  },
  {
   "cell_type": "code",
   "execution_count": 1,
   "id": "e979f958",
   "metadata": {},
   "outputs": [],
   "source": [
    "a, b, c = (3, \"Iman\", [3, 4, 10])"
   ]
  },
  {
   "cell_type": "code",
   "execution_count": 2,
   "id": "0fbddea6",
   "metadata": {},
   "outputs": [
    {
     "name": "stdout",
     "output_type": "stream",
     "text": [
      "3\n",
      "Iman\n",
      "[3, 4, 10]\n"
     ]
    }
   ],
   "source": [
    "print(a)\n",
    "print(b)\n",
    "print(c)"
   ]
  },
  {
   "cell_type": "markdown",
   "id": "ef434fe0",
   "metadata": {},
   "source": [
    "Unpacking a nested tuple:"
   ]
  },
  {
   "cell_type": "code",
   "execution_count": 3,
   "id": "6832f363",
   "metadata": {},
   "outputs": [
    {
     "name": "stdout",
     "output_type": "stream",
     "text": [
      "(1, (3, 5))\n"
     ]
    }
   ],
   "source": [
    "myTuple1 = 1, (3, 5)\n",
    "print(myTuple1)"
   ]
  },
  {
   "cell_type": "code",
   "execution_count": 4,
   "id": "11ae528d",
   "metadata": {},
   "outputs": [],
   "source": [
    "a, b = myTuple1"
   ]
  },
  {
   "cell_type": "code",
   "execution_count": 5,
   "id": "4255cb14",
   "metadata": {},
   "outputs": [
    {
     "name": "stdout",
     "output_type": "stream",
     "text": [
      "1\n",
      "(3, 5)\n"
     ]
    }
   ],
   "source": [
    "print(a)\n",
    "print(b)"
   ]
  },
  {
   "cell_type": "markdown",
   "id": "ae010b12",
   "metadata": {},
   "source": [
    "Name swapping:"
   ]
  },
  {
   "cell_type": "code",
   "execution_count": 6,
   "id": "3f12d1da",
   "metadata": {},
   "outputs": [
    {
     "name": "stdout",
     "output_type": "stream",
     "text": [
      "(3, 5)\n",
      "1\n"
     ]
    }
   ],
   "source": [
    "a, b = b, a\n",
    "print(a)\n",
    "print(b)"
   ]
  },
  {
   "cell_type": "markdown",
   "id": "ad447f44",
   "metadata": {},
   "source": [
    "Using tuple unpacking in control flow:"
   ]
  },
  {
   "cell_type": "code",
   "execution_count": 7,
   "id": "f7744f0a",
   "metadata": {},
   "outputs": [
    {
     "name": "stdout",
     "output_type": "stream",
     "text": [
      "a is 3\n",
      "b is 4\n",
      "c is 1\n",
      "a is 10\n",
      "b is -1\n",
      "c is 3\n",
      "a is 2\n",
      "b is 4\n",
      "c is 8\n",
      "a is 0\n",
      "b is 0\n",
      "c is 6\n"
     ]
    }
   ],
   "source": [
    "my_list = [(3, 4, 1), (10, -1, 3), (2, 4, 8), (0, 0, 6)]\n",
    "for a, b, c in my_list:\n",
    "    print(f\"a is {a}\")\n",
    "    print(f\"b is {b}\")\n",
    "    print(f\"c is {c}\")"
   ]
  },
  {
   "cell_type": "markdown",
   "id": "0f74617c",
   "metadata": {},
   "source": [
    "Unpacking when you are only interested in a few elements and not all:"
   ]
  },
  {
   "cell_type": "code",
   "execution_count": 8,
   "id": "d57edea4",
   "metadata": {},
   "outputs": [],
   "source": [
    "myTuple2 = (1, 2, 4, 4, 10, (1, 3))\n",
    "a1, b1, *rest = myTuple2"
   ]
  },
  {
   "cell_type": "code",
   "execution_count": 9,
   "id": "71b7ba90",
   "metadata": {},
   "outputs": [
    {
     "name": "stdout",
     "output_type": "stream",
     "text": [
      "1\n",
      "2\n",
      "4 4 10 (1, 3)\n"
     ]
    }
   ],
   "source": [
    "print(a1)\n",
    "print(b1)\n",
    "print(*rest)"
   ]
  },
  {
   "cell_type": "markdown",
   "id": "2aed0041",
   "metadata": {},
   "source": [
    "There is nothing special about the word \"rest\". Popular usage is *_"
   ]
  },
  {
   "cell_type": "code",
   "execution_count": 10,
   "id": "ff4f92bc",
   "metadata": {},
   "outputs": [],
   "source": [
    "a2, b2, *_ = myTuple2"
   ]
  },
  {
   "cell_type": "code",
   "execution_count": 11,
   "id": "e83c7c45",
   "metadata": {},
   "outputs": [
    {
     "name": "stdout",
     "output_type": "stream",
     "text": [
      "1\n",
      "2\n",
      "4 4 10 (1, 3)\n"
     ]
    }
   ],
   "source": [
    "print(a2)\n",
    "print(b2)\n",
    "print(*_)"
   ]
  },
  {
   "cell_type": "markdown",
   "id": "6c7d7af9",
   "metadata": {},
   "source": [
    "Tuple methods: not too many since tuples are immutable. A useful one is **count**"
   ]
  },
  {
   "cell_type": "code",
   "execution_count": 12,
   "id": "660e74b3",
   "metadata": {},
   "outputs": [
    {
     "data": {
      "text/plain": [
       "2"
      ]
     },
     "execution_count": 12,
     "metadata": {},
     "output_type": "execute_result"
    }
   ],
   "source": [
    "myTuple2.count(4)"
   ]
  },
  {
   "cell_type": "markdown",
   "id": "14543daf",
   "metadata": {},
   "source": [
    "## Lists\n",
    "Very similar to tuples, but are mutable\n",
    "You can create a list from a tuple:"
   ]
  },
  {
   "cell_type": "code",
   "execution_count": 13,
   "id": "4f6b14e9",
   "metadata": {},
   "outputs": [
    {
     "name": "stdout",
     "output_type": "stream",
     "text": [
      "[1, 2, 4, 4, 10, (1, 3)]\n"
     ]
    }
   ],
   "source": [
    "listFromTuple = list(myTuple2)\n",
    "print(listFromTuple)"
   ]
  },
  {
   "cell_type": "code",
   "execution_count": 14,
   "id": "7e8b2cd5",
   "metadata": {},
   "outputs": [
    {
     "data": {
      "text/plain": [
       "range"
      ]
     },
     "execution_count": 14,
     "metadata": {},
     "output_type": "execute_result"
    }
   ],
   "source": [
    "gen = range(10)\n",
    "type(gen)\n"
   ]
  },
  {
   "cell_type": "code",
   "execution_count": 15,
   "id": "24556b41",
   "metadata": {},
   "outputs": [
    {
     "data": {
      "text/plain": [
       "[0, 1, 2, 3, 4, 5, 6, 7, 8, 9]"
      ]
     },
     "execution_count": 15,
     "metadata": {},
     "output_type": "execute_result"
    }
   ],
   "source": [
    "gen_list = list(gen)\n",
    "gen_list"
   ]
  },
  {
   "cell_type": "markdown",
   "id": "bb5008fe",
   "metadata": {},
   "source": [
    "Some methods:\n",
    "append(like before)\n",
    "insert(at a specific location)\n",
    "pop(the inverse action of insert)\n",
    "remove(removes the first element that matches the argument)"
   ]
  },
  {
   "cell_type": "code",
   "execution_count": 16,
   "id": "c2dd1829",
   "metadata": {},
   "outputs": [],
   "source": [
    "listFromTuple.append('appended element')"
   ]
  },
  {
   "cell_type": "code",
   "execution_count": 17,
   "id": "7f843acd",
   "metadata": {},
   "outputs": [
    {
     "name": "stdout",
     "output_type": "stream",
     "text": [
      "[1, 2, 4, 4, 10, (1, 3), 'appended element']\n"
     ]
    }
   ],
   "source": [
    "print(listFromTuple)"
   ]
  },
  {
   "cell_type": "code",
   "execution_count": 18,
   "id": "133a4eeb",
   "metadata": {},
   "outputs": [
    {
     "name": "stdout",
     "output_type": "stream",
     "text": [
      "[1, 2, 'inserted element', 4, 4, 10, (1, 3), 'appended element']\n"
     ]
    }
   ],
   "source": [
    "listFromTuple.insert(2,'inserted element')\n",
    "print(listFromTuple)"
   ]
  },
  {
   "cell_type": "code",
   "execution_count": 19,
   "id": "9066af47",
   "metadata": {},
   "outputs": [
    {
     "name": "stdout",
     "output_type": "stream",
     "text": [
      "[1, 2, 'inserted element', 4, 10, (1, 3), 'appended element']\n"
     ]
    }
   ],
   "source": [
    "listFromTuple.pop(3)\n",
    "print(listFromTuple)"
   ]
  },
  {
   "cell_type": "code",
   "execution_count": 20,
   "id": "0a08030b",
   "metadata": {},
   "outputs": [],
   "source": [
    "listFromTuple.append(10)\n",
    "listFromTuple.remove(10)"
   ]
  },
  {
   "cell_type": "code",
   "execution_count": 21,
   "id": "3c08b7cb",
   "metadata": {},
   "outputs": [
    {
     "name": "stdout",
     "output_type": "stream",
     "text": [
      "[1, 2, 'inserted element', 4, (1, 3), 'appended element', 10]\n"
     ]
    }
   ],
   "source": [
    "print(listFromTuple)"
   ]
  },
  {
   "cell_type": "markdown",
   "id": "54154587",
   "metadata": {},
   "source": [
    "Checking to see if an element exist in a list: **in**"
   ]
  },
  {
   "cell_type": "code",
   "execution_count": 22,
   "id": "e3fa0ba5",
   "metadata": {},
   "outputs": [
    {
     "data": {
      "text/plain": [
       "False"
      ]
     },
     "execution_count": 22,
     "metadata": {},
     "output_type": "execute_result"
    }
   ],
   "source": [
    "5 in listFromTuple"
   ]
  },
  {
   "cell_type": "code",
   "execution_count": 23,
   "id": "23e030b7",
   "metadata": {},
   "outputs": [
    {
     "data": {
      "text/plain": [
       "True"
      ]
     },
     "execution_count": 23,
     "metadata": {},
     "output_type": "execute_result"
    }
   ],
   "source": [
    "2 in listFromTuple"
   ]
  },
  {
   "cell_type": "code",
   "execution_count": 24,
   "id": "d07a062e",
   "metadata": {},
   "outputs": [
    {
     "data": {
      "text/plain": [
       "True"
      ]
     },
     "execution_count": 24,
     "metadata": {},
     "output_type": "execute_result"
    }
   ],
   "source": [
    "'meowmeow' not in listFromTuple"
   ]
  },
  {
   "cell_type": "markdown",
   "id": "836062ea",
   "metadata": {},
   "source": [
    "Concatenation:\n",
    "\n",
    "can be either by + or a method called *extend*. *extend* is more efficient as it does not need creation of a new list"
   ]
  },
  {
   "cell_type": "code",
   "execution_count": 25,
   "id": "16d217ef",
   "metadata": {},
   "outputs": [
    {
     "name": "stdout",
     "output_type": "stream",
     "text": [
      "[1, 3, 4, 'hellow', 10, (1, 3)]\n"
     ]
    }
   ],
   "source": [
    "myList = [1, 3, 4]\n",
    "concatenatedList = myList + ['hellow', 10, (1, 3)]\n",
    "print(concatenatedList)"
   ]
  },
  {
   "cell_type": "code",
   "execution_count": 26,
   "id": "7ce4bc74",
   "metadata": {},
   "outputs": [
    {
     "name": "stdout",
     "output_type": "stream",
     "text": [
      "[1, 3, 4, 'hellow', 10, (1, 3)]\n"
     ]
    }
   ],
   "source": [
    "myList.extend(['hellow', 10, (1, 3)])\n",
    "print(myList)"
   ]
  },
  {
   "cell_type": "markdown",
   "id": "bd6c4811",
   "metadata": {},
   "source": [
    "**sort** method"
   ]
  },
  {
   "cell_type": "code",
   "execution_count": 27,
   "id": "8aa1feae",
   "metadata": {},
   "outputs": [],
   "source": [
    "myList = [3, 4, 10, -1, -5, 39]\n",
    "myList.sort()"
   ]
  },
  {
   "cell_type": "code",
   "execution_count": 28,
   "id": "2bb8b83d",
   "metadata": {},
   "outputs": [
    {
     "name": "stdout",
     "output_type": "stream",
     "text": [
      "[-5, -1, 3, 4, 10, 39]\n"
     ]
    }
   ],
   "source": [
    "print(myList)"
   ]
  },
  {
   "cell_type": "markdown",
   "id": "3e5b7d3a",
   "metadata": {},
   "source": [
    "We can also pass a key on how to sort:"
   ]
  },
  {
   "cell_type": "code",
   "execution_count": 29,
   "id": "4c3c1645",
   "metadata": {},
   "outputs": [],
   "source": [
    "myList_string = ['iman', 'Josefine', 'Peter', 'Lennart', 'Linnea']\n",
    "myList_string.sort(key = len)"
   ]
  },
  {
   "cell_type": "code",
   "execution_count": 30,
   "id": "0f1595a0",
   "metadata": {},
   "outputs": [
    {
     "name": "stdout",
     "output_type": "stream",
     "text": [
      "['iman', 'Peter', 'Linnea', 'Lennart', 'Josefine']\n"
     ]
    }
   ],
   "source": [
    "print(myList_string)"
   ]
  },
  {
   "cell_type": "markdown",
   "id": "266fe5ad",
   "metadata": {},
   "source": [
    "### Binary search using the bisect module\n",
    "bisect module: can be used to put an element in a list so that the list is kept sorted. Two functions: bisect, insort:"
   ]
  },
  {
   "cell_type": "code",
   "execution_count": 31,
   "id": "87ec815d",
   "metadata": {},
   "outputs": [
    {
     "data": {
      "text/plain": [
       "5"
      ]
     },
     "execution_count": 31,
     "metadata": {},
     "output_type": "execute_result"
    }
   ],
   "source": [
    "import bisect\n",
    "bisect.bisect(myList, 12) # This shows the location where the new element 12 should be placed."
   ]
  },
  {
   "cell_type": "code",
   "execution_count": 32,
   "id": "cfb027e1",
   "metadata": {},
   "outputs": [],
   "source": [
    "bisect.insort(myList, 12) # This actually puts 12 in place where it should be in order for the list to be kept sorted."
   ]
  },
  {
   "cell_type": "code",
   "execution_count": 33,
   "id": "36087d67",
   "metadata": {},
   "outputs": [
    {
     "name": "stdout",
     "output_type": "stream",
     "text": [
      "[-5, -1, 3, 4, 10, 12, 39]\n"
     ]
    }
   ],
   "source": [
    "print(myList)"
   ]
  },
  {
   "cell_type": "markdown",
   "id": "330cc1e9",
   "metadata": {},
   "source": [
    "Slicing:"
   ]
  },
  {
   "cell_type": "code",
   "execution_count": 34,
   "id": "b9b34657",
   "metadata": {},
   "outputs": [
    {
     "data": {
      "text/plain": [
       "[-1, 3, 4, 10]"
      ]
     },
     "execution_count": 34,
     "metadata": {},
     "output_type": "execute_result"
    }
   ],
   "source": [
    "myList[1:5]"
   ]
  },
  {
   "cell_type": "code",
   "execution_count": 35,
   "id": "1fa1a783",
   "metadata": {},
   "outputs": [
    {
     "data": {
      "text/plain": [
       "[-5, -1, 3, 4, 10]"
      ]
     },
     "execution_count": 35,
     "metadata": {},
     "output_type": "execute_result"
    }
   ],
   "source": [
    "myList[:5]"
   ]
  },
  {
   "cell_type": "code",
   "execution_count": 36,
   "id": "7883d466",
   "metadata": {},
   "outputs": [
    {
     "data": {
      "text/plain": [
       "[-1, 3, 4, 10, 12, 39]"
      ]
     },
     "execution_count": 36,
     "metadata": {},
     "output_type": "execute_result"
    }
   ],
   "source": [
    "myList[1:]"
   ]
  },
  {
   "cell_type": "code",
   "execution_count": 37,
   "id": "3f2b4903",
   "metadata": {},
   "outputs": [
    {
     "data": {
      "text/plain": [
       "[3, 4, 10, 12]"
      ]
     },
     "execution_count": 37,
     "metadata": {},
     "output_type": "execute_result"
    }
   ],
   "source": [
    "myList[2:-1]"
   ]
  },
  {
   "cell_type": "code",
   "execution_count": 38,
   "id": "afe9b990",
   "metadata": {},
   "outputs": [
    {
     "data": {
      "text/plain": [
       "[]"
      ]
     },
     "execution_count": 38,
     "metadata": {},
     "output_type": "execute_result"
    }
   ],
   "source": [
    "myList[-1:-5]"
   ]
  },
  {
   "cell_type": "code",
   "execution_count": 39,
   "id": "b3212494",
   "metadata": {},
   "outputs": [
    {
     "data": {
      "text/plain": [
       "[3, 4, 10, 12]"
      ]
     },
     "execution_count": 39,
     "metadata": {},
     "output_type": "execute_result"
    }
   ],
   "source": [
    "myList[-5:-1]"
   ]
  },
  {
   "cell_type": "code",
   "execution_count": 40,
   "id": "956c05f5",
   "metadata": {},
   "outputs": [
    {
     "data": {
      "text/plain": [
       "[-5, 3, 10, 39]"
      ]
     },
     "execution_count": 40,
     "metadata": {},
     "output_type": "execute_result"
    }
   ],
   "source": [
    "myList[::2]"
   ]
  },
  {
   "cell_type": "code",
   "execution_count": 41,
   "id": "b86ffdf4",
   "metadata": {},
   "outputs": [
    {
     "data": {
      "text/plain": [
       "[39, 12, 10, 4, 3, -1, -5]"
      ]
     },
     "execution_count": 41,
     "metadata": {},
     "output_type": "execute_result"
    }
   ],
   "source": [
    "myList[::-1] # This reverses the sequence"
   ]
  },
  {
   "cell_type": "markdown",
   "id": "0a04df48",
   "metadata": {},
   "source": [
    "## Sequence built-in functions\n",
    "Enumerate"
   ]
  },
  {
   "cell_type": "code",
   "execution_count": 42,
   "id": "4bf62b71",
   "metadata": {},
   "outputs": [
    {
     "data": {
      "text/plain": [
       "{-5: 0, -1: 1, 3: 2, 4: 3, 10: 4, 12: 5, 39: 6}"
      ]
     },
     "execution_count": 42,
     "metadata": {},
     "output_type": "execute_result"
    }
   ],
   "source": [
    "myDict = {}\n",
    "for i, item in enumerate(myList): # i is the index of \"item\"\n",
    "    myDict[item] = i\n",
    "myDict"
   ]
  },
  {
   "cell_type": "code",
   "execution_count": 43,
   "id": "819ab05e",
   "metadata": {},
   "outputs": [
    {
     "data": {
      "text/plain": [
       "<enumerate at 0x1bf37050440>"
      ]
     },
     "execution_count": 43,
     "metadata": {},
     "output_type": "execute_result"
    }
   ],
   "source": [
    "z = enumerate(myList)\n",
    "z"
   ]
  },
  {
   "cell_type": "markdown",
   "id": "d31b42b4",
   "metadata": {},
   "source": [
    "Sorted function: similar to the sort method"
   ]
  },
  {
   "cell_type": "code",
   "execution_count": 44,
   "id": "81f094a6",
   "metadata": {},
   "outputs": [
    {
     "data": {
      "text/plain": [
       "[-5, -1, 3, 4, 10, 12, 39]"
      ]
     },
     "execution_count": 44,
     "metadata": {},
     "output_type": "execute_result"
    }
   ],
   "source": [
    "sorted(myList)"
   ]
  },
  {
   "cell_type": "code",
   "execution_count": 45,
   "id": "d2bdfda3",
   "metadata": {},
   "outputs": [
    {
     "data": {
      "text/plain": [
       "[' ', 'I', 'S', 'a', 'a', 'a', 'f', 'h', 'h', 'i', 'i', 'k', 'm', 'n', 'n']"
      ]
     },
     "execution_count": 45,
     "metadata": {},
     "output_type": "execute_result"
    }
   ],
   "source": [
    "sorted('Iman Shafikhani')"
   ]
  },
  {
   "cell_type": "markdown",
   "id": "5ed5676c",
   "metadata": {},
   "source": [
    "Zipping sequences: creates a sequence with tuples whose elements are from the arguments passed to the zip function"
   ]
  },
  {
   "cell_type": "code",
   "execution_count": 46,
   "id": "8d591689",
   "metadata": {},
   "outputs": [
    {
     "data": {
      "text/plain": [
       "<zip at 0x1bf37055640>"
      ]
     },
     "execution_count": 46,
     "metadata": {},
     "output_type": "execute_result"
    }
   ],
   "source": [
    "a1_list = ['cat', 'dog', 'tiger']\n",
    "a2_list = ['purr', 'woof', 'roar']\n",
    "a_zipped = zip(a1_list, a2_list)\n",
    "a_zipped"
   ]
  },
  {
   "cell_type": "code",
   "execution_count": 47,
   "id": "8b41fb89",
   "metadata": {},
   "outputs": [
    {
     "data": {
      "text/plain": [
       "[('cat', 'purr'), ('dog', 'woof'), ('tiger', 'roar')]"
      ]
     },
     "execution_count": 47,
     "metadata": {},
     "output_type": "execute_result"
    }
   ],
   "source": [
    "a_zipped = list(a_zipped)\n",
    "a_zipped # Tuples inside a list"
   ]
  },
  {
   "cell_type": "markdown",
   "id": "00759855",
   "metadata": {},
   "source": [
    "One can pass several inputs to the zip function"
   ]
  },
  {
   "cell_type": "code",
   "execution_count": 48,
   "id": "051cd0d4",
   "metadata": {},
   "outputs": [
    {
     "name": "stdout",
     "output_type": "stream",
     "text": [
      "[('cat', 'purr', -5), ('dog', 'woof', -1), ('tiger', 'roar', 3)]\n"
     ]
    }
   ],
   "source": [
    "a_zipped3 = list(zip(a1_list, a2_list, myList))\n",
    "print(a_zipped3)"
   ]
  },
  {
   "cell_type": "markdown",
   "id": "fef4fd6b",
   "metadata": {},
   "source": [
    "Unzipping a zipped file"
   ]
  },
  {
   "cell_type": "code",
   "execution_count": 49,
   "id": "e74c08f3",
   "metadata": {},
   "outputs": [
    {
     "data": {
      "text/plain": [
       "list"
      ]
     },
     "execution_count": 49,
     "metadata": {},
     "output_type": "execute_result"
    }
   ],
   "source": [
    "type(a_zipped3)"
   ]
  },
  {
   "cell_type": "code",
   "execution_count": 50,
   "id": "43f9bce2",
   "metadata": {},
   "outputs": [],
   "source": [
    "unzipped1, unzipped2, unzipped3 = zip(*a_zipped3)"
   ]
  },
  {
   "cell_type": "code",
   "execution_count": 51,
   "id": "be3d1ea1",
   "metadata": {},
   "outputs": [
    {
     "data": {
      "text/plain": [
       "('cat', 'dog', 'tiger')"
      ]
     },
     "execution_count": 51,
     "metadata": {},
     "output_type": "execute_result"
    }
   ],
   "source": [
    "unzipped1"
   ]
  },
  {
   "cell_type": "code",
   "execution_count": 52,
   "id": "940ca649",
   "metadata": {},
   "outputs": [
    {
     "data": {
      "text/plain": [
       "('purr', 'woof', 'roar')"
      ]
     },
     "execution_count": 52,
     "metadata": {},
     "output_type": "execute_result"
    }
   ],
   "source": [
    "unzipped2"
   ]
  },
  {
   "cell_type": "code",
   "execution_count": 53,
   "id": "1d8d7aa4",
   "metadata": {},
   "outputs": [
    {
     "data": {
      "text/plain": [
       "(-5, -1, 3)"
      ]
     },
     "execution_count": 53,
     "metadata": {},
     "output_type": "execute_result"
    }
   ],
   "source": [
    "unzipped3"
   ]
  },
  {
   "cell_type": "markdown",
   "id": "c436da4d",
   "metadata": {},
   "source": [
    "Dimention after zipping is limited by the shortest sequence"
   ]
  },
  {
   "cell_type": "code",
   "execution_count": 54,
   "id": "784d60e1",
   "metadata": {},
   "outputs": [],
   "source": [
    "a3_list = [2, 3]"
   ]
  },
  {
   "cell_type": "code",
   "execution_count": 55,
   "id": "8f978e4b",
   "metadata": {},
   "outputs": [
    {
     "data": {
      "text/plain": [
       "[('cat', 'purr', 2), ('dog', 'woof', 3)]"
      ]
     },
     "execution_count": 55,
     "metadata": {},
     "output_type": "execute_result"
    }
   ],
   "source": [
    "list(zip(a1_list, a2_list, a3_list)) # This list has two dimensions as a3_list has two dimensions."
   ]
  },
  {
   "cell_type": "code",
   "execution_count": 56,
   "id": "27f6096b",
   "metadata": {},
   "outputs": [
    {
     "data": {
      "text/plain": [
       "[(0, 'cat'), (1, 'dog'), (2, 'tiger')]"
      ]
     },
     "execution_count": 56,
     "metadata": {},
     "output_type": "execute_result"
    }
   ],
   "source": [
    "list(enumerate(a1_list))"
   ]
  },
  {
   "cell_type": "markdown",
   "id": "b6d51f06",
   "metadata": {},
   "source": [
    "Using enumerate with zip function"
   ]
  },
  {
   "cell_type": "code",
   "execution_count": 57,
   "id": "1f11e46d",
   "metadata": {},
   "outputs": [
    {
     "name": "stdout",
     "output_type": "stream",
     "text": [
      "Index 0: first element is cat, second element is purr\n",
      "Index 1: first element is dog, second element is woof\n",
      "Index 2: first element is tiger, second element is roar\n"
     ]
    }
   ],
   "source": [
    "for i, (a1, a2) in enumerate(zip(a1_list, a2_list)):\n",
    "    print(\"Index {0}: first element is {1}, second element is {2}\".format(i, a1, a2))\n",
    "    "
   ]
  },
  {
   "cell_type": "markdown",
   "id": "c03b9981",
   "metadata": {},
   "source": [
    "Reversed: reverses a sequence. It is a generator which means it doesn't create a reversed sequence unless it is materialized using list, tuple, etc."
   ]
  },
  {
   "cell_type": "code",
   "execution_count": 58,
   "id": "001bca2c",
   "metadata": {},
   "outputs": [
    {
     "data": {
      "text/plain": [
       "<list_reverseiterator at 0x1bf370671c0>"
      ]
     },
     "execution_count": 58,
     "metadata": {},
     "output_type": "execute_result"
    }
   ],
   "source": [
    "reversed(myList)"
   ]
  },
  {
   "cell_type": "code",
   "execution_count": 59,
   "id": "fa49fba6",
   "metadata": {},
   "outputs": [
    {
     "data": {
      "text/plain": [
       "[39, 12, 10, 4, 3, -1, -5]"
      ]
     },
     "execution_count": 59,
     "metadata": {},
     "output_type": "execute_result"
    }
   ],
   "source": [
    "list(reversed(myList))"
   ]
  },
  {
   "cell_type": "code",
   "execution_count": 60,
   "id": "ff4504e9",
   "metadata": {},
   "outputs": [
    {
     "data": {
      "text/plain": [
       "[-5, -1, 3, 4, 10, 12, 39]"
      ]
     },
     "execution_count": 60,
     "metadata": {},
     "output_type": "execute_result"
    }
   ],
   "source": [
    "myList"
   ]
  },
  {
   "cell_type": "code",
   "execution_count": 61,
   "id": "a997c346",
   "metadata": {},
   "outputs": [
    {
     "data": {
      "text/plain": [
       "(39, 12, 10, 4, 3, -1, -5)"
      ]
     },
     "execution_count": 61,
     "metadata": {},
     "output_type": "execute_result"
    }
   ],
   "source": [
    "tuple(reversed(myList))"
   ]
  },
  {
   "cell_type": "markdown",
   "id": "e6de40d9",
   "metadata": {},
   "source": [
    "## Dictionaries\n",
    "probably the most important built-in object in Python"
   ]
  },
  {
   "cell_type": "code",
   "execution_count": 62,
   "id": "7e7d27e1",
   "metadata": {},
   "outputs": [],
   "source": [
    "myDict1 = {1: \"Iman\", \"number\": 13435, \"Test\": \"HIL\"} # Key, Value pairs"
   ]
  },
  {
   "cell_type": "code",
   "execution_count": 63,
   "id": "c392190e",
   "metadata": {},
   "outputs": [
    {
     "data": {
      "text/plain": [
       "{1: 'Iman', 'number': 13435, 'Test': 'HIL'}"
      ]
     },
     "execution_count": 63,
     "metadata": {},
     "output_type": "execute_result"
    }
   ],
   "source": [
    "myDict1"
   ]
  },
  {
   "cell_type": "code",
   "execution_count": 64,
   "id": "c6d2eabf",
   "metadata": {},
   "outputs": [
    {
     "data": {
      "text/plain": [
       "'Iman'"
      ]
     },
     "execution_count": 64,
     "metadata": {},
     "output_type": "execute_result"
    }
   ],
   "source": [
    "myDict1[1] # In the brackets, write down a key to get its value"
   ]
  },
  {
   "cell_type": "code",
   "execution_count": 65,
   "id": "925372a2",
   "metadata": {},
   "outputs": [
    {
     "data": {
      "text/plain": [
       "'HIL'"
      ]
     },
     "execution_count": 65,
     "metadata": {},
     "output_type": "execute_result"
    }
   ],
   "source": [
    "myDict1['Test']"
   ]
  },
  {
   "cell_type": "markdown",
   "id": "13b8a55c",
   "metadata": {},
   "source": [
    "Check to see if an element is a key in our dictionary"
   ]
  },
  {
   "cell_type": "code",
   "execution_count": 66,
   "id": "e55cef90",
   "metadata": {},
   "outputs": [
    {
     "data": {
      "text/plain": [
       "True"
      ]
     },
     "execution_count": 66,
     "metadata": {},
     "output_type": "execute_result"
    }
   ],
   "source": [
    "1 in myDict1"
   ]
  },
  {
   "cell_type": "code",
   "execution_count": 67,
   "id": "bb4a4a57",
   "metadata": {},
   "outputs": [
    {
     "data": {
      "text/plain": [
       "False"
      ]
     },
     "execution_count": 67,
     "metadata": {},
     "output_type": "execute_result"
    }
   ],
   "source": [
    "\"Iman\" in myDict1"
   ]
  },
  {
   "cell_type": "markdown",
   "id": "26daacd2",
   "metadata": {},
   "source": [
    "Deleting a key-pair value: \n",
    "\n",
    "1- use *del* function\n",
    "\n",
    "2- use *pop* method"
   ]
  },
  {
   "cell_type": "code",
   "execution_count": 68,
   "id": "893984ae",
   "metadata": {},
   "outputs": [
    {
     "data": {
      "text/plain": [
       "{1: 'Iman',\n",
       " 'number': 13435,\n",
       " 'Test': 'HIL',\n",
       " 'dummy1': 'value1',\n",
       " 'dummy2': 'value2'}"
      ]
     },
     "execution_count": 68,
     "metadata": {},
     "output_type": "execute_result"
    }
   ],
   "source": [
    "myDict1['dummy1'] =  'value1'\n",
    "myDict1['dummy2'] = 'value2'\n",
    "myDict1"
   ]
  },
  {
   "cell_type": "code",
   "execution_count": 69,
   "id": "de98aa6b",
   "metadata": {},
   "outputs": [
    {
     "data": {
      "text/plain": [
       "{1: 'Iman', 'number': 13435, 'Test': 'HIL', 'dummy1': 'value1'}"
      ]
     },
     "execution_count": 69,
     "metadata": {},
     "output_type": "execute_result"
    }
   ],
   "source": [
    "del myDict1['dummy2']\n",
    "myDict1"
   ]
  },
  {
   "cell_type": "code",
   "execution_count": 70,
   "id": "493df3b4",
   "metadata": {},
   "outputs": [
    {
     "data": {
      "text/plain": [
       "'value1'"
      ]
     },
     "execution_count": 70,
     "metadata": {},
     "output_type": "execute_result"
    }
   ],
   "source": [
    "poppedValue = myDict1.pop('dummy1') # We can get the popped value here\n",
    "poppedValue"
   ]
  },
  {
   "cell_type": "code",
   "execution_count": 71,
   "id": "26020ce2",
   "metadata": {},
   "outputs": [
    {
     "data": {
      "text/plain": [
       "{1: 'Iman', 'number': 13435, 'Test': 'HIL'}"
      ]
     },
     "execution_count": 71,
     "metadata": {},
     "output_type": "execute_result"
    }
   ],
   "source": [
    "myDict1"
   ]
  },
  {
   "cell_type": "markdown",
   "id": "7e32f95e",
   "metadata": {},
   "source": [
    "key and value methods for dictionaries"
   ]
  },
  {
   "cell_type": "code",
   "execution_count": 72,
   "id": "b9180c4f",
   "metadata": {},
   "outputs": [
    {
     "data": {
      "text/plain": [
       "dict_keys([1, 'number', 'Test'])"
      ]
     },
     "execution_count": 72,
     "metadata": {},
     "output_type": "execute_result"
    }
   ],
   "source": [
    "myDict1.keys()"
   ]
  },
  {
   "cell_type": "code",
   "execution_count": 73,
   "id": "3b98d36d",
   "metadata": {},
   "outputs": [
    {
     "data": {
      "text/plain": [
       "[1, 'number', 'Test']"
      ]
     },
     "execution_count": 73,
     "metadata": {},
     "output_type": "execute_result"
    }
   ],
   "source": [
    "list(myDict1.keys()) # Creating a list of keys"
   ]
  },
  {
   "cell_type": "code",
   "execution_count": 74,
   "id": "12ee56ec",
   "metadata": {},
   "outputs": [
    {
     "data": {
      "text/plain": [
       "['Iman', 13435, 'HIL']"
      ]
     },
     "execution_count": 74,
     "metadata": {},
     "output_type": "execute_result"
    }
   ],
   "source": [
    "list(myDict1.values()) # Creating a list of values"
   ]
  },
  {
   "cell_type": "markdown",
   "id": "869949c3",
   "metadata": {},
   "source": [
    "Merging one dictionary to another one using the *update* method"
   ]
  },
  {
   "cell_type": "code",
   "execution_count": 75,
   "id": "f25941d3",
   "metadata": {},
   "outputs": [
    {
     "data": {
      "text/plain": [
       "{1: 'Iman', 'number': 13435, 'Test': 'SIL', 3: 'a new value'}"
      ]
     },
     "execution_count": 75,
     "metadata": {},
     "output_type": "execute_result"
    }
   ],
   "source": [
    "myDict1.update({'Test': 'SIL', 3: 'a new value'})\n",
    "myDict1 # the value for the key \"Test\" has been changed as you can see below"
   ]
  },
  {
   "cell_type": "markdown",
   "id": "2140b475",
   "metadata": {},
   "source": [
    "Creaing dictionaries from lists: joining two lists pair-wise to create a new dictionary"
   ]
  },
  {
   "cell_type": "code",
   "execution_count": 76,
   "id": "98d4fed4",
   "metadata": {},
   "outputs": [
    {
     "data": {
      "text/plain": [
       "[-5, -1, 3, 4, 10, 12, 39]"
      ]
     },
     "execution_count": 76,
     "metadata": {},
     "output_type": "execute_result"
    }
   ],
   "source": [
    "myList"
   ]
  },
  {
   "cell_type": "code",
   "execution_count": 77,
   "id": "20ca835c",
   "metadata": {},
   "outputs": [
    {
     "data": {
      "text/plain": [
       "['J', 'o', 's', 'e', 'f', 'i', 'n']"
      ]
     },
     "execution_count": 77,
     "metadata": {},
     "output_type": "execute_result"
    }
   ],
   "source": [
    "myList2 = list('Josefin')\n",
    "myList2"
   ]
  },
  {
   "cell_type": "code",
   "execution_count": 78,
   "id": "d0103eb8",
   "metadata": {},
   "outputs": [
    {
     "ename": "TypeError",
     "evalue": "dict expected at most 1 argument, got 2",
     "output_type": "error",
     "traceback": [
      "\u001b[1;31m---------------------------------------------------------------------------\u001b[0m",
      "\u001b[1;31mTypeError\u001b[0m                                 Traceback (most recent call last)",
      "Input \u001b[1;32mIn [78]\u001b[0m, in \u001b[0;36m<cell line: 1>\u001b[1;34m()\u001b[0m\n\u001b[1;32m----> 1\u001b[0m \u001b[38;5;28;43mdict\u001b[39;49m\u001b[43m(\u001b[49m\u001b[43mmyList\u001b[49m\u001b[43m,\u001b[49m\u001b[43m \u001b[49m\u001b[43mmyList2\u001b[49m\u001b[43m)\u001b[49m\n",
      "\u001b[1;31mTypeError\u001b[0m: dict expected at most 1 argument, got 2"
     ]
    }
   ],
   "source": [
    "dict(myList, myList2) # The input to the dict function should be a sequence of tuples."
   ]
  },
  {
   "cell_type": "code",
   "execution_count": null,
   "id": "fadda962",
   "metadata": {},
   "outputs": [],
   "source": [
    "dict(zip(myList, myList2))"
   ]
  },
  {
   "cell_type": "code",
   "execution_count": null,
   "id": "63d4aa51",
   "metadata": {},
   "outputs": [],
   "source": [
    "dict(zip(range(5), reversed(range(5))))"
   ]
  },
  {
   "cell_type": "code",
   "execution_count": null,
   "id": "531d28b3",
   "metadata": {},
   "outputs": [],
   "source": [
    "myDict1"
   ]
  },
  {
   "cell_type": "markdown",
   "id": "1a49fa40",
   "metadata": {},
   "source": [
    "Default values:"
   ]
  },
  {
   "cell_type": "code",
   "execution_count": null,
   "id": "2b18ac3d",
   "metadata": {},
   "outputs": [],
   "source": [
    "myDict1.get(1)"
   ]
  },
  {
   "cell_type": "code",
   "execution_count": null,
   "id": "53612c5d",
   "metadata": {},
   "outputs": [],
   "source": [
    "myDict1.get(34, 'default')"
   ]
  },
  {
   "cell_type": "code",
   "execution_count": null,
   "id": "39c4dbb7",
   "metadata": {},
   "outputs": [],
   "source": [
    "myDict1 # the dictionary has not changed at all!"
   ]
  },
  {
   "cell_type": "markdown",
   "id": "49db0b34",
   "metadata": {},
   "source": [
    "Let's try with a method called *setdefault*"
   ]
  },
  {
   "cell_type": "code",
   "execution_count": null,
   "id": "9c43fca6",
   "metadata": {},
   "outputs": [],
   "source": [
    "myDict1.setdefault(34, 'default')"
   ]
  },
  {
   "cell_type": "code",
   "execution_count": null,
   "id": "1c490781",
   "metadata": {},
   "outputs": [],
   "source": [
    "myDict1 # the dictionary has changed now!"
   ]
  },
  {
   "cell_type": "code",
   "execution_count": null,
   "id": "5f956433",
   "metadata": {},
   "outputs": [],
   "source": [
    "a = myDict1.setdefault(34, 'default') # This returns the value corresponding to the ket 34"
   ]
  },
  {
   "cell_type": "code",
   "execution_count": null,
   "id": "8d4a4fdf",
   "metadata": {},
   "outputs": [],
   "source": [
    "a"
   ]
  },
  {
   "cell_type": "code",
   "execution_count": null,
   "id": "434b3df2",
   "metadata": {},
   "outputs": [],
   "source": [
    "Words = ['Iman', 'dice', 'laptop', 'kebab', 'door', 'leak']"
   ]
  },
  {
   "cell_type": "code",
   "execution_count": null,
   "id": "106da2d6",
   "metadata": {},
   "outputs": [],
   "source": [
    "myDict = {}\n",
    "for word in Words:\n",
    "    letter = word[0]\n",
    "    myDict.setdefault(letter, []).append(word)\n",
    "myDict\n",
    "    "
   ]
  },
  {
   "cell_type": "markdown",
   "id": "1e3408ed",
   "metadata": {},
   "source": [
    "This can be done using collections module"
   ]
  },
  {
   "cell_type": "code",
   "execution_count": null,
   "id": "48231bad",
   "metadata": {},
   "outputs": [],
   "source": [
    "from collections import defaultdict\n",
    "coll_dict = defaultdict(list)\n",
    "for word in Words:\n",
    "    coll_dict[word[0]].append(word)\n",
    "coll_dict"
   ]
  },
  {
   "cell_type": "code",
   "execution_count": null,
   "id": "b2073b5e",
   "metadata": {},
   "outputs": [],
   "source": [
    "dict(coll_dict)"
   ]
  },
  {
   "cell_type": "markdown",
   "id": "03fa7f60",
   "metadata": {},
   "source": [
    "You can't use any object as a key in dictionaries. The key should be immutable (this doesn't apply to values). In other terms, the object should be *hashable*. How to test if an object is hashable?"
   ]
  },
  {
   "cell_type": "code",
   "execution_count": null,
   "id": "78f8e750",
   "metadata": {},
   "outputs": [],
   "source": [
    "hash('3')"
   ]
  },
  {
   "cell_type": "code",
   "execution_count": null,
   "id": "32d96398",
   "metadata": {},
   "outputs": [],
   "source": [
    "hash(12)"
   ]
  },
  {
   "cell_type": "code",
   "execution_count": null,
   "id": "1014fad5",
   "metadata": {},
   "outputs": [],
   "source": [
    "hash([1, 3])"
   ]
  },
  {
   "cell_type": "markdown",
   "id": "681bf11e",
   "metadata": {},
   "source": [
    "As you can see above, a list is not hashable. It can be converted to a tuple to be used as a key:"
   ]
  },
  {
   "cell_type": "code",
   "execution_count": null,
   "id": "7d27c173",
   "metadata": {},
   "outputs": [],
   "source": [
    "hash(tuple([1, 3]))"
   ]
  },
  {
   "cell_type": "markdown",
   "id": "fa0dd474",
   "metadata": {},
   "source": [
    "## Sets\n",
    "Similar to dictionaries but without the values. A set is a collection of unique elements"
   ]
  },
  {
   "cell_type": "code",
   "execution_count": null,
   "id": "9954f70d",
   "metadata": {},
   "outputs": [],
   "source": [
    "mySet = set(range(6))\n",
    "mySet"
   ]
  },
  {
   "cell_type": "code",
   "execution_count": null,
   "id": "4be0c565",
   "metadata": {},
   "outputs": [],
   "source": [
    "mySet = set([3, 4, 5, 1])\n",
    "mySet"
   ]
  },
  {
   "cell_type": "code",
   "execution_count": null,
   "id": "fde3d429",
   "metadata": {},
   "outputs": [],
   "source": [
    "mySet = {3, 4, 1, 6}\n",
    "mySet"
   ]
  },
  {
   "cell_type": "code",
   "execution_count": null,
   "id": "f123a8a4",
   "metadata": {},
   "outputs": [],
   "source": [
    "set_a = {1, 3, 5, 10}\n",
    "set_b = {3, 1, 5, 11}"
   ]
  },
  {
   "cell_type": "code",
   "execution_count": null,
   "id": "96554de0",
   "metadata": {},
   "outputs": [],
   "source": [
    "set_a | set_b"
   ]
  },
  {
   "cell_type": "code",
   "execution_count": null,
   "id": "4a79aa22",
   "metadata": {},
   "outputs": [],
   "source": [
    "set_a & set_b"
   ]
  },
  {
   "cell_type": "code",
   "execution_count": null,
   "id": "60858a64",
   "metadata": {},
   "outputs": [],
   "source": [
    "set_a.union(set_b)"
   ]
  },
  {
   "cell_type": "code",
   "execution_count": null,
   "id": "0a07e963",
   "metadata": {},
   "outputs": [],
   "source": [
    "set_a"
   ]
  },
  {
   "cell_type": "code",
   "execution_count": null,
   "id": "3284581a",
   "metadata": {},
   "outputs": [],
   "source": [
    "set_a.intersection(set_b)"
   ]
  },
  {
   "cell_type": "markdown",
   "id": "873abef6",
   "metadata": {},
   "source": [
    "Using methods such as union and intersection, the sets themselves do not change.However, using *update* or *intersection_update* the set whose method is being called will change:"
   ]
  },
  {
   "cell_type": "code",
   "execution_count": null,
   "id": "511c77fa",
   "metadata": {},
   "outputs": [],
   "source": [
    "set_a.intersection_update(set_b)"
   ]
  },
  {
   "cell_type": "code",
   "execution_count": null,
   "id": "eb85c091",
   "metadata": {},
   "outputs": [],
   "source": [
    "set_a"
   ]
  },
  {
   "cell_type": "code",
   "execution_count": null,
   "id": "24558542",
   "metadata": {},
   "outputs": [],
   "source": [
    "set_a.update(set_b)"
   ]
  },
  {
   "cell_type": "code",
   "execution_count": null,
   "id": "47aa08f1",
   "metadata": {},
   "outputs": [],
   "source": [
    "set_a"
   ]
  },
  {
   "cell_type": "markdown",
   "id": "14e3af88",
   "metadata": {},
   "source": [
    "Another way of using *update* and *intersection_update* is using operators"
   ]
  },
  {
   "cell_type": "code",
   "execution_count": null,
   "id": "ddc324f3",
   "metadata": {},
   "outputs": [],
   "source": [
    "set_a = {1, 3, 6, 10}\n",
    "set_b = {3, 1, 5, 32}"
   ]
  },
  {
   "cell_type": "code",
   "execution_count": null,
   "id": "a4b2b0ad",
   "metadata": {},
   "outputs": [],
   "source": [
    "set_a |= set_b"
   ]
  },
  {
   "cell_type": "code",
   "execution_count": null,
   "id": "98529184",
   "metadata": {},
   "outputs": [],
   "source": [
    "set_a"
   ]
  },
  {
   "cell_type": "code",
   "execution_count": null,
   "id": "724cb411",
   "metadata": {},
   "outputs": [],
   "source": [
    "set_a &= set_b"
   ]
  },
  {
   "cell_type": "code",
   "execution_count": null,
   "id": "c208df2a",
   "metadata": {},
   "outputs": [],
   "source": [
    "set_a"
   ]
  },
  {
   "cell_type": "markdown",
   "id": "63213452",
   "metadata": {},
   "source": [
    "Set elements should be immutable (like tuples)"
   ]
  },
  {
   "cell_type": "code",
   "execution_count": null,
   "id": "0ecee66c",
   "metadata": {},
   "outputs": [],
   "source": [
    "my_set = {[3, 5, 6]}"
   ]
  },
  {
   "cell_type": "code",
   "execution_count": null,
   "id": "9a405c9f",
   "metadata": {},
   "outputs": [],
   "source": [
    "my_set = {tuple([3, 5, 6])}"
   ]
  },
  {
   "cell_type": "markdown",
   "id": "7e10bd3e",
   "metadata": {},
   "source": [
    "Check if a set is a subset of another set (or a superset)"
   ]
  },
  {
   "cell_type": "code",
   "execution_count": null,
   "id": "2dad9a00",
   "metadata": {},
   "outputs": [],
   "source": [
    "set_a.issubset(set_b)"
   ]
  },
  {
   "cell_type": "code",
   "execution_count": null,
   "id": "fa495d02",
   "metadata": {},
   "outputs": [],
   "source": [
    "set_a.issuperset(set_b)"
   ]
  },
  {
   "cell_type": "code",
   "execution_count": null,
   "id": "a385e005",
   "metadata": {},
   "outputs": [],
   "source": [
    "a = 100 if 3> 10 else 300"
   ]
  },
  {
   "cell_type": "code",
   "execution_count": null,
   "id": "2985a91e",
   "metadata": {},
   "outputs": [],
   "source": [
    "a"
   ]
  },
  {
   "cell_type": "markdown",
   "id": "059bfa55",
   "metadata": {},
   "source": [
    "## Comprehensions\n",
    "We can create lists, dicts, and sets using a collection:\n",
    "\n",
    "\\[expression for x in collection if condition\\]"
   ]
  },
  {
   "cell_type": "code",
   "execution_count": null,
   "id": "7587a1f3",
   "metadata": {},
   "outputs": [],
   "source": [
    "myStringList = ['ali', 'iman', 'neda', 'mona']\n",
    "myNewList = [len(x) for x in myStringList]\n",
    "myNewList"
   ]
  },
  {
   "cell_type": "code",
   "execution_count": null,
   "id": "2daa3f32",
   "metadata": {},
   "outputs": [],
   "source": [
    "myNewList = [len(x) for x in myStringList if x[0] == 'm' or x[0] == 'n']\n",
    "myNewList"
   ]
  },
  {
   "cell_type": "code",
   "execution_count": null,
   "id": "9d2c9015",
   "metadata": {},
   "outputs": [],
   "source": [
    "myNewDict = {string: index for index, string in enumerate(myStringList)}\n",
    "myNewDict"
   ]
  },
  {
   "cell_type": "code",
   "execution_count": null,
   "id": "f4638049",
   "metadata": {},
   "outputs": [],
   "source": [
    "myNewSet = {len(x) for x in myStringList}\n",
    "myNewSet # you can see that the elements are unique"
   ]
  },
  {
   "cell_type": "code",
   "execution_count": null,
   "id": "43e01f38",
   "metadata": {},
   "outputs": [],
   "source": [
    "set(map(len,myStringList))"
   ]
  },
  {
   "cell_type": "markdown",
   "id": "5beb8803",
   "metadata": {},
   "source": [
    "Nested list comprehensions"
   ]
  },
  {
   "cell_type": "code",
   "execution_count": null,
   "id": "0e0b2209",
   "metadata": {},
   "outputs": [],
   "source": [
    "All_data = [['iman', 'Josefine'],['Ali', 'Tram']]\n",
    "names = [x for names in All_data for x in names]"
   ]
  },
  {
   "cell_type": "code",
   "execution_count": null,
   "id": "cf59ca98",
   "metadata": {},
   "outputs": [],
   "source": [
    "names"
   ]
  },
  {
   "cell_type": "code",
   "execution_count": null,
   "id": "778abafd",
   "metadata": {},
   "outputs": [],
   "source": [
    "data_tuple = (('spade', 'hearts','diamnods'),('Iman', 'Neda', 'Mona'), ('engineer', 'SWE', 'Doctor'))"
   ]
  },
  {
   "cell_type": "code",
   "execution_count": null,
   "id": "43159253",
   "metadata": {},
   "outputs": [],
   "source": [
    "data_listFromTuple = [[x for x in tup] for tup in data_tuple]"
   ]
  },
  {
   "cell_type": "code",
   "execution_count": null,
   "id": "043615ec",
   "metadata": {},
   "outputs": [],
   "source": [
    "data_listFromTuple"
   ]
  },
  {
   "cell_type": "markdown",
   "id": "a99026f8",
   "metadata": {},
   "source": [
    "## Functions"
   ]
  },
  {
   "cell_type": "code",
   "execution_count": null,
   "id": "d5eec47d",
   "metadata": {},
   "outputs": [],
   "source": [
    "def myFirstFun(x, y, z = 12):\n",
    "    return x**y, x/z\n",
    "myFirstFun(6, 2, 12)"
   ]
  },
  {
   "cell_type": "code",
   "execution_count": null,
   "id": "809b891c",
   "metadata": {},
   "outputs": [],
   "source": [
    "myFirstFun(2,2)"
   ]
  },
  {
   "cell_type": "markdown",
   "id": "b1e57838",
   "metadata": {},
   "source": [
    "Keyword arguments should always come after positional arguments when we call a function. In the above example, x and y are positional arguments while z is a keyword argument. 12 is the default value for z. This means that if we don't declare what z is, it will be assumed to be 12."
   ]
  },
  {
   "cell_type": "code",
   "execution_count": null,
   "id": "9bd25dc2",
   "metadata": {},
   "outputs": [],
   "source": [
    "a, b= myFirstFun(3, 4)"
   ]
  },
  {
   "cell_type": "code",
   "execution_count": null,
   "id": "f894099c",
   "metadata": {},
   "outputs": [],
   "source": [
    "print(a)\n",
    "print(b)"
   ]
  },
  {
   "cell_type": "markdown",
   "id": "816d8974",
   "metadata": {},
   "source": [
    "### Lambda functions or anonymous functions"
   ]
  },
  {
   "cell_type": "code",
   "execution_count": null,
   "id": "914d5e5b",
   "metadata": {},
   "outputs": [],
   "source": [
    "myFunc = lambda x: x**2\n",
    "z = myFunc(3)\n",
    "z"
   ]
  },
  {
   "cell_type": "code",
   "execution_count": null,
   "id": "9705e6fa",
   "metadata": {},
   "outputs": [],
   "source": [
    "myString = ['man','womantrtygbgj','carpenter','doctor','aaaaaaaaaaaaaaaaaa']\n",
    "list(myString)\n",
    "set('man')"
   ]
  },
  {
   "cell_type": "code",
   "execution_count": null,
   "id": "c04dd7a6",
   "metadata": {},
   "outputs": [],
   "source": [
    "# Let's sort this string\n",
    "myString.sort(key=lambda x:len(set(x)))\n",
    "myString"
   ]
  },
  {
   "cell_type": "code",
   "execution_count": null,
   "id": "7dd7567e",
   "metadata": {},
   "outputs": [],
   "source": [
    "myString.sort(key = lambda x: len(x), reverse= True)"
   ]
  },
  {
   "cell_type": "code",
   "execution_count": null,
   "id": "7e6fd21f",
   "metadata": {},
   "outputs": [],
   "source": [
    "myString"
   ]
  },
  {
   "cell_type": "markdown",
   "id": "d5ff919e",
   "metadata": {},
   "source": [
    "### Currying: partial argument application"
   ]
  },
  {
   "cell_type": "markdown",
   "id": "ff63e32d",
   "metadata": {},
   "source": [
    "Suppose that we have defined a function \"f\" that takes two arguments. Now define a function \"g\" that uses the function \"f\" but only takes one argument. This is called currying:"
   ]
  },
  {
   "cell_type": "code",
   "execution_count": null,
   "id": "b109b383",
   "metadata": {},
   "outputs": [],
   "source": [
    "f = lambda x, y: x**2 + y\n",
    "g = lambda x: f(5, x)\n",
    "g(3)"
   ]
  },
  {
   "cell_type": "markdown",
   "id": "0eaf871d",
   "metadata": {},
   "source": [
    "In this scenario, we say that the variable y is curried. We could also do that using the package functools as follows."
   ]
  },
  {
   "cell_type": "code",
   "execution_count": null,
   "id": "d74c2a3e",
   "metadata": {},
   "outputs": [],
   "source": [
    "from functools import partial\n",
    "g2 = partial(f, 5)\n",
    "g2(3)"
   ]
  },
  {
   "cell_type": "markdown",
   "id": "c1be7b90",
   "metadata": {},
   "source": [
    "### Generators\n",
    "\n",
    " A generator is a concise way to build an iterable object. When we pass a list, for example, to a for loop, Python interpreter tries to make an iterator out of it.\n",
    "\n",
    "* Iterating on a dictionary yields the keys."
   ]
  },
  {
   "cell_type": "code",
   "execution_count": null,
   "id": "6d192df3",
   "metadata": {},
   "outputs": [],
   "source": [
    "list_test = [3, 4, 5, 6]\n",
    "for item in list_test:\n",
    "    print(item)"
   ]
  },
  {
   "cell_type": "code",
   "execution_count": null,
   "id": "0f0bb047",
   "metadata": {},
   "outputs": [],
   "source": [
    "iter(list_test) # This is the iterator"
   ]
  },
  {
   "cell_type": "markdown",
   "id": "a4d3a44e",
   "metadata": {},
   "source": [
    "Functions return a result while a generator can return a sequence of results, pausing after each one until the next one is requested. When the function gets called, they are executed immediately. However, generators are executed only when you want an element from it."
   ]
  },
  {
   "cell_type": "code",
   "execution_count": null,
   "id": "b635dfff",
   "metadata": {},
   "outputs": [],
   "source": [
    "def element_gen(x):\n",
    "    for item in x:\n",
    "        yield item # for generators, use \"yield\" instead of \"return\".\n",
    "gen = element_gen([3, 4, 5])"
   ]
  },
  {
   "cell_type": "code",
   "execution_count": null,
   "id": "9f6bc4ce",
   "metadata": {},
   "outputs": [],
   "source": [
    "print(gen)"
   ]
  },
  {
   "cell_type": "code",
   "execution_count": null,
   "id": "3463033a",
   "metadata": {},
   "outputs": [],
   "source": [
    "for item in gen: # Only now the code for element_gen is being executed.\n",
    "    print(item)"
   ]
  },
  {
   "cell_type": "markdown",
   "id": "447b9a75",
   "metadata": {},
   "source": [
    "Generator expression (similar to list, dict and set)"
   ]
  },
  {
   "cell_type": "code",
   "execution_count": null,
   "id": "7bd527a5",
   "metadata": {},
   "outputs": [],
   "source": [
    "gen = (i**2 for i in range(10))"
   ]
  },
  {
   "cell_type": "code",
   "execution_count": null,
   "id": "74f07958",
   "metadata": {},
   "outputs": [],
   "source": [
    "gen"
   ]
  },
  {
   "cell_type": "code",
   "execution_count": null,
   "id": "89a28f33",
   "metadata": {},
   "outputs": [],
   "source": [
    "sum(gen) # you can pass it to many functions that require an iterable object"
   ]
  },
  {
   "cell_type": "code",
   "execution_count": null,
   "id": "2bf21e3d",
   "metadata": {},
   "outputs": [],
   "source": [
    "sum(gen) # interesting what happended here."
   ]
  },
  {
   "cell_type": "code",
   "execution_count": null,
   "id": "6f277c81",
   "metadata": {},
   "outputs": [],
   "source": [
    "sum(i**2 for i in range(10))"
   ]
  },
  {
   "cell_type": "code",
   "execution_count": null,
   "id": "3e075c35",
   "metadata": {},
   "outputs": [],
   "source": [
    "dict((i, i**2) for i in range(10)) # here we passed a generator to the dict function"
   ]
  },
  {
   "cell_type": "markdown",
   "id": "17337e3f",
   "metadata": {},
   "source": [
    "### Iterrools module:\n",
    "It has a collection of generators for data algorithms."
   ]
  },
  {
   "cell_type": "code",
   "execution_count": null,
   "id": "22117cb8",
   "metadata": {},
   "outputs": [],
   "source": [
    "import itertools\n",
    "mylist_1 = ['iman','ali','mona','mahdi', 'akbar']\n",
    "itertools.groupby(mylist_1, lambda item: item[0]) # This is a generator"
   ]
  },
  {
   "cell_type": "code",
   "execution_count": null,
   "id": "d423d5f7",
   "metadata": {},
   "outputs": [],
   "source": [
    "newList = []\n",
    "i = 0;\n",
    "for initLetter, name in itertools.groupby(mylist_1, lambda item: item[0]): # the function in the second argument determines \n",
    "    #the keys by which items in mylist_1 shall be groupbied\n",
    "    #newList.extend([list(name)])   \n",
    "    print(initLetter, list(name)) # name here is a generator. That is why we have materialized it with list()\n",
    "    i += 1"
   ]
  },
  {
   "cell_type": "code",
   "execution_count": null,
   "id": "584bc5f3",
   "metadata": {},
   "outputs": [],
   "source": [
    "mytup = ('hello', 3)\n",
    "mytup[0]"
   ]
  },
  {
   "cell_type": "markdown",
   "id": "25fa49b9",
   "metadata": {},
   "source": [
    "## Exception handling"
   ]
  },
  {
   "cell_type": "code",
   "execution_count": 79,
   "id": "e532d38e",
   "metadata": {},
   "outputs": [
    {
     "name": "stdout",
     "output_type": "stream",
     "text": [
      "345.0\n"
     ]
    }
   ],
   "source": [
    "try:\n",
    "    print(float(\"345\"))\n",
    "except:\n",
    "    print(\"enter a number string\")"
   ]
  },
  {
   "cell_type": "code",
   "execution_count": 80,
   "id": "56e5f65a",
   "metadata": {},
   "outputs": [
    {
     "data": {
      "text/plain": [
       "12"
      ]
     },
     "execution_count": 80,
     "metadata": {},
     "output_type": "execute_result"
    }
   ],
   "source": [
    "def myInt(x):\n",
    "    try:\n",
    "        return int(x)\n",
    "    except:\n",
    "        print(\"Bad input argument\")\n",
    "myInt(12)"
   ]
  },
  {
   "cell_type": "code",
   "execution_count": 81,
   "id": "729c6592",
   "metadata": {},
   "outputs": [
    {
     "data": {
      "text/plain": [
       "12"
      ]
     },
     "execution_count": 81,
     "metadata": {},
     "output_type": "execute_result"
    }
   ],
   "source": [
    "myInt(12.5)"
   ]
  },
  {
   "cell_type": "code",
   "execution_count": 82,
   "id": "61f89735",
   "metadata": {},
   "outputs": [
    {
     "data": {
      "text/plain": [
       "123"
      ]
     },
     "execution_count": 82,
     "metadata": {},
     "output_type": "execute_result"
    }
   ],
   "source": [
    "myInt('123')"
   ]
  },
  {
   "cell_type": "code",
   "execution_count": 83,
   "id": "86e86577",
   "metadata": {},
   "outputs": [
    {
     "name": "stdout",
     "output_type": "stream",
     "text": [
      "Bad input argument\n"
     ]
    }
   ],
   "source": [
    "myInt('hello')"
   ]
  },
  {
   "cell_type": "markdown",
   "id": "9802e1a6",
   "metadata": {},
   "source": [
    "Only catching a specific exception: except(e1, e2, ...)"
   ]
  },
  {
   "cell_type": "code",
   "execution_count": 84,
   "id": "f7fe2872",
   "metadata": {},
   "outputs": [
    {
     "ename": "ValueError",
     "evalue": "invalid literal for int() with base 10: 'hello'",
     "output_type": "error",
     "traceback": [
      "\u001b[1;31m---------------------------------------------------------------------------\u001b[0m",
      "\u001b[1;31mValueError\u001b[0m                                Traceback (most recent call last)",
      "Input \u001b[1;32mIn [84]\u001b[0m, in \u001b[0;36m<cell line: 4>\u001b[1;34m()\u001b[0m\n\u001b[0;32m      1\u001b[0m \u001b[38;5;28;01mdef\u001b[39;00m \u001b[38;5;21mmyInt2\u001b[39m(x): \n\u001b[0;32m      2\u001b[0m         \u001b[38;5;28;01mreturn\u001b[39;00m \u001b[38;5;28mint\u001b[39m(x)\n\u001b[1;32m----> 4\u001b[0m \u001b[43mmyInt2\u001b[49m\u001b[43m(\u001b[49m\u001b[38;5;124;43m'\u001b[39;49m\u001b[38;5;124;43mhello\u001b[39;49m\u001b[38;5;124;43m'\u001b[39;49m\u001b[43m)\u001b[49m\n",
      "Input \u001b[1;32mIn [84]\u001b[0m, in \u001b[0;36mmyInt2\u001b[1;34m(x)\u001b[0m\n\u001b[0;32m      1\u001b[0m \u001b[38;5;28;01mdef\u001b[39;00m \u001b[38;5;21mmyInt2\u001b[39m(x): \n\u001b[1;32m----> 2\u001b[0m         \u001b[38;5;28;01mreturn\u001b[39;00m \u001b[38;5;28;43mint\u001b[39;49m\u001b[43m(\u001b[49m\u001b[43mx\u001b[49m\u001b[43m)\u001b[49m\n",
      "\u001b[1;31mValueError\u001b[0m: invalid literal for int() with base 10: 'hello'"
     ]
    }
   ],
   "source": [
    "def myInt2(x): \n",
    "        return int(x)\n",
    "\n",
    "myInt2('hello')"
   ]
  },
  {
   "cell_type": "markdown",
   "id": "28270027",
   "metadata": {},
   "source": [
    "Let's write an exception handling only for ValueErorr and not all errors."
   ]
  },
  {
   "cell_type": "code",
   "execution_count": 85,
   "id": "453a8a4a",
   "metadata": {},
   "outputs": [
    {
     "name": "stdout",
     "output_type": "stream",
     "text": [
      "the error is ValuError\n"
     ]
    }
   ],
   "source": [
    "def myInt2(x):\n",
    "    try:\n",
    "        return int(x)\n",
    "    except ValueError:\n",
    "        print(\"the error is ValuError\")\n",
    "\n",
    "myInt2('hello')"
   ]
  },
  {
   "cell_type": "markdown",
   "id": "cb310708",
   "metadata": {},
   "source": [
    "We can use several except blocks for different types of exceptions.\n",
    "try:\n",
    "    some code\n",
    "catch firstError:\n",
    "    some other code\n",
    "catch secondError:\n",
    "    some other code"
   ]
  },
  {
   "cell_type": "markdown",
   "id": "2ee715f8",
   "metadata": {},
   "source": [
    "*else*: the code in this section is executed if the code in *try* runs without throwing exception. \n",
    "\n",
    "question: why can't we just put the code in *else* block after the code written in the *try* block?\n",
    "\n",
    "Ans: because the code of the *else* block might throw an exception and we might not want to catch and handle it mistakenly by the *except* blocks\n",
    "\n",
    "\n",
    "*finally*: the code here executes regardless of success of execution of the *try* block."
   ]
  },
  {
   "cell_type": "code",
   "execution_count": 86,
   "id": "87b647e9",
   "metadata": {},
   "outputs": [
    {
     "name": "stdout",
     "output_type": "stream",
     "text": [
      "In this case, division by zero is allowed. the value itself will be returned\n",
      "3\n",
      "Execute this block of code regardless of the success of execution of the try block\n"
     ]
    }
   ],
   "source": [
    "X = 3;\n",
    "try:\n",
    "    X/0\n",
    "except:\n",
    "    print('In this case, division by zero is allowed. the value itself will be returned')\n",
    "    print(X)\n",
    "else:\n",
    "    print(\"The division was successful.\")\n",
    "finally:\n",
    "    print(\"Execute this block of code regardless of the success of execution of the try block\")"
   ]
  },
  {
   "cell_type": "markdown",
   "id": "e88b4b32",
   "metadata": {},
   "source": [
    "## Files and the operating system"
   ]
  },
  {
   "cell_type": "code",
   "execution_count": 119,
   "id": "7106e7d2",
   "metadata": {},
   "outputs": [],
   "source": [
    "#opening a file\n",
    "f = open('untitled.txt') # File gets open in a read-only mode 'r' by default."
   ]
  },
  {
   "cell_type": "code",
   "execution_count": 120,
   "id": "1ff82bd3",
   "metadata": {},
   "outputs": [
    {
     "name": "stdout",
     "output_type": "stream",
     "text": [
      "This is a typical text file./\n",
      "\n",
      "The difference between a natural bodybuilder and an enhanced one is the usage of drugs. Period!\n",
      "\n",
      "The reason I stay natural is that I don't want to have a sick body.\n",
      "\n",
      "I believe that one can get a physique beyond impressive by training naturally.\\n\n"
     ]
    }
   ],
   "source": [
    "for line in f:\n",
    "    print(line)"
   ]
  },
  {
   "cell_type": "code",
   "execution_count": 121,
   "id": "f9843599",
   "metadata": {},
   "outputs": [],
   "source": [
    "f_r = [line.rstrip() for line in f] # We can iterate over the lines in f"
   ]
  },
  {
   "cell_type": "code",
   "execution_count": 122,
   "id": "c24e4db5",
   "metadata": {},
   "outputs": [
    {
     "data": {
      "text/plain": [
       "[]"
      ]
     },
     "execution_count": 122,
     "metadata": {},
     "output_type": "execute_result"
    }
   ],
   "source": [
    "f_r #It is interesting that if I run the for-loop before executing f_r, this line of code gives empty list. "
   ]
  },
  {
   "cell_type": "code",
   "execution_count": 124,
   "id": "d5d7fae9",
   "metadata": {},
   "outputs": [
    {
     "data": {
      "text/plain": [
       "['This is a typical text file./',\n",
       " 'The difference between a natural bodybuilder and an enhanced one is the usage of drugs. Period!',\n",
       " \"The reason I stay natural is that I don't want to have a sick body.\",\n",
       " 'I believe that one can get a physique beyond impressive by training naturally.\\\\n']"
      ]
     },
     "execution_count": 124,
     "metadata": {},
     "output_type": "execute_result"
    }
   ],
   "source": [
    "f_r = [line.rstrip() for line in open('untitled.txt')]\n",
    "f_r"
   ]
  },
  {
   "cell_type": "markdown",
   "id": "f2ea1818",
   "metadata": {},
   "source": [
    "When you are done working with a file, it is important to close it so that its resources are released to the operating system."
   ]
  },
  {
   "cell_type": "code",
   "execution_count": 125,
   "id": "08a8ee28",
   "metadata": {},
   "outputs": [],
   "source": [
    "f.close()"
   ]
  },
  {
   "cell_type": "markdown",
   "id": "26f3c51c",
   "metadata": {},
   "source": [
    "Another way to make sure the file gets closed is to use a **with** statement. The file will be closed after execution of the *with* statement."
   ]
  },
  {
   "cell_type": "code",
   "execution_count": 127,
   "id": "413d911f",
   "metadata": {},
   "outputs": [
    {
     "name": "stdout",
     "output_type": "stream",
     "text": [
      "['This is a typical text file./', 'The difference between a natural bodybuilder and an enhanced one is the usage of drugs. Period!', \"The reason I stay natural is that I don't want to have a sick body.\", 'I believe that one can get a physique beyond impressive by training naturally.\\\\n']\n"
     ]
    }
   ],
   "source": [
    "with open('untitled.txt') as f:\n",
    "    print([x.rstrip() for x in f])"
   ]
  },
  {
   "cell_type": "code",
   "execution_count": 131,
   "id": "52a911a9",
   "metadata": {},
   "outputs": [],
   "source": [
    "f = open('untitled_written.txt','w') # This opens the file in write mode, overwriting any file with the same name (Be very careful with this).\n",
    "#Right now, the file I created is already overwritten."
   ]
  },
  {
   "cell_type": "markdown",
   "id": "ff1fd7c5",
   "metadata": {},
   "source": [
    "Another way to create a file: open(path, 'x'). This creates a new file as long as it does not exist in the directory."
   ]
  },
  {
   "cell_type": "markdown",
   "id": "46117ad6",
   "metadata": {},
   "source": [
    "For every opened file, there are three useful methods of *read*, *tell*, and *seek*. \n",
    "\n",
    "*read* method reads certain number of characters from where the file handle's position."
   ]
  },
  {
   "cell_type": "code",
   "execution_count": 132,
   "id": "02e5ab60",
   "metadata": {},
   "outputs": [
    {
     "data": {
      "text/plain": [
       "'This is a '"
      ]
     },
     "execution_count": 132,
     "metadata": {},
     "output_type": "execute_result"
    }
   ],
   "source": [
    "f = open('untitled.txt')\n",
    "f.read(10)"
   ]
  },
  {
   "cell_type": "markdown",
   "id": "cf517c39",
   "metadata": {},
   "source": [
    "*tell* says where the file handle's position is (by the number of bytes read):"
   ]
  },
  {
   "cell_type": "code",
   "execution_count": 134,
   "id": "c95305c0",
   "metadata": {},
   "outputs": [
    {
     "data": {
      "text/plain": [
       "10"
      ]
     },
     "execution_count": 134,
     "metadata": {},
     "output_type": "execute_result"
    }
   ],
   "source": [
    "f.tell()"
   ]
  },
  {
   "cell_type": "markdown",
   "id": "0e0f09b9",
   "metadata": {},
   "source": [
    "You can know what the default encoding is using the *sys* module:"
   ]
  },
  {
   "cell_type": "code",
   "execution_count": 135,
   "id": "bf3ab45f",
   "metadata": {},
   "outputs": [
    {
     "data": {
      "text/plain": [
       "'utf-8'"
      ]
     },
     "execution_count": 135,
     "metadata": {},
     "output_type": "execute_result"
    }
   ],
   "source": [
    "import sys\n",
    "sys.getdefaultencoding()"
   ]
  },
  {
   "cell_type": "markdown",
   "id": "a0e8e55a",
   "metadata": {},
   "source": [
    "*seek* changes the file handle's position to a certain position"
   ]
  },
  {
   "cell_type": "code",
   "execution_count": 139,
   "id": "5632a596",
   "metadata": {},
   "outputs": [
    {
     "data": {
      "text/plain": [
       "15"
      ]
     },
     "execution_count": 139,
     "metadata": {},
     "output_type": "execute_result"
    }
   ],
   "source": [
    "f.seek(15)"
   ]
  },
  {
   "cell_type": "code",
   "execution_count": 143,
   "id": "69acf5e9",
   "metadata": {},
   "outputs": [
    {
     "data": {
      "text/plain": [
       "'txt '"
      ]
     },
     "execution_count": 143,
     "metadata": {},
     "output_type": "execute_result"
    }
   ],
   "source": [
    "f.read(4) # here we are reading from the position we seeked above which is 15th byte."
   ]
  },
  {
   "cell_type": "code",
   "execution_count": 144,
   "id": "c5ac10ec",
   "metadata": {},
   "outputs": [],
   "source": [
    "f.close() # remember to close the file."
   ]
  },
  {
   "cell_type": "markdown",
   "id": "47ba95b2",
   "metadata": {},
   "source": [
    "Now let's write some lines into the text file 'untitled_written.txt' that we created. For this we can use *write* or *writelines* methods. For our practice, let's write what we have in untitled.txt into the new txt file with the condition that we only want lines larger than 3 characters:"
   ]
  },
  {
   "cell_type": "code",
   "execution_count": 154,
   "id": "921a814b",
   "metadata": {},
   "outputs": [],
   "source": [
    "with open('untitled_written.txt','w') as f_w:\n",
    "    f_w.writelines(x for x in open('untitled.txt') if len(x) > 3)\n"
   ]
  },
  {
   "cell_type": "code",
   "execution_count": 152,
   "id": "39c4bd44",
   "metadata": {},
   "outputs": [],
   "source": [
    "with open('untitled_written.txt', 'r') as f_w:\n",
    "    lines = f_w.readlines()"
   ]
  },
  {
   "cell_type": "code",
   "execution_count": 153,
   "id": "1f172db2",
   "metadata": {},
   "outputs": [
    {
     "data": {
      "text/plain": [
       "['This is a typical .txt file.\\n',\n",
       " 'The idea is to create a new file so that I can try what I learn on it!\\n',\n",
       " 'Author\\n',\n",
       " 'Iman Shafikhani']"
      ]
     },
     "execution_count": 153,
     "metadata": {},
     "output_type": "execute_result"
    }
   ],
   "source": [
    "lines"
   ]
  },
  {
   "cell_type": "markdown",
   "id": "5abfc48f",
   "metadata": {},
   "source": [
    "In the above you can see that we have \"\\n\" added to the end of each line. This is en EOL character."
   ]
  },
  {
   "cell_type": "code",
   "execution_count": 156,
   "id": "25357bf8",
   "metadata": {},
   "outputs": [],
   "source": [
    "lines_noEOL = [x.rstrip() for x in lines] # The method rstrip removes any EOL character from a string."
   ]
  },
  {
   "cell_type": "code",
   "execution_count": 157,
   "id": "6f483249",
   "metadata": {},
   "outputs": [
    {
     "data": {
      "text/plain": [
       "['This is a typical .txt file.',\n",
       " 'The idea is to create a new file so that I can try what I learn on it!',\n",
       " 'Author',\n",
       " 'Iman Shafikhani']"
      ]
     },
     "execution_count": 157,
     "metadata": {},
     "output_type": "execute_result"
    }
   ],
   "source": [
    "lines_noEOL"
   ]
  },
  {
   "cell_type": "code",
   "execution_count": 158,
   "id": "db1de157",
   "metadata": {},
   "outputs": [
    {
     "data": {
      "text/plain": [
       "list"
      ]
     },
     "execution_count": 158,
     "metadata": {},
     "output_type": "execute_result"
    }
   ],
   "source": [
    "type(lines)"
   ]
  },
  {
   "cell_type": "markdown",
   "id": "1608b072",
   "metadata": {},
   "source": [
    "Opening text file in binary mode (not UTF-8 encoding):"
   ]
  },
  {
   "cell_type": "code",
   "execution_count": 194,
   "id": "26c7a679",
   "metadata": {},
   "outputs": [
    {
     "data": {
      "text/plain": [
       "b'Hedstr\\xc3\\xb6m\\n'"
      ]
     },
     "execution_count": 194,
     "metadata": {},
     "output_type": "execute_result"
    }
   ],
   "source": [
    "f = open('untitled.txt', 'rb')\n",
    "data = f.read(10) # reading the first 10 characters\n",
    "data"
   ]
  },
  {
   "cell_type": "code",
   "execution_count": 195,
   "id": "b8828560",
   "metadata": {},
   "outputs": [
    {
     "data": {
      "text/plain": [
       "'HedstrÃ¶m\\n'"
      ]
     },
     "execution_count": 195,
     "metadata": {},
     "output_type": "execute_result"
    }
   ],
   "source": [
    "f1 = open('untitled.txt', 'r')\n",
    "f1.read(10)"
   ]
  },
  {
   "cell_type": "code",
   "execution_count": 198,
   "id": "c8078cdf",
   "metadata": {},
   "outputs": [
    {
     "ename": "UnicodeDecodeError",
     "evalue": "'utf-8' codec can't decode byte 0xc3 in position 6: unexpected end of data",
     "output_type": "error",
     "traceback": [
      "\u001b[1;31m---------------------------------------------------------------------------\u001b[0m",
      "\u001b[1;31mUnicodeDecodeError\u001b[0m                        Traceback (most recent call last)",
      "Input \u001b[1;32mIn [198]\u001b[0m, in \u001b[0;36m<cell line: 1>\u001b[1;34m()\u001b[0m\n\u001b[1;32m----> 1\u001b[0m \u001b[43mdata\u001b[49m\u001b[43m[\u001b[49m\u001b[38;5;241;43m0\u001b[39;49m\u001b[43m:\u001b[49m\u001b[38;5;241;43m7\u001b[39;49m\u001b[43m]\u001b[49m\u001b[38;5;241;43m.\u001b[39;49m\u001b[43mdecode\u001b[49m\u001b[43m(\u001b[49m\u001b[38;5;124;43m'\u001b[39;49m\u001b[38;5;124;43mUTF-8\u001b[39;49m\u001b[38;5;124;43m'\u001b[39;49m\u001b[43m)\u001b[49m\n",
      "\u001b[1;31mUnicodeDecodeError\u001b[0m: 'utf-8' codec can't decode byte 0xc3 in position 6: unexpected end of data"
     ]
    }
   ],
   "source": [
    "data[0:7].decode('UTF-8') # this gives an error since file position falls in the middle of the bytes defining a unicode character"
   ]
  },
  {
   "cell_type": "markdown",
   "id": "429706c4",
   "metadata": {},
   "source": [
    "Let's open the file in a non-binary form"
   ]
  },
  {
   "cell_type": "code",
   "execution_count": 220,
   "id": "115a0c2e",
   "metadata": {},
   "outputs": [],
   "source": [
    "f.close()\n",
    "f = open('untitled.txt')"
   ]
  },
  {
   "cell_type": "code",
   "execution_count": 221,
   "id": "5ae8e616",
   "metadata": {},
   "outputs": [
    {
     "data": {
      "text/plain": [
       "'SueÃ±a\\nThi'"
      ]
     },
     "execution_count": 221,
     "metadata": {},
     "output_type": "execute_result"
    }
   ],
   "source": [
    "f.read(10)"
   ]
  },
  {
   "cell_type": "code",
   "execution_count": 222,
   "id": "3acd838f",
   "metadata": {},
   "outputs": [
    {
     "data": {
      "text/plain": [
       "4"
      ]
     },
     "execution_count": 222,
     "metadata": {},
     "output_type": "execute_result"
    }
   ],
   "source": [
    "f.seek(4)"
   ]
  },
  {
   "cell_type": "code",
   "execution_count": 223,
   "id": "a689d995",
   "metadata": {},
   "outputs": [
    {
     "data": {
      "text/plain": [
       "'±'"
      ]
     },
     "execution_count": 223,
     "metadata": {},
     "output_type": "execute_result"
    }
   ],
   "source": [
    "f.read(1)"
   ]
  },
  {
   "cell_type": "markdown",
   "id": "d8fa249b",
   "metadata": {},
   "source": [
    "Creating classes with Python:"
   ]
  },
  {
   "cell_type": "code",
   "execution_count": 5,
   "id": "ddab402b",
   "metadata": {},
   "outputs": [],
   "source": [
    "class Employee:\n",
    "    age = 23 #this is a property of the class"
   ]
  },
  {
   "cell_type": "code",
   "execution_count": 6,
   "id": "a494c29b",
   "metadata": {},
   "outputs": [],
   "source": [
    "iman = Employee"
   ]
  },
  {
   "cell_type": "code",
   "execution_count": 7,
   "id": "f16bf609",
   "metadata": {},
   "outputs": [
    {
     "data": {
      "text/plain": [
       "23"
      ]
     },
     "execution_count": 7,
     "metadata": {},
     "output_type": "execute_result"
    }
   ],
   "source": [
    "iman.age"
   ]
  },
  {
   "cell_type": "code",
   "execution_count": 8,
   "id": "7cb16c76",
   "metadata": {},
   "outputs": [
    {
     "data": {
      "text/plain": [
       "30"
      ]
     },
     "execution_count": 8,
     "metadata": {},
     "output_type": "execute_result"
    }
   ],
   "source": [
    "iman.age = 30\n",
    "iman.age"
   ]
  },
  {
   "cell_type": "markdown",
   "id": "1e3a4fe7",
   "metadata": {},
   "source": [
    "Now let's create a class with methods."
   ]
  },
  {
   "cell_type": "code",
   "execution_count": 12,
   "id": "185729be",
   "metadata": {},
   "outputs": [],
   "source": [
    "class Employee:   \n",
    "    def __init__(self, age=22, height=175): # This is called whenever we instantiate an object of the class Employee\n",
    "        self.age = age\n",
    "        self.height = height\n",
    "        "
   ]
  },
  {
   "cell_type": "code",
   "execution_count": 13,
   "id": "cd94bad8",
   "metadata": {},
   "outputs": [
    {
     "data": {
      "text/plain": [
       "34"
      ]
     },
     "execution_count": 13,
     "metadata": {},
     "output_type": "execute_result"
    }
   ],
   "source": [
    "iman = Employee(age=34, height=180)\n",
    "iman.age"
   ]
  },
  {
   "cell_type": "code",
   "execution_count": 14,
   "id": "dfacf011",
   "metadata": {},
   "outputs": [
    {
     "data": {
      "text/plain": [
       "180"
      ]
     },
     "execution_count": 14,
     "metadata": {},
     "output_type": "execute_result"
    }
   ],
   "source": [
    "iman.height"
   ]
  },
  {
   "cell_type": "code",
   "execution_count": 16,
   "id": "7a2c1613",
   "metadata": {},
   "outputs": [],
   "source": [
    "Asghar = Employee() # Note that in here, I did not pass any argument to the class. Therefore, the default values of 22 and 175 will \n",
    "#be used for age and height respectively."
   ]
  },
  {
   "cell_type": "code",
   "execution_count": 17,
   "id": "7f61af0e",
   "metadata": {},
   "outputs": [
    {
     "data": {
      "text/plain": [
       "22"
      ]
     },
     "execution_count": 17,
     "metadata": {},
     "output_type": "execute_result"
    }
   ],
   "source": [
    "Asghar.age"
   ]
  },
  {
   "cell_type": "code",
   "execution_count": 18,
   "id": "6b8b85f5",
   "metadata": {},
   "outputs": [
    {
     "data": {
      "text/plain": [
       "175"
      ]
     },
     "execution_count": 18,
     "metadata": {},
     "output_type": "execute_result"
    }
   ],
   "source": [
    "Asghar.height"
   ]
  },
  {
   "cell_type": "code",
   "execution_count": 19,
   "id": "6d21ccc7",
   "metadata": {},
   "outputs": [
    {
     "name": "stdout",
     "output_type": "stream",
     "text": [
      "John(36)\n"
     ]
    }
   ],
   "source": [
    "class Person:\n",
    "  def __init__(self, name, age):\n",
    "    self.name = name\n",
    "    self.age = age\n",
    "\n",
    "  def __str__(self): # The __str__ method determines what to be returned if we print an object of the class.\n",
    "    return f\"{self.name}({self.age})\"\n",
    "\n",
    "p1 = Person(\"John\", 36)\n",
    "\n",
    "print(p1)"
   ]
  },
  {
   "cell_type": "code",
   "execution_count": 21,
   "id": "9f0776f7",
   "metadata": {},
   "outputs": [
    {
     "name": "stdout",
     "output_type": "stream",
     "text": [
      "<__main__.Employee object at 0x00000248BF95E4C0>\n"
     ]
    }
   ],
   "source": [
    "print(Asghar) # Here we did not determine a __str__ method. "
   ]
  },
  {
   "cell_type": "code",
   "execution_count": null,
   "id": "3af7978d",
   "metadata": {},
   "outputs": [],
   "source": []
  }
 ],
 "metadata": {
  "kernelspec": {
   "display_name": "Python 3 (ipykernel)",
   "language": "python",
   "name": "python3"
  },
  "language_info": {
   "codemirror_mode": {
    "name": "ipython",
    "version": 3
   },
   "file_extension": ".py",
   "mimetype": "text/x-python",
   "name": "python",
   "nbconvert_exporter": "python",
   "pygments_lexer": "ipython3",
   "version": "3.9.12"
  }
 },
 "nbformat": 4,
 "nbformat_minor": 5
}
